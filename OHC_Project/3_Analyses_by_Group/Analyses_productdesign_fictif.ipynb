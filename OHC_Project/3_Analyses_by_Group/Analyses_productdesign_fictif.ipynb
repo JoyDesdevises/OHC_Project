{
 "cells": [
  {
   "cell_type": "code",
   "execution_count": 1,
   "id": "f83af203",
   "metadata": {},
   "outputs": [],
   "source": [
    "import pandas as pda\n",
    "import numpy as np\n",
    "from scipy.stats import f_oneway\n",
    "from scipy.stats import ttest_ind\n",
    "import itertools\n",
    "import matplotlib.pyplot as plt\n",
    "from scipy import stats\n",
    "from statsmodels.stats.multicomp import pairwise_tukeyhsd\n",
    "import statsmodels.api as sm\n",
    "from statsmodels.formula.api import ols"
   ]
  },
  {
   "cell_type": "code",
   "execution_count": 2,
   "id": "84e55b4b",
   "metadata": {
    "scrolled": true
   },
   "outputs": [
    {
     "data": {
      "text/html": [
       "<div>\n",
       "<style scoped>\n",
       "    .dataframe tbody tr th:only-of-type {\n",
       "        vertical-align: middle;\n",
       "    }\n",
       "\n",
       "    .dataframe tbody tr th {\n",
       "        vertical-align: top;\n",
       "    }\n",
       "\n",
       "    .dataframe thead th {\n",
       "        text-align: right;\n",
       "    }\n",
       "</style>\n",
       "<table border=\"1\" class=\"dataframe\">\n",
       "  <thead>\n",
       "    <tr style=\"text-align: right;\">\n",
       "      <th></th>\n",
       "      <th>anciennete</th>\n",
       "      <th>campement</th>\n",
       "      <th>OFA</th>\n",
       "      <th>tribu</th>\n",
       "      <th>etabli</th>\n",
       "      <th>quartier</th>\n",
       "      <th>activites_tribu</th>\n",
       "      <th>interactions_tribu</th>\n",
       "      <th>tribu_total</th>\n",
       "      <th>activites_QA</th>\n",
       "      <th>...</th>\n",
       "      <th>manages</th>\n",
       "      <th>Es-tu manager/manageuse ?</th>\n",
       "      <th>Si tu es manager/manageuse, combien de managé.e.s direct(s) as-tu ?</th>\n",
       "      <th>manager</th>\n",
       "      <th>egalite_pro</th>\n",
       "      <th>competences_parcours</th>\n",
       "      <th>sante_conditions_travail</th>\n",
       "      <th>OCTO_total</th>\n",
       "      <th>statut6mois</th>\n",
       "      <th>missions_taches</th>\n",
       "    </tr>\n",
       "  </thead>\n",
       "  <tbody>\n",
       "    <tr>\n",
       "      <th>0</th>\n",
       "      <td>Plus de 7 ans</td>\n",
       "      <td>OCTO Paris</td>\n",
       "      <td>Oui</td>\n",
       "      <td>User Research</td>\n",
       "      <td>Design</td>\n",
       "      <td>Product &amp; Design</td>\n",
       "      <td>4.75</td>\n",
       "      <td>3.75</td>\n",
       "      <td>4.25</td>\n",
       "      <td>4.5</td>\n",
       "      <td>...</td>\n",
       "      <td>6.0</td>\n",
       "      <td>Non</td>\n",
       "      <td>NaN</td>\n",
       "      <td>NaN</td>\n",
       "      <td>4.25</td>\n",
       "      <td>3.75</td>\n",
       "      <td>4.2</td>\n",
       "      <td>4.5500</td>\n",
       "      <td>En mission chez un/des client(s)</td>\n",
       "      <td>5.0</td>\n",
       "    </tr>\n",
       "    <tr>\n",
       "      <th>1</th>\n",
       "      <td>Moins de 1 an</td>\n",
       "      <td>OCTO Paris</td>\n",
       "      <td>Oui</td>\n",
       "      <td>User Research</td>\n",
       "      <td>Design</td>\n",
       "      <td>Product &amp; Design</td>\n",
       "      <td>3.75</td>\n",
       "      <td>3.75</td>\n",
       "      <td>3.75</td>\n",
       "      <td>4.5</td>\n",
       "      <td>...</td>\n",
       "      <td>6.0</td>\n",
       "      <td>Non</td>\n",
       "      <td>NaN</td>\n",
       "      <td>NaN</td>\n",
       "      <td>4.50</td>\n",
       "      <td>3.75</td>\n",
       "      <td>3.6</td>\n",
       "      <td>4.4625</td>\n",
       "      <td>En mission chez un/des client(s)</td>\n",
       "      <td>3.0</td>\n",
       "    </tr>\n",
       "    <tr>\n",
       "      <th>2</th>\n",
       "      <td>Entre 3 et 7 ans</td>\n",
       "      <td>OCTO Paris</td>\n",
       "      <td>Oui</td>\n",
       "      <td>User Research</td>\n",
       "      <td>Design</td>\n",
       "      <td>Product &amp; Design</td>\n",
       "      <td>5.25</td>\n",
       "      <td>2.75</td>\n",
       "      <td>4.00</td>\n",
       "      <td>4.5</td>\n",
       "      <td>...</td>\n",
       "      <td>6.0</td>\n",
       "      <td>Non</td>\n",
       "      <td>NaN</td>\n",
       "      <td>NaN</td>\n",
       "      <td>5.25</td>\n",
       "      <td>4.50</td>\n",
       "      <td>3.0</td>\n",
       "      <td>4.6875</td>\n",
       "      <td>En mission chez un/des client(s)</td>\n",
       "      <td>4.0</td>\n",
       "    </tr>\n",
       "    <tr>\n",
       "      <th>3</th>\n",
       "      <td>Moins de 1 an</td>\n",
       "      <td>OCTO Paris</td>\n",
       "      <td>Oui</td>\n",
       "      <td>User Research</td>\n",
       "      <td>Design</td>\n",
       "      <td>Product &amp; Design</td>\n",
       "      <td>5.00</td>\n",
       "      <td>5.00</td>\n",
       "      <td>5.00</td>\n",
       "      <td>4.5</td>\n",
       "      <td>...</td>\n",
       "      <td>6.0</td>\n",
       "      <td>Non</td>\n",
       "      <td>NaN</td>\n",
       "      <td>NaN</td>\n",
       "      <td>5.50</td>\n",
       "      <td>2.75</td>\n",
       "      <td>3.6</td>\n",
       "      <td>4.4625</td>\n",
       "      <td>En mission chez un/des client(s)</td>\n",
       "      <td>5.0</td>\n",
       "    </tr>\n",
       "    <tr>\n",
       "      <th>4</th>\n",
       "      <td>Entre 3 et 7 ans</td>\n",
       "      <td>OCTO Paris</td>\n",
       "      <td>Oui</td>\n",
       "      <td>User Research</td>\n",
       "      <td>Design</td>\n",
       "      <td>Product &amp; Design</td>\n",
       "      <td>2.50</td>\n",
       "      <td>2.00</td>\n",
       "      <td>2.25</td>\n",
       "      <td>4.5</td>\n",
       "      <td>...</td>\n",
       "      <td>6.0</td>\n",
       "      <td>Non</td>\n",
       "      <td>NaN</td>\n",
       "      <td>NaN</td>\n",
       "      <td>3.50</td>\n",
       "      <td>3.50</td>\n",
       "      <td>3.2</td>\n",
       "      <td>4.0500</td>\n",
       "      <td>En mission chez un/des client(s)</td>\n",
       "      <td>2.0</td>\n",
       "    </tr>\n",
       "  </tbody>\n",
       "</table>\n",
       "<p>5 rows × 22 columns</p>\n",
       "</div>"
      ],
      "text/plain": [
       "         anciennete   campement  OFA          tribu  etabli          quartier  \\\n",
       "0     Plus de 7 ans  OCTO Paris  Oui  User Research  Design  Product & Design   \n",
       "1     Moins de 1 an  OCTO Paris  Oui  User Research  Design  Product & Design   \n",
       "2  Entre 3 et 7 ans  OCTO Paris  Oui  User Research  Design  Product & Design   \n",
       "3     Moins de 1 an  OCTO Paris  Oui  User Research  Design  Product & Design   \n",
       "4  Entre 3 et 7 ans  OCTO Paris  Oui  User Research  Design  Product & Design   \n",
       "\n",
       "   activites_tribu  interactions_tribu  tribu_total  activites_QA  ...  \\\n",
       "0             4.75                3.75         4.25           4.5  ...   \n",
       "1             3.75                3.75         3.75           4.5  ...   \n",
       "2             5.25                2.75         4.00           4.5  ...   \n",
       "3             5.00                5.00         5.00           4.5  ...   \n",
       "4             2.50                2.00         2.25           4.5  ...   \n",
       "\n",
       "   manages  Es-tu manager/manageuse ?  \\\n",
       "0      6.0                        Non   \n",
       "1      6.0                        Non   \n",
       "2      6.0                        Non   \n",
       "3      6.0                        Non   \n",
       "4      6.0                        Non   \n",
       "\n",
       "   Si tu es manager/manageuse, combien de managé.e.s direct(s) as-tu ?  \\\n",
       "0                                                NaN                     \n",
       "1                                                NaN                     \n",
       "2                                                NaN                     \n",
       "3                                                NaN                     \n",
       "4                                                NaN                     \n",
       "\n",
       "  manager  egalite_pro  competences_parcours  sante_conditions_travail  \\\n",
       "0     NaN         4.25                  3.75                       4.2   \n",
       "1     NaN         4.50                  3.75                       3.6   \n",
       "2     NaN         5.25                  4.50                       3.0   \n",
       "3     NaN         5.50                  2.75                       3.6   \n",
       "4     NaN         3.50                  3.50                       3.2   \n",
       "\n",
       "   OCTO_total                       statut6mois  missions_taches  \n",
       "0      4.5500  En mission chez un/des client(s)              5.0  \n",
       "1      4.4625  En mission chez un/des client(s)              3.0  \n",
       "2      4.6875  En mission chez un/des client(s)              4.0  \n",
       "3      4.4625  En mission chez un/des client(s)              5.0  \n",
       "4      4.0500  En mission chez un/des client(s)              2.0  \n",
       "\n",
       "[5 rows x 22 columns]"
      ]
     },
     "metadata": {},
     "output_type": "display_data"
    }
   ],
   "source": [
    "data = pda.read_csv(\"productdesign_analyses_novembre2023_fictif.csv\")\n",
    "\n",
    "display(data.head())"
   ]
  },
  {
   "cell_type": "markdown",
   "id": "b0602761",
   "metadata": {},
   "source": [
    "# Description de l'échantillon"
   ]
  },
  {
   "cell_type": "code",
   "execution_count": 3,
   "id": "2b57232e",
   "metadata": {},
   "outputs": [
    {
     "name": "stdout",
     "output_type": "stream",
     "text": [
      "L'effectif total de l'échantillon P&D est : 94\n"
     ]
    }
   ],
   "source": [
    "effectif_data = len(data)\n",
    "\n",
    "print(\"L'effectif total de l'échantillon P&D est :\", effectif_data)"
   ]
  },
  {
   "cell_type": "code",
   "execution_count": 4,
   "id": "ecde7c70",
   "metadata": {},
   "outputs": [
    {
     "name": "stdout",
     "output_type": "stream",
     "text": [
      "Effectif par tribu :\n",
      " User Research    33\n",
      "A                 8\n",
      "B                 8\n",
      "C                 8\n",
      "D                 8\n",
      "E                 8\n",
      "F                 7\n",
      "G                 7\n",
      "H                 7\n",
      "Name: tribu, dtype: int64\n",
      "Effectifs en % par tribu :\n",
      " User Research    35.106383\n",
      "A                 8.510638\n",
      "B                 8.510638\n",
      "C                 8.510638\n",
      "D                 8.510638\n",
      "E                 8.510638\n",
      "F                 7.446809\n",
      "G                 7.446809\n",
      "H                 7.446809\n",
      "Name: tribu, dtype: float64\n"
     ]
    }
   ],
   "source": [
    "effectif_tribu = data['tribu'].value_counts()\n",
    "\n",
    "print(\"Effectif par tribu :\\n\", effectif_tribu)\n",
    "\n",
    "# Calculer les pourcentages par modalité\n",
    "pourcentages_tribu = (effectif_tribu / effectif_data) * 100\n",
    "\n",
    "print(\"Effectifs en % par tribu :\\n\", pourcentages_tribu)"
   ]
  },
  {
   "cell_type": "markdown",
   "id": "214ae097",
   "metadata": {},
   "source": [
    "# Moyennes de bien-être global et par thématique"
   ]
  },
  {
   "cell_type": "code",
   "execution_count": 5,
   "id": "6bcab7c1",
   "metadata": {},
   "outputs": [
    {
     "name": "stdout",
     "output_type": "stream",
     "text": [
      "Bien-être moyen global:  3.986371158392435\n",
      "Écart type global:  1.030940132534775\n"
     ]
    }
   ],
   "source": [
    "# Selecting the columns\n",
    "columns_overall = data[['tribu_total', 'QA_total', 'OCTO_total', 'missions_taches', \n",
    "                         'manager', 'manages', 'egalite_pro', \n",
    "                         'competences_parcours', 'sante_conditions_travail']]\n",
    "\n",
    "# Calculating the mean across all selected columns\n",
    "global_mean = columns_overall.mean().mean()\n",
    "\n",
    "# Calculating the standard deviation across all selected columns\n",
    "global_sd = columns_overall.std().mean()\n",
    "\n",
    "print(\"Bien-être moyen global: \", global_mean)\n",
    "print(\"Écart type global: \", global_sd)"
   ]
  },
  {
   "cell_type": "code",
   "execution_count": 6,
   "id": "c8da8f47",
   "metadata": {
    "scrolled": true
   },
   "outputs": [
    {
     "name": "stdout",
     "output_type": "stream",
     "text": [
      "Bien-être moyen sur la tribu : 3.9747340425531914\n",
      "SD tribu : 0.7632300372734192\n",
      "Bien-être moyen sur le quartier/atelier : 3.9960106382978724\n",
      "SD QA : 0.75568013223268\n",
      "Bien-être moyen sur les compétences et parcours professionnel: 3.970744680851064\n",
      "SD compétences et parcours : 1.0198674163901962\n",
      "Bien-être moyen sur le management côté managé.e.s: 4.0212765957446805\n",
      "SD managées : 1.429179202020993\n",
      "Bien-être moyen sur le management côté managers : 3.84\n",
      "SD managers : 1.3747727084867511\n",
      "Bien-être moyen sur l'égalité professionnelle : 4.0638297872340425\n",
      "SD égalité pro : 0.9559773542814067\n",
      "Bien-être moyen sur la santé et les conditions de travail: 4.008510638297873\n",
      "SD santé et conditions de travail : 0.795100531206161\n",
      "Bien-être moyen sur OCTO : 4.002234042553192\n",
      "SD OCTO : 0.5486016520136302\n",
      "Bien-être moyen sur les missions au quotidien : 4.0\n",
      "SD missions : 1.6360521589077368\n"
     ]
    }
   ],
   "source": [
    "# Calcul des moyennes pour chaque colonne\n",
    "moyenne_tribu = data['tribu_total'].mean()\n",
    "moyenne_QA = data['QA_total'].mean()\n",
    "moyenne_competences = data['competences_parcours'].mean()\n",
    "moyenne_manages = data['manages'].mean()\n",
    "moyenne_manager = data['manager'].mean()\n",
    "moyenne_egalitepro = data['egalite_pro'].mean()\n",
    "moyenne_sante = data['sante_conditions_travail'].mean()\n",
    "moyenne_OCTO = data['OCTO_total'].mean()\n",
    "moyenne_missions = data['missions_taches'].mean()\n",
    "\n",
    "# Calcul des écart-types pour chaque colonne\n",
    "sd_tribu = data['tribu_total'].std()\n",
    "sd_QA = data['QA_total'].std()\n",
    "sd_competences = data['competences_parcours'].std()\n",
    "sd_manages = data['manages'].std()\n",
    "sd_manager = data['manager'].std()\n",
    "sd_egalitepro = data['egalite_pro'].std()\n",
    "sd_sante = data['sante_conditions_travail'].std()\n",
    "sd_OCTO = data['OCTO_total'].std()\n",
    "sd_missions = data['missions_taches'].std()\n",
    "\n",
    "# Affichage des résultats\n",
    "print(\"Bien-être moyen sur la tribu :\", moyenne_tribu)\n",
    "print(\"SD tribu :\", sd_tribu)\n",
    "\n",
    "print(\"Bien-être moyen sur le quartier/atelier :\", moyenne_QA)\n",
    "print(\"SD QA :\", sd_QA)\n",
    "\n",
    "print(\"Bien-être moyen sur les compétences et parcours professionnel:\", moyenne_competences)\n",
    "print(\"SD compétences et parcours :\", sd_competences)\n",
    "\n",
    "print(\"Bien-être moyen sur le management côté managé.e.s:\", moyenne_manages)\n",
    "print(\"SD managées :\", sd_manages)\n",
    "\n",
    "print(\"Bien-être moyen sur le management côté managers :\", moyenne_manager)\n",
    "print(\"SD managers :\", sd_manager)\n",
    "\n",
    "print(\"Bien-être moyen sur l'égalité professionnelle :\", moyenne_egalitepro)\n",
    "print(\"SD égalité pro :\", sd_egalitepro)\n",
    "\n",
    "print(\"Bien-être moyen sur la santé et les conditions de travail:\", moyenne_sante)\n",
    "print(\"SD santé et conditions de travail :\", sd_sante)\n",
    "\n",
    "\n",
    "print(\"Bien-être moyen sur OCTO :\", moyenne_OCTO)\n",
    "print(\"SD OCTO :\", sd_OCTO)\n",
    "\n",
    "print(\"Bien-être moyen sur les missions au quotidien :\", moyenne_missions)\n",
    "print(\"SD missions :\", sd_missions)"
   ]
  },
  {
   "cell_type": "markdown",
   "id": "a9fb62a2",
   "metadata": {},
   "source": [
    "# Niveau tribu\n",
    "## Effet de la thématique ? "
   ]
  },
  {
   "cell_type": "code",
   "execution_count": 7,
   "id": "6511c651",
   "metadata": {},
   "outputs": [
    {
     "name": "stdout",
     "output_type": "stream",
     "text": [
      "          Multiple Comparison of Means - Tukey HSD, FWER=0.05           \n",
      "========================================================================\n",
      "     group1           group2       meandiff p-adj   lower  upper  reject\n",
      "------------------------------------------------------------------------\n",
      "activites_tribu interactions_tribu    0.008 0.9578 -0.2893 0.3053  False\n",
      "------------------------------------------------------------------------\n",
      "Bien-être moyen des Octos de P&D concernant leurs activités en tribu est de: 3.970744680851064\n",
      "Ecart-type de: 0.977472315546366\n",
      "Bien-être moyen des Octos de P&D concernant leurs interactions en tribu est de : 3.978723404255319\n",
      "Ecart-type de : 1.0861169208160373\n"
     ]
    }
   ],
   "source": [
    "# Convertir les données au format long\n",
    "data_long_tribu = pda.melt(data, value_vars=['activites_tribu', 'interactions_tribu'], var_name='Thematiques', value_name='Value')\n",
    "\n",
    "# Supprimer les valeurs manquantes\n",
    "data_long_tribu = data_long_tribu.dropna()\n",
    "\n",
    "# Perform the t-test\n",
    "ttest_tribu = pairwise_tukeyhsd(endog=data_long_tribu['Value'], groups=data_long_tribu['Thematiques'], alpha=0.05)\n",
    "\n",
    "# Print the results\n",
    "print(ttest_tribu)\n",
    "\n",
    "mean_activites_tribu = data['activites_tribu'].mean()\n",
    "mean_interactions_tribu = data['interactions_tribu'].mean()\n",
    "std_activites_tribu = data['activites_tribu'].std()\n",
    "std_interactions_tribu = data['interactions_tribu'].std()\n",
    "\n",
    "print(\"Bien-être moyen des Octos de P&D concernant leurs activités en tribu est de:\", mean_activites_tribu)\n",
    "print(\"Ecart-type de:\", std_activites_tribu)\n",
    "\n",
    "print(\"Bien-être moyen des Octos de P&D concernant leurs interactions en tribu est de :\", mean_interactions_tribu)\n",
    "print(\"Ecart-type de :\", std_interactions_tribu)"
   ]
  },
  {
   "cell_type": "markdown",
   "id": "046e4ab6",
   "metadata": {},
   "source": [
    "## Effet de nos facteurs anciennete X OFA"
   ]
  },
  {
   "cell_type": "code",
   "execution_count": 8,
   "id": "6f3571a1",
   "metadata": {},
   "outputs": [
    {
     "name": "stdout",
     "output_type": "stream",
     "text": [
      "                  sum_sq    df         F    PR(>F)\n",
      "C(anciennete)   0.378795   3.0  0.208895  0.889998\n",
      "C(OFA)          0.000004   1.0  0.000006  0.998085\n",
      "Residual       53.795303  89.0       NaN       NaN\n",
      "Il n'y a pas de différence statistiquement significative des moyennes entre les niveaux d'ancienneté.\n",
      "Il n'y a pas de différence statistiquement significative des moyennes entre les niveaux de OFA.\n"
     ]
    }
   ],
   "source": [
    "# Création du modèle ANOVA\n",
    "model_tribu_factors = ols('tribu_total ~ C(anciennete) + C(OFA)', data=data).fit()\n",
    "\n",
    "# Tableau d'analyse de variance (ANOVA)\n",
    "anova_table_tribu_total = sm.stats.anova_lm(model_tribu_factors, typ=2)\n",
    "print(anova_table_tribu_total)\n",
    "\n",
    "# Interprétation de l'effet principal de l'ancienneté\n",
    "if anova_table_tribu_total['PR(>F)']['C(anciennete)'] < 0.05:\n",
    "    print(\"Il y a une différence statistiquement significative des moyennes entre les niveaux d'ancienneté.\")\n",
    "else:\n",
    "    print(\"Il n'y a pas de différence statistiquement significative des moyennes entre les niveaux d'ancienneté.\")\n",
    "\n",
    "# Interprétation de l'effet principal de OFA\n",
    "if anova_table_tribu_total['PR(>F)']['C(OFA)'] < 0.05:\n",
    "    print(\"Il y a une différence statistiquement significative des moyennes entre les niveaux de OFA.\")\n",
    "else:\n",
    "    print(\"Il n'y a pas de différence statistiquement significative des moyennes entre les niveaux de OFA.\")"
   ]
  },
  {
   "cell_type": "markdown",
   "id": "038c947a",
   "metadata": {},
   "source": [
    "### Anciennete : post-hoc et stat descriptives"
   ]
  },
  {
   "cell_type": "code",
   "execution_count": 9,
   "id": "dc955208",
   "metadata": {},
   "outputs": [
    {
     "name": "stdout",
     "output_type": "stream",
     "text": [
      "          Multiple Comparison of Means - Tukey HSD, FWER=0.05          \n",
      "=======================================================================\n",
      "     group1           group2      meandiff p-adj   lower  upper  reject\n",
      "-----------------------------------------------------------------------\n",
      "Entre 1 et 3 ans Entre 3 et 7 ans  -0.0599  0.989 -0.5558  0.436  False\n",
      "Entre 1 et 3 ans    Moins de 1 an   0.0903 0.9852 -0.5843 0.7649  False\n",
      "Entre 1 et 3 ans    Plus de 7 ans  -0.1285 0.9488 -0.7504 0.4935  False\n",
      "Entre 3 et 7 ans    Moins de 1 an   0.1502 0.9403 -0.5379 0.8383  False\n",
      "Entre 3 et 7 ans    Plus de 7 ans  -0.0685 0.9921 -0.7051  0.568  False\n",
      "   Moins de 1 an    Plus de 7 ans  -0.2188 0.8846 -1.0026 0.5651  False\n",
      "-----------------------------------------------------------------------\n",
      "anciennete\n",
      "Entre 1 et 3 ans    4.003472\n",
      "Entre 3 et 7 ans    3.943548\n",
      "Moins de 1 an       4.093750\n",
      "Plus de 7 ans       3.875000\n",
      "Name: tribu_total, dtype: float64\n",
      "anciennete\n",
      "Entre 1 et 3 ans    0.779472\n",
      "Entre 3 et 7 ans    0.717953\n",
      "Moins de 1 an       0.904730\n",
      "Plus de 7 ans       0.758876\n",
      "Name: tribu_total, dtype: float64\n"
     ]
    }
   ],
   "source": [
    "# Perform Tukey's HSD test\n",
    "ttest_anciennete_tribu = pairwise_tukeyhsd(endog=data['tribu_total'], groups=data['anciennete'], alpha=0.05)\n",
    "\n",
    "# Print the results\n",
    "print(ttest_anciennete_tribu)\n",
    "\n",
    "# Grouping the data by the factor and calculating the mean for each group\n",
    "means_anciennete_tribu = data.groupby('anciennete')['tribu_total'].mean()\n",
    "sd_anciennete_tribu = data.groupby('anciennete')['tribu_total'].std()\n",
    "\n",
    "# Display the results\n",
    "print(means_anciennete_tribu)\n",
    "print(sd_anciennete_tribu)"
   ]
  },
  {
   "cell_type": "markdown",
   "id": "76e434d1",
   "metadata": {},
   "source": [
    "### OFA : post-hoc et stat descriptives"
   ]
  },
  {
   "cell_type": "code",
   "execution_count": 10,
   "id": "629a1e67",
   "metadata": {},
   "outputs": [
    {
     "name": "stdout",
     "output_type": "stream",
     "text": [
      "Multiple Comparison of Means - Tukey HSD, FWER=0.05\n",
      "=================================================\n",
      "group1 group2 meandiff p-adj lower  upper  reject\n",
      "-------------------------------------------------\n",
      "   Non    Oui   0.0051 0.983 -0.466 0.4761  False\n",
      "-------------------------------------------------\n",
      "OFA\n",
      "Non    3.974085\n",
      "Oui    3.979167\n",
      "Name: tribu_total, dtype: float64\n",
      "OFA\n",
      "Non    0.751474\n",
      "Oui    0.875541\n",
      "Name: tribu_total, dtype: float64\n"
     ]
    }
   ],
   "source": [
    "# Perform Tukey's HSD test\n",
    "ttest_OFA_tribu = pairwise_tukeyhsd(endog=data['tribu_total'], groups=data['OFA'], alpha=0.05)\n",
    "\n",
    "# Print the results\n",
    "print(ttest_OFA_tribu)\n",
    "\n",
    "# Grouping the data by the factor and calculating the mean for each group\n",
    "means_OFA_tribu = data.groupby('OFA')['tribu_total'].mean()\n",
    "sd_OFA_tribu = data.groupby('OFA')['tribu_total'].std()\n",
    "\n",
    "# Display the results\n",
    "print(means_OFA_tribu)\n",
    "print(sd_OFA_tribu)"
   ]
  },
  {
   "cell_type": "markdown",
   "id": "ab2d70a4",
   "metadata": {},
   "source": [
    "# Niveau quartier/atelier\n",
    "\n",
    "## Effet de la thématique ? "
   ]
  },
  {
   "cell_type": "code",
   "execution_count": 11,
   "id": "8b54f5b0",
   "metadata": {},
   "outputs": [
    {
     "name": "stdout",
     "output_type": "stream",
     "text": [
      "       Multiple Comparison of Means - Tukey HSD, FWER=0.05        \n",
      "==================================================================\n",
      "   group1         group2     meandiff p-adj   lower  upper  reject\n",
      "------------------------------------------------------------------\n",
      "activites_QA interactions_QA  -0.2846 0.0503 -0.5695 0.0004  False\n",
      "------------------------------------------------------------------\n",
      "Bien-être moyen des Octos de P&D concernant leurs activités en tribu est de: 4.138297872340425\n",
      "Ecart-type de: 0.90072926045543\n",
      "Bien-être moyen des Octos de P&D concernant leurs interactions en tribu est de : 3.853723404255319\n",
      "Ecart-type de : 1.0722611863274805\n"
     ]
    }
   ],
   "source": [
    "# Convertir les données au format long\n",
    "data_long_QA = pda.melt(data, value_vars=['activites_QA', 'interactions_QA'], var_name='Thematiques', value_name='Value')\n",
    "\n",
    "# Supprimer les valeurs manquantes\n",
    "data_long_QA = data_long_QA.dropna()\n",
    "\n",
    "# Perform the t-test\n",
    "ttest_QA = pairwise_tukeyhsd(endog=data_long_QA['Value'], groups=data_long_QA['Thematiques'], alpha=0.05)\n",
    "\n",
    "# Print the results\n",
    "print(ttest_QA)\n",
    "\n",
    "mean_activites_QA = data['activites_QA'].mean()\n",
    "mean_interactions_QA = data['interactions_QA'].mean()\n",
    "std_activites_QA = data['activites_QA'].std()\n",
    "std_interactions_QA = data['interactions_QA'].std()\n",
    "\n",
    "print(\"Bien-être moyen des Octos de P&D concernant leurs activités en tribu est de:\", mean_activites_QA)\n",
    "print(\"Ecart-type de:\", std_activites_QA)\n",
    "\n",
    "print(\"Bien-être moyen des Octos de P&D concernant leurs interactions en tribu est de :\", mean_interactions_QA)\n",
    "print(\"Ecart-type de :\", std_interactions_QA)"
   ]
  },
  {
   "cell_type": "markdown",
   "id": "cb7f6b2e",
   "metadata": {},
   "source": [
    "## Effet de nos facteurs anciennete X OFA"
   ]
  },
  {
   "cell_type": "code",
   "execution_count": 12,
   "id": "6b07ac83",
   "metadata": {},
   "outputs": [
    {
     "name": "stdout",
     "output_type": "stream",
     "text": [
      "                  sum_sq    df         F    PR(>F)\n",
      "C(anciennete)   1.273981   3.0  0.729155  0.537271\n",
      "C(OFA)          0.003644   1.0  0.006258  0.937126\n",
      "Residual       51.833679  89.0       NaN       NaN\n",
      "Il n'y a pas de différence statistiquement significative des moyennes entre les niveaux d'ancienneté.\n",
      "Il n'y a pas de différence statistiquement significative des moyennes entre les niveaux de OFA.\n"
     ]
    }
   ],
   "source": [
    "# Création du modèle ANOVA\n",
    "model_QA_factors = ols('QA_total ~ C(anciennete) + C(OFA)', data=data).fit()\n",
    "\n",
    "# Tableau d'analyse de variance (ANOVA)\n",
    "anova_table_QA_total = sm.stats.anova_lm(model_QA_factors, typ=2)\n",
    "print(anova_table_QA_total)\n",
    "\n",
    "# Interprétation de l'effet principal de l'ancienneté\n",
    "if anova_table_QA_total['PR(>F)']['C(anciennete)'] < 0.05:\n",
    "    print(\"Il y a une différence statistiquement significative des moyennes entre les niveaux d'ancienneté.\")\n",
    "else:\n",
    "    print(\"Il n'y a pas de différence statistiquement significative des moyennes entre les niveaux d'ancienneté.\")\n",
    "\n",
    "# Interprétation de l'effet principal de OFA\n",
    "if anova_table_QA_total['PR(>F)']['C(OFA)'] < 0.05:\n",
    "    print(\"Il y a une différence statistiquement significative des moyennes entre les niveaux de OFA.\")\n",
    "else:\n",
    "    print(\"Il n'y a pas de différence statistiquement significative des moyennes entre les niveaux de OFA.\")"
   ]
  },
  {
   "cell_type": "markdown",
   "id": "1fa312e0",
   "metadata": {},
   "source": [
    "### Anciennete : post-hoc et stat descriptives"
   ]
  },
  {
   "cell_type": "code",
   "execution_count": 13,
   "id": "9612cce2",
   "metadata": {},
   "outputs": [
    {
     "name": "stdout",
     "output_type": "stream",
     "text": [
      "          Multiple Comparison of Means - Tukey HSD, FWER=0.05          \n",
      "=======================================================================\n",
      "     group1           group2      meandiff p-adj   lower  upper  reject\n",
      "-----------------------------------------------------------------------\n",
      "Entre 1 et 3 ans Entre 3 et 7 ans   0.0696  0.982 -0.4172 0.5563  False\n",
      "Entre 1 et 3 ans    Moins de 1 an   0.0938 0.9825 -0.5685  0.756  False\n",
      "Entre 1 et 3 ans    Plus de 7 ans   0.3438 0.4575 -0.2668 0.9543  False\n",
      "Entre 3 et 7 ans    Moins de 1 an   0.0242 0.9997 -0.6512 0.6996  False\n",
      "Entre 3 et 7 ans    Plus de 7 ans   0.2742 0.6605 -0.3506  0.899  False\n",
      "   Moins de 1 an    Plus de 7 ans     0.25 0.8301 -0.5194 1.0194  False\n",
      "-----------------------------------------------------------------------\n",
      "anciennete\n",
      "Entre 1 et 3 ans    3.906250\n",
      "Entre 3 et 7 ans    3.975806\n",
      "Moins de 1 an       4.000000\n",
      "Plus de 7 ans       4.250000\n",
      "Name: QA_total, dtype: float64\n",
      "anciennete\n",
      "Entre 1 et 3 ans    0.798646\n",
      "Entre 3 et 7 ans    0.818038\n",
      "Moins de 1 an       0.365408\n",
      "Plus de 7 ans       0.754451\n",
      "Name: QA_total, dtype: float64\n"
     ]
    }
   ],
   "source": [
    "# Perform Tukey's HSD test\n",
    "ttest_anciennete_QA = pairwise_tukeyhsd(endog=data['QA_total'], groups=data['anciennete'], alpha=0.05)\n",
    "\n",
    "# Print the results\n",
    "print(ttest_anciennete_QA)\n",
    "\n",
    "# Grouping the data by the factor and calculating the mean for each group\n",
    "means_anciennete_QA = data.groupby('anciennete')['QA_total'].mean()\n",
    "sd_anciennete_QA = data.groupby('anciennete')['QA_total'].std()\n",
    "\n",
    "# Display the results\n",
    "print(means_anciennete_QA)\n",
    "print(sd_anciennete_QA)"
   ]
  },
  {
   "cell_type": "markdown",
   "id": "103c31aa",
   "metadata": {},
   "source": [
    "### OFA : post-hoc et stat descriptives"
   ]
  },
  {
   "cell_type": "code",
   "execution_count": 14,
   "id": "3a53db94",
   "metadata": {},
   "outputs": [
    {
     "name": "stdout",
     "output_type": "stream",
     "text": [
      "Multiple Comparison of Means - Tukey HSD, FWER=0.05\n",
      "==================================================\n",
      "group1 group2 meandiff p-adj   lower  upper reject\n",
      "--------------------------------------------------\n",
      "   Non    Oui   0.0046 0.9845 -0.4618 0.471  False\n",
      "--------------------------------------------------\n",
      "OFA\n",
      "Non    3.995427\n",
      "Oui    4.000000\n",
      "Name: QA_total, dtype: float64\n",
      "OFA\n",
      "Non    0.808769\n",
      "Oui    0.106600\n",
      "Name: QA_total, dtype: float64\n"
     ]
    }
   ],
   "source": [
    "# Perform Tukey's HSD test\n",
    "ttest_OFA_QA = pairwise_tukeyhsd(endog=data['QA_total'], groups=data['OFA'], alpha=0.05)\n",
    "\n",
    "# Print the results\n",
    "print(ttest_OFA_QA)\n",
    "\n",
    "# Grouping the data by the factor and calculating the mean for each group\n",
    "means_OFA_QA = data.groupby('OFA')['QA_total'].mean()\n",
    "sd_OFA_QA = data.groupby('OFA')['QA_total'].std()\n",
    "\n",
    "# Display the results\n",
    "print(means_OFA_QA)\n",
    "print(sd_OFA_QA)"
   ]
  },
  {
   "cell_type": "markdown",
   "id": "b9748be1",
   "metadata": {},
   "source": [
    "# Niveau OCTO Technology\n",
    "\n",
    "## Effet de la thématique ? "
   ]
  },
  {
   "cell_type": "code",
   "execution_count": 15,
   "id": "c1ecd611",
   "metadata": {},
   "outputs": [
    {
     "name": "stdout",
     "output_type": "stream",
     "text": [
      "                    sum_sq     df         F    PR(>F)\n",
      "C(Thematiques)    1.142313    4.0  0.237664  0.916998\n",
      "Residual        475.834707  396.0       NaN       NaN\n",
      "Il n'existe pas d'effet significatif des thématiques (p > 0.05).\n"
     ]
    }
   ],
   "source": [
    "# Convertir les données au format long\n",
    "data_long_OCTO = pda.melt(data, value_vars=['sante_conditions_travail', 'manager', 'manages', 'egalite_pro', 'competences_parcours'], var_name='Thematiques', value_name='Value')\n",
    "\n",
    "# Supprimer les valeurs manquantes\n",
    "data_long_OCTO = data_long_OCTO.dropna()\n",
    "\n",
    "# Créer le modèle OLS pour l'ANOVA\n",
    "model_OCTO_theme = ols('Value ~ C(Thematiques)', data=data_long_OCTO).fit()\n",
    "\n",
    "# Effectuer l'ANOVA\n",
    "anova_OCTO = sm.stats.anova_lm(model_OCTO_theme, typ=2)\n",
    "\n",
    "# Afficher les résultats\n",
    "print(anova_OCTO)\n",
    "\n",
    "alpha = 0.05\n",
    "if (anova_OCTO['PR(>F)'] < alpha).any():\n",
    "    print(\"Il existe un effet significatif des thématiques (p < 0.05).\")\n",
    "else:\n",
    "    print(\"Il n'existe pas d'effet significatif des thématiques (p > 0.05).\")"
   ]
  },
  {
   "cell_type": "code",
   "execution_count": 16,
   "id": "341e422c",
   "metadata": {},
   "outputs": [
    {
     "name": "stdout",
     "output_type": "stream",
     "text": [
      "                Multiple Comparison of Means - Tukey HSD, FWER=0.05                \n",
      "===================================================================================\n",
      "       group1                 group2          meandiff p-adj   lower  upper  reject\n",
      "-----------------------------------------------------------------------------------\n",
      "competences_parcours              egalite_pro   0.0931 0.9777 -0.3451 0.5313  False\n",
      "competences_parcours                  manager  -0.1307 0.9842 -0.8067 0.5452  False\n",
      "competences_parcours                  manages   0.0505 0.9978 -0.3876 0.4887  False\n",
      "competences_parcours sante_conditions_travail   0.0378 0.9993 -0.4004 0.4759  False\n",
      "         egalite_pro                  manager  -0.2238  0.894 -0.8998 0.4521  False\n",
      "         egalite_pro                  manages  -0.0426 0.9989 -0.4807 0.3956  False\n",
      "         egalite_pro sante_conditions_travail  -0.0553 0.9969 -0.4935 0.3829  False\n",
      "             manager                  manages   0.1813 0.9482 -0.4947 0.8573  False\n",
      "             manager sante_conditions_travail   0.1685   0.96 -0.5075 0.8445  False\n",
      "             manages sante_conditions_travail  -0.0128    1.0 -0.4509 0.4254  False\n",
      "-----------------------------------------------------------------------------------\n"
     ]
    }
   ],
   "source": [
    "# Perform Tukey's test for post-hoc comparisons\n",
    "tukey_OCTO = pairwise_tukeyhsd(endog=data_long_OCTO['Value'], groups=data_long_OCTO['Thematiques'], alpha=0.05)\n",
    "\n",
    "# Print Tukey's test results\n",
    "print(tukey_OCTO)"
   ]
  },
  {
   "cell_type": "code",
   "execution_count": 17,
   "id": "20dd5389",
   "metadata": {},
   "outputs": [
    {
     "name": "stdout",
     "output_type": "stream",
     "text": [
      "Moyenne Santé et conditions de travail: 4.008510638297873\n",
      "SD:  0.795100531206161\n",
      "Moyenne competences et parcours: 3.970744680851064\n",
      "SD:  1.0198674163901962\n",
      "Moyenne égalité professionnelle: 4.0638297872340425\n",
      "SD:  0.9559773542814067\n",
      "Moyenne des managé.e.s: 4.0212765957446805\n",
      "SD:  1.429179202020993\n",
      "Moyenne des managers: 3.84\n",
      "SD:  1.3747727084867511\n",
      "Effectif managers: 25\n"
     ]
    }
   ],
   "source": [
    "moyenne_sante_conditions = data['sante_conditions_travail'].mean()\n",
    "sd_sante_conditions = data['sante_conditions_travail'].std()\n",
    "print(\"Moyenne Santé et conditions de travail:\", moyenne_sante_conditions)\n",
    "print(\"SD: \", sd_sante_conditions)\n",
    "\n",
    "moyenne_competences_parcours = data['competences_parcours'].mean()\n",
    "sd_competences_parcours = data['competences_parcours'].std()\n",
    "print(\"Moyenne competences et parcours:\", moyenne_competences_parcours)\n",
    "print(\"SD: \", sd_competences_parcours)\n",
    "\n",
    "moyenne_egalite_pro = data['egalite_pro'].mean()\n",
    "sd_egalite_pro = data['egalite_pro'].std()\n",
    "print(\"Moyenne égalité professionnelle:\", moyenne_egalite_pro)\n",
    "print(\"SD: \", sd_egalite_pro)\n",
    "\n",
    "moyenne_manages = data['manages'].mean()\n",
    "sd_manages = data['manages'].std()\n",
    "print(\"Moyenne des managé.e.s:\", moyenne_manages)\n",
    "print(\"SD: \", sd_manages)\n",
    "\n",
    "effectif_manager = data['manager'].count()\n",
    "moyenne_manager = data['manager'].mean()\n",
    "sd_manager = data['manager'].std()\n",
    "print(\"Moyenne des managers:\", moyenne_manager)\n",
    "print(\"SD: \", sd_manager)\n",
    "print(\"Effectif managers:\", effectif_manager)"
   ]
  },
  {
   "cell_type": "markdown",
   "id": "8ee7c5f9",
   "metadata": {},
   "source": [
    "## Effet de nos facteurs anciennete X OFA"
   ]
  },
  {
   "cell_type": "code",
   "execution_count": 18,
   "id": "e1610d0d",
   "metadata": {},
   "outputs": [
    {
     "name": "stdout",
     "output_type": "stream",
     "text": [
      "                  sum_sq    df         F    PR(>F)\n",
      "C(anciennete)   1.018676   3.0  1.253623  0.295239\n",
      "C(OFA)          2.212206   1.0  8.167284  0.005311\n",
      "Residual       24.106706  89.0       NaN       NaN\n",
      "Il n'y a pas de différence statistiquement significative des moyennes entre les niveaux d'ancienneté.\n",
      "Il y a une différence statistiquement significative des moyennes entre les niveaux de OFA.\n"
     ]
    }
   ],
   "source": [
    "# Création du modèle ANOVA\n",
    "model_OCTO_factors = ols('OCTO_total ~ C(anciennete) + C(OFA)', data=data).fit()\n",
    "\n",
    "# Tableau d'analyse de variance (ANOVA)\n",
    "anova_table_OCTO_total = sm.stats.anova_lm(model_OCTO_factors, typ=2)\n",
    "print(anova_table_OCTO_total)\n",
    "\n",
    "# Interprétation de l'effet principal de l'ancienneté\n",
    "if anova_table_OCTO_total['PR(>F)']['C(anciennete)'] < 0.05:\n",
    "    print(\"Il y a une différence statistiquement significative des moyennes entre les niveaux d'ancienneté.\")\n",
    "else:\n",
    "    print(\"Il n'y a pas de différence statistiquement significative des moyennes entre les niveaux d'ancienneté.\")\n",
    "\n",
    "# Interprétation de l'effet principal de OFA\n",
    "if anova_table_OCTO_total['PR(>F)']['C(OFA)'] < 0.05:\n",
    "    print(\"Il y a une différence statistiquement significative des moyennes entre les niveaux de OFA.\")\n",
    "else:\n",
    "    print(\"Il n'y a pas de différence statistiquement significative des moyennes entre les niveaux de OFA.\")"
   ]
  },
  {
   "cell_type": "markdown",
   "id": "3dbffbc0",
   "metadata": {},
   "source": [
    "### Anciennete : post-hoc et stat descriptives"
   ]
  },
  {
   "cell_type": "code",
   "execution_count": 19,
   "id": "c2c4ac90",
   "metadata": {},
   "outputs": [
    {
     "name": "stdout",
     "output_type": "stream",
     "text": [
      "          Multiple Comparison of Means - Tukey HSD, FWER=0.05          \n",
      "=======================================================================\n",
      "     group1           group2      meandiff p-adj   lower  upper  reject\n",
      "-----------------------------------------------------------------------\n",
      "Entre 1 et 3 ans Entre 3 et 7 ans   0.1256 0.7791 -0.2213 0.4724  False\n",
      "Entre 1 et 3 ans    Moins de 1 an   0.4234 0.0948 -0.0485 0.8953  False\n",
      "Entre 1 et 3 ans    Plus de 7 ans   0.0507 0.9901 -0.3844 0.4857  False\n",
      "Entre 3 et 7 ans    Moins de 1 an   0.2978 0.3728 -0.1835 0.7791  False\n",
      "Entre 3 et 7 ans    Plus de 7 ans  -0.0749 0.9712 -0.5202 0.3703  False\n",
      "   Moins de 1 an    Plus de 7 ans  -0.3727 0.2898  -0.921 0.1755  False\n",
      "-----------------------------------------------------------------------\n",
      "anciennete\n",
      "Entre 1 et 3 ans    3.898681\n",
      "Entre 3 et 7 ans    4.024274\n",
      "Moins de 1 an       4.322083\n",
      "Plus de 7 ans       3.949333\n",
      "Name: OCTO_total, dtype: float64\n",
      "anciennete\n",
      "Entre 1 et 3 ans    0.519306\n",
      "Entre 3 et 7 ans    0.576407\n",
      "Moins de 1 an       0.486381\n",
      "Plus de 7 ans       0.554887\n",
      "Name: OCTO_total, dtype: float64\n"
     ]
    }
   ],
   "source": [
    "# Perform Tukey's HSD test\n",
    "ttest_anciennete_OCTO = pairwise_tukeyhsd(endog=data['OCTO_total'], groups=data['anciennete'], alpha=0.05)\n",
    "\n",
    "# Print the results\n",
    "print(ttest_anciennete_OCTO)\n",
    "\n",
    "# Grouping the data by the factor and calculating the mean for each group\n",
    "means_anciennete = data.groupby('anciennete')['OCTO_total'].mean()\n",
    "sd_anciennete = data.groupby('anciennete')['OCTO_total'].std()\n",
    "\n",
    "# Display the results\n",
    "print(means_anciennete)\n",
    "print(sd_anciennete)"
   ]
  },
  {
   "cell_type": "markdown",
   "id": "8437ce9f",
   "metadata": {},
   "source": [
    "### OFA : post hoc et stat descriptives"
   ]
  },
  {
   "cell_type": "code",
   "execution_count": 20,
   "id": "ed2c3377",
   "metadata": {},
   "outputs": [
    {
     "name": "stdout",
     "output_type": "stream",
     "text": [
      "Multiple Comparison of Means - Tukey HSD, FWER=0.05\n",
      "==================================================\n",
      "group1 group2 meandiff p-adj  lower  upper  reject\n",
      "--------------------------------------------------\n",
      "   Non    Oui   0.5231 0.0017 0.2023 0.8439   True\n",
      "--------------------------------------------------\n",
      "OFA\n",
      "Non    3.935457\n",
      "Oui    4.458542\n",
      "Name: OCTO_total, dtype: float64\n",
      "OFA\n",
      "Non    0.538341\n",
      "Oui    0.387380\n",
      "Name: OCTO_total, dtype: float64\n"
     ]
    }
   ],
   "source": [
    "# Perform Tukey's HSD test\n",
    "ttest_OFA_OCTO = pairwise_tukeyhsd(endog=data['OCTO_total'], groups=data['OFA'], alpha=0.05)\n",
    "\n",
    "# Print the results\n",
    "print(ttest_OFA_OCTO)\n",
    "\n",
    "# Grouping the data by the factor and calculating the mean for each group\n",
    "means_OFA_OCTO = data.groupby('OFA')['OCTO_total'].mean()\n",
    "sd_OFA_OCTO = data.groupby('OFA')['OCTO_total'].std()\n",
    "\n",
    "# Display the results\n",
    "print(means_OFA_OCTO)\n",
    "print(sd_OFA_OCTO)"
   ]
  },
  {
   "cell_type": "markdown",
   "id": "6e4e160f",
   "metadata": {},
   "source": [
    "# Focus sur l'égalité professionnelle"
   ]
  },
  {
   "cell_type": "code",
   "execution_count": 21,
   "id": "31e88be1",
   "metadata": {},
   "outputs": [
    {
     "name": "stdout",
     "output_type": "stream",
     "text": [
      "                  sum_sq    df         F    PR(>F)\n",
      "C(anciennete)   1.286558   3.0  0.456772  0.713178\n",
      "C(OFA)          0.059939   1.0  0.063842  0.801107\n",
      "Residual       83.559987  89.0       NaN       NaN\n",
      "Il n'y a pas de différence statistiquement significative des moyennes entre les niveaux d'ancienneté.\n",
      "Il n'y a pas de différence statistiquement significative des moyennes entre les niveaux de OFA.\n"
     ]
    }
   ],
   "source": [
    "# Création du modèle ANOVA\n",
    "model_egalitepro_factors = ols('egalite_pro ~ C(anciennete) + C(OFA)', data=data).fit()\n",
    "\n",
    "# Tableau d'analyse de variance (ANOVA)\n",
    "anova_table_egalitepro = sm.stats.anova_lm(model_egalitepro_factors, typ=2)\n",
    "print(anova_table_egalitepro)\n",
    "\n",
    "# Interprétation de l'effet principal de l'ancienneté\n",
    "if anova_table_egalitepro['PR(>F)']['C(anciennete)'] < 0.05:\n",
    "    print(\"Il y a une différence statistiquement significative des moyennes entre les niveaux d'ancienneté.\")\n",
    "else:\n",
    "    print(\"Il n'y a pas de différence statistiquement significative des moyennes entre les niveaux d'ancienneté.\")\n",
    "\n",
    "# Interprétation de l'effet principal de OFA\n",
    "if anova_table_egalitepro['PR(>F)']['C(OFA)'] < 0.05:\n",
    "    print(\"Il y a une différence statistiquement significative des moyennes entre les niveaux de OFA.\")\n",
    "else:\n",
    "    print(\"Il n'y a pas de différence statistiquement significative des moyennes entre les niveaux de OFA.\")"
   ]
  },
  {
   "cell_type": "markdown",
   "id": "752d74f5",
   "metadata": {},
   "source": [
    "### Anciennete : post-hoc et stat descriptives"
   ]
  },
  {
   "cell_type": "code",
   "execution_count": 22,
   "id": "b46161c4",
   "metadata": {},
   "outputs": [
    {
     "name": "stdout",
     "output_type": "stream",
     "text": [
      "          Multiple Comparison of Means - Tukey HSD, FWER=0.05          \n",
      "=======================================================================\n",
      "     group1           group2      meandiff p-adj   lower  upper  reject\n",
      "-----------------------------------------------------------------------\n",
      "Entre 1 et 3 ans Entre 3 et 7 ans   0.1855 0.8609 -0.4328 0.8037  False\n",
      "Entre 1 et 3 ans    Moins de 1 an   0.1875 0.9368 -0.6536 1.0286  False\n",
      "Entre 1 et 3 ans    Plus de 7 ans  -0.1333 0.9694 -0.9088 0.6421  False\n",
      "Entre 3 et 7 ans    Moins de 1 an    0.002    1.0 -0.8558 0.8599  False\n",
      "Entre 3 et 7 ans    Plus de 7 ans  -0.3188 0.7196 -1.1124 0.4748  False\n",
      "   Moins de 1 an    Plus de 7 ans  -0.3208 0.8256 -1.2981 0.6564  False\n",
      "-----------------------------------------------------------------------\n",
      "anciennete\n",
      "Entre 1 et 3 ans    4.000000\n",
      "Entre 3 et 7 ans    4.185484\n",
      "Moins de 1 an       4.187500\n",
      "Plus de 7 ans       3.866667\n",
      "Name: egalite_pro, dtype: float64\n",
      "anciennete\n",
      "Entre 1 et 3 ans    0.904355\n",
      "Entre 3 et 7 ans    1.110495\n",
      "Moins de 1 an       1.055963\n",
      "Plus de 7 ans       0.639940\n",
      "Name: egalite_pro, dtype: float64\n"
     ]
    }
   ],
   "source": [
    "# Perform Tukey's HSD test\n",
    "ttest_anciennete_egalitepro = pairwise_tukeyhsd(endog=data['egalite_pro'], groups=data['anciennete'], alpha=0.05)\n",
    "\n",
    "# Print the results\n",
    "print(ttest_anciennete_egalitepro)\n",
    "\n",
    "# Grouping the data by the factor and calculating the mean for each group\n",
    "means_anciennete_egalitepro = data.groupby('anciennete')['egalite_pro'].mean()\n",
    "sd_anciennete_egalitepro = data.groupby('anciennete')['egalite_pro'].std()\n",
    "\n",
    "# Display the results\n",
    "print(means_anciennete_egalitepro)\n",
    "print(sd_anciennete_egalitepro)"
   ]
  },
  {
   "cell_type": "markdown",
   "id": "e7ece8ce",
   "metadata": {},
   "source": [
    "### OFA : post hoc et stat descriptives"
   ]
  },
  {
   "cell_type": "code",
   "execution_count": 23,
   "id": "334c66e7",
   "metadata": {},
   "outputs": [
    {
     "name": "stdout",
     "output_type": "stream",
     "text": [
      "Multiple Comparison of Means - Tukey HSD, FWER=0.05\n",
      "===================================================\n",
      "group1 group2 meandiff p-adj   lower  upper  reject\n",
      "---------------------------------------------------\n",
      "   Non    Oui   0.1179 0.6922 -0.4716 0.7074  False\n",
      "---------------------------------------------------\n",
      "OFA\n",
      "Non    4.048780\n",
      "Oui    4.166667\n",
      "Name: egalite_pro, dtype: float64\n",
      "OFA\n",
      "Non    0.981652\n",
      "Oui    0.785763\n",
      "Name: egalite_pro, dtype: float64\n"
     ]
    }
   ],
   "source": [
    "# Perform Tukey's HSD test\n",
    "ttest_OFA_egalitepro = pairwise_tukeyhsd(endog=data['egalite_pro'], groups=data['OFA'], alpha=0.05)\n",
    "\n",
    "# Print the results\n",
    "print(ttest_OFA_egalitepro)\n",
    "\n",
    "# Grouping the data by the factor and calculating the mean for each group\n",
    "means_OFA_egalitepro = data.groupby('OFA')['egalite_pro'].mean()\n",
    "sd_OFA_egalitepro = data.groupby('OFA')['egalite_pro'].std()\n",
    "\n",
    "# Display the results\n",
    "print(means_OFA_egalitepro)\n",
    "print(sd_OFA_egalitepro)"
   ]
  },
  {
   "cell_type": "markdown",
   "id": "3f5c0fba",
   "metadata": {},
   "source": [
    "# Focus sur les compétences et parcours professionnel"
   ]
  },
  {
   "cell_type": "code",
   "execution_count": 24,
   "id": "dc81f0c7",
   "metadata": {},
   "outputs": [
    {
     "name": "stdout",
     "output_type": "stream",
     "text": [
      "                  sum_sq    df         F    PR(>F)\n",
      "C(anciennete)   3.296026   3.0  1.051478  0.373920\n",
      "C(OFA)          0.335173   1.0  0.320774  0.572568\n",
      "Residual       92.994879  89.0       NaN       NaN\n",
      "Il n'y a pas de différence statistiquement significative des moyennes entre les niveaux d'ancienneté.\n",
      "Il n'y a pas de différence statistiquement significative des moyennes entre les niveaux de OFA.\n"
     ]
    }
   ],
   "source": [
    "# Création du modèle ANOVA\n",
    "model_competences_factors = ols('competences_parcours ~ C(anciennete) + C(OFA)', data=data).fit()\n",
    "\n",
    "# Tableau d'analyse de variance (ANOVA)\n",
    "anova_table_competences = sm.stats.anova_lm(model_competences_factors, typ=2)\n",
    "print(anova_table_competences)\n",
    "\n",
    "# Interprétation de l'effet principal de l'ancienneté\n",
    "if anova_table_competences['PR(>F)']['C(anciennete)'] < 0.05:\n",
    "    print(\"Il y a une différence statistiquement significative des moyennes entre les niveaux d'ancienneté.\")\n",
    "else:\n",
    "    print(\"Il n'y a pas de différence statistiquement significative des moyennes entre les niveaux d'ancienneté.\")\n",
    "\n",
    "# Interprétation de l'effet principal de OFA\n",
    "if anova_table_competences['PR(>F)']['C(OFA)'] < 0.05:\n",
    "    print(\"Il y a une différence statistiquement significative des moyennes entre les niveaux de OFA.\")\n",
    "else:\n",
    "    print(\"Il n'y a pas de différence statistiquement significative des moyennes entre les niveaux de OFA.\")"
   ]
  },
  {
   "cell_type": "markdown",
   "id": "8fc645a6",
   "metadata": {},
   "source": [
    "### Anciennete : post-hoc et stat descriptives"
   ]
  },
  {
   "cell_type": "code",
   "execution_count": 25,
   "id": "92d3ceec",
   "metadata": {},
   "outputs": [
    {
     "name": "stdout",
     "output_type": "stream",
     "text": [
      "          Multiple Comparison of Means - Tukey HSD, FWER=0.05          \n",
      "=======================================================================\n",
      "     group1           group2      meandiff p-adj   lower  upper  reject\n",
      "-----------------------------------------------------------------------\n",
      "Entre 1 et 3 ans Entre 3 et 7 ans  -0.2679 0.7063 -0.9211 0.3852  False\n",
      "Entre 1 et 3 ans    Moins de 1 an   0.0069    1.0 -0.8816 0.8955  False\n",
      "Entre 1 et 3 ans    Plus de 7 ans  -0.5056 0.3752 -1.3248 0.3137  False\n",
      "Entre 3 et 7 ans    Moins de 1 an   0.2749  0.857 -0.6314 1.1812  False\n",
      "Entre 3 et 7 ans    Plus de 7 ans  -0.2376 0.8799 -1.0761 0.6008  False\n",
      "   Moins de 1 an    Plus de 7 ans  -0.5125 0.5657 -1.5449 0.5199  False\n",
      "-----------------------------------------------------------------------\n",
      "anciennete\n",
      "Entre 1 et 3 ans    4.138889\n",
      "Entre 3 et 7 ans    3.870968\n",
      "Moins de 1 an       4.145833\n",
      "Plus de 7 ans       3.633333\n",
      "Name: competences_parcours, dtype: float64\n",
      "anciennete\n",
      "Entre 1 et 3 ans    1.047863\n",
      "Entre 3 et 7 ans    0.921663\n",
      "Moins de 1 an       0.862464\n",
      "Plus de 7 ans       1.231530\n",
      "Name: competences_parcours, dtype: float64\n"
     ]
    }
   ],
   "source": [
    "# Perform Tukey's HSD test\n",
    "ttest_anciennete_parcourspro = pairwise_tukeyhsd(endog=data['competences_parcours'], groups=data['anciennete'], alpha=0.05)\n",
    "\n",
    "# Print the results\n",
    "print(ttest_anciennete_parcourspro)\n",
    "\n",
    "# Grouping the data by the factor and calculating the mean for each group\n",
    "means_anciennete_competencepro = data.groupby('anciennete')['competences_parcours'].mean()\n",
    "sd_anciennete_competencepro = data.groupby('anciennete')['competences_parcours'].std()\n",
    "\n",
    "# Display the results\n",
    "print(means_anciennete_competencepro)\n",
    "print(sd_anciennete_competencepro)"
   ]
  },
  {
   "cell_type": "markdown",
   "id": "e1321abf",
   "metadata": {},
   "source": [
    "### OFA : post hoc et stat descriptives"
   ]
  },
  {
   "cell_type": "code",
   "execution_count": 26,
   "id": "d8ce708d",
   "metadata": {},
   "outputs": [
    {
     "name": "stdout",
     "output_type": "stream",
     "text": [
      "Multiple Comparison of Means - Tukey HSD, FWER=0.05\n",
      "===================================================\n",
      "group1 group2 meandiff p-adj   lower  upper  reject\n",
      "---------------------------------------------------\n",
      "   Non    Oui  -0.2053 0.5178 -0.8333 0.4227  False\n",
      "---------------------------------------------------\n",
      "OFA\n",
      "Non    3.996951\n",
      "Oui    3.791667\n",
      "Name: competences_parcours, dtype: float64\n",
      "OFA\n",
      "Non    1.039716\n",
      "Oui    0.890820\n",
      "Name: competences_parcours, dtype: float64\n"
     ]
    }
   ],
   "source": [
    "# Perform Tukey's HSD test\n",
    "ttest_OFA_parcourspro = pairwise_tukeyhsd(endog=data['competences_parcours'], groups=data['OFA'], alpha=0.05)\n",
    "\n",
    "# Print the results\n",
    "print(ttest_OFA_parcourspro)\n",
    "\n",
    "# Grouping the data by the factor and calculating the mean for each group\n",
    "means_OFA_competencepro = data.groupby('OFA')['competences_parcours'].mean()\n",
    "sd_OFA_competencepro = data.groupby('OFA')['competences_parcours'].std()\n",
    "\n",
    "# Display the results\n",
    "print(means_OFA_competencepro)\n",
    "print(sd_OFA_competencepro)"
   ]
  },
  {
   "cell_type": "markdown",
   "id": "dafccda8",
   "metadata": {},
   "source": [
    "# Focus sur la santé et les conditions de travail"
   ]
  },
  {
   "cell_type": "code",
   "execution_count": 27,
   "id": "51a2e7eb",
   "metadata": {},
   "outputs": [
    {
     "name": "stdout",
     "output_type": "stream",
     "text": [
      "                  sum_sq    df         F    PR(>F)\n",
      "C(anciennete)   1.512760   3.0  0.822028  0.485109\n",
      "C(OFA)          2.768759   1.0  4.513602  0.036399\n",
      "Residual       54.594882  89.0       NaN       NaN\n",
      "Il n'y a pas de différence statistiquement significative des moyennes entre les niveaux d'ancienneté.\n",
      "Il y a une différence statistiquement significative des moyennes entre les niveaux de OFA.\n"
     ]
    }
   ],
   "source": [
    "# Création du modèle ANOVA\n",
    "model_sante_factors = ols('sante_conditions_travail ~ C(anciennete) + C(OFA)', data=data).fit()\n",
    "\n",
    "# Tableau d'analyse de variance (ANOVA)\n",
    "anova_table_sante = sm.stats.anova_lm(model_sante_factors, typ=2)\n",
    "print(anova_table_sante)\n",
    "\n",
    "# Interprétation de l'effet principal de l'ancienneté\n",
    "if anova_table_sante['PR(>F)']['C(anciennete)'] < 0.05:\n",
    "    print(\"Il y a une différence statistiquement significative des moyennes entre les niveaux d'ancienneté.\")\n",
    "else:\n",
    "    print(\"Il n'y a pas de différence statistiquement significative des moyennes entre les niveaux d'ancienneté.\")\n",
    "\n",
    "# Interprétation de l'effet principal de OFA\n",
    "if anova_table_sante['PR(>F)']['C(OFA)'] < 0.05:\n",
    "    print(\"Il y a une différence statistiquement significative des moyennes entre les niveaux de OFA.\")\n",
    "else:\n",
    "    print(\"Il n'y a pas de différence statistiquement significative des moyennes entre les niveaux de OFA.\")"
   ]
  },
  {
   "cell_type": "markdown",
   "id": "498d55b9",
   "metadata": {},
   "source": [
    "### Anciennete : post-hoc et stat descriptives"
   ]
  },
  {
   "cell_type": "code",
   "execution_count": 28,
   "id": "c5f17bf0",
   "metadata": {},
   "outputs": [
    {
     "name": "stdout",
     "output_type": "stream",
     "text": [
      "          Multiple Comparison of Means - Tukey HSD, FWER=0.05          \n",
      "=======================================================================\n",
      "     group1           group2      meandiff p-adj   lower  upper  reject\n",
      "-----------------------------------------------------------------------\n",
      "Entre 1 et 3 ans Entre 3 et 7 ans  -0.2206 0.6734 -0.7327 0.2914  False\n",
      "Entre 1 et 3 ans    Moins de 1 an   0.1444 0.9483 -0.5522 0.8411  False\n",
      "Entre 1 et 3 ans    Plus de 7 ans  -0.0589 0.9951 -0.7011 0.5834  False\n",
      "Entre 3 et 7 ans    Moins de 1 an   0.3651  0.537 -0.3455 1.0756  False\n",
      "Entre 3 et 7 ans    Plus de 7 ans   0.1617 0.9174 -0.4956  0.819  False\n",
      "   Moins de 1 an    Plus de 7 ans  -0.2033 0.9126 -1.0127 0.6061  False\n",
      "-----------------------------------------------------------------------\n",
      "anciennete\n",
      "Entre 1 et 3 ans    4.072222\n",
      "Entre 3 et 7 ans    3.851613\n",
      "Moins de 1 an       4.216667\n",
      "Plus de 7 ans       4.013333\n",
      "Name: sante_conditions_travail, dtype: float64\n",
      "anciennete\n",
      "Entre 1 et 3 ans    0.788710\n",
      "Entre 3 et 7 ans    0.809885\n",
      "Moins de 1 an       0.720900\n",
      "Plus de 7 ans       0.853452\n",
      "Name: sante_conditions_travail, dtype: float64\n"
     ]
    }
   ],
   "source": [
    "# Perform Tukey's HSD test\n",
    "ttest_anciennete_sante_conditions = pairwise_tukeyhsd(endog=data['sante_conditions_travail'], groups=data['anciennete'], alpha=0.05)\n",
    "\n",
    "# Print the results\n",
    "print(ttest_anciennete_sante_conditions)\n",
    "\n",
    "# Grouping the data by the factor and calculating the mean for each group\n",
    "means_anciennete_sante_conditions = data.groupby('anciennete')['sante_conditions_travail'].mean()\n",
    "sd_anciennete_sante_conditions = data.groupby('anciennete')['sante_conditions_travail'].std()\n",
    "\n",
    "# Display the results\n",
    "print(means_anciennete_sante_conditions)\n",
    "print(sd_anciennete_sante_conditions)"
   ]
  },
  {
   "cell_type": "markdown",
   "id": "0b5e950c",
   "metadata": {},
   "source": [
    "### OFA : post hoc et stat descriptives"
   ]
  },
  {
   "cell_type": "code",
   "execution_count": 29,
   "id": "3401f263",
   "metadata": {},
   "outputs": [
    {
     "name": "stdout",
     "output_type": "stream",
     "text": [
      "Multiple Comparison of Means - Tukey HSD, FWER=0.05 \n",
      "====================================================\n",
      "group1 group2 meandiff p-adj   lower   upper  reject\n",
      "----------------------------------------------------\n",
      "   Non    Oui  -0.5065 0.0386 -0.9859 -0.0271   True\n",
      "----------------------------------------------------\n",
      "OFA\n",
      "Non    4.073171\n",
      "Oui    3.566667\n",
      "Name: sante_conditions_travail, dtype: float64\n",
      "OFA\n",
      "Non    0.785368\n",
      "Oui    0.747521\n",
      "Name: sante_conditions_travail, dtype: float64\n"
     ]
    }
   ],
   "source": [
    "# Perform Tukey's HSD test\n",
    "ttest_OFA_sante_conditions = pairwise_tukeyhsd(endog=data['sante_conditions_travail'], groups=data['OFA'], alpha=0.05)\n",
    "\n",
    "# Print the results\n",
    "print(ttest_OFA_sante_conditions)\n",
    "\n",
    "# Grouping the data by the factor and calculating the mean for each group\n",
    "means_OFA_sante_conditions = data.groupby('OFA')['sante_conditions_travail'].mean()\n",
    "sd_OFA_sante_conditions = data.groupby('OFA')['sante_conditions_travail'].std()\n",
    "\n",
    "# Display the results\n",
    "print(means_OFA_sante_conditions)\n",
    "print(sd_OFA_sante_conditions)"
   ]
  },
  {
   "cell_type": "markdown",
   "id": "fb35086d",
   "metadata": {},
   "source": [
    "# Focus sur le management côté managés"
   ]
  },
  {
   "cell_type": "code",
   "execution_count": 30,
   "id": "8bb95182",
   "metadata": {},
   "outputs": [
    {
     "name": "stdout",
     "output_type": "stream",
     "text": [
      "                   sum_sq    df          F        PR(>F)\n",
      "C(anciennete)    9.466870   3.0   2.217871  9.156258e-02\n",
      "C(OFA)          44.412858   1.0  31.214742  2.488078e-07\n",
      "Residual       126.630691  89.0        NaN           NaN\n",
      "Il n'y a pas de différence statistiquement significative des moyennes entre les niveaux d'ancienneté.\n",
      "Il y a une différence statistiquement significative des moyennes entre les niveaux de OFA.\n"
     ]
    }
   ],
   "source": [
    "# Création du modèle ANOVA\n",
    "model_manages_factors = ols('manages ~ C(anciennete) + C(OFA)', data=data).fit()\n",
    "\n",
    "# Tableau d'analyse de variance (ANOVA)\n",
    "anova_table_manages = sm.stats.anova_lm(model_manages_factors, typ=2)\n",
    "print(anova_table_manages)\n",
    "\n",
    "# Interprétation de l'effet principal de l'ancienneté\n",
    "if anova_table_manages['PR(>F)']['C(anciennete)'] < 0.05:\n",
    "    print(\"Il y a une différence statistiquement significative des moyennes entre les niveaux d'ancienneté.\")\n",
    "else:\n",
    "    print(\"Il n'y a pas de différence statistiquement significative des moyennes entre les niveaux d'ancienneté.\")\n",
    "\n",
    "# Interprétation de l'effet principal de OFA\n",
    "if anova_table_manages['PR(>F)']['C(OFA)'] < 0.05:\n",
    "    print(\"Il y a une différence statistiquement significative des moyennes entre les niveaux de OFA.\")\n",
    "else:\n",
    "    print(\"Il n'y a pas de différence statistiquement significative des moyennes entre les niveaux de OFA.\")"
   ]
  },
  {
   "cell_type": "markdown",
   "id": "733d720b",
   "metadata": {},
   "source": [
    "### Anciennete : post-hoc et stat descriptives"
   ]
  },
  {
   "cell_type": "code",
   "execution_count": 31,
   "id": "29cbfa82",
   "metadata": {},
   "outputs": [
    {
     "name": "stdout",
     "output_type": "stream",
     "text": [
      "          Multiple Comparison of Means - Tukey HSD, FWER=0.05          \n",
      "=======================================================================\n",
      "     group1           group2      meandiff p-adj   lower  upper  reject\n",
      "-----------------------------------------------------------------------\n",
      "Entre 1 et 3 ans Entre 3 et 7 ans   0.6613 0.2118 -0.2229 1.5455  False\n",
      "Entre 1 et 3 ans    Moins de 1 an     1.25 0.0385  0.0471 2.4529   True\n",
      "Entre 1 et 3 ans    Plus de 7 ans      0.9 0.1533  -0.209  2.009  False\n",
      "Entre 3 et 7 ans    Moins de 1 an   0.5887 0.5931 -0.6382 1.8156  False\n",
      "Entre 3 et 7 ans    Plus de 7 ans   0.2387 0.9462 -0.8963 1.3737  False\n",
      "   Moins de 1 an    Plus de 7 ans    -0.35 0.9133 -1.7476 1.0476  False\n",
      "-----------------------------------------------------------------------\n",
      "anciennete\n",
      "Entre 1 et 3 ans    3.50000\n",
      "Entre 3 et 7 ans    4.16129\n",
      "Moins de 1 an       4.75000\n",
      "Plus de 7 ans       4.40000\n",
      "Name: manages, dtype: float64\n",
      "anciennete\n",
      "Entre 1 et 3 ans    1.133893\n",
      "Entre 3 et 7 ans    1.485413\n",
      "Moins de 1 an       1.544786\n",
      "Plus de 7 ans       1.549193\n",
      "Name: manages, dtype: float64\n"
     ]
    }
   ],
   "source": [
    "# Perform Tukey's HSD test\n",
    "ttest_anciennete_manages = pairwise_tukeyhsd(endog=data['manages'], groups=data['anciennete'], alpha=0.05)\n",
    "\n",
    "# Print the results\n",
    "print(ttest_anciennete_manages)\n",
    "\n",
    "# Grouping the data by the factor and calculating the mean for each group\n",
    "means_anciennete_manages = data.groupby('anciennete')['manages'].mean()\n",
    "sd_anciennete_manages = data.groupby('anciennete')['manages'].std()\n",
    "\n",
    "# Display the results\n",
    "print(means_anciennete_manages)\n",
    "print(sd_anciennete_manages)"
   ]
  },
  {
   "cell_type": "markdown",
   "id": "594b99aa",
   "metadata": {},
   "source": [
    "### OFA : post hoc et stat descriptives"
   ]
  },
  {
   "cell_type": "code",
   "execution_count": 32,
   "id": "bc6d9d6f",
   "metadata": {},
   "outputs": [
    {
     "name": "stdout",
     "output_type": "stream",
     "text": [
      "Multiple Comparison of Means - Tukey HSD, FWER=0.05\n",
      "=================================================\n",
      "group1 group2 meandiff p-adj lower  upper  reject\n",
      "-------------------------------------------------\n",
      "   Non    Oui   2.2683   0.0 1.5217 3.0149   True\n",
      "-------------------------------------------------\n",
      "OFA\n",
      "Non    3.731707\n",
      "Oui    6.000000\n",
      "Name: manages, dtype: float64\n",
      "OFA\n",
      "Non    1.296232\n",
      "Oui    0.000000\n",
      "Name: manages, dtype: float64\n"
     ]
    }
   ],
   "source": [
    "# Perform Tukey's HSD test\n",
    "ttest_OFA_manages = pairwise_tukeyhsd(endog=data['manages'], groups=data['OFA'], alpha=0.05)\n",
    "\n",
    "# Print the results\n",
    "print(ttest_OFA_manages)\n",
    "\n",
    "# Grouping the data by the factor and calculating the mean for each group\n",
    "means_OFA_manages = data.groupby('OFA')['manages'].mean()\n",
    "sd_OFA_manages = data.groupby('OFA')['manages'].std()\n",
    "\n",
    "# Display the results\n",
    "print(means_OFA_manages)\n",
    "print(sd_OFA_manages)"
   ]
  },
  {
   "cell_type": "markdown",
   "id": "f5e5cebb",
   "metadata": {},
   "source": [
    "# Focus sur le management côté managers"
   ]
  },
  {
   "cell_type": "code",
   "execution_count": 33,
   "id": "dedc4653",
   "metadata": {},
   "outputs": [
    {
     "name": "stdout",
     "output_type": "stream",
     "text": [
      "                  sum_sq    df         F    PR(>F)\n",
      "C(anciennete)   1.579545   3.0  0.377769  0.770022\n",
      "C(OFA)         12.250000   1.0  8.789238  0.007661\n",
      "Residual       27.875000  20.0       NaN       NaN\n",
      "Il n'y a pas de différence statistiquement significative des moyennes entre les niveaux d'ancienneté.\n",
      "Il y a une différence statistiquement significative des moyennes entre les niveaux de OFA.\n"
     ]
    }
   ],
   "source": [
    "# Création du modèle ANOVA\n",
    "model_manager_factors = ols('manager ~ C(anciennete) + C(OFA)', data=data).fit()\n",
    "\n",
    "# Tableau d'analyse de variance (ANOVA)\n",
    "anova_table_manager = sm.stats.anova_lm(model_manager_factors, typ=2)\n",
    "print(anova_table_manager)\n",
    "\n",
    "# Interprétation de l'effet principal de l'ancienneté\n",
    "if anova_table_manager['PR(>F)']['C(anciennete)'] < 0.05:\n",
    "    print(\"Il y a une différence statistiquement significative des moyennes entre les niveaux d'ancienneté.\")\n",
    "else:\n",
    "    print(\"Il n'y a pas de différence statistiquement significative des moyennes entre les niveaux d'ancienneté.\")\n",
    "\n",
    "# Interprétation de l'effet principal de OFA\n",
    "if anova_table_manager['PR(>F)']['C(OFA)'] < 0.05:\n",
    "    print(\"Il y a une différence statistiquement significative des moyennes entre les niveaux de OFA.\")\n",
    "else:\n",
    "    print(\"Il n'y a pas de différence statistiquement significative des moyennes entre les niveaux de OFA.\")"
   ]
  },
  {
   "cell_type": "markdown",
   "id": "efacf52a",
   "metadata": {},
   "source": [
    "## Anciennete : post-hoc et stat descriptives"
   ]
  },
  {
   "cell_type": "code",
   "execution_count": 34,
   "id": "0f5d53f3",
   "metadata": {},
   "outputs": [
    {
     "name": "stdout",
     "output_type": "stream",
     "text": [
      "          Multiple Comparison of Means - Tukey HSD, FWER=0.05          \n",
      "=======================================================================\n",
      "     group1           group2      meandiff p-adj   lower  upper  reject\n",
      "-----------------------------------------------------------------------\n",
      "Entre 1 et 3 ans Entre 3 et 7 ans    0.875 0.5209 -0.8836 2.6336  False\n",
      "Entre 1 et 3 ans    Moins de 1 an    0.625  0.908 -1.9834 3.2334  False\n",
      "Entre 1 et 3 ans    Plus de 7 ans   -0.375 0.9857  -3.421  2.671  False\n",
      "Entre 3 et 7 ans    Moins de 1 an    -0.25 0.9921  -2.737  2.237  False\n",
      "Entre 3 et 7 ans    Plus de 7 ans    -1.25 0.6432 -4.1927 1.6927  False\n",
      "   Moins de 1 an    Plus de 7 ans     -1.0  0.857 -4.5172 2.5172  False\n",
      "-----------------------------------------------------------------------\n",
      "Means by anciennete among managers:\n",
      "anciennete\n",
      "Entre 1 et 3 ans    3.375\n",
      "Entre 3 et 7 ans    4.250\n",
      "Moins de 1 an       4.000\n",
      "Plus de 7 ans       3.000\n",
      "Name: manager, dtype: float64\n",
      "\n",
      "Standard Deviations by anciennete among managers:\n",
      "anciennete\n",
      "Entre 1 et 3 ans    1.060660\n",
      "Entre 3 et 7 ans    1.544786\n",
      "Moins de 1 an       1.732051\n",
      "Plus de 7 ans       0.000000\n",
      "Name: manager, dtype: float64\n"
     ]
    }
   ],
   "source": [
    "# Filtrer pour ne garder que les managers\n",
    "data_managers = data[data['Es-tu manager/manageuse ?'] == 'Oui']\n",
    "\n",
    "# Vérifier que 'manager' et 'anciennete' ne contiennent pas de NaN dans le sous-ensemble filtré\n",
    "data_managers = data_managers.dropna(subset=['manager', 'anciennete'])\n",
    "\n",
    "# Perform Tukey's HSD test\n",
    "ttest_anciennete_manager = pairwise_tukeyhsd(endog=data_managers['manager'], groups=data_managers['anciennete'], alpha=0.05)\n",
    "\n",
    "# Print the results of the Tukey test\n",
    "print(ttest_anciennete_manager)\n",
    "\n",
    "# Grouping the data by the factor and calculating the mean and standard deviation for each group\n",
    "means_anciennete_managers = data_managers.groupby('anciennete')['manager'].mean()\n",
    "sd_anciennete_managers = data_managers.groupby('anciennete')['manager'].std()\n",
    "\n",
    "# Display the calculated means and standard deviations\n",
    "print(\"Means by anciennete among managers:\")\n",
    "print(means_anciennete_managers)\n",
    "print(\"\\nStandard Deviations by anciennete among managers:\")\n",
    "print(sd_anciennete_managers)"
   ]
  },
  {
   "cell_type": "markdown",
   "id": "b90a1a6d",
   "metadata": {},
   "source": [
    "## OFA : post hoc et stat descriptives"
   ]
  },
  {
   "cell_type": "code",
   "execution_count": 35,
   "id": "afceaabf",
   "metadata": {},
   "outputs": [
    {
     "name": "stdout",
     "output_type": "stream",
     "text": [
      "anciennete\n",
      "Entre 1 et 3 ans    3.375\n",
      "Entre 3 et 7 ans    4.250\n",
      "Moins de 1 an       4.000\n",
      "Plus de 7 ans       3.000\n",
      "Name: manager, dtype: float64\n",
      "anciennete\n",
      "Entre 1 et 3 ans    1.060660\n",
      "Entre 3 et 7 ans    1.544786\n",
      "Moins de 1 an       1.732051\n",
      "Plus de 7 ans       0.000000\n",
      "Name: manager, dtype: float64\n",
      "OFA\n",
      "Non    3.545455\n",
      "Oui    6.000000\n",
      "Name: manager, dtype: float64\n",
      "OFA\n",
      "Non    1.184313\n",
      "Oui    0.000000\n",
      "Name: manager, dtype: float64\n"
     ]
    }
   ],
   "source": [
    "# Grouping the data by the factor and calculating the mean for each group\n",
    "means_anciennete_managers = data_managers.groupby('anciennete')['manager'].mean()\n",
    "sd_anciennete_managers = data_managers.groupby('anciennete')['manager'].std()\n",
    "\n",
    "# Display the results\n",
    "print(means_anciennete_managers)\n",
    "print(sd_anciennete_managers)\n",
    "\n",
    "# Grouping the data by the factor and calculating the mean for each group\n",
    "means_OFA_managers = data_managers.groupby('OFA')['manager'].mean()\n",
    "sd_OFA_managers = data_managers.groupby('OFA')['manager'].std()\n",
    "\n",
    "# Display the results\n",
    "print(means_OFA_managers)\n",
    "print(sd_OFA_managers)"
   ]
  },
  {
   "cell_type": "markdown",
   "id": "4d1e1e12",
   "metadata": {},
   "source": [
    "# Bien-être en mission / travail quotidien "
   ]
  },
  {
   "cell_type": "code",
   "execution_count": 36,
   "id": "25fdf60d",
   "metadata": {},
   "outputs": [
    {
     "name": "stdout",
     "output_type": "stream",
     "text": [
      "Moyenne sur les missions quotidiennes: 4.0\n",
      "SD:  1.6360521589077368\n"
     ]
    }
   ],
   "source": [
    "# Rappel: \n",
    "moyenne_missions = data['missions_taches'].mean()\n",
    "sd_missions = data['missions_taches'].std()\n",
    "print(\"Moyenne sur les missions quotidiennes:\", moyenne_missions)\n",
    "print(\"SD: \", sd_missions)"
   ]
  },
  {
   "cell_type": "markdown",
   "id": "626e6882",
   "metadata": {},
   "source": [
    "## Effet de nos facteurs Anciennete X OFA"
   ]
  },
  {
   "cell_type": "code",
   "execution_count": 37,
   "id": "44163bac",
   "metadata": {
    "scrolled": true
   },
   "outputs": [
    {
     "name": "stdout",
     "output_type": "stream",
     "text": [
      "                    sum_sq    df         F    PR(>F)\n",
      "C(anciennete)     4.353276   3.0  0.533512  0.660835\n",
      "C(OFA)            0.221570   1.0  0.081463  0.776179\n",
      "C(statut6mois)    9.354408   3.0  1.146422  0.323749\n",
      "Residual        187.672113  69.0       NaN       NaN\n",
      "Il n'y a pas de différence significative des moyennes entre les niveaux d'ancienneté.\n",
      "Il n'y a pas de différence statistiquement significative des moyennes entre les niveaux de OFA.\n",
      "Il n'y a pas de différence statistiquement significative des moyennes entre les niveaux de OFA.\n"
     ]
    },
    {
     "name": "stderr",
     "output_type": "stream",
     "text": [
      "/Users/joy.desdevises/anaconda3/lib/python3.11/site-packages/statsmodels/base/model.py:1888: ValueWarning: covariance of constraints does not have full rank. The number of constraints is 3, but rank is 2\n",
      "  warnings.warn('covariance of constraints does not have full '\n"
     ]
    }
   ],
   "source": [
    "# Création du modèle ANOVA\n",
    "model_missions = ols('missions_taches ~ C(anciennete) + C(OFA) + C(statut6mois)', data=data).fit()\n",
    "\n",
    "# Tableau d'analyse de variance (ANOVA)\n",
    "anova_table_missions = sm.stats.anova_lm(model_missions, typ=2)\n",
    "print(anova_table_missions)\n",
    "\n",
    "# Interprétation de l'effet principal de l'ancienneté\n",
    "if anova_table_missions['PR(>F)']['C(anciennete)'] < 0.05:\n",
    "    print(\"Il y a une différence significative des moyennes entre les niveaux d'ancienneté.\")\n",
    "else:\n",
    "    print(\"Il n'y a pas de différence significative des moyennes entre les niveaux d'ancienneté.\")\n",
    "\n",
    "# Interprétation de l'effet principal de OFA\n",
    "if anova_table_missions['PR(>F)']['C(OFA)'] < 0.05:\n",
    "    print(\"Il y a une différence significative des moyennes entre les niveaux de OFA.\")\n",
    "else:\n",
    "    print(\"Il n'y a pas de différence statistiquement significative des moyennes entre les niveaux de OFA.\")\n",
    "    \n",
    "# Interprétation de l'effet principal deu statut des 6 derniers mois\n",
    "if anova_table_missions['PR(>F)']['C(OFA)'] < 0.05:\n",
    "    print(\"Il y a une différence significative des moyennes entre les niveaux de OFA.\")\n",
    "else:\n",
    "    print(\"Il n'y a pas de différence statistiquement significative des moyennes entre les niveaux de OFA.\")"
   ]
  },
  {
   "cell_type": "markdown",
   "id": "11ee2da2",
   "metadata": {},
   "source": [
    "## Anciennete : post hoc et stat descriptives"
   ]
  },
  {
   "cell_type": "code",
   "execution_count": 38,
   "id": "ebd318b0",
   "metadata": {},
   "outputs": [
    {
     "name": "stdout",
     "output_type": "stream",
     "text": [
      "        Multiple Comparison of Means - Tukey HSD, FWER=0.05        \n",
      "===================================================================\n",
      "     group1           group2      meandiff p-adj lower upper reject\n",
      "-------------------------------------------------------------------\n",
      "Entre 1 et 3 ans Entre 3 et 7 ans      nan   nan   nan   nan  False\n",
      "Entre 1 et 3 ans    Moins de 1 an      nan   nan   nan   nan  False\n",
      "Entre 1 et 3 ans    Plus de 7 ans      nan   nan   nan   nan  False\n",
      "Entre 3 et 7 ans    Moins de 1 an      nan   nan   nan   nan  False\n",
      "Entre 3 et 7 ans    Plus de 7 ans      nan   nan   nan   nan  False\n",
      "   Moins de 1 an    Plus de 7 ans      nan   nan   nan   nan  False\n",
      "-------------------------------------------------------------------\n",
      "anciennete\n",
      "Entre 1 et 3 ans    4.155172\n",
      "Entre 3 et 7 ans    4.153846\n",
      "Moins de 1 an       3.659091\n",
      "Plus de 7 ans       3.525000\n",
      "Name: missions_taches, dtype: float64\n",
      "anciennete\n",
      "Entre 1 et 3 ans    1.783373\n",
      "Entre 3 et 7 ans    1.568561\n",
      "Moins de 1 an       1.441669\n",
      "Plus de 7 ans       1.651809\n",
      "Name: missions_taches, dtype: float64\n"
     ]
    }
   ],
   "source": [
    "# Perform Tukey's HSD test\n",
    "ttest_anciennete_missions = pairwise_tukeyhsd(endog=data['missions_taches'], groups=data['anciennete'], alpha=0.05)\n",
    "\n",
    "# Print the results\n",
    "print(ttest_anciennete_missions)\n",
    "\n",
    "# Grouping the data by the factor and calculating the mean for each group\n",
    "means_anciennete_missions = data.groupby('anciennete')['missions_taches'].mean()\n",
    "sd_anciennete_missions = data.groupby('anciennete')['missions_taches'].std()\n",
    "\n",
    "# Display the results\n",
    "print(means_anciennete_missions)\n",
    "print(sd_anciennete_missions)"
   ]
  },
  {
   "cell_type": "markdown",
   "id": "517065ee",
   "metadata": {},
   "source": [
    "## OFA : post hoc et stat descriptives"
   ]
  },
  {
   "cell_type": "code",
   "execution_count": 39,
   "id": "7015d71d",
   "metadata": {},
   "outputs": [
    {
     "name": "stdout",
     "output_type": "stream",
     "text": [
      "Multiple Comparison of Means - Tukey HSD, FWER=0.05\n",
      "===============================================\n",
      "group1 group2 meandiff p-adj lower upper reject\n",
      "-----------------------------------------------\n",
      "   Non    Oui      nan   nan   nan   nan  False\n",
      "-----------------------------------------------\n",
      "OFA\n",
      "Non    3.945312\n",
      "Oui    4.291667\n",
      "Name: missions_taches, dtype: float64\n",
      "OFA\n",
      "Non    1.721980\n",
      "Oui    1.075731\n",
      "Name: missions_taches, dtype: float64\n"
     ]
    }
   ],
   "source": [
    "# Perform Tukey's HSD test\n",
    "ttest_OFA_missions = pairwise_tukeyhsd(endog=data['missions_taches'], groups=data['OFA'], alpha=0.05)\n",
    "\n",
    "# Print the results\n",
    "print(ttest_OFA_missions)\n",
    "\n",
    "# Grouping the data by the factor and calculating the mean for each group\n",
    "means_OFA_missions = data.groupby('OFA')['missions_taches'].mean()\n",
    "sd_OFA_missions = data.groupby('OFA')['missions_taches'].std()\n",
    "\n",
    "# Display the results\n",
    "print(means_OFA_missions)\n",
    "print(sd_OFA_missions)"
   ]
  },
  {
   "cell_type": "markdown",
   "id": "6d5fe1fb",
   "metadata": {},
   "source": [
    "## Type de poste : post hoc et stat descriptives"
   ]
  },
  {
   "cell_type": "code",
   "execution_count": 40,
   "id": "0656d101",
   "metadata": {},
   "outputs": [
    {
     "name": "stdout",
     "output_type": "stream",
     "text": [
      "                    Multiple Comparison of Means - Tukey HSD, FWER=0.05                    \n",
      "===========================================================================================\n",
      "             group1                       group2          meandiff p-adj lower upper reject\n",
      "-------------------------------------------------------------------------------------------\n",
      "En mission chez un/des client(s)          fonctions coeur      nan   nan   nan   nan  False\n",
      "En mission chez un/des client(s)             intercontrat  -0.7007   nan   nan   nan  False\n",
      "En mission chez un/des client(s) missions et intercontrat  -0.6826   nan   nan   nan  False\n",
      "                 fonctions coeur             intercontrat      nan   nan   nan   nan  False\n",
      "                 fonctions coeur missions et intercontrat      nan   nan   nan   nan  False\n",
      "                    intercontrat missions et intercontrat   0.0181   nan   nan   nan  False\n",
      "-------------------------------------------------------------------------------------------\n",
      "statut6mois\n",
      "En mission chez un/des client(s)    4.265957\n",
      "fonctions coeur                          NaN\n",
      "intercontrat                        3.565217\n",
      "missions et intercontrat            3.583333\n",
      "Name: missions_taches, dtype: float64\n",
      "statut6mois\n",
      "En mission chez un/des client(s)    1.354746\n",
      "fonctions coeur                          NaN\n",
      "intercontrat                        2.085144\n",
      "missions et intercontrat            1.546501\n",
      "Name: missions_taches, dtype: float64\n"
     ]
    }
   ],
   "source": [
    "# Perform Tukey's HSD test\n",
    "ttest_poste_missions = pairwise_tukeyhsd(endog=data['missions_taches'], groups=data['statut6mois'], alpha=0.05)\n",
    "\n",
    "# Print the results\n",
    "print(ttest_poste_missions)\n",
    "\n",
    "# Grouping the data by the factor and calculating the mean for each group\n",
    "means_typeposte_missions = data.groupby('statut6mois')['missions_taches'].mean()\n",
    "sd_typeposte_missions = data.groupby('statut6mois')['missions_taches'].std()\n",
    "\n",
    "# Display the results\n",
    "print(means_typeposte_missions)\n",
    "print(sd_typeposte_missions)"
   ]
  }
 ],
 "metadata": {
  "kernelspec": {
   "display_name": "Python 3 (ipykernel)",
   "language": "python",
   "name": "python3"
  },
  "language_info": {
   "codemirror_mode": {
    "name": "ipython",
    "version": 3
   },
   "file_extension": ".py",
   "mimetype": "text/x-python",
   "name": "python",
   "nbconvert_exporter": "python",
   "pygments_lexer": "ipython3",
   "version": "3.11.4"
  }
 },
 "nbformat": 4,
 "nbformat_minor": 5
}
