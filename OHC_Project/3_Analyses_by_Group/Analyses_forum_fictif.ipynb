{
 "cells": [
  {
   "cell_type": "code",
   "execution_count": 1,
   "id": "f83af203",
   "metadata": {},
   "outputs": [],
   "source": [
    "import pandas as pda\n",
    "import numpy as np\n",
    "from scipy.stats import f_oneway\n",
    "from scipy.stats import ttest_ind\n",
    "import itertools\n",
    "import matplotlib.pyplot as plt\n",
    "from scipy import stats\n",
    "from statsmodels.stats.multicomp import pairwise_tukeyhsd\n",
    "import statsmodels.api as sm\n",
    "from statsmodels.formula.api import ols"
   ]
  },
  {
   "cell_type": "code",
   "execution_count": 2,
   "id": "84e55b4b",
   "metadata": {},
   "outputs": [
    {
     "data": {
      "text/html": [
       "<div>\n",
       "<style scoped>\n",
       "    .dataframe tbody tr th:only-of-type {\n",
       "        vertical-align: middle;\n",
       "    }\n",
       "\n",
       "    .dataframe tbody tr th {\n",
       "        vertical-align: top;\n",
       "    }\n",
       "\n",
       "    .dataframe thead th {\n",
       "        text-align: right;\n",
       "    }\n",
       "</style>\n",
       "<table border=\"1\" class=\"dataframe\">\n",
       "  <thead>\n",
       "    <tr style=\"text-align: right;\">\n",
       "      <th></th>\n",
       "      <th>anciennete</th>\n",
       "      <th>campement</th>\n",
       "      <th>OFA</th>\n",
       "      <th>tribu</th>\n",
       "      <th>quartier</th>\n",
       "      <th>etabli</th>\n",
       "      <th>activites_tribu</th>\n",
       "      <th>interactions_tribu</th>\n",
       "      <th>tribu_total</th>\n",
       "      <th>activites_QA</th>\n",
       "      <th>...</th>\n",
       "      <th>manages</th>\n",
       "      <th>Es-tu manager/manageuse ?</th>\n",
       "      <th>Si tu es manager/manageuse, combien de managé.e.s direct(s) as-tu ?</th>\n",
       "      <th>manager</th>\n",
       "      <th>egalite_pro</th>\n",
       "      <th>competences_parcours</th>\n",
       "      <th>sante_conditions_travail</th>\n",
       "      <th>OCTO_total</th>\n",
       "      <th>statut6mois</th>\n",
       "      <th>missions_taches</th>\n",
       "    </tr>\n",
       "  </thead>\n",
       "  <tbody>\n",
       "    <tr>\n",
       "      <th>0</th>\n",
       "      <td>Plus de 7 ans</td>\n",
       "      <td>OCTO Paris</td>\n",
       "      <td>Oui</td>\n",
       "      <td>User Research</td>\n",
       "      <td>Forum</td>\n",
       "      <td>Aucun</td>\n",
       "      <td>4.75</td>\n",
       "      <td>3.75</td>\n",
       "      <td>4.25</td>\n",
       "      <td>4.00</td>\n",
       "      <td>...</td>\n",
       "      <td>4.000000</td>\n",
       "      <td>Non</td>\n",
       "      <td>NaN</td>\n",
       "      <td>NaN</td>\n",
       "      <td>4.25</td>\n",
       "      <td>3.75</td>\n",
       "      <td>4.2</td>\n",
       "      <td>4.050000</td>\n",
       "      <td>En mission chez un/des client(s)</td>\n",
       "      <td>5.0</td>\n",
       "    </tr>\n",
       "    <tr>\n",
       "      <th>1</th>\n",
       "      <td>Moins de 1 an</td>\n",
       "      <td>OCTO Paris</td>\n",
       "      <td>Oui</td>\n",
       "      <td>User Research</td>\n",
       "      <td>Forum</td>\n",
       "      <td>Aucun</td>\n",
       "      <td>3.75</td>\n",
       "      <td>3.75</td>\n",
       "      <td>3.75</td>\n",
       "      <td>5.00</td>\n",
       "      <td>...</td>\n",
       "      <td>6.000000</td>\n",
       "      <td>Non</td>\n",
       "      <td>NaN</td>\n",
       "      <td>NaN</td>\n",
       "      <td>4.50</td>\n",
       "      <td>3.75</td>\n",
       "      <td>3.6</td>\n",
       "      <td>4.462500</td>\n",
       "      <td>En mission chez un/des client(s)</td>\n",
       "      <td>3.0</td>\n",
       "    </tr>\n",
       "    <tr>\n",
       "      <th>2</th>\n",
       "      <td>Entre 3 et 7 ans</td>\n",
       "      <td>OCTO Paris</td>\n",
       "      <td>Oui</td>\n",
       "      <td>User Research</td>\n",
       "      <td>Forum</td>\n",
       "      <td>Aucun</td>\n",
       "      <td>5.25</td>\n",
       "      <td>2.75</td>\n",
       "      <td>4.00</td>\n",
       "      <td>5.25</td>\n",
       "      <td>...</td>\n",
       "      <td>4.333333</td>\n",
       "      <td>Non</td>\n",
       "      <td>NaN</td>\n",
       "      <td>NaN</td>\n",
       "      <td>5.25</td>\n",
       "      <td>4.50</td>\n",
       "      <td>3.0</td>\n",
       "      <td>4.270833</td>\n",
       "      <td>En mission chez un/des client(s)</td>\n",
       "      <td>4.0</td>\n",
       "    </tr>\n",
       "    <tr>\n",
       "      <th>3</th>\n",
       "      <td>Moins de 1 an</td>\n",
       "      <td>OCTO Paris</td>\n",
       "      <td>Oui</td>\n",
       "      <td>User Research</td>\n",
       "      <td>Forum</td>\n",
       "      <td>Aucun</td>\n",
       "      <td>5.00</td>\n",
       "      <td>5.00</td>\n",
       "      <td>5.00</td>\n",
       "      <td>4.00</td>\n",
       "      <td>...</td>\n",
       "      <td>3.000000</td>\n",
       "      <td>Non</td>\n",
       "      <td>NaN</td>\n",
       "      <td>NaN</td>\n",
       "      <td>5.50</td>\n",
       "      <td>2.75</td>\n",
       "      <td>3.6</td>\n",
       "      <td>3.712500</td>\n",
       "      <td>En mission chez un/des client(s)</td>\n",
       "      <td>5.0</td>\n",
       "    </tr>\n",
       "    <tr>\n",
       "      <th>4</th>\n",
       "      <td>Entre 3 et 7 ans</td>\n",
       "      <td>OCTO Paris</td>\n",
       "      <td>Oui</td>\n",
       "      <td>User Research</td>\n",
       "      <td>Forum</td>\n",
       "      <td>Aucun</td>\n",
       "      <td>2.50</td>\n",
       "      <td>2.00</td>\n",
       "      <td>2.25</td>\n",
       "      <td>3.25</td>\n",
       "      <td>...</td>\n",
       "      <td>5.000000</td>\n",
       "      <td>Non</td>\n",
       "      <td>NaN</td>\n",
       "      <td>NaN</td>\n",
       "      <td>3.50</td>\n",
       "      <td>3.50</td>\n",
       "      <td>3.2</td>\n",
       "      <td>3.800000</td>\n",
       "      <td>En mission chez un/des client(s)</td>\n",
       "      <td>2.0</td>\n",
       "    </tr>\n",
       "  </tbody>\n",
       "</table>\n",
       "<p>5 rows × 22 columns</p>\n",
       "</div>"
      ],
      "text/plain": [
       "         anciennete   campement  OFA          tribu quartier etabli  \\\n",
       "0     Plus de 7 ans  OCTO Paris  Oui  User Research    Forum  Aucun   \n",
       "1     Moins de 1 an  OCTO Paris  Oui  User Research    Forum  Aucun   \n",
       "2  Entre 3 et 7 ans  OCTO Paris  Oui  User Research    Forum  Aucun   \n",
       "3     Moins de 1 an  OCTO Paris  Oui  User Research    Forum  Aucun   \n",
       "4  Entre 3 et 7 ans  OCTO Paris  Oui  User Research    Forum  Aucun   \n",
       "\n",
       "   activites_tribu  interactions_tribu  tribu_total  activites_QA  ...  \\\n",
       "0             4.75                3.75         4.25          4.00  ...   \n",
       "1             3.75                3.75         3.75          5.00  ...   \n",
       "2             5.25                2.75         4.00          5.25  ...   \n",
       "3             5.00                5.00         5.00          4.00  ...   \n",
       "4             2.50                2.00         2.25          3.25  ...   \n",
       "\n",
       "    manages  Es-tu manager/manageuse ?  \\\n",
       "0  4.000000                        Non   \n",
       "1  6.000000                        Non   \n",
       "2  4.333333                        Non   \n",
       "3  3.000000                        Non   \n",
       "4  5.000000                        Non   \n",
       "\n",
       "   Si tu es manager/manageuse, combien de managé.e.s direct(s) as-tu ?  \\\n",
       "0                                                NaN                     \n",
       "1                                                NaN                     \n",
       "2                                                NaN                     \n",
       "3                                                NaN                     \n",
       "4                                                NaN                     \n",
       "\n",
       "  manager  egalite_pro  competences_parcours  sante_conditions_travail  \\\n",
       "0     NaN         4.25                  3.75                       4.2   \n",
       "1     NaN         4.50                  3.75                       3.6   \n",
       "2     NaN         5.25                  4.50                       3.0   \n",
       "3     NaN         5.50                  2.75                       3.6   \n",
       "4     NaN         3.50                  3.50                       3.2   \n",
       "\n",
       "   OCTO_total                       statut6mois  missions_taches  \n",
       "0    4.050000  En mission chez un/des client(s)              5.0  \n",
       "1    4.462500  En mission chez un/des client(s)              3.0  \n",
       "2    4.270833  En mission chez un/des client(s)              4.0  \n",
       "3    3.712500  En mission chez un/des client(s)              5.0  \n",
       "4    3.800000  En mission chez un/des client(s)              2.0  \n",
       "\n",
       "[5 rows x 22 columns]"
      ]
     },
     "metadata": {},
     "output_type": "display_data"
    }
   ],
   "source": [
    "data = pda.read_csv(\"forum_analyses_novembre2023_fictif.csv\")\n",
    "\n",
    "display(data.head())"
   ]
  },
  {
   "cell_type": "markdown",
   "id": "b0602761",
   "metadata": {},
   "source": [
    "# Description de l'échantillon"
   ]
  },
  {
   "cell_type": "code",
   "execution_count": 3,
   "id": "2b57232e",
   "metadata": {},
   "outputs": [
    {
     "name": "stdout",
     "output_type": "stream",
     "text": [
      "L'effectif total de l'échantillon pour le Forum est : 87\n"
     ]
    }
   ],
   "source": [
    "effectif_data = len(data)\n",
    "\n",
    "print(\"L'effectif total de l'échantillon pour le Forum est :\", effectif_data)"
   ]
  },
  {
   "cell_type": "code",
   "execution_count": 4,
   "id": "ecde7c70",
   "metadata": {},
   "outputs": [
    {
     "name": "stdout",
     "output_type": "stream",
     "text": [
      "Effectif par tribu :\n",
      " User Research    58\n",
      "B                10\n",
      "C                10\n",
      "A                 9\n",
      "Name: tribu, dtype: int64\n",
      "Effectifs en % par tribu :\n",
      " User Research    66.666667\n",
      "B                11.494253\n",
      "C                11.494253\n",
      "A                10.344828\n",
      "Name: tribu, dtype: float64\n"
     ]
    }
   ],
   "source": [
    "effectif_tribu = data['tribu'].value_counts()\n",
    "\n",
    "print(\"Effectif par tribu :\\n\", effectif_tribu)\n",
    "\n",
    "# Calculer les pourcentages par modalité\n",
    "pourcentages_tribu = (effectif_tribu / effectif_data) * 100\n",
    "\n",
    "print(\"Effectifs en % par tribu :\\n\", pourcentages_tribu)"
   ]
  },
  {
   "cell_type": "markdown",
   "id": "214ae097",
   "metadata": {},
   "source": [
    "# Moyennes de bien-être global et par thématique"
   ]
  },
  {
   "cell_type": "code",
   "execution_count": 5,
   "id": "6bcab7c1",
   "metadata": {},
   "outputs": [
    {
     "name": "stdout",
     "output_type": "stream",
     "text": [
      "Bien-être moyen global:  4.040147044264258\n",
      "Écart type global:  0.9938796954966738\n"
     ]
    }
   ],
   "source": [
    "# Selecting the columns\n",
    "columns_overall = data[['tribu_total', 'QA_total', 'OCTO_total', 'missions_taches', \n",
    "                         'manager', 'manages', 'egalite_pro', \n",
    "                         'competences_parcours', 'sante_conditions_travail']]\n",
    "\n",
    "# Calculating the mean across all selected columns\n",
    "global_mean = columns_overall.mean().mean()\n",
    "\n",
    "# Calculating the standard deviation across all selected columns\n",
    "global_sd = columns_overall.std().mean()\n",
    "\n",
    "print(\"Bien-être moyen global: \", global_mean)\n",
    "print(\"Écart type global: \", global_sd)"
   ]
  },
  {
   "cell_type": "code",
   "execution_count": 6,
   "id": "c8da8f47",
   "metadata": {
    "scrolled": true
   },
   "outputs": [
    {
     "name": "stdout",
     "output_type": "stream",
     "text": [
      "Bien-être moyen sur la tribu : 4.007183908045977\n",
      "SD tribu : 0.7748678436268183\n",
      "Bien-être moyen sur le quartier/atelier : 4.125\n",
      "SD QA : 0.802883611131312\n",
      "Bien-être moyen sur les compétences et parcours professionnel: 3.9655172413793105\n",
      "SD compétences et parcours : 0.9993983755597019\n",
      "Bien-être moyen sur le management côté managé.e.s: 3.954022988505747\n",
      "SD managées : 1.169346218310366\n",
      "Bien-être moyen sur le management côté managers : 4.125\n",
      "SD managers : 1.4836060651405207\n",
      "Bien-être moyen sur l'égalité professionnelle : 4.10632183908046\n",
      "SD égalité pro : 0.9194539771763541\n",
      "Bien-être moyen sur la santé et les conditions de travail: 3.986206896551724\n",
      "SD santé et conditions de travail : 0.8603909892429658\n",
      "Bien-être moyen sur OCTO : 4.007768199233716\n",
      "SD OCTO : 0.43271184738326846\n",
      "Bien-être moyen sur les missions au quotidien : 4.084302325581396\n",
      "SD missions : 1.5022583318987561\n"
     ]
    }
   ],
   "source": [
    "# Calcul des moyennes pour chaque colonne\n",
    "moyenne_tribu = data['tribu_total'].mean()\n",
    "moyenne_QA = data['QA_total'].mean()\n",
    "moyenne_competences = data['competences_parcours'].mean()\n",
    "moyenne_manages = data['manages'].mean()\n",
    "moyenne_manager = data['manager'].mean()\n",
    "moyenne_egalitepro = data['egalite_pro'].mean()\n",
    "moyenne_sante = data['sante_conditions_travail'].mean()\n",
    "moyenne_OCTO = data['OCTO_total'].mean()\n",
    "moyenne_missions = data['missions_taches'].mean()\n",
    "\n",
    "# Calcul des écart-types pour chaque colonne\n",
    "sd_tribu = data['tribu_total'].std()\n",
    "sd_QA = data['QA_total'].std()\n",
    "sd_competences = data['competences_parcours'].std()\n",
    "sd_manages = data['manages'].std()\n",
    "sd_manager = data['manager'].std()\n",
    "sd_egalitepro = data['egalite_pro'].std()\n",
    "sd_sante = data['sante_conditions_travail'].std()\n",
    "sd_OCTO = data['OCTO_total'].std()\n",
    "sd_missions = data['missions_taches'].std()\n",
    "\n",
    "# Affichage des résultats\n",
    "print(\"Bien-être moyen sur la tribu :\", moyenne_tribu)\n",
    "print(\"SD tribu :\", sd_tribu)\n",
    "\n",
    "print(\"Bien-être moyen sur le quartier/atelier :\", moyenne_QA)\n",
    "print(\"SD QA :\", sd_QA)\n",
    "\n",
    "print(\"Bien-être moyen sur les compétences et parcours professionnel:\", moyenne_competences)\n",
    "print(\"SD compétences et parcours :\", sd_competences)\n",
    "\n",
    "print(\"Bien-être moyen sur le management côté managé.e.s:\", moyenne_manages)\n",
    "print(\"SD managées :\", sd_manages)\n",
    "\n",
    "print(\"Bien-être moyen sur le management côté managers :\", moyenne_manager)\n",
    "print(\"SD managers :\", sd_manager)\n",
    "\n",
    "print(\"Bien-être moyen sur l'égalité professionnelle :\", moyenne_egalitepro)\n",
    "print(\"SD égalité pro :\", sd_egalitepro)\n",
    "\n",
    "print(\"Bien-être moyen sur la santé et les conditions de travail:\", moyenne_sante)\n",
    "print(\"SD santé et conditions de travail :\", sd_sante)\n",
    "\n",
    "\n",
    "print(\"Bien-être moyen sur OCTO :\", moyenne_OCTO)\n",
    "print(\"SD OCTO :\", sd_OCTO)\n",
    "\n",
    "print(\"Bien-être moyen sur les missions au quotidien :\", moyenne_missions)\n",
    "print(\"SD missions :\", sd_missions)"
   ]
  },
  {
   "cell_type": "markdown",
   "id": "a9fb62a2",
   "metadata": {},
   "source": [
    "# Niveau tribu\n",
    "## Effet de la thématique ? "
   ]
  },
  {
   "cell_type": "code",
   "execution_count": 7,
   "id": "6511c651",
   "metadata": {},
   "outputs": [
    {
     "name": "stdout",
     "output_type": "stream",
     "text": [
      "          Multiple Comparison of Means - Tukey HSD, FWER=0.05          \n",
      "=======================================================================\n",
      "     group1           group2       meandiff p-adj  lower  upper  reject\n",
      "-----------------------------------------------------------------------\n",
      "activites_tribu interactions_tribu   0.0776 0.6204 -0.231 0.3862  False\n",
      "-----------------------------------------------------------------------\n",
      "Bien-être moyen des Octos du Forum concernant leurs activités en tribu est de: 3.968390804597701\n",
      "Ecart-type de: 0.9822587561841878\n",
      "Bien-être moyen des Octos du Forum concernant leurs interactions en tribu est de : 4.045977011494253\n",
      "Ecart-type de : 1.0780100743479237\n"
     ]
    }
   ],
   "source": [
    "# Convertir les données au format long\n",
    "data_long_tribu = pda.melt(data, value_vars=['activites_tribu', 'interactions_tribu'], var_name='Thematiques', value_name='Value')\n",
    "\n",
    "# Supprimer les valeurs manquantes\n",
    "data_long_tribu = data_long_tribu.dropna()\n",
    "\n",
    "# Perform the t-test\n",
    "ttest_tribu = pairwise_tukeyhsd(endog=data_long_tribu['Value'], groups=data_long_tribu['Thematiques'], alpha=0.05)\n",
    "\n",
    "# Print the results\n",
    "print(ttest_tribu)\n",
    "\n",
    "mean_activites_tribu = data['activites_tribu'].mean()\n",
    "mean_interactions_tribu = data['interactions_tribu'].mean()\n",
    "std_activites_tribu = data['activites_tribu'].std()\n",
    "std_interactions_tribu = data['interactions_tribu'].std()\n",
    "\n",
    "print(\"Bien-être moyen des Octos du Forum concernant leurs activités en tribu est de:\", mean_activites_tribu)\n",
    "print(\"Ecart-type de:\", std_activites_tribu)\n",
    "\n",
    "print(\"Bien-être moyen des Octos du Forum concernant leurs interactions en tribu est de :\", mean_interactions_tribu)\n",
    "print(\"Ecart-type de :\", std_interactions_tribu)"
   ]
  },
  {
   "cell_type": "markdown",
   "id": "046e4ab6",
   "metadata": {},
   "source": [
    "## Effet de nos facteurs anciennete X OFA"
   ]
  },
  {
   "cell_type": "code",
   "execution_count": 8,
   "id": "6f3571a1",
   "metadata": {},
   "outputs": [
    {
     "name": "stdout",
     "output_type": "stream",
     "text": [
      "                  sum_sq    df        F    PR(>F)\n",
      "C(anciennete)   1.728374   3.0  0.94730  0.421747\n",
      "C(OFA)          0.055533   1.0  0.09131  0.763283\n",
      "Residual       49.870391  82.0      NaN       NaN\n",
      "Il n'y a pas de différence statistiquement significative des moyennes entre les niveaux d'ancienneté.\n",
      "Il n'y a pas de différence statistiquement significative des moyennes entre les niveaux de OFA.\n"
     ]
    }
   ],
   "source": [
    "# Création du modèle ANOVA\n",
    "model_tribu_factors = ols('tribu_total ~ C(anciennete) + C(OFA)', data=data).fit()\n",
    "\n",
    "# Tableau d'analyse de variance (ANOVA)\n",
    "anova_table_tribu_total = sm.stats.anova_lm(model_tribu_factors, typ=2)\n",
    "print(anova_table_tribu_total)\n",
    "\n",
    "# Interprétation de l'effet principal de l'ancienneté\n",
    "if anova_table_tribu_total['PR(>F)']['C(anciennete)'] < 0.05:\n",
    "    print(\"Il y a une différence statistiquement significative des moyennes entre les niveaux d'ancienneté.\")\n",
    "else:\n",
    "    print(\"Il n'y a pas de différence statistiquement significative des moyennes entre les niveaux d'ancienneté.\")\n",
    "\n",
    "# Interprétation de l'effet principal de OFA\n",
    "if anova_table_tribu_total['PR(>F)']['C(OFA)'] < 0.05:\n",
    "    print(\"Il y a une différence statistiquement significative des moyennes entre les niveaux de OFA.\")\n",
    "else:\n",
    "    print(\"Il n'y a pas de différence statistiquement significative des moyennes entre les niveaux de OFA.\")"
   ]
  },
  {
   "cell_type": "markdown",
   "id": "038c947a",
   "metadata": {},
   "source": [
    "### Anciennete : post-hoc et stat descriptives"
   ]
  },
  {
   "cell_type": "code",
   "execution_count": 9,
   "id": "dc955208",
   "metadata": {},
   "outputs": [
    {
     "name": "stdout",
     "output_type": "stream",
     "text": [
      "          Multiple Comparison of Means - Tukey HSD, FWER=0.05          \n",
      "=======================================================================\n",
      "     group1           group2      meandiff p-adj   lower  upper  reject\n",
      "-----------------------------------------------------------------------\n",
      "Entre 1 et 3 ans Entre 3 et 7 ans  -0.2075 0.7217 -0.7264 0.3115  False\n",
      "Entre 1 et 3 ans    Moins de 1 an  -0.0319 0.9993 -0.7146 0.6509  False\n",
      "Entre 1 et 3 ans    Plus de 7 ans   -0.386 0.4266 -1.0491 0.2771  False\n",
      "Entre 3 et 7 ans    Moins de 1 an   0.1756 0.9131  -0.526 0.8772  False\n",
      "Entre 3 et 7 ans    Plus de 7 ans  -0.1786 0.9021  -0.861 0.5039  False\n",
      "   Moins de 1 an    Plus de 7 ans  -0.3542 0.6655 -1.1682 0.4599  False\n",
      "-----------------------------------------------------------------------\n",
      "anciennete\n",
      "Entre 1 et 3 ans    4.136029\n",
      "Entre 3 et 7 ans    3.928571\n",
      "Moins de 1 an       4.104167\n",
      "Plus de 7 ans       3.750000\n",
      "Name: tribu_total, dtype: float64\n",
      "anciennete\n",
      "Entre 1 et 3 ans    0.736217\n",
      "Entre 3 et 7 ans    0.806103\n",
      "Moins de 1 an       0.885222\n",
      "Plus de 7 ans       0.699702\n",
      "Name: tribu_total, dtype: float64\n"
     ]
    }
   ],
   "source": [
    "# Perform Tukey's HSD test\n",
    "ttest_anciennete_tribu = pairwise_tukeyhsd(endog=data['tribu_total'], groups=data['anciennete'], alpha=0.05)\n",
    "\n",
    "# Print the results\n",
    "print(ttest_anciennete_tribu)\n",
    "\n",
    "# Grouping the data by the factor and calculating the mean for each group\n",
    "means_anciennete_tribu = data.groupby('anciennete')['tribu_total'].mean()\n",
    "sd_anciennete_tribu = data.groupby('anciennete')['tribu_total'].std()\n",
    "\n",
    "# Display the results\n",
    "print(means_anciennete_tribu)\n",
    "print(sd_anciennete_tribu)"
   ]
  },
  {
   "cell_type": "markdown",
   "id": "76e434d1",
   "metadata": {},
   "source": [
    "### OFA : post-hoc et stat descriptives"
   ]
  },
  {
   "cell_type": "code",
   "execution_count": 10,
   "id": "629a1e67",
   "metadata": {},
   "outputs": [
    {
     "name": "stdout",
     "output_type": "stream",
     "text": [
      "Multiple Comparison of Means - Tukey HSD, FWER=0.05\n",
      "===================================================\n",
      "group1 group2 meandiff p-adj   lower  upper  reject\n",
      "---------------------------------------------------\n",
      "   Non    Oui   0.0818 0.8046 -0.5736 0.7372  False\n",
      "---------------------------------------------------\n",
      "OFA\n",
      "Non    4.001543\n",
      "Oui    4.083333\n",
      "Name: tribu_total, dtype: float64\n",
      "OFA\n",
      "Non    0.757384\n",
      "Oui    1.068488\n",
      "Name: tribu_total, dtype: float64\n"
     ]
    }
   ],
   "source": [
    "# Perform Tukey's HSD test\n",
    "ttest_OFA_tribu = pairwise_tukeyhsd(endog=data['tribu_total'], groups=data['OFA'], alpha=0.05)\n",
    "\n",
    "# Print the results\n",
    "print(ttest_OFA_tribu)\n",
    "\n",
    "# Grouping the data by the factor and calculating the mean for each group\n",
    "means_OFA_tribu = data.groupby('OFA')['tribu_total'].mean()\n",
    "sd_OFA_tribu = data.groupby('OFA')['tribu_total'].std()\n",
    "\n",
    "# Display the results\n",
    "print(means_OFA_tribu)\n",
    "print(sd_OFA_tribu)"
   ]
  },
  {
   "cell_type": "markdown",
   "id": "ab2d70a4",
   "metadata": {},
   "source": [
    "# Niveau quartier/atelier\n",
    "\n",
    "## Effet de la thématique ? "
   ]
  },
  {
   "cell_type": "code",
   "execution_count": 11,
   "id": "8b54f5b0",
   "metadata": {},
   "outputs": [
    {
     "name": "stdout",
     "output_type": "stream",
     "text": [
      "       Multiple Comparison of Means - Tukey HSD, FWER=0.05        \n",
      "==================================================================\n",
      "   group1         group2     meandiff p-adj   lower  upper  reject\n",
      "------------------------------------------------------------------\n",
      "activites_QA interactions_QA  -0.0029 0.9851 -0.3069 0.3011  False\n",
      "------------------------------------------------------------------\n",
      "Bien-être moyen des Octos du Forum concernant leurs activités en tribu est de: 4.126436781609195\n",
      "Ecart-type de: 0.9815696696138287\n",
      "Bien-être moyen des Octos du Forum concernant leurs interactions en tribu est de : 4.123563218390805\n",
      "Ecart-type de : 1.0488598206064264\n"
     ]
    }
   ],
   "source": [
    "# Convertir les données au format long\n",
    "data_long_QA = pda.melt(data, value_vars=['activites_QA', 'interactions_QA'], var_name='Thematiques', value_name='Value')\n",
    "\n",
    "# Supprimer les valeurs manquantes\n",
    "data_long_QA = data_long_QA.dropna()\n",
    "\n",
    "# Perform the t-test\n",
    "ttest_QA = pairwise_tukeyhsd(endog=data_long_QA['Value'], groups=data_long_QA['Thematiques'], alpha=0.05)\n",
    "\n",
    "# Print the results\n",
    "print(ttest_QA)\n",
    "\n",
    "mean_activites_QA = data['activites_QA'].mean()\n",
    "mean_interactions_QA = data['interactions_QA'].mean()\n",
    "std_activites_QA = data['activites_QA'].std()\n",
    "std_interactions_QA = data['interactions_QA'].std()\n",
    "\n",
    "print(\"Bien-être moyen des Octos du Forum concernant leurs activités en tribu est de:\", mean_activites_QA)\n",
    "print(\"Ecart-type de:\", std_activites_QA)\n",
    "\n",
    "print(\"Bien-être moyen des Octos du Forum concernant leurs interactions en tribu est de :\", mean_interactions_QA)\n",
    "print(\"Ecart-type de :\", std_interactions_QA)"
   ]
  },
  {
   "cell_type": "markdown",
   "id": "cb7f6b2e",
   "metadata": {},
   "source": [
    "## Effet de nos facteurs anciennete X OFA"
   ]
  },
  {
   "cell_type": "code",
   "execution_count": 12,
   "id": "6b07ac83",
   "metadata": {},
   "outputs": [
    {
     "name": "stdout",
     "output_type": "stream",
     "text": [
      "                  sum_sq    df         F    PR(>F)\n",
      "C(anciennete)   1.314689   3.0  0.664499  0.576239\n",
      "C(OFA)          0.036633   1.0  0.055547  0.814265\n",
      "Residual       54.078058  82.0       NaN       NaN\n",
      "Il n'y a pas de différence statistiquement significative des moyennes entre les niveaux d'ancienneté.\n",
      "Il n'y a pas de différence statistiquement significative des moyennes entre les niveaux de OFA.\n"
     ]
    }
   ],
   "source": [
    "# Création du modèle ANOVA\n",
    "model_QA_factors = ols('QA_total ~ C(anciennete) + C(OFA)', data=data).fit()\n",
    "\n",
    "# Tableau d'analyse de variance (ANOVA)\n",
    "anova_table_QA_total = sm.stats.anova_lm(model_QA_factors, typ=2)\n",
    "print(anova_table_QA_total)\n",
    "\n",
    "# Interprétation de l'effet principal de l'ancienneté\n",
    "if anova_table_QA_total['PR(>F)']['C(anciennete)'] < 0.05:\n",
    "    print(\"Il y a une différence statistiquement significative des moyennes entre les niveaux d'ancienneté.\")\n",
    "else:\n",
    "    print(\"Il n'y a pas de différence statistiquement significative des moyennes entre les niveaux d'ancienneté.\")\n",
    "\n",
    "# Interprétation de l'effet principal de OFA\n",
    "if anova_table_QA_total['PR(>F)']['C(OFA)'] < 0.05:\n",
    "    print(\"Il y a une différence statistiquement significative des moyennes entre les niveaux de OFA.\")\n",
    "else:\n",
    "    print(\"Il n'y a pas de différence statistiquement significative des moyennes entre les niveaux de OFA.\")"
   ]
  },
  {
   "cell_type": "markdown",
   "id": "1fa312e0",
   "metadata": {},
   "source": [
    "### Anciennete : post-hoc et stat descriptives"
   ]
  },
  {
   "cell_type": "code",
   "execution_count": 13,
   "id": "9612cce2",
   "metadata": {},
   "outputs": [
    {
     "name": "stdout",
     "output_type": "stream",
     "text": [
      "          Multiple Comparison of Means - Tukey HSD, FWER=0.05          \n",
      "=======================================================================\n",
      "     group1           group2      meandiff p-adj   lower  upper  reject\n",
      "-----------------------------------------------------------------------\n",
      "Entre 1 et 3 ans Entre 3 et 7 ans   0.2694 0.5608 -0.2708 0.8097  False\n",
      "Entre 1 et 3 ans    Moins de 1 an   0.0135    1.0 -0.6974 0.7243  False\n",
      "Entre 1 et 3 ans    Plus de 7 ans   0.1946 0.8811 -0.4958 0.8849  False\n",
      "Entre 3 et 7 ans    Moins de 1 an   -0.256 0.7949 -0.9864 0.4745  False\n",
      "Entre 3 et 7 ans    Plus de 7 ans  -0.0749 0.9926 -0.7854 0.6356  False\n",
      "   Moins de 1 an    Plus de 7 ans   0.1811 0.9435 -0.6664 1.0286  False\n",
      "-----------------------------------------------------------------------\n",
      "anciennete\n",
      "Entre 1 et 3 ans    4.007353\n",
      "Entre 3 et 7 ans    4.276786\n",
      "Moins de 1 an       4.020833\n",
      "Plus de 7 ans       4.201923\n",
      "Name: QA_total, dtype: float64\n",
      "anciennete\n",
      "Entre 1 et 3 ans    0.870356\n",
      "Entre 3 et 7 ans    0.714724\n",
      "Moins de 1 an       0.870660\n",
      "Plus de 7 ans       0.762975\n",
      "Name: QA_total, dtype: float64\n"
     ]
    }
   ],
   "source": [
    "# Perform Tukey's HSD test\n",
    "ttest_anciennete_QA = pairwise_tukeyhsd(endog=data['QA_total'], groups=data['anciennete'], alpha=0.05)\n",
    "\n",
    "# Print the results\n",
    "print(ttest_anciennete_QA)\n",
    "\n",
    "# Grouping the data by the factor and calculating the mean for each group\n",
    "means_anciennete_QA = data.groupby('anciennete')['QA_total'].mean()\n",
    "sd_anciennete_QA = data.groupby('anciennete')['QA_total'].std()\n",
    "\n",
    "# Display the results\n",
    "print(means_anciennete_QA)\n",
    "print(sd_anciennete_QA)"
   ]
  },
  {
   "cell_type": "markdown",
   "id": "103c31aa",
   "metadata": {},
   "source": [
    "### OFA : post-hoc et stat descriptives"
   ]
  },
  {
   "cell_type": "code",
   "execution_count": 14,
   "id": "3a53db94",
   "metadata": {},
   "outputs": [
    {
     "name": "stdout",
     "output_type": "stream",
     "text": [
      "Multiple Comparison of Means - Tukey HSD, FWER=0.05\n",
      "===================================================\n",
      "group1 group2 meandiff p-adj   lower  upper  reject\n",
      "---------------------------------------------------\n",
      "   Non    Oui   0.0895 0.7939 -0.5896 0.7686  False\n",
      "---------------------------------------------------\n",
      "OFA\n",
      "Non    4.118827\n",
      "Oui    4.208333\n",
      "Name: QA_total, dtype: float64\n",
      "OFA\n",
      "Non    0.813197\n",
      "Oui    0.705632\n",
      "Name: QA_total, dtype: float64\n"
     ]
    }
   ],
   "source": [
    "# Perform Tukey's HSD test\n",
    "ttest_OFA_QA = pairwise_tukeyhsd(endog=data['QA_total'], groups=data['OFA'], alpha=0.05)\n",
    "\n",
    "# Print the results\n",
    "print(ttest_OFA_QA)\n",
    "\n",
    "# Grouping the data by the factor and calculating the mean for each group\n",
    "means_OFA_QA = data.groupby('OFA')['QA_total'].mean()\n",
    "sd_OFA_QA = data.groupby('OFA')['QA_total'].std()\n",
    "\n",
    "# Display the results\n",
    "print(means_OFA_QA)\n",
    "print(sd_OFA_QA)"
   ]
  },
  {
   "cell_type": "markdown",
   "id": "b9748be1",
   "metadata": {},
   "source": [
    "# Niveau OCTO Technology\n",
    "\n",
    "## Effet de la thématique ? "
   ]
  },
  {
   "cell_type": "code",
   "execution_count": 15,
   "id": "c1ecd611",
   "metadata": {},
   "outputs": [
    {
     "name": "stdout",
     "output_type": "stream",
     "text": [
      "                    sum_sq     df         F    PR(>F)\n",
      "C(Thematiques)    1.618292    4.0  0.380243  0.822745\n",
      "Residual        390.482893  367.0       NaN       NaN\n",
      "Il n'existe pas d'effet significatif des thématiques (p > 0.05).\n"
     ]
    }
   ],
   "source": [
    "# Convertir les données au format long\n",
    "data_long_OCTO = pda.melt(data, value_vars=['sante_conditions_travail', 'manager', 'manages', 'egalite_pro', 'competences_parcours'], var_name='Thematiques', value_name='Value')\n",
    "\n",
    "# Supprimer les valeurs manquantes\n",
    "data_long_OCTO = data_long_OCTO.dropna()\n",
    "\n",
    "# Créer le modèle OLS pour l'ANOVA\n",
    "model_OCTO_theme = ols('Value ~ C(Thematiques)', data=data_long_OCTO).fit()\n",
    "\n",
    "# Effectuer l'ANOVA\n",
    "anova_OCTO = sm.stats.anova_lm(model_OCTO_theme, typ=2)\n",
    "\n",
    "# Afficher les résultats\n",
    "print(anova_OCTO)\n",
    "\n",
    "alpha = 0.05\n",
    "if (anova_OCTO['PR(>F)'] < alpha).any():\n",
    "    print(\"Il existe un effet significatif des thématiques (p < 0.05).\")\n",
    "else:\n",
    "    print(\"Il n'existe pas d'effet significatif des thématiques (p > 0.05).\")"
   ]
  },
  {
   "cell_type": "code",
   "execution_count": 16,
   "id": "341e422c",
   "metadata": {},
   "outputs": [
    {
     "name": "stdout",
     "output_type": "stream",
     "text": [
      "                Multiple Comparison of Means - Tukey HSD, FWER=0.05                \n",
      "===================================================================================\n",
      "       group1                 group2          meandiff p-adj   lower  upper  reject\n",
      "-----------------------------------------------------------------------------------\n",
      "competences_parcours              egalite_pro   0.1408 0.8967 -0.2879 0.5695  False\n",
      "competences_parcours                  manager   0.1595 0.9626 -0.4925 0.8115  False\n",
      "competences_parcours                  manages  -0.0115    1.0 -0.4402 0.4172  False\n",
      "competences_parcours sante_conditions_travail   0.0207 0.9999 -0.4081 0.4494  False\n",
      "         egalite_pro                  manager   0.0187    1.0 -0.6333 0.6707  False\n",
      "         egalite_pro                  manages  -0.1523 0.8669  -0.581 0.2764  False\n",
      "         egalite_pro sante_conditions_travail  -0.1201 0.9396 -0.5489 0.3086  False\n",
      "             manager                  manages   -0.171 0.9521  -0.823  0.481  False\n",
      "             manager sante_conditions_travail  -0.1388 0.9775 -0.7908 0.5132  False\n",
      "             manages sante_conditions_travail   0.0322 0.9996 -0.3966 0.4609  False\n",
      "-----------------------------------------------------------------------------------\n"
     ]
    }
   ],
   "source": [
    "# Perform Tukey's test for post-hoc comparisons\n",
    "tukey_OCTO = pairwise_tukeyhsd(endog=data_long_OCTO['Value'], groups=data_long_OCTO['Thematiques'], alpha=0.05)\n",
    "\n",
    "# Print Tukey's test results\n",
    "print(tukey_OCTO)"
   ]
  },
  {
   "cell_type": "code",
   "execution_count": 17,
   "id": "20dd5389",
   "metadata": {},
   "outputs": [
    {
     "name": "stdout",
     "output_type": "stream",
     "text": [
      "Moyenne Santé et conditions de travail: 3.986206896551724\n",
      "SD:  0.8603909892429658\n",
      "Moyenne competences et parcours: 3.9655172413793105\n",
      "SD:  0.9993983755597019\n",
      "Moyenne égalité professionnelle: 4.10632183908046\n",
      "SD:  0.9194539771763541\n",
      "Moyenne des managé.e.s: 3.954022988505747\n",
      "SD:  1.169346218310366\n",
      "Moyenne des managers: 4.125\n",
      "SD:  1.4836060651405207\n",
      "Effectif managers: 24\n"
     ]
    }
   ],
   "source": [
    "moyenne_sante_conditions = data['sante_conditions_travail'].mean()\n",
    "sd_sante_conditions = data['sante_conditions_travail'].std()\n",
    "print(\"Moyenne Santé et conditions de travail:\", moyenne_sante_conditions)\n",
    "print(\"SD: \", sd_sante_conditions)\n",
    "\n",
    "moyenne_competences_parcours = data['competences_parcours'].mean()\n",
    "sd_competences_parcours = data['competences_parcours'].std()\n",
    "print(\"Moyenne competences et parcours:\", moyenne_competences_parcours)\n",
    "print(\"SD: \", sd_competences_parcours)\n",
    "\n",
    "moyenne_egalite_pro = data['egalite_pro'].mean()\n",
    "sd_egalite_pro = data['egalite_pro'].std()\n",
    "print(\"Moyenne égalité professionnelle:\", moyenne_egalite_pro)\n",
    "print(\"SD: \", sd_egalite_pro)\n",
    "\n",
    "moyenne_manages = data['manages'].mean()\n",
    "sd_manages = data['manages'].std()\n",
    "print(\"Moyenne des managé.e.s:\", moyenne_manages)\n",
    "print(\"SD: \", sd_manages)\n",
    "\n",
    "effectif_manager = data['manager'].count()\n",
    "moyenne_manager = data['manager'].mean()\n",
    "sd_manager = data['manager'].std()\n",
    "print(\"Moyenne des managers:\", moyenne_manager)\n",
    "print(\"SD: \", sd_manager)\n",
    "print(\"Effectif managers:\", effectif_manager)"
   ]
  },
  {
   "cell_type": "markdown",
   "id": "8ee7c5f9",
   "metadata": {},
   "source": [
    "## Effet de nos facteurs anciennete X OFA"
   ]
  },
  {
   "cell_type": "code",
   "execution_count": 18,
   "id": "e1610d0d",
   "metadata": {},
   "outputs": [
    {
     "name": "stdout",
     "output_type": "stream",
     "text": [
      "                  sum_sq    df         F    PR(>F)\n",
      "C(anciennete)   0.789255   3.0  1.411099  0.245452\n",
      "C(OFA)          0.020074   1.0  0.107668  0.743652\n",
      "Residual       15.288067  82.0       NaN       NaN\n",
      "Il n'y a pas de différence statistiquement significative des moyennes entre les niveaux d'ancienneté.\n",
      "Il n'y a pas de différence statistiquement significative des moyennes entre les niveaux de OFA.\n"
     ]
    }
   ],
   "source": [
    "# Création du modèle ANOVA\n",
    "model_OCTO_factors = ols('OCTO_total ~ C(anciennete) + C(OFA)', data=data).fit()\n",
    "\n",
    "# Tableau d'analyse de variance (ANOVA)\n",
    "anova_table_OCTO_total = sm.stats.anova_lm(model_OCTO_factors, typ=2)\n",
    "print(anova_table_OCTO_total)\n",
    "\n",
    "# Interprétation de l'effet principal de l'ancienneté\n",
    "if anova_table_OCTO_total['PR(>F)']['C(anciennete)'] < 0.05:\n",
    "    print(\"Il y a une différence statistiquement significative des moyennes entre les niveaux d'ancienneté.\")\n",
    "else:\n",
    "    print(\"Il n'y a pas de différence statistiquement significative des moyennes entre les niveaux d'ancienneté.\")\n",
    "\n",
    "# Interprétation de l'effet principal de OFA\n",
    "if anova_table_OCTO_total['PR(>F)']['C(OFA)'] < 0.05:\n",
    "    print(\"Il y a une différence statistiquement significative des moyennes entre les niveaux de OFA.\")\n",
    "else:\n",
    "    print(\"Il n'y a pas de différence statistiquement significative des moyennes entre les niveaux de OFA.\")"
   ]
  },
  {
   "cell_type": "markdown",
   "id": "3dbffbc0",
   "metadata": {},
   "source": [
    "### Anciennete : post-hoc et stat descriptives"
   ]
  },
  {
   "cell_type": "code",
   "execution_count": 19,
   "id": "c2c4ac90",
   "metadata": {},
   "outputs": [
    {
     "name": "stdout",
     "output_type": "stream",
     "text": [
      "          Multiple Comparison of Means - Tukey HSD, FWER=0.05          \n",
      "=======================================================================\n",
      "     group1           group2      meandiff p-adj   lower  upper  reject\n",
      "-----------------------------------------------------------------------\n",
      "Entre 1 et 3 ans Entre 3 et 7 ans   0.0658 0.9316 -0.2215 0.3532  False\n",
      "Entre 1 et 3 ans    Moins de 1 an  -0.0228 0.9986 -0.4009 0.3553  False\n",
      "Entre 1 et 3 ans    Plus de 7 ans  -0.2304 0.3591 -0.5976 0.1367  False\n",
      "Entre 3 et 7 ans    Moins de 1 an  -0.0886 0.9325 -0.4771 0.2999  False\n",
      "Entre 3 et 7 ans    Plus de 7 ans  -0.2963 0.1765 -0.6741 0.0816  False\n",
      "   Moins de 1 an    Plus de 7 ans  -0.2077 0.6236 -0.6584 0.2431  False\n",
      "-----------------------------------------------------------------------\n",
      "anciennete\n",
      "Entre 1 et 3 ans    4.024167\n",
      "Entre 3 et 7 ans    4.089970\n",
      "Moins de 1 an       4.001389\n",
      "Plus de 7 ans       3.793718\n",
      "Name: OCTO_total, dtype: float64\n",
      "anciennete\n",
      "Entre 1 et 3 ans    0.437476\n",
      "Entre 3 et 7 ans    0.404562\n",
      "Moins de 1 an       0.532001\n",
      "Plus de 7 ans       0.348811\n",
      "Name: OCTO_total, dtype: float64\n"
     ]
    }
   ],
   "source": [
    "# Perform Tukey's HSD test\n",
    "ttest_anciennete_OCTO = pairwise_tukeyhsd(endog=data['OCTO_total'], groups=data['anciennete'], alpha=0.05)\n",
    "\n",
    "# Print the results\n",
    "print(ttest_anciennete_OCTO)\n",
    "\n",
    "# Grouping the data by the factor and calculating the mean for each group\n",
    "means_anciennete = data.groupby('anciennete')['OCTO_total'].mean()\n",
    "sd_anciennete = data.groupby('anciennete')['OCTO_total'].std()\n",
    "\n",
    "# Display the results\n",
    "print(means_anciennete)\n",
    "print(sd_anciennete)"
   ]
  },
  {
   "cell_type": "markdown",
   "id": "8437ce9f",
   "metadata": {},
   "source": [
    "### OFA : post hoc et stat descriptives"
   ]
  },
  {
   "cell_type": "code",
   "execution_count": 20,
   "id": "ed2c3377",
   "metadata": {},
   "outputs": [
    {
     "name": "stdout",
     "output_type": "stream",
     "text": [
      "Multiple Comparison of Means - Tukey HSD, FWER=0.05\n",
      "===================================================\n",
      "group1 group2 meandiff p-adj   lower  upper  reject\n",
      "---------------------------------------------------\n",
      "   Non    Oui  -0.0673 0.7156 -0.4331 0.2986  False\n",
      "---------------------------------------------------\n",
      "OFA\n",
      "Non    4.012407\n",
      "Oui    3.945139\n",
      "Name: OCTO_total, dtype: float64\n",
      "OFA\n",
      "Non    0.437212\n",
      "Oui    0.396227\n",
      "Name: OCTO_total, dtype: float64\n"
     ]
    }
   ],
   "source": [
    "# Perform Tukey's HSD test\n",
    "ttest_OFA_OCTO = pairwise_tukeyhsd(endog=data['OCTO_total'], groups=data['OFA'], alpha=0.05)\n",
    "\n",
    "# Print the results\n",
    "print(ttest_OFA_OCTO)\n",
    "\n",
    "# Grouping the data by the factor and calculating the mean for each group\n",
    "means_OFA_OCTO = data.groupby('OFA')['OCTO_total'].mean()\n",
    "sd_OFA_OCTO = data.groupby('OFA')['OCTO_total'].std()\n",
    "\n",
    "# Display the results\n",
    "print(means_OFA_OCTO)\n",
    "print(sd_OFA_OCTO)"
   ]
  },
  {
   "cell_type": "markdown",
   "id": "6e4e160f",
   "metadata": {},
   "source": [
    "# Focus sur l'égalité professionnelle"
   ]
  },
  {
   "cell_type": "code",
   "execution_count": 21,
   "id": "31e88be1",
   "metadata": {},
   "outputs": [
    {
     "name": "stdout",
     "output_type": "stream",
     "text": [
      "                  sum_sq    df         F    PR(>F)\n",
      "C(anciennete)   0.229504   3.0  0.086821  0.967076\n",
      "C(OFA)          0.275200   1.0  0.312324  0.577781\n",
      "Residual       72.253135  82.0       NaN       NaN\n",
      "Il n'y a pas de différence statistiquement significative des moyennes entre les niveaux d'ancienneté.\n",
      "Il n'y a pas de différence statistiquement significative des moyennes entre les niveaux de OFA.\n"
     ]
    }
   ],
   "source": [
    "# Création du modèle ANOVA\n",
    "model_egalitepro_factors = ols('egalite_pro ~ C(anciennete) + C(OFA)', data=data).fit()\n",
    "\n",
    "# Tableau d'analyse de variance (ANOVA)\n",
    "anova_table_egalitepro = sm.stats.anova_lm(model_egalitepro_factors, typ=2)\n",
    "print(anova_table_egalitepro)\n",
    "\n",
    "# Interprétation de l'effet principal de l'ancienneté\n",
    "if anova_table_egalitepro['PR(>F)']['C(anciennete)'] < 0.05:\n",
    "    print(\"Il y a une différence statistiquement significative des moyennes entre les niveaux d'ancienneté.\")\n",
    "else:\n",
    "    print(\"Il n'y a pas de différence statistiquement significative des moyennes entre les niveaux d'ancienneté.\")\n",
    "\n",
    "# Interprétation de l'effet principal de OFA\n",
    "if anova_table_egalitepro['PR(>F)']['C(OFA)'] < 0.05:\n",
    "    print(\"Il y a une différence statistiquement significative des moyennes entre les niveaux de OFA.\")\n",
    "else:\n",
    "    print(\"Il n'y a pas de différence statistiquement significative des moyennes entre les niveaux de OFA.\")"
   ]
  },
  {
   "cell_type": "markdown",
   "id": "752d74f5",
   "metadata": {},
   "source": [
    "### Anciennete : post-hoc et stat descriptives"
   ]
  },
  {
   "cell_type": "code",
   "execution_count": 22,
   "id": "b46161c4",
   "metadata": {},
   "outputs": [
    {
     "name": "stdout",
     "output_type": "stream",
     "text": [
      "          Multiple Comparison of Means - Tukey HSD, FWER=0.05          \n",
      "=======================================================================\n",
      "     group1           group2      meandiff p-adj   lower  upper  reject\n",
      "-----------------------------------------------------------------------\n",
      "Entre 1 et 3 ans Entre 3 et 7 ans  -0.0903 0.9814 -0.7158 0.5351  False\n",
      "Entre 1 et 3 ans    Moins de 1 an  -0.0784 0.9945 -0.9014 0.7445  False\n",
      "Entre 1 et 3 ans    Plus de 7 ans  -0.1041 0.9862 -0.9033 0.6951  False\n",
      "Entre 3 et 7 ans    Moins de 1 an   0.0119    1.0 -0.8337 0.8575  False\n",
      "Entre 3 et 7 ans    Plus de 7 ans  -0.0137    1.0 -0.8363 0.8088  False\n",
      "   Moins de 1 an    Plus de 7 ans  -0.0256 0.9999 -1.0068 0.9555  False\n",
      "-----------------------------------------------------------------------\n",
      "anciennete\n",
      "Entre 1 et 3 ans    4.161765\n",
      "Entre 3 et 7 ans    4.071429\n",
      "Moins de 1 an       4.083333\n",
      "Plus de 7 ans       4.057692\n",
      "Name: egalite_pro, dtype: float64\n",
      "anciennete\n",
      "Entre 1 et 3 ans    1.064016\n",
      "Entre 3 et 7 ans    0.813250\n",
      "Moins de 1 an       0.931356\n",
      "Plus de 7 ans       0.804634\n",
      "Name: egalite_pro, dtype: float64\n"
     ]
    }
   ],
   "source": [
    "# Perform Tukey's HSD test\n",
    "ttest_anciennete_egalitepro = pairwise_tukeyhsd(endog=data['egalite_pro'], groups=data['anciennete'], alpha=0.05)\n",
    "\n",
    "# Print the results\n",
    "print(ttest_anciennete_egalitepro)\n",
    "\n",
    "# Grouping the data by the factor and calculating the mean for each group\n",
    "means_anciennete_egalitepro = data.groupby('anciennete')['egalite_pro'].mean()\n",
    "sd_anciennete_egalitepro = data.groupby('anciennete')['egalite_pro'].std()\n",
    "\n",
    "# Display the results\n",
    "print(means_anciennete_egalitepro)\n",
    "print(sd_anciennete_egalitepro)"
   ]
  },
  {
   "cell_type": "markdown",
   "id": "e7ece8ce",
   "metadata": {},
   "source": [
    "### OFA : post hoc et stat descriptives"
   ]
  },
  {
   "cell_type": "code",
   "execution_count": 23,
   "id": "334c66e7",
   "metadata": {},
   "outputs": [
    {
     "name": "stdout",
     "output_type": "stream",
     "text": [
      "Multiple Comparison of Means - Tukey HSD, FWER=0.05\n",
      "===================================================\n",
      "group1 group2 meandiff p-adj   lower  upper  reject\n",
      "---------------------------------------------------\n",
      "   Non    Oui   0.1991 0.6117 -0.5778 0.9759  False\n",
      "---------------------------------------------------\n",
      "OFA\n",
      "Non    4.092593\n",
      "Oui    4.291667\n",
      "Name: egalite_pro, dtype: float64\n",
      "OFA\n",
      "Non    0.915530\n",
      "Oui    1.041833\n",
      "Name: egalite_pro, dtype: float64\n"
     ]
    }
   ],
   "source": [
    "# Perform Tukey's HSD test\n",
    "ttest_OFA_egalitepro = pairwise_tukeyhsd(endog=data['egalite_pro'], groups=data['OFA'], alpha=0.05)\n",
    "\n",
    "# Print the results\n",
    "print(ttest_OFA_egalitepro)\n",
    "\n",
    "# Grouping the data by the factor and calculating the mean for each group\n",
    "means_OFA_egalitepro = data.groupby('OFA')['egalite_pro'].mean()\n",
    "sd_OFA_egalitepro = data.groupby('OFA')['egalite_pro'].std()\n",
    "\n",
    "# Display the results\n",
    "print(means_OFA_egalitepro)\n",
    "print(sd_OFA_egalitepro)"
   ]
  },
  {
   "cell_type": "markdown",
   "id": "3f5c0fba",
   "metadata": {},
   "source": [
    "# Focus sur les compétences et parcours professionnel"
   ]
  },
  {
   "cell_type": "code",
   "execution_count": 24,
   "id": "dc81f0c7",
   "metadata": {},
   "outputs": [
    {
     "name": "stdout",
     "output_type": "stream",
     "text": [
      "                  sum_sq    df         F    PR(>F)\n",
      "C(anciennete)   5.508354   3.0  1.906046  0.135040\n",
      "C(OFA)          0.746607   1.0  0.775042  0.381235\n",
      "Residual       78.991646  82.0       NaN       NaN\n",
      "Il n'y a pas de différence statistiquement significative des moyennes entre les niveaux d'ancienneté.\n",
      "Il n'y a pas de différence statistiquement significative des moyennes entre les niveaux de OFA.\n"
     ]
    }
   ],
   "source": [
    "# Création du modèle ANOVA\n",
    "model_competences_factors = ols('competences_parcours ~ C(anciennete) + C(OFA)', data=data).fit()\n",
    "\n",
    "# Tableau d'analyse de variance (ANOVA)\n",
    "anova_table_competences = sm.stats.anova_lm(model_competences_factors, typ=2)\n",
    "print(anova_table_competences)\n",
    "\n",
    "# Interprétation de l'effet principal de l'ancienneté\n",
    "if anova_table_competences['PR(>F)']['C(anciennete)'] < 0.05:\n",
    "    print(\"Il y a une différence statistiquement significative des moyennes entre les niveaux d'ancienneté.\")\n",
    "else:\n",
    "    print(\"Il n'y a pas de différence statistiquement significative des moyennes entre les niveaux d'ancienneté.\")\n",
    "\n",
    "# Interprétation de l'effet principal de OFA\n",
    "if anova_table_competences['PR(>F)']['C(OFA)'] < 0.05:\n",
    "    print(\"Il y a une différence statistiquement significative des moyennes entre les niveaux de OFA.\")\n",
    "else:\n",
    "    print(\"Il n'y a pas de différence statistiquement significative des moyennes entre les niveaux de OFA.\")"
   ]
  },
  {
   "cell_type": "markdown",
   "id": "8fc645a6",
   "metadata": {},
   "source": [
    "### Anciennete : post-hoc et stat descriptives"
   ]
  },
  {
   "cell_type": "code",
   "execution_count": 25,
   "id": "92d3ceec",
   "metadata": {},
   "outputs": [
    {
     "name": "stdout",
     "output_type": "stream",
     "text": [
      "          Multiple Comparison of Means - Tukey HSD, FWER=0.05          \n",
      "=======================================================================\n",
      "     group1           group2      meandiff p-adj   lower  upper  reject\n",
      "-----------------------------------------------------------------------\n",
      "Entre 1 et 3 ans Entre 3 et 7 ans  -0.0798 0.9887 -0.7356  0.576  False\n",
      "Entre 1 et 3 ans    Moins de 1 an  -0.6066 0.2608 -1.4695 0.2563  False\n",
      "Entre 1 et 3 ans    Plus de 7 ans  -0.6307 0.2065 -1.4686 0.2073  False\n",
      "Entre 3 et 7 ans    Moins de 1 an  -0.5268 0.4083 -1.4135 0.3599  False\n",
      "Entre 3 et 7 ans    Plus de 7 ans  -0.5508 0.3436 -1.4133 0.3116  False\n",
      "   Moins de 1 an    Plus de 7 ans   -0.024 0.9999 -1.0528 1.0047  False\n",
      "-----------------------------------------------------------------------\n",
      "anciennete\n",
      "Entre 1 et 3 ans    4.169118\n",
      "Entre 3 et 7 ans    4.089286\n",
      "Moins de 1 an       3.562500\n",
      "Plus de 7 ans       3.538462\n",
      "Name: competences_parcours, dtype: float64\n",
      "anciennete\n",
      "Entre 1 et 3 ans    0.936872\n",
      "Entre 3 et 7 ans    1.054563\n",
      "Moins de 1 an       0.923955\n",
      "Plus de 7 ans       0.972787\n",
      "Name: competences_parcours, dtype: float64\n"
     ]
    }
   ],
   "source": [
    "# Perform Tukey's HSD test\n",
    "ttest_anciennete_parcourspro = pairwise_tukeyhsd(endog=data['competences_parcours'], groups=data['anciennete'], alpha=0.05)\n",
    "\n",
    "# Print the results\n",
    "print(ttest_anciennete_parcourspro)\n",
    "\n",
    "# Grouping the data by the factor and calculating the mean for each group\n",
    "means_anciennete_competencepro = data.groupby('anciennete')['competences_parcours'].mean()\n",
    "sd_anciennete_competencepro = data.groupby('anciennete')['competences_parcours'].std()\n",
    "\n",
    "# Display the results\n",
    "print(means_anciennete_competencepro)\n",
    "print(sd_anciennete_competencepro)"
   ]
  },
  {
   "cell_type": "markdown",
   "id": "e1321abf",
   "metadata": {},
   "source": [
    "### OFA : post hoc et stat descriptives"
   ]
  },
  {
   "cell_type": "code",
   "execution_count": 26,
   "id": "d8ce708d",
   "metadata": {},
   "outputs": [
    {
     "name": "stdout",
     "output_type": "stream",
     "text": [
      "Multiple Comparison of Means - Tukey HSD, FWER=0.05\n",
      "===================================================\n",
      "group1 group2 meandiff p-adj   lower  upper  reject\n",
      "---------------------------------------------------\n",
      "   Non    Oui     -0.5 0.2392 -1.3388 0.3388  False\n",
      "---------------------------------------------------\n",
      "OFA\n",
      "Non    4.0\n",
      "Oui    3.5\n",
      "Name: competences_parcours, dtype: float64\n",
      "OFA\n",
      "Non    1.013965\n",
      "Oui    0.670820\n",
      "Name: competences_parcours, dtype: float64\n"
     ]
    }
   ],
   "source": [
    "# Perform Tukey's HSD test\n",
    "ttest_OFA_parcourspro = pairwise_tukeyhsd(endog=data['competences_parcours'], groups=data['OFA'], alpha=0.05)\n",
    "\n",
    "# Print the results\n",
    "print(ttest_OFA_parcourspro)\n",
    "\n",
    "# Grouping the data by the factor and calculating the mean for each group\n",
    "means_OFA_competencepro = data.groupby('OFA')['competences_parcours'].mean()\n",
    "sd_OFA_competencepro = data.groupby('OFA')['competences_parcours'].std()\n",
    "\n",
    "# Display the results\n",
    "print(means_OFA_competencepro)\n",
    "print(sd_OFA_competencepro)"
   ]
  },
  {
   "cell_type": "markdown",
   "id": "dafccda8",
   "metadata": {},
   "source": [
    "# Focus sur la santé et les conditions de travail"
   ]
  },
  {
   "cell_type": "code",
   "execution_count": 27,
   "id": "51a2e7eb",
   "metadata": {},
   "outputs": [
    {
     "name": "stdout",
     "output_type": "stream",
     "text": [
      "                  sum_sq    df         F    PR(>F)\n",
      "C(anciennete)   3.312594   3.0  1.550920  0.207622\n",
      "C(OFA)          2.026338   1.0  2.846127  0.095395\n",
      "Residual       58.380986  82.0       NaN       NaN\n",
      "Il n'y a pas de différence statistiquement significative des moyennes entre les niveaux d'ancienneté.\n",
      "Il n'y a pas de différence statistiquement significative des moyennes entre les niveaux de OFA.\n"
     ]
    }
   ],
   "source": [
    "# Création du modèle ANOVA\n",
    "model_sante_factors = ols('sante_conditions_travail ~ C(anciennete) + C(OFA)', data=data).fit()\n",
    "\n",
    "# Tableau d'analyse de variance (ANOVA)\n",
    "anova_table_sante = sm.stats.anova_lm(model_sante_factors, typ=2)\n",
    "print(anova_table_sante)\n",
    "\n",
    "# Interprétation de l'effet principal de l'ancienneté\n",
    "if anova_table_sante['PR(>F)']['C(anciennete)'] < 0.05:\n",
    "    print(\"Il y a une différence statistiquement significative des moyennes entre les niveaux d'ancienneté.\")\n",
    "else:\n",
    "    print(\"Il n'y a pas de différence statistiquement significative des moyennes entre les niveaux d'ancienneté.\")\n",
    "\n",
    "# Interprétation de l'effet principal de OFA\n",
    "if anova_table_sante['PR(>F)']['C(OFA)'] < 0.05:\n",
    "    print(\"Il y a une différence statistiquement significative des moyennes entre les niveaux de OFA.\")\n",
    "else:\n",
    "    print(\"Il n'y a pas de différence statistiquement significative des moyennes entre les niveaux de OFA.\")"
   ]
  },
  {
   "cell_type": "markdown",
   "id": "498d55b9",
   "metadata": {},
   "source": [
    "### Anciennete : post-hoc et stat descriptives"
   ]
  },
  {
   "cell_type": "code",
   "execution_count": 28,
   "id": "c5f17bf0",
   "metadata": {},
   "outputs": [
    {
     "name": "stdout",
     "output_type": "stream",
     "text": [
      "          Multiple Comparison of Means - Tukey HSD, FWER=0.05          \n",
      "=======================================================================\n",
      "     group1           group2      meandiff p-adj   lower  upper  reject\n",
      "-----------------------------------------------------------------------\n",
      "Entre 1 et 3 ans Entre 3 et 7 ans   0.1109 0.9566 -0.4599 0.6817  False\n",
      "Entre 1 et 3 ans    Moins de 1 an   0.0324 0.9995 -0.7187 0.7834  False\n",
      "Entre 1 et 3 ans    Plus de 7 ans  -0.4792 0.3187 -1.2086 0.2502  False\n",
      "Entre 3 et 7 ans    Moins de 1 an  -0.0786 0.9933 -0.8503 0.6932  False\n",
      "Entre 3 et 7 ans    Plus de 7 ans  -0.5901 0.1746 -1.3408 0.1606  False\n",
      "   Moins de 1 an    Plus de 7 ans  -0.5115 0.4434 -1.4069 0.3839  False\n",
      "-----------------------------------------------------------------------\n",
      "anciennete\n",
      "Entre 1 et 3 ans    4.017647\n",
      "Entre 3 et 7 ans    4.128571\n",
      "Moins de 1 an       4.050000\n",
      "Plus de 7 ans       3.538462\n",
      "Name: sante_conditions_travail, dtype: float64\n",
      "anciennete\n",
      "Entre 1 et 3 ans    0.900327\n",
      "Entre 3 et 7 ans    0.740799\n",
      "Moins de 1 an       0.853336\n",
      "Plus de 7 ans       0.950034\n",
      "Name: sante_conditions_travail, dtype: float64\n"
     ]
    }
   ],
   "source": [
    "# Perform Tukey's HSD test\n",
    "ttest_anciennete_sante_conditions = pairwise_tukeyhsd(endog=data['sante_conditions_travail'], groups=data['anciennete'], alpha=0.05)\n",
    "\n",
    "# Print the results\n",
    "print(ttest_anciennete_sante_conditions)\n",
    "\n",
    "# Grouping the data by the factor and calculating the mean for each group\n",
    "means_anciennete_sante_conditions = data.groupby('anciennete')['sante_conditions_travail'].mean()\n",
    "sd_anciennete_sante_conditions = data.groupby('anciennete')['sante_conditions_travail'].std()\n",
    "\n",
    "# Display the results\n",
    "print(means_anciennete_sante_conditions)\n",
    "print(sd_anciennete_sante_conditions)"
   ]
  },
  {
   "cell_type": "markdown",
   "id": "0b5e950c",
   "metadata": {},
   "source": [
    "### OFA : post hoc et stat descriptives"
   ]
  },
  {
   "cell_type": "code",
   "execution_count": 29,
   "id": "3401f263",
   "metadata": {},
   "outputs": [
    {
     "name": "stdout",
     "output_type": "stream",
     "text": [
      "Multiple Comparison of Means - Tukey HSD, FWER=0.05\n",
      "===================================================\n",
      "group1 group2 meandiff p-adj   lower  upper  reject\n",
      "---------------------------------------------------\n",
      "   Non    Oui  -0.5938 0.1032 -1.3105 0.1229  False\n",
      "---------------------------------------------------\n",
      "OFA\n",
      "Non    4.027160\n",
      "Oui    3.433333\n",
      "Name: sante_conditions_travail, dtype: float64\n",
      "OFA\n",
      "Non    0.870490\n",
      "Oui    0.463321\n",
      "Name: sante_conditions_travail, dtype: float64\n"
     ]
    }
   ],
   "source": [
    "# Perform Tukey's HSD test\n",
    "ttest_OFA_sante_conditions = pairwise_tukeyhsd(endog=data['sante_conditions_travail'], groups=data['OFA'], alpha=0.05)\n",
    "\n",
    "# Print the results\n",
    "print(ttest_OFA_sante_conditions)\n",
    "\n",
    "# Grouping the data by the factor and calculating the mean for each group\n",
    "means_OFA_sante_conditions = data.groupby('OFA')['sante_conditions_travail'].mean()\n",
    "sd_OFA_sante_conditions = data.groupby('OFA')['sante_conditions_travail'].std()\n",
    "\n",
    "# Display the results\n",
    "print(means_OFA_sante_conditions)\n",
    "print(sd_OFA_sante_conditions)"
   ]
  },
  {
   "cell_type": "markdown",
   "id": "fb35086d",
   "metadata": {},
   "source": [
    "# Focus sur le management côté managés"
   ]
  },
  {
   "cell_type": "code",
   "execution_count": 30,
   "id": "8bb95182",
   "metadata": {},
   "outputs": [
    {
     "name": "stdout",
     "output_type": "stream",
     "text": [
      "                   sum_sq    df         F    PR(>F)\n",
      "C(anciennete)    0.126416   3.0  0.030011  0.992949\n",
      "C(OFA)           2.095943   1.0  1.492738  0.225293\n",
      "Residual       115.135587  82.0       NaN       NaN\n",
      "Il n'y a pas de différence statistiquement significative des moyennes entre les niveaux d'ancienneté.\n",
      "Il n'y a pas de différence statistiquement significative des moyennes entre les niveaux de OFA.\n"
     ]
    }
   ],
   "source": [
    "# Création du modèle ANOVA\n",
    "model_manages_factors = ols('manages ~ C(anciennete) + C(OFA)', data=data).fit()\n",
    "\n",
    "# Tableau d'analyse de variance (ANOVA)\n",
    "anova_table_manages = sm.stats.anova_lm(model_manages_factors, typ=2)\n",
    "print(anova_table_manages)\n",
    "\n",
    "# Interprétation de l'effet principal de l'ancienneté\n",
    "if anova_table_manages['PR(>F)']['C(anciennete)'] < 0.05:\n",
    "    print(\"Il y a une différence statistiquement significative des moyennes entre les niveaux d'ancienneté.\")\n",
    "else:\n",
    "    print(\"Il n'y a pas de différence statistiquement significative des moyennes entre les niveaux d'ancienneté.\")\n",
    "\n",
    "# Interprétation de l'effet principal de OFA\n",
    "if anova_table_manages['PR(>F)']['C(OFA)'] < 0.05:\n",
    "    print(\"Il y a une différence statistiquement significative des moyennes entre les niveaux de OFA.\")\n",
    "else:\n",
    "    print(\"Il n'y a pas de différence statistiquement significative des moyennes entre les niveaux de OFA.\")"
   ]
  },
  {
   "cell_type": "markdown",
   "id": "733d720b",
   "metadata": {},
   "source": [
    "### Anciennete : post-hoc et stat descriptives"
   ]
  },
  {
   "cell_type": "code",
   "execution_count": 31,
   "id": "29cbfa82",
   "metadata": {},
   "outputs": [
    {
     "name": "stdout",
     "output_type": "stream",
     "text": [
      "          Multiple Comparison of Means - Tukey HSD, FWER=0.05          \n",
      "=======================================================================\n",
      "     group1           group2      meandiff p-adj   lower  upper  reject\n",
      "-----------------------------------------------------------------------\n",
      "Entre 1 et 3 ans Entre 3 et 7 ans   0.0287 0.9997 -0.7665 0.8239  False\n",
      "Entre 1 et 3 ans    Moins de 1 an   0.1993  0.959 -0.8469 1.2456  False\n",
      "Entre 1 et 3 ans    Plus de 7 ans    0.037 0.9997 -0.9791  1.053  False\n",
      "Entre 3 et 7 ans    Moins de 1 an   0.1706 0.9756 -0.9045 1.2457  False\n",
      "Entre 3 et 7 ans    Plus de 7 ans   0.0082    1.0 -1.0375  1.054  False\n",
      "   Moins de 1 an    Plus de 7 ans  -0.1624 0.9862 -1.4098  1.085  False\n",
      "-----------------------------------------------------------------------\n",
      "anciennete\n",
      "Entre 1 et 3 ans    3.911765\n",
      "Entre 3 et 7 ans    3.940476\n",
      "Moins de 1 an       4.111111\n",
      "Plus de 7 ans       3.948718\n",
      "Name: manages, dtype: float64\n",
      "anciennete\n",
      "Entre 1 et 3 ans    1.190051\n",
      "Entre 3 et 7 ans    1.189991\n",
      "Moins de 1 an       1.365767\n",
      "Plus de 7 ans       0.989259\n",
      "Name: manages, dtype: float64\n"
     ]
    }
   ],
   "source": [
    "# Perform Tukey's HSD test\n",
    "ttest_anciennete_manages = pairwise_tukeyhsd(endog=data['manages'], groups=data['anciennete'], alpha=0.05)\n",
    "\n",
    "# Print the results\n",
    "print(ttest_anciennete_manages)\n",
    "\n",
    "# Grouping the data by the factor and calculating the mean for each group\n",
    "means_anciennete_manages = data.groupby('anciennete')['manages'].mean()\n",
    "sd_anciennete_manages = data.groupby('anciennete')['manages'].std()\n",
    "\n",
    "# Display the results\n",
    "print(means_anciennete_manages)\n",
    "print(sd_anciennete_manages)"
   ]
  },
  {
   "cell_type": "markdown",
   "id": "594b99aa",
   "metadata": {},
   "source": [
    "### OFA : post hoc et stat descriptives"
   ]
  },
  {
   "cell_type": "code",
   "execution_count": 32,
   "id": "bc6d9d6f",
   "metadata": {},
   "outputs": [
    {
     "name": "stdout",
     "output_type": "stream",
     "text": [
      "Multiple Comparison of Means - Tukey HSD, FWER=0.05\n",
      "===================================================\n",
      "group1 group2 meandiff p-adj   lower  upper  reject\n",
      "---------------------------------------------------\n",
      "   Non    Oui   0.6461 0.1933 -0.3335 1.6257  False\n",
      "---------------------------------------------------\n",
      "OFA\n",
      "Non    3.909465\n",
      "Oui    4.555556\n",
      "Name: manages, dtype: float64\n",
      "OFA\n",
      "Non    1.172619\n",
      "Oui    1.025598\n",
      "Name: manages, dtype: float64\n"
     ]
    }
   ],
   "source": [
    "# Perform Tukey's HSD test\n",
    "ttest_OFA_manages = pairwise_tukeyhsd(endog=data['manages'], groups=data['OFA'], alpha=0.05)\n",
    "\n",
    "# Print the results\n",
    "print(ttest_OFA_manages)\n",
    "\n",
    "# Grouping the data by the factor and calculating the mean for each group\n",
    "means_OFA_manages = data.groupby('OFA')['manages'].mean()\n",
    "sd_OFA_manages = data.groupby('OFA')['manages'].std()\n",
    "\n",
    "# Display the results\n",
    "print(means_OFA_manages)\n",
    "print(sd_OFA_manages)"
   ]
  },
  {
   "cell_type": "markdown",
   "id": "f5e5cebb",
   "metadata": {},
   "source": [
    "# Focus sur le management côté managers"
   ]
  },
  {
   "cell_type": "code",
   "execution_count": 33,
   "id": "dedc4653",
   "metadata": {},
   "outputs": [
    {
     "name": "stdout",
     "output_type": "stream",
     "text": [
      "               sum_sq    df         F    PR(>F)\n",
      "C(anciennete)  15.525   3.0  2.948718  0.057591\n",
      "C(OFA)            NaN   1.0       NaN       NaN\n",
      "Residual       35.100  20.0       NaN       NaN\n",
      "Il n'y a pas de différence statistiquement significative des moyennes entre les niveaux d'ancienneté.\n",
      "Il n'y a pas de différence statistiquement significative des moyennes entre les niveaux de OFA.\n"
     ]
    },
    {
     "name": "stderr",
     "output_type": "stream",
     "text": [
      "/Users/joy.desdevises/anaconda3/lib/python3.11/site-packages/statsmodels/base/model.py:1888: ValueWarning: covariance of constraints does not have full rank. The number of constraints is 1, but rank is 0\n",
      "  warnings.warn('covariance of constraints does not have full '\n",
      "/Users/joy.desdevises/anaconda3/lib/python3.11/site-packages/statsmodels/base/model.py:1917: RuntimeWarning: invalid value encountered in divide\n",
      "  F /= J\n"
     ]
    }
   ],
   "source": [
    "# Création du modèle ANOVA\n",
    "model_manager_factors = ols('manager ~ C(anciennete) + C(OFA)', data=data).fit()\n",
    "\n",
    "# Tableau d'analyse de variance (ANOVA)\n",
    "anova_table_manager = sm.stats.anova_lm(model_manager_factors, typ=2)\n",
    "print(anova_table_manager)\n",
    "\n",
    "# Interprétation de l'effet principal de l'ancienneté\n",
    "if anova_table_manager['PR(>F)']['C(anciennete)'] < 0.05:\n",
    "    print(\"Il y a une différence statistiquement significative des moyennes entre les niveaux d'ancienneté.\")\n",
    "else:\n",
    "    print(\"Il n'y a pas de différence statistiquement significative des moyennes entre les niveaux d'ancienneté.\")\n",
    "\n",
    "# Interprétation de l'effet principal de OFA\n",
    "if anova_table_manager['PR(>F)']['C(OFA)'] < 0.05:\n",
    "    print(\"Il y a une différence statistiquement significative des moyennes entre les niveaux de OFA.\")\n",
    "else:\n",
    "    print(\"Il n'y a pas de différence statistiquement significative des moyennes entre les niveaux de OFA.\")"
   ]
  },
  {
   "cell_type": "markdown",
   "id": "efacf52a",
   "metadata": {},
   "source": [
    "## Anciennete : post-hoc et stat descriptives"
   ]
  },
  {
   "cell_type": "code",
   "execution_count": 37,
   "id": "0f5d53f3",
   "metadata": {},
   "outputs": [
    {
     "name": "stdout",
     "output_type": "stream",
     "text": [
      "          Multiple Comparison of Means - Tukey HSD, FWER=0.05          \n",
      "=======================================================================\n",
      "     group1           group2      meandiff p-adj   lower  upper  reject\n",
      "-----------------------------------------------------------------------\n",
      "Entre 1 et 3 ans Entre 3 et 7 ans      1.2 0.2121 -0.4582 2.8582  False\n",
      "Entre 1 et 3 ans    Moins de 1 an      2.7 0.0701 -0.1722 5.5722  False\n",
      "Entre 1 et 3 ans    Plus de 7 ans      1.2 0.6523 -1.6722 4.0722  False\n",
      "Entre 3 et 7 ans    Moins de 1 an      1.5 0.4778 -1.3722 4.3722  False\n",
      "Entre 3 et 7 ans    Plus de 7 ans      0.0    1.0 -2.8722 2.8722  False\n",
      "   Moins de 1 an    Plus de 7 ans     -1.5 0.6745 -5.2079 2.2079  False\n",
      "-----------------------------------------------------------------------\n",
      "Means by anciennete among managers:\n",
      "anciennete\n",
      "Entre 1 et 3 ans    3.3\n",
      "Entre 3 et 7 ans    4.5\n",
      "Moins de 1 an       6.0\n",
      "Plus de 7 ans       4.5\n",
      "Name: manager, dtype: float64\n",
      "\n",
      "Standard Deviations by anciennete among managers:\n",
      "anciennete\n",
      "Entre 1 et 3 ans    0.948683\n",
      "Entre 3 et 7 ans    1.581139\n",
      "Moins de 1 an       0.000000\n",
      "Plus de 7 ans       2.121320\n",
      "Name: manager, dtype: float64\n"
     ]
    }
   ],
   "source": [
    "# Filtrer pour ne garder que les managers\n",
    "data_managers = data[data['Es-tu manager/manageuse ?'] == 'Oui']\n",
    "\n",
    "# Vérifier que 'manager' et 'anciennete' ne contiennent pas de NaN dans le sous-ensemble filtré\n",
    "data_managers = data_managers.dropna(subset=['manager', 'anciennete'])\n",
    "\n",
    "# Perform Tukey's HSD test\n",
    "ttest_anciennete_manager = pairwise_tukeyhsd(endog=data_managers['manager'], groups=data_managers['anciennete'], alpha=0.05)\n",
    "\n",
    "# Print the results of the Tukey test\n",
    "print(ttest_anciennete_manager)\n",
    "\n",
    "# Grouping the data by the factor and calculating the mean and standard deviation for each group\n",
    "means_anciennete_managers = data_managers.groupby('anciennete')['manager'].mean()\n",
    "sd_anciennete_managers = data_managers.groupby('anciennete')['manager'].std()\n",
    "\n",
    "# Display the calculated means and standard deviations\n",
    "print(\"Means by anciennete among managers:\")\n",
    "print(means_anciennete_managers)\n",
    "print(\"\\nStandard Deviations by anciennete among managers:\")\n",
    "print(sd_anciennete_managers)"
   ]
  },
  {
   "cell_type": "markdown",
   "id": "b90a1a6d",
   "metadata": {},
   "source": [
    "## OFA : post hoc et stat descriptives"
   ]
  },
  {
   "cell_type": "code",
   "execution_count": 39,
   "id": "afceaabf",
   "metadata": {},
   "outputs": [
    {
     "name": "stdout",
     "output_type": "stream",
     "text": [
      "anciennete\n",
      "Entre 1 et 3 ans    3.3\n",
      "Entre 3 et 7 ans    4.5\n",
      "Moins de 1 an       6.0\n",
      "Plus de 7 ans       4.5\n",
      "Name: manager, dtype: float64\n",
      "anciennete\n",
      "Entre 1 et 3 ans    0.948683\n",
      "Entre 3 et 7 ans    1.581139\n",
      "Moins de 1 an       0.000000\n",
      "Plus de 7 ans       2.121320\n",
      "Name: manager, dtype: float64\n",
      "OFA\n",
      "Non    4.125\n",
      "Name: manager, dtype: float64\n",
      "OFA\n",
      "Non    1.483606\n",
      "Name: manager, dtype: float64\n"
     ]
    }
   ],
   "source": [
    "# Grouping the data by the factor and calculating the mean for each group\n",
    "means_anciennete_managers = data_managers.groupby('anciennete')['manager'].mean()\n",
    "sd_anciennete_managers = data_managers.groupby('anciennete')['manager'].std()\n",
    "\n",
    "# Display the results\n",
    "print(means_anciennete_managers)\n",
    "print(sd_anciennete_managers)\n",
    "\n",
    "# Grouping the data by the factor and calculating the mean for each group\n",
    "means_OFA_managers = data_managers.groupby('OFA')['manager'].mean()\n",
    "sd_OFA_managers = data_managers.groupby('OFA')['manager'].std()\n",
    "\n",
    "# Display the results\n",
    "print(means_OFA_managers)\n",
    "print(sd_OFA_managers)"
   ]
  },
  {
   "cell_type": "markdown",
   "id": "4d1e1e12",
   "metadata": {},
   "source": [
    "# Bien-être en mission / travail quotidien "
   ]
  },
  {
   "cell_type": "code",
   "execution_count": 40,
   "id": "25fdf60d",
   "metadata": {},
   "outputs": [
    {
     "name": "stdout",
     "output_type": "stream",
     "text": [
      "Moyenne sur les missions quotidiennes: 4.084302325581396\n",
      "SD:  1.5022583318987561\n"
     ]
    }
   ],
   "source": [
    "# Rappel: \n",
    "moyenne_missions = data['missions_taches'].mean()\n",
    "sd_missions = data['missions_taches'].std()\n",
    "print(\"Moyenne sur les missions quotidiennes:\", moyenne_missions)\n",
    "print(\"SD: \", sd_missions)"
   ]
  },
  {
   "cell_type": "markdown",
   "id": "626e6882",
   "metadata": {},
   "source": [
    "## Effet de nos facteurs Anciennete X OFA"
   ]
  },
  {
   "cell_type": "code",
   "execution_count": 41,
   "id": "44163bac",
   "metadata": {
    "scrolled": true
   },
   "outputs": [
    {
     "name": "stdout",
     "output_type": "stream",
     "text": [
      "                    sum_sq    df         F    PR(>F)\n",
      "C(anciennete)     2.056203   3.0  0.289978  0.832509\n",
      "C(OFA)            2.444495   1.0  1.034212  0.312316\n",
      "C(statut6mois)    4.809224   3.0  0.678226  0.567983\n",
      "Residual        184.363176  78.0       NaN       NaN\n",
      "Il n'y a pas de différence significative des moyennes entre les niveaux d'ancienneté.\n",
      "Il n'y a pas de différence statistiquement significative des moyennes entre les niveaux de OFA.\n",
      "Il n'y a pas de différence statistiquement significative des moyennes entre les niveaux de OFA.\n"
     ]
    }
   ],
   "source": [
    "# Création du modèle ANOVA\n",
    "model_missions = ols('missions_taches ~ C(anciennete) + C(OFA) + C(statut6mois)', data=data).fit()\n",
    "\n",
    "# Tableau d'analyse de variance (ANOVA)\n",
    "anova_table_missions = sm.stats.anova_lm(model_missions, typ=2)\n",
    "print(anova_table_missions)\n",
    "\n",
    "# Interprétation de l'effet principal de l'ancienneté\n",
    "if anova_table_missions['PR(>F)']['C(anciennete)'] < 0.05:\n",
    "    print(\"Il y a une différence significative des moyennes entre les niveaux d'ancienneté.\")\n",
    "else:\n",
    "    print(\"Il n'y a pas de différence significative des moyennes entre les niveaux d'ancienneté.\")\n",
    "\n",
    "# Interprétation de l'effet principal de OFA\n",
    "if anova_table_missions['PR(>F)']['C(OFA)'] < 0.05:\n",
    "    print(\"Il y a une différence significative des moyennes entre les niveaux de OFA.\")\n",
    "else:\n",
    "    print(\"Il n'y a pas de différence statistiquement significative des moyennes entre les niveaux de OFA.\")\n",
    "    \n",
    "# Interprétation de l'effet principal deu statut des 6 derniers mois\n",
    "if anova_table_missions['PR(>F)']['C(OFA)'] < 0.05:\n",
    "    print(\"Il y a une différence significative des moyennes entre les niveaux de OFA.\")\n",
    "else:\n",
    "    print(\"Il n'y a pas de différence statistiquement significative des moyennes entre les niveaux de OFA.\")"
   ]
  },
  {
   "cell_type": "markdown",
   "id": "11ee2da2",
   "metadata": {},
   "source": [
    "## Anciennete : post hoc et stat descriptives"
   ]
  },
  {
   "cell_type": "code",
   "execution_count": 42,
   "id": "ebd318b0",
   "metadata": {},
   "outputs": [
    {
     "name": "stdout",
     "output_type": "stream",
     "text": [
      "        Multiple Comparison of Means - Tukey HSD, FWER=0.05        \n",
      "===================================================================\n",
      "     group1           group2      meandiff p-adj lower upper reject\n",
      "-------------------------------------------------------------------\n",
      "Entre 1 et 3 ans Entre 3 et 7 ans  -0.0336   nan   nan   nan  False\n",
      "Entre 1 et 3 ans    Moins de 1 an   0.3652   nan   nan   nan  False\n",
      "Entre 1 et 3 ans    Plus de 7 ans      nan   nan   nan   nan  False\n",
      "Entre 3 et 7 ans    Moins de 1 an   0.3988   nan   nan   nan  False\n",
      "Entre 3 et 7 ans    Plus de 7 ans      nan   nan   nan   nan  False\n",
      "   Moins de 1 an    Plus de 7 ans      nan   nan   nan   nan  False\n",
      "-------------------------------------------------------------------\n",
      "anciennete\n",
      "Entre 1 et 3 ans    4.051471\n",
      "Entre 3 et 7 ans    4.017857\n",
      "Moins de 1 an       4.416667\n",
      "Plus de 7 ans       4.000000\n",
      "Name: missions_taches, dtype: float64\n",
      "anciennete\n",
      "Entre 1 et 3 ans    1.397752\n",
      "Entre 3 et 7 ans    1.757166\n",
      "Moins de 1 an       1.455137\n",
      "Plus de 7 ans       1.318574\n",
      "Name: missions_taches, dtype: float64\n"
     ]
    }
   ],
   "source": [
    "# Perform Tukey's HSD test\n",
    "ttest_anciennete_missions = pairwise_tukeyhsd(endog=data['missions_taches'], groups=data['anciennete'], alpha=0.05)\n",
    "\n",
    "# Print the results\n",
    "print(ttest_anciennete_missions)\n",
    "\n",
    "# Grouping the data by the factor and calculating the mean for each group\n",
    "means_anciennete_missions = data.groupby('anciennete')['missions_taches'].mean()\n",
    "sd_anciennete_missions = data.groupby('anciennete')['missions_taches'].std()\n",
    "\n",
    "# Display the results\n",
    "print(means_anciennete_missions)\n",
    "print(sd_anciennete_missions)"
   ]
  },
  {
   "cell_type": "markdown",
   "id": "517065ee",
   "metadata": {},
   "source": [
    "## OFA : post hoc et stat descriptives"
   ]
  },
  {
   "cell_type": "code",
   "execution_count": 43,
   "id": "7015d71d",
   "metadata": {},
   "outputs": [
    {
     "name": "stdout",
     "output_type": "stream",
     "text": [
      "Multiple Comparison of Means - Tukey HSD, FWER=0.05\n",
      "===============================================\n",
      "group1 group2 meandiff p-adj lower upper reject\n",
      "-----------------------------------------------\n",
      "   Non    Oui      nan   nan   nan   nan  False\n",
      "-----------------------------------------------\n",
      "OFA\n",
      "Non    4.109375\n",
      "Oui    3.750000\n",
      "Name: missions_taches, dtype: float64\n",
      "OFA\n",
      "Non    1.527099\n",
      "Oui    1.172604\n",
      "Name: missions_taches, dtype: float64\n"
     ]
    }
   ],
   "source": [
    "# Perform Tukey's HSD test\n",
    "ttest_OFA_missions = pairwise_tukeyhsd(endog=data['missions_taches'], groups=data['OFA'], alpha=0.05)\n",
    "\n",
    "# Print the results\n",
    "print(ttest_OFA_missions)\n",
    "\n",
    "# Grouping the data by the factor and calculating the mean for each group\n",
    "means_OFA_missions = data.groupby('OFA')['missions_taches'].mean()\n",
    "sd_OFA_missions = data.groupby('OFA')['missions_taches'].std()\n",
    "\n",
    "# Display the results\n",
    "print(means_OFA_missions)\n",
    "print(sd_OFA_missions)"
   ]
  },
  {
   "cell_type": "markdown",
   "id": "6d5fe1fb",
   "metadata": {},
   "source": [
    "## Type de poste : post hoc et stat descriptives"
   ]
  },
  {
   "cell_type": "code",
   "execution_count": 44,
   "id": "0656d101",
   "metadata": {},
   "outputs": [
    {
     "name": "stdout",
     "output_type": "stream",
     "text": [
      "                    Multiple Comparison of Means - Tukey HSD, FWER=0.05                    \n",
      "===========================================================================================\n",
      "             group1                       group2          meandiff p-adj lower upper reject\n",
      "-------------------------------------------------------------------------------------------\n",
      "En mission chez un/des client(s)          fonctions coeur      nan   nan   nan   nan  False\n",
      "En mission chez un/des client(s)             intercontrat  -0.3569   nan   nan   nan  False\n",
      "En mission chez un/des client(s) missions et intercontrat  -0.3341   nan   nan   nan  False\n",
      "                 fonctions coeur             intercontrat      nan   nan   nan   nan  False\n",
      "                 fonctions coeur missions et intercontrat      nan   nan   nan   nan  False\n",
      "                    intercontrat missions et intercontrat   0.0227   nan   nan   nan  False\n",
      "-------------------------------------------------------------------------------------------\n",
      "statut6mois\n",
      "En mission chez un/des client(s)    4.265957\n",
      "fonctions coeur                     3.794118\n",
      "intercontrat                        3.909091\n",
      "missions et intercontrat            3.931818\n",
      "Name: missions_taches, dtype: float64\n",
      "statut6mois\n",
      "En mission chez un/des client(s)    1.354746\n",
      "fonctions coeur                     1.750525\n",
      "intercontrat                        2.071451\n",
      "missions et intercontrat            1.090246\n",
      "Name: missions_taches, dtype: float64\n"
     ]
    }
   ],
   "source": [
    "# Perform Tukey's HSD test\n",
    "ttest_poste_missions = pairwise_tukeyhsd(endog=data['missions_taches'], groups=data['statut6mois'], alpha=0.05)\n",
    "\n",
    "# Print the results\n",
    "print(ttest_poste_missions)\n",
    "\n",
    "# Grouping the data by the factor and calculating the mean for each group\n",
    "means_typeposte_missions = data.groupby('statut6mois')['missions_taches'].mean()\n",
    "sd_typeposte_missions = data.groupby('statut6mois')['missions_taches'].std()\n",
    "\n",
    "# Display the results\n",
    "print(means_typeposte_missions)\n",
    "print(sd_typeposte_missions)"
   ]
  }
 ],
 "metadata": {
  "kernelspec": {
   "display_name": "Python 3 (ipykernel)",
   "language": "python",
   "name": "python3"
  },
  "language_info": {
   "codemirror_mode": {
    "name": "ipython",
    "version": 3
   },
   "file_extension": ".py",
   "mimetype": "text/x-python",
   "name": "python",
   "nbconvert_exporter": "python",
   "pygments_lexer": "ipython3",
   "version": "3.11.4"
  }
 },
 "nbformat": 4,
 "nbformat_minor": 5
}
