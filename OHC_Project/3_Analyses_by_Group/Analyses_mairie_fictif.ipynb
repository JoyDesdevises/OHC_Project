{
 "cells": [
  {
   "cell_type": "code",
   "execution_count": 1,
   "id": "f83af203",
   "metadata": {},
   "outputs": [],
   "source": [
    "import pandas as pda\n",
    "import numpy as np\n",
    "from scipy.stats import f_oneway\n",
    "from scipy.stats import ttest_ind\n",
    "import itertools\n",
    "import matplotlib.pyplot as plt\n",
    "from scipy import stats\n",
    "from statsmodels.stats.multicomp import pairwise_tukeyhsd\n",
    "import statsmodels.api as sm\n",
    "from statsmodels.formula.api import ols"
   ]
  },
  {
   "cell_type": "code",
   "execution_count": 2,
   "id": "84e55b4b",
   "metadata": {},
   "outputs": [
    {
     "data": {
      "text/html": [
       "<div>\n",
       "<style scoped>\n",
       "    .dataframe tbody tr th:only-of-type {\n",
       "        vertical-align: middle;\n",
       "    }\n",
       "\n",
       "    .dataframe tbody tr th {\n",
       "        vertical-align: top;\n",
       "    }\n",
       "\n",
       "    .dataframe thead th {\n",
       "        text-align: right;\n",
       "    }\n",
       "</style>\n",
       "<table border=\"1\" class=\"dataframe\">\n",
       "  <thead>\n",
       "    <tr style=\"text-align: right;\">\n",
       "      <th></th>\n",
       "      <th>anciennete</th>\n",
       "      <th>campement</th>\n",
       "      <th>OFA</th>\n",
       "      <th>quartier</th>\n",
       "      <th>tribu</th>\n",
       "      <th>etabli</th>\n",
       "      <th>activites_tribu</th>\n",
       "      <th>interactions_tribu</th>\n",
       "      <th>tribu_total</th>\n",
       "      <th>activites_QA</th>\n",
       "      <th>...</th>\n",
       "      <th>manages</th>\n",
       "      <th>Es-tu manager/manageuse ?</th>\n",
       "      <th>Si tu es manager/manageuse, combien de managé.e.s direct(s) as-tu ?</th>\n",
       "      <th>manager</th>\n",
       "      <th>egalite_pro</th>\n",
       "      <th>competences_parcours</th>\n",
       "      <th>sante_conditions_travail</th>\n",
       "      <th>OCTO_total</th>\n",
       "      <th>statut6mois</th>\n",
       "      <th>missions_taches</th>\n",
       "    </tr>\n",
       "  </thead>\n",
       "  <tbody>\n",
       "    <tr>\n",
       "      <th>0</th>\n",
       "      <td>Plus de 7 ans</td>\n",
       "      <td>OCTO Paris</td>\n",
       "      <td>Oui</td>\n",
       "      <td>Mairie</td>\n",
       "      <td>User Research</td>\n",
       "      <td>Aucun</td>\n",
       "      <td>4.25</td>\n",
       "      <td>5.0</td>\n",
       "      <td>4.625</td>\n",
       "      <td>4.75</td>\n",
       "      <td>...</td>\n",
       "      <td>6.0</td>\n",
       "      <td>Non</td>\n",
       "      <td>NaN</td>\n",
       "      <td>NaN</td>\n",
       "      <td>4.25</td>\n",
       "      <td>3.75</td>\n",
       "      <td>4.2</td>\n",
       "      <td>4.5500</td>\n",
       "      <td>fonctions coeur</td>\n",
       "      <td>NaN</td>\n",
       "    </tr>\n",
       "    <tr>\n",
       "      <th>1</th>\n",
       "      <td>Moins de 1 an</td>\n",
       "      <td>OCTO Paris</td>\n",
       "      <td>Oui</td>\n",
       "      <td>Mairie</td>\n",
       "      <td>User Research</td>\n",
       "      <td>Aucun</td>\n",
       "      <td>4.00</td>\n",
       "      <td>3.5</td>\n",
       "      <td>3.750</td>\n",
       "      <td>3.75</td>\n",
       "      <td>...</td>\n",
       "      <td>6.0</td>\n",
       "      <td>Non</td>\n",
       "      <td>NaN</td>\n",
       "      <td>NaN</td>\n",
       "      <td>4.50</td>\n",
       "      <td>3.75</td>\n",
       "      <td>3.6</td>\n",
       "      <td>4.4625</td>\n",
       "      <td>fonctions coeur</td>\n",
       "      <td>4.0</td>\n",
       "    </tr>\n",
       "    <tr>\n",
       "      <th>2</th>\n",
       "      <td>Entre 3 et 7 ans</td>\n",
       "      <td>OCTO Paris</td>\n",
       "      <td>Oui</td>\n",
       "      <td>Mairie</td>\n",
       "      <td>User Research</td>\n",
       "      <td>Aucun</td>\n",
       "      <td>3.25</td>\n",
       "      <td>4.0</td>\n",
       "      <td>3.625</td>\n",
       "      <td>5.25</td>\n",
       "      <td>...</td>\n",
       "      <td>6.0</td>\n",
       "      <td>Non</td>\n",
       "      <td>NaN</td>\n",
       "      <td>NaN</td>\n",
       "      <td>5.25</td>\n",
       "      <td>4.50</td>\n",
       "      <td>3.0</td>\n",
       "      <td>4.6875</td>\n",
       "      <td>fonctions coeur</td>\n",
       "      <td>5.5</td>\n",
       "    </tr>\n",
       "    <tr>\n",
       "      <th>3</th>\n",
       "      <td>Moins de 1 an</td>\n",
       "      <td>OCTO Paris</td>\n",
       "      <td>Oui</td>\n",
       "      <td>Mairie</td>\n",
       "      <td>User Research</td>\n",
       "      <td>Aucun</td>\n",
       "      <td>5.25</td>\n",
       "      <td>4.5</td>\n",
       "      <td>4.875</td>\n",
       "      <td>5.00</td>\n",
       "      <td>...</td>\n",
       "      <td>6.0</td>\n",
       "      <td>Non</td>\n",
       "      <td>NaN</td>\n",
       "      <td>NaN</td>\n",
       "      <td>5.50</td>\n",
       "      <td>2.75</td>\n",
       "      <td>3.6</td>\n",
       "      <td>4.4625</td>\n",
       "      <td>fonctions coeur</td>\n",
       "      <td>3.5</td>\n",
       "    </tr>\n",
       "    <tr>\n",
       "      <th>4</th>\n",
       "      <td>Entre 3 et 7 ans</td>\n",
       "      <td>OCTO Paris</td>\n",
       "      <td>Oui</td>\n",
       "      <td>Mairie</td>\n",
       "      <td>User Research</td>\n",
       "      <td>Aucun</td>\n",
       "      <td>4.50</td>\n",
       "      <td>6.5</td>\n",
       "      <td>5.500</td>\n",
       "      <td>2.50</td>\n",
       "      <td>...</td>\n",
       "      <td>6.0</td>\n",
       "      <td>Non</td>\n",
       "      <td>NaN</td>\n",
       "      <td>NaN</td>\n",
       "      <td>3.50</td>\n",
       "      <td>3.50</td>\n",
       "      <td>3.2</td>\n",
       "      <td>4.0500</td>\n",
       "      <td>fonctions coeur</td>\n",
       "      <td>1.5</td>\n",
       "    </tr>\n",
       "  </tbody>\n",
       "</table>\n",
       "<p>5 rows × 22 columns</p>\n",
       "</div>"
      ],
      "text/plain": [
       "         anciennete   campement  OFA quartier          tribu etabli  \\\n",
       "0     Plus de 7 ans  OCTO Paris  Oui   Mairie  User Research  Aucun   \n",
       "1     Moins de 1 an  OCTO Paris  Oui   Mairie  User Research  Aucun   \n",
       "2  Entre 3 et 7 ans  OCTO Paris  Oui   Mairie  User Research  Aucun   \n",
       "3     Moins de 1 an  OCTO Paris  Oui   Mairie  User Research  Aucun   \n",
       "4  Entre 3 et 7 ans  OCTO Paris  Oui   Mairie  User Research  Aucun   \n",
       "\n",
       "   activites_tribu  interactions_tribu  tribu_total  activites_QA  ...  \\\n",
       "0             4.25                 5.0        4.625          4.75  ...   \n",
       "1             4.00                 3.5        3.750          3.75  ...   \n",
       "2             3.25                 4.0        3.625          5.25  ...   \n",
       "3             5.25                 4.5        4.875          5.00  ...   \n",
       "4             4.50                 6.5        5.500          2.50  ...   \n",
       "\n",
       "   manages  Es-tu manager/manageuse ?  \\\n",
       "0      6.0                        Non   \n",
       "1      6.0                        Non   \n",
       "2      6.0                        Non   \n",
       "3      6.0                        Non   \n",
       "4      6.0                        Non   \n",
       "\n",
       "   Si tu es manager/manageuse, combien de managé.e.s direct(s) as-tu ?  \\\n",
       "0                                                NaN                     \n",
       "1                                                NaN                     \n",
       "2                                                NaN                     \n",
       "3                                                NaN                     \n",
       "4                                                NaN                     \n",
       "\n",
       "  manager  egalite_pro  competences_parcours  sante_conditions_travail  \\\n",
       "0     NaN         4.25                  3.75                       4.2   \n",
       "1     NaN         4.50                  3.75                       3.6   \n",
       "2     NaN         5.25                  4.50                       3.0   \n",
       "3     NaN         5.50                  2.75                       3.6   \n",
       "4     NaN         3.50                  3.50                       3.2   \n",
       "\n",
       "   OCTO_total      statut6mois  missions_taches  \n",
       "0      4.5500  fonctions coeur              NaN  \n",
       "1      4.4625  fonctions coeur              4.0  \n",
       "2      4.6875  fonctions coeur              5.5  \n",
       "3      4.4625  fonctions coeur              3.5  \n",
       "4      4.0500  fonctions coeur              1.5  \n",
       "\n",
       "[5 rows x 22 columns]"
      ]
     },
     "metadata": {},
     "output_type": "display_data"
    }
   ],
   "source": [
    "data = pda.read_csv(\"Mairie_analyses_Novembre2023_fictif.csv\")\n",
    "\n",
    "display(data.head())"
   ]
  },
  {
   "cell_type": "markdown",
   "id": "b0602761",
   "metadata": {},
   "source": [
    "# Description de l'échantillon"
   ]
  },
  {
   "cell_type": "code",
   "execution_count": 3,
   "id": "2b57232e",
   "metadata": {},
   "outputs": [
    {
     "name": "stdout",
     "output_type": "stream",
     "text": [
      "L'effectif total de l'échantillon pour la Mairie est : 100\n"
     ]
    }
   ],
   "source": [
    "effectif_data = len(data)\n",
    "\n",
    "print(\"L'effectif total de l'échantillon pour la Mairie est :\", effectif_data)"
   ]
  },
  {
   "cell_type": "code",
   "execution_count": 4,
   "id": "ecde7c70",
   "metadata": {},
   "outputs": [
    {
     "name": "stdout",
     "output_type": "stream",
     "text": [
      "Effectif par tribu :\n",
      " User Research    29\n",
      "A                17\n",
      "H                11\n",
      "D                10\n",
      "G                10\n",
      "Z                 9\n",
      "B                 7\n",
      "C                 7\n",
      "Name: tribu, dtype: int64\n",
      "Effectifs en % par tribu :\n",
      " User Research    29.0\n",
      "A                17.0\n",
      "H                11.0\n",
      "D                10.0\n",
      "G                10.0\n",
      "Z                 9.0\n",
      "B                 7.0\n",
      "C                 7.0\n",
      "Name: tribu, dtype: float64\n"
     ]
    }
   ],
   "source": [
    "effectif_tribu = data['tribu'].value_counts()\n",
    "\n",
    "print(\"Effectif par tribu :\\n\", effectif_tribu)\n",
    "\n",
    "# Calculer les pourcentages par modalité\n",
    "pourcentages_tribu = (effectif_tribu / effectif_data) * 100\n",
    "\n",
    "print(\"Effectifs en % par tribu :\\n\", pourcentages_tribu)"
   ]
  },
  {
   "cell_type": "markdown",
   "id": "214ae097",
   "metadata": {},
   "source": [
    "# Moyennes de bien-être global et par thématique"
   ]
  },
  {
   "cell_type": "code",
   "execution_count": 5,
   "id": "6bcab7c1",
   "metadata": {},
   "outputs": [
    {
     "name": "stdout",
     "output_type": "stream",
     "text": [
      "Bien-être moyen global:  4.032339562289562\n",
      "Écart type global:  1.0689217910344935\n"
     ]
    }
   ],
   "source": [
    "# Selecting the columns\n",
    "columns_overall = data[['tribu_total', 'QA_total', 'OCTO_total', 'missions_taches', \n",
    "                         'manager', 'manages', 'egalite_pro', \n",
    "                         'competences_parcours', 'sante_conditions_travail']]\n",
    "\n",
    "# Calculating the mean across all selected columns\n",
    "global_mean = columns_overall.mean().mean()\n",
    "\n",
    "# Calculating the standard deviation across all selected columns\n",
    "global_sd = columns_overall.std().mean()\n",
    "\n",
    "print(\"Bien-être moyen global: \", global_mean)\n",
    "print(\"Écart type global: \", global_sd)"
   ]
  },
  {
   "cell_type": "code",
   "execution_count": 6,
   "id": "c8da8f47",
   "metadata": {
    "scrolled": true
   },
   "outputs": [
    {
     "name": "stdout",
     "output_type": "stream",
     "text": [
      "Bien-être moyen sur la tribu : 3.9875\n",
      "SD tribu : 0.7769769506350763\n",
      "Bien-être moyen sur le quartier/atelier : 4.015\n",
      "SD QA : 0.7602996485304696\n",
      "Bien-être moyen sur les compétences et parcours professionnel: 3.975\n",
      "SD compétences et parcours : 1.0252494153309053\n",
      "Bien-être moyen sur le management côté managé.e.s: 4.14\n",
      "SD managées : 1.4634951936436893\n",
      "Bien-être moyen sur le management côté managers : 4.0\n",
      "SD managers : 1.4411533842457842\n",
      "Bien-être moyen sur l'égalité professionnelle : 4.08\n",
      "SD égalité pro : 0.9460710887932813\n",
      "Bien-être moyen sur la santé et les conditions de travail: 3.992\n",
      "SD santé et conditions de travail : 0.8355340637683012\n",
      "Bien-être moyen sur OCTO : 4.0409500000000005\n",
      "SD OCTO : 0.5655275739242843\n",
      "Bien-être moyen sur les missions au quotidien : 4.0606060606060606\n",
      "SD missions : 1.8059888004386497\n"
     ]
    }
   ],
   "source": [
    "# Calcul des moyennes pour chaque colonne\n",
    "moyenne_tribu = data['tribu_total'].mean()\n",
    "moyenne_QA = data['QA_total'].mean()\n",
    "moyenne_competences = data['competences_parcours'].mean()\n",
    "moyenne_manages = data['manages'].mean()\n",
    "moyenne_manager = data['manager'].mean()\n",
    "moyenne_egalitepro = data['egalite_pro'].mean()\n",
    "moyenne_sante = data['sante_conditions_travail'].mean()\n",
    "moyenne_OCTO = data['OCTO_total'].mean()\n",
    "moyenne_missions = data['missions_taches'].mean()\n",
    "\n",
    "# Calcul des écart-types pour chaque colonne\n",
    "sd_tribu = data['tribu_total'].std()\n",
    "sd_QA = data['QA_total'].std()\n",
    "sd_competences = data['competences_parcours'].std()\n",
    "sd_manages = data['manages'].std()\n",
    "sd_manager = data['manager'].std()\n",
    "sd_egalitepro = data['egalite_pro'].std()\n",
    "sd_sante = data['sante_conditions_travail'].std()\n",
    "sd_OCTO = data['OCTO_total'].std()\n",
    "sd_missions = data['missions_taches'].std()\n",
    "\n",
    "# Affichage des résultats\n",
    "print(\"Bien-être moyen sur la tribu :\", moyenne_tribu)\n",
    "print(\"SD tribu :\", sd_tribu)\n",
    "\n",
    "print(\"Bien-être moyen sur le quartier/atelier :\", moyenne_QA)\n",
    "print(\"SD QA :\", sd_QA)\n",
    "\n",
    "print(\"Bien-être moyen sur les compétences et parcours professionnel:\", moyenne_competences)\n",
    "print(\"SD compétences et parcours :\", sd_competences)\n",
    "\n",
    "print(\"Bien-être moyen sur le management côté managé.e.s:\", moyenne_manages)\n",
    "print(\"SD managées :\", sd_manages)\n",
    "\n",
    "print(\"Bien-être moyen sur le management côté managers :\", moyenne_manager)\n",
    "print(\"SD managers :\", sd_manager)\n",
    "\n",
    "print(\"Bien-être moyen sur l'égalité professionnelle :\", moyenne_egalitepro)\n",
    "print(\"SD égalité pro :\", sd_egalitepro)\n",
    "\n",
    "print(\"Bien-être moyen sur la santé et les conditions de travail:\", moyenne_sante)\n",
    "print(\"SD santé et conditions de travail :\", sd_sante)\n",
    "\n",
    "\n",
    "print(\"Bien-être moyen sur OCTO :\", moyenne_OCTO)\n",
    "print(\"SD OCTO :\", sd_OCTO)\n",
    "\n",
    "print(\"Bien-être moyen sur les missions au quotidien :\", moyenne_missions)\n",
    "print(\"SD missions :\", sd_missions)"
   ]
  },
  {
   "cell_type": "markdown",
   "id": "a9fb62a2",
   "metadata": {},
   "source": [
    "# Niveau tribu\n",
    "## Effet de la thématique ? "
   ]
  },
  {
   "cell_type": "code",
   "execution_count": 7,
   "id": "6511c651",
   "metadata": {},
   "outputs": [
    {
     "name": "stdout",
     "output_type": "stream",
     "text": [
      "          Multiple Comparison of Means - Tukey HSD, FWER=0.05           \n",
      "========================================================================\n",
      "     group1           group2       meandiff p-adj   lower  upper  reject\n",
      "------------------------------------------------------------------------\n",
      "activites_tribu interactions_tribu   -0.065 0.6686 -0.3639 0.2339  False\n",
      "------------------------------------------------------------------------\n",
      "Bien-être moyen des Octos de la Mairie concernant leurs activités en tribu est de: 4.02\n",
      "Ecart-type de: 1.0023205398705866\n",
      "Bien-être moyen des Octos de la Mairie concernant leurs interactions en tribu est de : 3.955\n",
      "Ecart-type de : 1.1372814475357853\n"
     ]
    }
   ],
   "source": [
    "# Convertir les données au format long\n",
    "data_long_tribu = pda.melt(data, value_vars=['activites_tribu', 'interactions_tribu'], var_name='Thematiques', value_name='Value')\n",
    "\n",
    "# Supprimer les valeurs manquantes\n",
    "data_long_tribu = data_long_tribu.dropna()\n",
    "\n",
    "# Perform the t-test\n",
    "ttest_tribu = pairwise_tukeyhsd(endog=data_long_tribu['Value'], groups=data_long_tribu['Thematiques'], alpha=0.05)\n",
    "\n",
    "# Print the results\n",
    "print(ttest_tribu)\n",
    "\n",
    "mean_activites_tribu = data['activites_tribu'].mean()\n",
    "mean_interactions_tribu = data['interactions_tribu'].mean()\n",
    "std_activites_tribu = data['activites_tribu'].std()\n",
    "std_interactions_tribu = data['interactions_tribu'].std()\n",
    "\n",
    "print(\"Bien-être moyen des Octos de la Mairie concernant leurs activités en tribu est de:\", mean_activites_tribu)\n",
    "print(\"Ecart-type de:\", std_activites_tribu)\n",
    "\n",
    "print(\"Bien-être moyen des Octos de la Mairie concernant leurs interactions en tribu est de :\", mean_interactions_tribu)\n",
    "print(\"Ecart-type de :\", std_interactions_tribu)"
   ]
  },
  {
   "cell_type": "markdown",
   "id": "046e4ab6",
   "metadata": {},
   "source": [
    "## Effet de nos facteurs anciennete X OFA"
   ]
  },
  {
   "cell_type": "code",
   "execution_count": 8,
   "id": "6f3571a1",
   "metadata": {},
   "outputs": [
    {
     "name": "stdout",
     "output_type": "stream",
     "text": [
      "                  sum_sq    df         F    PR(>F)\n",
      "C(anciennete)   0.348609   3.0  0.185873  0.905773\n",
      "C(OFA)          0.007228   1.0  0.011562  0.914597\n",
      "Residual       59.391472  95.0       NaN       NaN\n",
      "Il n'y a pas de différence statistiquement significative des moyennes entre les niveaux d'ancienneté.\n",
      "Il n'y a pas de différence statistiquement significative des moyennes entre les niveaux de OFA.\n"
     ]
    }
   ],
   "source": [
    "# Création du modèle ANOVA\n",
    "model_tribu_factors = ols('tribu_total ~ C(anciennete) + C(OFA)', data=data).fit()\n",
    "\n",
    "# Tableau d'analyse de variance (ANOVA)\n",
    "anova_table_tribu_total = sm.stats.anova_lm(model_tribu_factors, typ=2)\n",
    "print(anova_table_tribu_total)\n",
    "\n",
    "# Interprétation de l'effet principal de l'ancienneté\n",
    "if anova_table_tribu_total['PR(>F)']['C(anciennete)'] < 0.05:\n",
    "    print(\"Il y a une différence statistiquement significative des moyennes entre les niveaux d'ancienneté.\")\n",
    "else:\n",
    "    print(\"Il n'y a pas de différence statistiquement significative des moyennes entre les niveaux d'ancienneté.\")\n",
    "\n",
    "# Interprétation de l'effet principal de OFA\n",
    "if anova_table_tribu_total['PR(>F)']['C(OFA)'] < 0.05:\n",
    "    print(\"Il y a une différence statistiquement significative des moyennes entre les niveaux de OFA.\")\n",
    "else:\n",
    "    print(\"Il n'y a pas de différence statistiquement significative des moyennes entre les niveaux de OFA.\")"
   ]
  },
  {
   "cell_type": "markdown",
   "id": "038c947a",
   "metadata": {},
   "source": [
    "### Anciennete : post-hoc et stat descriptives"
   ]
  },
  {
   "cell_type": "code",
   "execution_count": 9,
   "id": "dc955208",
   "metadata": {},
   "outputs": [
    {
     "name": "stdout",
     "output_type": "stream",
     "text": [
      "          Multiple Comparison of Means - Tukey HSD, FWER=0.05          \n",
      "=======================================================================\n",
      "     group1           group2      meandiff p-adj   lower  upper  reject\n",
      "-----------------------------------------------------------------------\n",
      "Entre 1 et 3 ans Entre 3 et 7 ans   0.0039    1.0 -0.4839 0.4917  False\n",
      "Entre 1 et 3 ans    Moins de 1 an   0.0565  0.996 -0.6001 0.7131  False\n",
      "Entre 1 et 3 ans    Plus de 7 ans   0.1719 0.8882 -0.4508 0.7946  False\n",
      "Entre 3 et 7 ans    Moins de 1 an   0.0526  0.997 -0.6238  0.729  False\n",
      "Entre 3 et 7 ans    Plus de 7 ans    0.168 0.9036 -0.4756 0.8115  False\n",
      "   Moins de 1 an    Plus de 7 ans   0.1154 0.9802 -0.6639 0.8947  False\n",
      "-----------------------------------------------------------------------\n",
      "anciennete\n",
      "Entre 1 et 3 ans    3.953125\n",
      "Entre 3 et 7 ans    3.957031\n",
      "Moins de 1 an       4.009615\n",
      "Plus de 7 ans       4.125000\n",
      "Name: tribu_total, dtype: float64\n",
      "anciennete\n",
      "Entre 1 et 3 ans    0.738527\n",
      "Entre 3 et 7 ans    0.807980\n",
      "Moins de 1 an       0.839242\n",
      "Plus de 7 ans       0.821040\n",
      "Name: tribu_total, dtype: float64\n"
     ]
    }
   ],
   "source": [
    "# Perform Tukey's HSD test\n",
    "ttest_anciennete_tribu = pairwise_tukeyhsd(endog=data['tribu_total'], groups=data['anciennete'], alpha=0.05)\n",
    "\n",
    "# Print the results\n",
    "print(ttest_anciennete_tribu)\n",
    "\n",
    "# Grouping the data by the factor and calculating the mean for each group\n",
    "means_anciennete_tribu = data.groupby('anciennete')['tribu_total'].mean()\n",
    "sd_anciennete_tribu = data.groupby('anciennete')['tribu_total'].std()\n",
    "\n",
    "# Display the results\n",
    "print(means_anciennete_tribu)\n",
    "print(sd_anciennete_tribu)"
   ]
  },
  {
   "cell_type": "markdown",
   "id": "76e434d1",
   "metadata": {},
   "source": [
    "### OFA : post-hoc et stat descriptives"
   ]
  },
  {
   "cell_type": "code",
   "execution_count": 10,
   "id": "629a1e67",
   "metadata": {},
   "outputs": [
    {
     "name": "stdout",
     "output_type": "stream",
     "text": [
      "Multiple Comparison of Means - Tukey HSD, FWER=0.05\n",
      "===================================================\n",
      "group1 group2 meandiff p-adj   lower  upper  reject\n",
      "---------------------------------------------------\n",
      "   Non    Oui   0.0475 0.8382 -0.4132 0.5082  False\n",
      "---------------------------------------------------\n",
      "OFA\n",
      "Non    3.981322\n",
      "Oui    4.028846\n",
      "Name: tribu_total, dtype: float64\n",
      "OFA\n",
      "Non    0.792985\n",
      "Oui    0.686844\n",
      "Name: tribu_total, dtype: float64\n"
     ]
    }
   ],
   "source": [
    "# Perform Tukey's HSD test\n",
    "ttest_OFA_tribu = pairwise_tukeyhsd(endog=data['tribu_total'], groups=data['OFA'], alpha=0.05)\n",
    "\n",
    "# Print the results\n",
    "print(ttest_OFA_tribu)\n",
    "\n",
    "# Grouping the data by the factor and calculating the mean for each group\n",
    "means_OFA_tribu = data.groupby('OFA')['tribu_total'].mean()\n",
    "sd_OFA_tribu = data.groupby('OFA')['tribu_total'].std()\n",
    "\n",
    "# Display the results\n",
    "print(means_OFA_tribu)\n",
    "print(sd_OFA_tribu)"
   ]
  },
  {
   "cell_type": "markdown",
   "id": "ab2d70a4",
   "metadata": {},
   "source": [
    "# Niveau quartier/atelier\n",
    "\n",
    "## Effet de la thématique ? "
   ]
  },
  {
   "cell_type": "code",
   "execution_count": 11,
   "id": "8b54f5b0",
   "metadata": {},
   "outputs": [
    {
     "name": "stdout",
     "output_type": "stream",
     "text": [
      "       Multiple Comparison of Means - Tukey HSD, FWER=0.05        \n",
      "==================================================================\n",
      "   group1         group2     meandiff p-adj   lower  upper  reject\n",
      "------------------------------------------------------------------\n",
      "activites_QA interactions_QA     0.03 0.8363 -0.2559 0.3159  False\n",
      "------------------------------------------------------------------\n",
      "Bien-être moyen des Octos de la Mairie concernant leurs activités en tribu est de: 4.0\n",
      "Ecart-type de: 0.9685717903858821\n",
      "Bien-être moyen des Octos de la Mairie concernant leurs interactions en tribu est de : 4.03\n",
      "Ecart-type de : 1.0785324859420433\n"
     ]
    }
   ],
   "source": [
    "# Convertir les données au format long\n",
    "data_long_QA = pda.melt(data, value_vars=['activites_QA', 'interactions_QA'], var_name='Thematiques', value_name='Value')\n",
    "\n",
    "# Supprimer les valeurs manquantes\n",
    "data_long_QA = data_long_QA.dropna()\n",
    "\n",
    "# Perform the t-test\n",
    "ttest_QA = pairwise_tukeyhsd(endog=data_long_QA['Value'], groups=data_long_QA['Thematiques'], alpha=0.05)\n",
    "\n",
    "# Print the results\n",
    "print(ttest_QA)\n",
    "\n",
    "mean_activites_QA = data['activites_QA'].mean()\n",
    "mean_interactions_QA = data['interactions_QA'].mean()\n",
    "std_activites_QA = data['activites_QA'].std()\n",
    "std_interactions_QA = data['interactions_QA'].std()\n",
    "\n",
    "print(\"Bien-être moyen des Octos de la Mairie concernant leurs activités en tribu est de:\", mean_activites_QA)\n",
    "print(\"Ecart-type de:\", std_activites_QA)\n",
    "\n",
    "print(\"Bien-être moyen des Octos de la Mairie concernant leurs interactions en tribu est de :\", mean_interactions_QA)\n",
    "print(\"Ecart-type de :\", std_interactions_QA)"
   ]
  },
  {
   "cell_type": "markdown",
   "id": "cb7f6b2e",
   "metadata": {},
   "source": [
    "## Effet de nos facteurs anciennete X OFA"
   ]
  },
  {
   "cell_type": "code",
   "execution_count": 12,
   "id": "6b07ac83",
   "metadata": {},
   "outputs": [
    {
     "name": "stdout",
     "output_type": "stream",
     "text": [
      "                  sum_sq    df         F    PR(>F)\n",
      "C(anciennete)   0.533173   3.0  0.297852  0.826867\n",
      "C(OFA)          0.000006   1.0  0.000010  0.997422\n",
      "Residual       56.685273  95.0       NaN       NaN\n",
      "Il n'y a pas de différence statistiquement significative des moyennes entre les niveaux d'ancienneté.\n",
      "Il n'y a pas de différence statistiquement significative des moyennes entre les niveaux de OFA.\n"
     ]
    }
   ],
   "source": [
    "# Création du modèle ANOVA\n",
    "model_QA_factors = ols('QA_total ~ C(anciennete) + C(OFA)', data=data).fit()\n",
    "\n",
    "# Tableau d'analyse de variance (ANOVA)\n",
    "anova_table_QA_total = sm.stats.anova_lm(model_QA_factors, typ=2)\n",
    "print(anova_table_QA_total)\n",
    "\n",
    "# Interprétation de l'effet principal de l'ancienneté\n",
    "if anova_table_QA_total['PR(>F)']['C(anciennete)'] < 0.05:\n",
    "    print(\"Il y a une différence statistiquement significative des moyennes entre les niveaux d'ancienneté.\")\n",
    "else:\n",
    "    print(\"Il n'y a pas de différence statistiquement significative des moyennes entre les niveaux d'ancienneté.\")\n",
    "\n",
    "# Interprétation de l'effet principal de OFA\n",
    "if anova_table_QA_total['PR(>F)']['C(OFA)'] < 0.05:\n",
    "    print(\"Il y a une différence statistiquement significative des moyennes entre les niveaux de OFA.\")\n",
    "else:\n",
    "    print(\"Il n'y a pas de différence statistiquement significative des moyennes entre les niveaux de OFA.\")"
   ]
  },
  {
   "cell_type": "markdown",
   "id": "1fa312e0",
   "metadata": {},
   "source": [
    "### Anciennete : post-hoc et stat descriptives"
   ]
  },
  {
   "cell_type": "code",
   "execution_count": 13,
   "id": "9612cce2",
   "metadata": {},
   "outputs": [
    {
     "name": "stdout",
     "output_type": "stream",
     "text": [
      "          Multiple Comparison of Means - Tukey HSD, FWER=0.05          \n",
      "=======================================================================\n",
      "     group1           group2      meandiff p-adj   lower  upper  reject\n",
      "-----------------------------------------------------------------------\n",
      "Entre 1 et 3 ans Entre 3 et 7 ans  -0.1648 0.8025 -0.6413 0.3117  False\n",
      "Entre 1 et 3 ans    Moins de 1 an  -0.0329 0.9991 -0.6744 0.6085  False\n",
      "Entre 1 et 3 ans    Plus de 7 ans   -0.124 0.9509 -0.7322 0.4843  False\n",
      "Entre 3 et 7 ans    Moins de 1 an   0.1319 0.9536 -0.5289 0.7927  False\n",
      "Entre 3 et 7 ans    Plus de 7 ans   0.0409 0.9982 -0.5878 0.6696  False\n",
      "   Moins de 1 an    Plus de 7 ans   -0.091 0.9894 -0.8523 0.6703  False\n",
      "-----------------------------------------------------------------------\n",
      "anciennete\n",
      "Entre 1 et 3 ans    4.090625\n",
      "Entre 3 et 7 ans    3.925781\n",
      "Moins de 1 an       4.057692\n",
      "Plus de 7 ans       3.966667\n",
      "Name: QA_total, dtype: float64\n",
      "anciennete\n",
      "Entre 1 et 3 ans    0.794103\n",
      "Entre 3 et 7 ans    0.755930\n",
      "Moins de 1 an       0.871444\n",
      "Plus de 7 ans       0.613222\n",
      "Name: QA_total, dtype: float64\n"
     ]
    }
   ],
   "source": [
    "# Perform Tukey's HSD test\n",
    "ttest_anciennete_QA = pairwise_tukeyhsd(endog=data['QA_total'], groups=data['anciennete'], alpha=0.05)\n",
    "\n",
    "# Print the results\n",
    "print(ttest_anciennete_QA)\n",
    "\n",
    "# Grouping the data by the factor and calculating the mean for each group\n",
    "means_anciennete_QA = data.groupby('anciennete')['QA_total'].mean()\n",
    "sd_anciennete_QA = data.groupby('anciennete')['QA_total'].std()\n",
    "\n",
    "# Display the results\n",
    "print(means_anciennete_QA)\n",
    "print(sd_anciennete_QA)"
   ]
  },
  {
   "cell_type": "markdown",
   "id": "103c31aa",
   "metadata": {},
   "source": [
    "### OFA : post-hoc et stat descriptives"
   ]
  },
  {
   "cell_type": "code",
   "execution_count": 14,
   "id": "3a53db94",
   "metadata": {},
   "outputs": [
    {
     "name": "stdout",
     "output_type": "stream",
     "text": [
      "Multiple Comparison of Means - Tukey HSD, FWER=0.05\n",
      "===================================================\n",
      "group1 group2 meandiff p-adj   lower  upper  reject\n",
      "---------------------------------------------------\n",
      "   Non    Oui  -0.0283 0.9012 -0.4792 0.4226  False\n",
      "---------------------------------------------------\n",
      "OFA\n",
      "Non    4.018678\n",
      "Oui    3.990385\n",
      "Name: QA_total, dtype: float64\n",
      "OFA\n",
      "Non    0.753029\n",
      "Oui    0.839242\n",
      "Name: QA_total, dtype: float64\n"
     ]
    }
   ],
   "source": [
    "# Perform Tukey's HSD test\n",
    "ttest_OFA_QA = pairwise_tukeyhsd(endog=data['QA_total'], groups=data['OFA'], alpha=0.05)\n",
    "\n",
    "# Print the results\n",
    "print(ttest_OFA_QA)\n",
    "\n",
    "# Grouping the data by the factor and calculating the mean for each group\n",
    "means_OFA_QA = data.groupby('OFA')['QA_total'].mean()\n",
    "sd_OFA_QA = data.groupby('OFA')['QA_total'].std()\n",
    "\n",
    "# Display the results\n",
    "print(means_OFA_QA)\n",
    "print(sd_OFA_QA)"
   ]
  },
  {
   "cell_type": "markdown",
   "id": "b9748be1",
   "metadata": {},
   "source": [
    "# Niveau OCTO Technology\n",
    "\n",
    "## Effet de la thématique ? "
   ]
  },
  {
   "cell_type": "code",
   "execution_count": 15,
   "id": "c1ecd611",
   "metadata": {},
   "outputs": [
    {
     "name": "stdout",
     "output_type": "stream",
     "text": [
      "                    sum_sq     df         F    PR(>F)\n",
      "C(Thematiques)    1.849954    4.0  0.369762  0.830186\n",
      "Residual        527.826100  422.0       NaN       NaN\n",
      "Il n'existe pas d'effet significatif des thématiques (p > 0.05).\n"
     ]
    }
   ],
   "source": [
    "# Convertir les données au format long\n",
    "data_long_OCTO = pda.melt(data, value_vars=['sante_conditions_travail', 'manager', 'manages', 'egalite_pro', 'competences_parcours'], var_name='Thematiques', value_name='Value')\n",
    "\n",
    "# Supprimer les valeurs manquantes\n",
    "data_long_OCTO = data_long_OCTO.dropna()\n",
    "\n",
    "# Créer le modèle OLS pour l'ANOVA\n",
    "model_OCTO_theme = ols('Value ~ C(Thematiques)', data=data_long_OCTO).fit()\n",
    "\n",
    "# Effectuer l'ANOVA\n",
    "anova_OCTO = sm.stats.anova_lm(model_OCTO_theme, typ=2)\n",
    "\n",
    "# Afficher les résultats\n",
    "print(anova_OCTO)\n",
    "\n",
    "alpha = 0.05\n",
    "if (anova_OCTO['PR(>F)'] < alpha).any():\n",
    "    print(\"Il existe un effet significatif des thématiques (p < 0.05).\")\n",
    "else:\n",
    "    print(\"Il n'existe pas d'effet significatif des thématiques (p > 0.05).\")"
   ]
  },
  {
   "cell_type": "code",
   "execution_count": 16,
   "id": "341e422c",
   "metadata": {},
   "outputs": [
    {
     "name": "stdout",
     "output_type": "stream",
     "text": [
      "                Multiple Comparison of Means - Tukey HSD, FWER=0.05                \n",
      "===================================================================================\n",
      "       group1                 group2          meandiff p-adj   lower  upper  reject\n",
      "-----------------------------------------------------------------------------------\n",
      "competences_parcours              egalite_pro    0.105 0.9639 -0.3283 0.5383  False\n",
      "competences_parcours                  manager    0.025    1.0 -0.6395 0.6895  False\n",
      "competences_parcours                  manages    0.165 0.8351 -0.2683 0.5983  False\n",
      "competences_parcours sante_conditions_travail    0.017    1.0 -0.4163 0.4503  False\n",
      "         egalite_pro                  manager    -0.08 0.9974 -0.7445 0.5845  False\n",
      "         egalite_pro                  manages     0.06 0.9956 -0.3733 0.4933  False\n",
      "         egalite_pro sante_conditions_travail   -0.088 0.9811 -0.5213 0.3453  False\n",
      "             manager                  manages     0.14 0.9784 -0.5245 0.8045  False\n",
      "             manager sante_conditions_travail   -0.008    1.0 -0.6725 0.6565  False\n",
      "             manages sante_conditions_travail   -0.148 0.8829 -0.5813 0.2853  False\n",
      "-----------------------------------------------------------------------------------\n"
     ]
    }
   ],
   "source": [
    "# Perform Tukey's test for post-hoc comparisons\n",
    "tukey_OCTO = pairwise_tukeyhsd(endog=data_long_OCTO['Value'], groups=data_long_OCTO['Thematiques'], alpha=0.05)\n",
    "\n",
    "# Print Tukey's test results\n",
    "print(tukey_OCTO)"
   ]
  },
  {
   "cell_type": "code",
   "execution_count": 17,
   "id": "20dd5389",
   "metadata": {},
   "outputs": [
    {
     "name": "stdout",
     "output_type": "stream",
     "text": [
      "Moyenne Santé et conditions de travail: 3.992\n",
      "SD:  0.8355340637683012\n",
      "Moyenne competences et parcours: 3.975\n",
      "SD:  1.0252494153309053\n",
      "Moyenne égalité professionnelle: 4.08\n",
      "SD:  0.9460710887932813\n",
      "Moyenne des managé.e.s: 4.14\n",
      "SD:  1.4634951936436893\n",
      "Moyenne des managers: 4.0\n",
      "SD:  1.4411533842457842\n",
      "Effectif managers: 27\n"
     ]
    }
   ],
   "source": [
    "moyenne_sante_conditions = data['sante_conditions_travail'].mean()\n",
    "sd_sante_conditions = data['sante_conditions_travail'].std()\n",
    "print(\"Moyenne Santé et conditions de travail:\", moyenne_sante_conditions)\n",
    "print(\"SD: \", sd_sante_conditions)\n",
    "\n",
    "moyenne_competences_parcours = data['competences_parcours'].mean()\n",
    "sd_competences_parcours = data['competences_parcours'].std()\n",
    "print(\"Moyenne competences et parcours:\", moyenne_competences_parcours)\n",
    "print(\"SD: \", sd_competences_parcours)\n",
    "\n",
    "moyenne_egalite_pro = data['egalite_pro'].mean()\n",
    "sd_egalite_pro = data['egalite_pro'].std()\n",
    "print(\"Moyenne égalité professionnelle:\", moyenne_egalite_pro)\n",
    "print(\"SD: \", sd_egalite_pro)\n",
    "\n",
    "moyenne_manages = data['manages'].mean()\n",
    "sd_manages = data['manages'].std()\n",
    "print(\"Moyenne des managé.e.s:\", moyenne_manages)\n",
    "print(\"SD: \", sd_manages)\n",
    "\n",
    "effectif_manager = data['manager'].count()\n",
    "moyenne_manager = data['manager'].mean()\n",
    "sd_manager = data['manager'].std()\n",
    "print(\"Moyenne des managers:\", moyenne_manager)\n",
    "print(\"SD: \", sd_manager)\n",
    "print(\"Effectif managers:\", effectif_manager)"
   ]
  },
  {
   "cell_type": "markdown",
   "id": "8ee7c5f9",
   "metadata": {},
   "source": [
    "## Effet de nos facteurs anciennete X OFA"
   ]
  },
  {
   "cell_type": "code",
   "execution_count": 18,
   "id": "e1610d0d",
   "metadata": {},
   "outputs": [
    {
     "name": "stdout",
     "output_type": "stream",
     "text": [
      "                  sum_sq    df         F    PR(>F)\n",
      "C(anciennete)   2.327384   3.0  2.737193  0.047761\n",
      "C(OFA)          1.648057   1.0  5.814748  0.017815\n",
      "Residual       26.925569  95.0       NaN       NaN\n",
      "Il y a une différence statistiquement significative des moyennes entre les niveaux d'ancienneté.\n",
      "Il y a une différence statistiquement significative des moyennes entre les niveaux de OFA.\n"
     ]
    }
   ],
   "source": [
    "# Création du modèle ANOVA\n",
    "model_OCTO_factors = ols('OCTO_total ~ C(anciennete) + C(OFA)', data=data).fit()\n",
    "\n",
    "# Tableau d'analyse de variance (ANOVA)\n",
    "anova_table_OCTO_total = sm.stats.anova_lm(model_OCTO_factors, typ=2)\n",
    "print(anova_table_OCTO_total)\n",
    "\n",
    "# Interprétation de l'effet principal de l'ancienneté\n",
    "if anova_table_OCTO_total['PR(>F)']['C(anciennete)'] < 0.05:\n",
    "    print(\"Il y a une différence statistiquement significative des moyennes entre les niveaux d'ancienneté.\")\n",
    "else:\n",
    "    print(\"Il n'y a pas de différence statistiquement significative des moyennes entre les niveaux d'ancienneté.\")\n",
    "\n",
    "# Interprétation de l'effet principal de OFA\n",
    "if anova_table_OCTO_total['PR(>F)']['C(OFA)'] < 0.05:\n",
    "    print(\"Il y a une différence statistiquement significative des moyennes entre les niveaux de OFA.\")\n",
    "else:\n",
    "    print(\"Il n'y a pas de différence statistiquement significative des moyennes entre les niveaux de OFA.\")"
   ]
  },
  {
   "cell_type": "markdown",
   "id": "3dbffbc0",
   "metadata": {},
   "source": [
    "### Anciennete : post-hoc et stat descriptives"
   ]
  },
  {
   "cell_type": "code",
   "execution_count": 19,
   "id": "c2c4ac90",
   "metadata": {},
   "outputs": [
    {
     "name": "stdout",
     "output_type": "stream",
     "text": [
      "          Multiple Comparison of Means - Tukey HSD, FWER=0.05          \n",
      "=======================================================================\n",
      "     group1           group2      meandiff p-adj   lower  upper  reject\n",
      "-----------------------------------------------------------------------\n",
      "Entre 1 et 3 ans Entre 3 et 7 ans   0.2907 0.1181 -0.0476  0.629  False\n",
      "Entre 1 et 3 ans    Moins de 1 an   0.4965  0.027  0.0411 0.9519   True\n",
      "Entre 1 et 3 ans    Plus de 7 ans   0.0966 0.9364 -0.3353 0.5285  False\n",
      "Entre 3 et 7 ans    Moins de 1 an   0.2058 0.6616 -0.2634 0.6749  False\n",
      "Entre 3 et 7 ans    Plus de 7 ans  -0.1941 0.6676 -0.6405 0.2522  False\n",
      "   Moins de 1 an    Plus de 7 ans  -0.3999 0.2207 -0.9404 0.1406  False\n",
      "-----------------------------------------------------------------------\n",
      "anciennete\n",
      "Entre 1 et 3 ans    3.868875\n",
      "Entre 3 et 7 ans    4.159609\n",
      "Moins de 1 an       4.365385\n",
      "Plus de 7 ans       3.965500\n",
      "Name: OCTO_total, dtype: float64\n",
      "anciennete\n",
      "Entre 1 et 3 ans    0.535576\n",
      "Entre 3 et 7 ans    0.619293\n",
      "Moins de 1 an       0.419281\n",
      "Plus de 7 ans       0.491937\n",
      "Name: OCTO_total, dtype: float64\n"
     ]
    }
   ],
   "source": [
    "# Perform Tukey's HSD test\n",
    "ttest_anciennete_OCTO = pairwise_tukeyhsd(endog=data['OCTO_total'], groups=data['anciennete'], alpha=0.05)\n",
    "\n",
    "# Print the results\n",
    "print(ttest_anciennete_OCTO)\n",
    "\n",
    "# Grouping the data by the factor and calculating the mean for each group\n",
    "means_anciennete = data.groupby('anciennete')['OCTO_total'].mean()\n",
    "sd_anciennete = data.groupby('anciennete')['OCTO_total'].std()\n",
    "\n",
    "# Display the results\n",
    "print(means_anciennete)\n",
    "print(sd_anciennete)"
   ]
  },
  {
   "cell_type": "markdown",
   "id": "8437ce9f",
   "metadata": {},
   "source": [
    "### OFA : post hoc et stat descriptives"
   ]
  },
  {
   "cell_type": "code",
   "execution_count": 20,
   "id": "ed2c3377",
   "metadata": {},
   "outputs": [
    {
     "name": "stdout",
     "output_type": "stream",
     "text": [
      "Multiple Comparison of Means - Tukey HSD, FWER=0.05\n",
      "==================================================\n",
      "group1 group2 meandiff p-adj  lower  upper  reject\n",
      "--------------------------------------------------\n",
      "   Non    Oui   0.4616 0.0055 0.1392 0.7839   True\n",
      "--------------------------------------------------\n",
      "OFA\n",
      "Non    3.980948\n",
      "Oui    4.442500\n",
      "Name: OCTO_total, dtype: float64\n",
      "OFA\n",
      "Non    0.566118\n",
      "Oui    0.375371\n",
      "Name: OCTO_total, dtype: float64\n"
     ]
    }
   ],
   "source": [
    "# Perform Tukey's HSD test\n",
    "ttest_OFA_OCTO = pairwise_tukeyhsd(endog=data['OCTO_total'], groups=data['OFA'], alpha=0.05)\n",
    "\n",
    "# Print the results\n",
    "print(ttest_OFA_OCTO)\n",
    "\n",
    "# Grouping the data by the factor and calculating the mean for each group\n",
    "means_OFA_OCTO = data.groupby('OFA')['OCTO_total'].mean()\n",
    "sd_OFA_OCTO = data.groupby('OFA')['OCTO_total'].std()\n",
    "\n",
    "# Display the results\n",
    "print(means_OFA_OCTO)\n",
    "print(sd_OFA_OCTO)"
   ]
  },
  {
   "cell_type": "markdown",
   "id": "6e4e160f",
   "metadata": {},
   "source": [
    "# Focus sur l'égalité professionnelle"
   ]
  },
  {
   "cell_type": "code",
   "execution_count": 21,
   "id": "31e88be1",
   "metadata": {},
   "outputs": [
    {
     "name": "stdout",
     "output_type": "stream",
     "text": [
      "                  sum_sq    df         F    PR(>F)\n",
      "C(anciennete)   0.261359   3.0  0.093816  0.963285\n",
      "C(OFA)          0.097247   1.0  0.104722  0.746946\n",
      "Residual       88.219189  95.0       NaN       NaN\n",
      "Il n'y a pas de différence statistiquement significative des moyennes entre les niveaux d'ancienneté.\n",
      "Il n'y a pas de différence statistiquement significative des moyennes entre les niveaux de OFA.\n"
     ]
    }
   ],
   "source": [
    "# Création du modèle ANOVA\n",
    "model_egalitepro_factors = ols('egalite_pro ~ C(anciennete) + C(OFA)', data=data).fit()\n",
    "\n",
    "# Tableau d'analyse de variance (ANOVA)\n",
    "anova_table_egalitepro = sm.stats.anova_lm(model_egalitepro_factors, typ=2)\n",
    "print(anova_table_egalitepro)\n",
    "\n",
    "# Interprétation de l'effet principal de l'ancienneté\n",
    "if anova_table_egalitepro['PR(>F)']['C(anciennete)'] < 0.05:\n",
    "    print(\"Il y a une différence statistiquement significative des moyennes entre les niveaux d'ancienneté.\")\n",
    "else:\n",
    "    print(\"Il n'y a pas de différence statistiquement significative des moyennes entre les niveaux d'ancienneté.\")\n",
    "\n",
    "# Interprétation de l'effet principal de OFA\n",
    "if anova_table_egalitepro['PR(>F)']['C(OFA)'] < 0.05:\n",
    "    print(\"Il y a une différence statistiquement significative des moyennes entre les niveaux de OFA.\")\n",
    "else:\n",
    "    print(\"Il n'y a pas de différence statistiquement significative des moyennes entre les niveaux de OFA.\")"
   ]
  },
  {
   "cell_type": "markdown",
   "id": "752d74f5",
   "metadata": {},
   "source": [
    "### Anciennete : post-hoc et stat descriptives"
   ]
  },
  {
   "cell_type": "code",
   "execution_count": 22,
   "id": "b46161c4",
   "metadata": {},
   "outputs": [
    {
     "name": "stdout",
     "output_type": "stream",
     "text": [
      "          Multiple Comparison of Means - Tukey HSD, FWER=0.05          \n",
      "=======================================================================\n",
      "     group1           group2      meandiff p-adj   lower  upper  reject\n",
      "-----------------------------------------------------------------------\n",
      "Entre 1 et 3 ans Entre 3 et 7 ans  -0.0453 0.9972 -0.6401 0.5495  False\n",
      "Entre 1 et 3 ans    Moins de 1 an   0.1043 0.9863 -0.6963 0.9049  False\n",
      "Entre 1 et 3 ans    Plus de 7 ans   0.0813 0.9923  -0.678 0.8405  False\n",
      "Entre 3 et 7 ans    Moins de 1 an   0.1496 0.9646 -0.6752 0.9744  False\n",
      "Entre 3 et 7 ans    Plus de 7 ans   0.1266 0.9746 -0.6582 0.9113  False\n",
      "   Moins de 1 an    Plus de 7 ans  -0.0231 0.9999 -0.9734 0.9272  False\n",
      "-----------------------------------------------------------------------\n",
      "anciennete\n",
      "Entre 1 et 3 ans    4.068750\n",
      "Entre 3 et 7 ans    4.023438\n",
      "Moins de 1 an       4.173077\n",
      "Plus de 7 ans       4.150000\n",
      "Name: egalite_pro, dtype: float64\n",
      "anciennete\n",
      "Entre 1 et 3 ans    0.998376\n",
      "Entre 3 et 7 ans    0.920990\n",
      "Moins de 1 an       1.002001\n",
      "Plus de 7 ans       0.890425\n",
      "Name: egalite_pro, dtype: float64\n"
     ]
    }
   ],
   "source": [
    "# Perform Tukey's HSD test\n",
    "ttest_anciennete_egalitepro = pairwise_tukeyhsd(endog=data['egalite_pro'], groups=data['anciennete'], alpha=0.05)\n",
    "\n",
    "# Print the results\n",
    "print(ttest_anciennete_egalitepro)\n",
    "\n",
    "# Grouping the data by the factor and calculating the mean for each group\n",
    "means_anciennete_egalitepro = data.groupby('anciennete')['egalite_pro'].mean()\n",
    "sd_anciennete_egalitepro = data.groupby('anciennete')['egalite_pro'].std()\n",
    "\n",
    "# Display the results\n",
    "print(means_anciennete_egalitepro)\n",
    "print(sd_anciennete_egalitepro)"
   ]
  },
  {
   "cell_type": "markdown",
   "id": "e7ece8ce",
   "metadata": {},
   "source": [
    "### OFA : post hoc et stat descriptives"
   ]
  },
  {
   "cell_type": "code",
   "execution_count": 23,
   "id": "334c66e7",
   "metadata": {},
   "outputs": [
    {
     "name": "stdout",
     "output_type": "stream",
     "text": [
      "Multiple Comparison of Means - Tukey HSD, FWER=0.05\n",
      "===================================================\n",
      "group1 group2 meandiff p-adj   lower  upper  reject\n",
      "---------------------------------------------------\n",
      "   Non    Oui    0.107 0.7058 -0.4537 0.6677  False\n",
      "---------------------------------------------------\n",
      "OFA\n",
      "Non    4.066092\n",
      "Oui    4.173077\n",
      "Name: egalite_pro, dtype: float64\n",
      "OFA\n",
      "Non    0.974575\n",
      "Oui    0.752666\n",
      "Name: egalite_pro, dtype: float64\n"
     ]
    }
   ],
   "source": [
    "# Perform Tukey's HSD test\n",
    "ttest_OFA_egalitepro = pairwise_tukeyhsd(endog=data['egalite_pro'], groups=data['OFA'], alpha=0.05)\n",
    "\n",
    "# Print the results\n",
    "print(ttest_OFA_egalitepro)\n",
    "\n",
    "# Grouping the data by the factor and calculating the mean for each group\n",
    "means_OFA_egalitepro = data.groupby('OFA')['egalite_pro'].mean()\n",
    "sd_OFA_egalitepro = data.groupby('OFA')['egalite_pro'].std()\n",
    "\n",
    "# Display the results\n",
    "print(means_OFA_egalitepro)\n",
    "print(sd_OFA_egalitepro)"
   ]
  },
  {
   "cell_type": "markdown",
   "id": "3f5c0fba",
   "metadata": {},
   "source": [
    "# Focus sur les compétences et parcours professionnel"
   ]
  },
  {
   "cell_type": "code",
   "execution_count": 24,
   "id": "dc81f0c7",
   "metadata": {},
   "outputs": [
    {
     "name": "stdout",
     "output_type": "stream",
     "text": [
      "                   sum_sq    df         F    PR(>F)\n",
      "C(anciennete)    3.084666   3.0  0.972359  0.409185\n",
      "C(OFA)           0.665283   1.0  0.629138  0.429648\n",
      "Residual       100.457885  95.0       NaN       NaN\n",
      "Il n'y a pas de différence statistiquement significative des moyennes entre les niveaux d'ancienneté.\n",
      "Il n'y a pas de différence statistiquement significative des moyennes entre les niveaux de OFA.\n"
     ]
    }
   ],
   "source": [
    "# Création du modèle ANOVA\n",
    "model_competences_factors = ols('competences_parcours ~ C(anciennete) + C(OFA)', data=data).fit()\n",
    "\n",
    "# Tableau d'analyse de variance (ANOVA)\n",
    "anova_table_competences = sm.stats.anova_lm(model_competences_factors, typ=2)\n",
    "print(anova_table_competences)\n",
    "\n",
    "# Interprétation de l'effet principal de l'ancienneté\n",
    "if anova_table_competences['PR(>F)']['C(anciennete)'] < 0.05:\n",
    "    print(\"Il y a une différence statistiquement significative des moyennes entre les niveaux d'ancienneté.\")\n",
    "else:\n",
    "    print(\"Il n'y a pas de différence statistiquement significative des moyennes entre les niveaux d'ancienneté.\")\n",
    "\n",
    "# Interprétation de l'effet principal de OFA\n",
    "if anova_table_competences['PR(>F)']['C(OFA)'] < 0.05:\n",
    "    print(\"Il y a une différence statistiquement significative des moyennes entre les niveaux de OFA.\")\n",
    "else:\n",
    "    print(\"Il n'y a pas de différence statistiquement significative des moyennes entre les niveaux de OFA.\")"
   ]
  },
  {
   "cell_type": "markdown",
   "id": "8fc645a6",
   "metadata": {},
   "source": [
    "### Anciennete : post-hoc et stat descriptives"
   ]
  },
  {
   "cell_type": "code",
   "execution_count": 25,
   "id": "92d3ceec",
   "metadata": {},
   "outputs": [
    {
     "name": "stdout",
     "output_type": "stream",
     "text": [
      "          Multiple Comparison of Means - Tukey HSD, FWER=0.05          \n",
      "=======================================================================\n",
      "     group1           group2      meandiff p-adj   lower  upper  reject\n",
      "-----------------------------------------------------------------------\n",
      "Entre 1 et 3 ans Entre 3 et 7 ans   0.0203 0.9998 -0.6161 0.6568  False\n",
      "Entre 1 et 3 ans    Moins de 1 an   0.3899 0.6347 -0.4668 1.2466  False\n",
      "Entre 1 et 3 ans    Plus de 7 ans  -0.2562 0.8427 -1.0687 0.5562  False\n",
      "Entre 3 et 7 ans    Moins de 1 an   0.3696 0.6935  -0.513 1.2522  False\n",
      "Entre 3 et 7 ans    Plus de 7 ans  -0.2766 0.8248 -1.1163 0.5631  False\n",
      "   Moins de 1 an    Plus de 7 ans  -0.6462 0.3497  -1.663 0.3707  False\n",
      "-----------------------------------------------------------------------\n",
      "anciennete\n",
      "Entre 1 et 3 ans    3.956250\n",
      "Entre 3 et 7 ans    3.976562\n",
      "Moins de 1 an       4.346154\n",
      "Plus de 7 ans       3.700000\n",
      "Name: competences_parcours, dtype: float64\n",
      "anciennete\n",
      "Entre 1 et 3 ans    1.072511\n",
      "Entre 3 et 7 ans    1.000724\n",
      "Moins de 1 an       1.043524\n",
      "Plus de 7 ans       0.931589\n",
      "Name: competences_parcours, dtype: float64\n"
     ]
    }
   ],
   "source": [
    "# Perform Tukey's HSD test\n",
    "ttest_anciennete_parcourspro = pairwise_tukeyhsd(endog=data['competences_parcours'], groups=data['anciennete'], alpha=0.05)\n",
    "\n",
    "# Print the results\n",
    "print(ttest_anciennete_parcourspro)\n",
    "\n",
    "# Grouping the data by the factor and calculating the mean for each group\n",
    "means_anciennete_competencepro = data.groupby('anciennete')['competences_parcours'].mean()\n",
    "sd_anciennete_competencepro = data.groupby('anciennete')['competences_parcours'].std()\n",
    "\n",
    "# Display the results\n",
    "print(means_anciennete_competencepro)\n",
    "print(sd_anciennete_competencepro)"
   ]
  },
  {
   "cell_type": "markdown",
   "id": "e1321abf",
   "metadata": {},
   "source": [
    "### OFA : post hoc et stat descriptives"
   ]
  },
  {
   "cell_type": "code",
   "execution_count": 26,
   "id": "d8ce708d",
   "metadata": {},
   "outputs": [
    {
     "name": "stdout",
     "output_type": "stream",
     "text": [
      "Multiple Comparison of Means - Tukey HSD, FWER=0.05\n",
      "==================================================\n",
      "group1 group2 meandiff p-adj  lower  upper  reject\n",
      "--------------------------------------------------\n",
      "   Non    Oui  -0.2144 0.4846 -0.821 0.3921  False\n",
      "--------------------------------------------------\n",
      "OFA\n",
      "Non    4.002874\n",
      "Oui    3.788462\n",
      "Name: competences_parcours, dtype: float64\n",
      "OFA\n",
      "Non    1.049982\n",
      "Oui    0.852974\n",
      "Name: competences_parcours, dtype: float64\n"
     ]
    }
   ],
   "source": [
    "# Perform Tukey's HSD test\n",
    "ttest_OFA_parcourspro = pairwise_tukeyhsd(endog=data['competences_parcours'], groups=data['OFA'], alpha=0.05)\n",
    "\n",
    "# Print the results\n",
    "print(ttest_OFA_parcourspro)\n",
    "\n",
    "# Grouping the data by the factor and calculating the mean for each group\n",
    "means_OFA_competencepro = data.groupby('OFA')['competences_parcours'].mean()\n",
    "sd_OFA_competencepro = data.groupby('OFA')['competences_parcours'].std()\n",
    "\n",
    "# Display the results\n",
    "print(means_OFA_competencepro)\n",
    "print(sd_OFA_competencepro)"
   ]
  },
  {
   "cell_type": "markdown",
   "id": "dafccda8",
   "metadata": {},
   "source": [
    "# Focus sur la santé et les conditions de travail"
   ]
  },
  {
   "cell_type": "code",
   "execution_count": 27,
   "id": "51a2e7eb",
   "metadata": {},
   "outputs": [
    {
     "name": "stdout",
     "output_type": "stream",
     "text": [
      "                  sum_sq    df         F    PR(>F)\n",
      "C(anciennete)   2.039570   3.0  1.012511  0.390761\n",
      "C(OFA)          3.028588   1.0  4.510478  0.036286\n",
      "Residual       63.788335  95.0       NaN       NaN\n",
      "Il n'y a pas de différence statistiquement significative des moyennes entre les niveaux d'ancienneté.\n",
      "Il y a une différence statistiquement significative des moyennes entre les niveaux de OFA.\n"
     ]
    }
   ],
   "source": [
    "# Création du modèle ANOVA\n",
    "model_sante_factors = ols('sante_conditions_travail ~ C(anciennete) + C(OFA)', data=data).fit()\n",
    "\n",
    "# Tableau d'analyse de variance (ANOVA)\n",
    "anova_table_sante = sm.stats.anova_lm(model_sante_factors, typ=2)\n",
    "print(anova_table_sante)\n",
    "\n",
    "# Interprétation de l'effet principal de l'ancienneté\n",
    "if anova_table_sante['PR(>F)']['C(anciennete)'] < 0.05:\n",
    "    print(\"Il y a une différence statistiquement significative des moyennes entre les niveaux d'ancienneté.\")\n",
    "else:\n",
    "    print(\"Il n'y a pas de différence statistiquement significative des moyennes entre les niveaux d'ancienneté.\")\n",
    "\n",
    "# Interprétation de l'effet principal de OFA\n",
    "if anova_table_sante['PR(>F)']['C(OFA)'] < 0.05:\n",
    "    print(\"Il y a une différence statistiquement significative des moyennes entre les niveaux de OFA.\")\n",
    "else:\n",
    "    print(\"Il n'y a pas de différence statistiquement significative des moyennes entre les niveaux de OFA.\")"
   ]
  },
  {
   "cell_type": "markdown",
   "id": "498d55b9",
   "metadata": {},
   "source": [
    "### Anciennete : post-hoc et stat descriptives"
   ]
  },
  {
   "cell_type": "code",
   "execution_count": 28,
   "id": "c5f17bf0",
   "metadata": {},
   "outputs": [
    {
     "name": "stdout",
     "output_type": "stream",
     "text": [
      "          Multiple Comparison of Means - Tukey HSD, FWER=0.05          \n",
      "=======================================================================\n",
      "     group1           group2      meandiff p-adj   lower  upper  reject\n",
      "-----------------------------------------------------------------------\n",
      "Entre 1 et 3 ans Entre 3 et 7 ans     0.07 0.9847 -0.4473 0.5873  False\n",
      "Entre 1 et 3 ans    Moins de 1 an  -0.0146 0.9999  -0.711 0.6818  False\n",
      "Entre 1 et 3 ans    Plus de 7 ans    -0.39 0.4156 -1.0504 0.2704  False\n",
      "Entre 3 et 7 ans    Moins de 1 an  -0.0846 0.9898  -0.802 0.6328  False\n",
      "Entre 3 et 7 ans    Plus de 7 ans    -0.46  0.298 -1.1426 0.2226  False\n",
      "   Moins de 1 an    Plus de 7 ans  -0.3754 0.6362 -1.2019 0.4512  False\n",
      "-----------------------------------------------------------------------\n",
      "anciennete\n",
      "Entre 1 et 3 ans    4.030000\n",
      "Entre 3 et 7 ans    4.100000\n",
      "Moins de 1 an       4.015385\n",
      "Plus de 7 ans       3.640000\n",
      "Name: sante_conditions_travail, dtype: float64\n",
      "anciennete\n",
      "Entre 1 et 3 ans    0.757256\n",
      "Entre 3 et 7 ans    0.922829\n",
      "Moins de 1 an       0.810191\n",
      "Plus de 7 ans       0.852559\n",
      "Name: sante_conditions_travail, dtype: float64\n"
     ]
    }
   ],
   "source": [
    "# Perform Tukey's HSD test\n",
    "ttest_anciennete_sante_conditions = pairwise_tukeyhsd(endog=data['sante_conditions_travail'], groups=data['anciennete'], alpha=0.05)\n",
    "\n",
    "# Print the results\n",
    "print(ttest_anciennete_sante_conditions)\n",
    "\n",
    "# Grouping the data by the factor and calculating the mean for each group\n",
    "means_anciennete_sante_conditions = data.groupby('anciennete')['sante_conditions_travail'].mean()\n",
    "sd_anciennete_sante_conditions = data.groupby('anciennete')['sante_conditions_travail'].std()\n",
    "\n",
    "# Display the results\n",
    "print(means_anciennete_sante_conditions)\n",
    "print(sd_anciennete_sante_conditions)"
   ]
  },
  {
   "cell_type": "markdown",
   "id": "0b5e950c",
   "metadata": {},
   "source": [
    "### OFA : post hoc et stat descriptives"
   ]
  },
  {
   "cell_type": "code",
   "execution_count": 29,
   "id": "3401f263",
   "metadata": {},
   "outputs": [
    {
     "name": "stdout",
     "output_type": "stream",
     "text": [
      "Multiple Comparison of Means - Tukey HSD, FWER=0.05 \n",
      "====================================================\n",
      "group1 group2 meandiff p-adj   lower   upper  reject\n",
      "----------------------------------------------------\n",
      "   Non    Oui   -0.539 0.0293 -1.0226 -0.0554   True\n",
      "----------------------------------------------------\n",
      "OFA\n",
      "Non    4.062069\n",
      "Oui    3.523077\n",
      "Name: sante_conditions_travail, dtype: float64\n",
      "OFA\n",
      "Non    0.830976\n",
      "Oui    0.732750\n",
      "Name: sante_conditions_travail, dtype: float64\n"
     ]
    }
   ],
   "source": [
    "# Perform Tukey's HSD test\n",
    "ttest_OFA_sante_conditions = pairwise_tukeyhsd(endog=data['sante_conditions_travail'], groups=data['OFA'], alpha=0.05)\n",
    "\n",
    "# Print the results\n",
    "print(ttest_OFA_sante_conditions)\n",
    "\n",
    "# Grouping the data by the factor and calculating the mean for each group\n",
    "means_OFA_sante_conditions = data.groupby('OFA')['sante_conditions_travail'].mean()\n",
    "sd_OFA_sante_conditions = data.groupby('OFA')['sante_conditions_travail'].std()\n",
    "\n",
    "# Display the results\n",
    "print(means_OFA_sante_conditions)\n",
    "print(sd_OFA_sante_conditions)"
   ]
  },
  {
   "cell_type": "markdown",
   "id": "fb35086d",
   "metadata": {},
   "source": [
    "# Focus sur le management côté managés"
   ]
  },
  {
   "cell_type": "code",
   "execution_count": 30,
   "id": "8bb95182",
   "metadata": {},
   "outputs": [
    {
     "name": "stdout",
     "output_type": "stream",
     "text": [
      "                   sum_sq    df          F    PR(>F)\n",
      "C(anciennete)   10.584958   3.0   2.238185  0.088811\n",
      "C(OFA)          40.851188   1.0  25.913904  0.000002\n",
      "Residual       149.759869  95.0        NaN       NaN\n",
      "Il n'y a pas de différence statistiquement significative des moyennes entre les niveaux d'ancienneté.\n",
      "Il y a une différence statistiquement significative des moyennes entre les niveaux de OFA.\n"
     ]
    }
   ],
   "source": [
    "# Création du modèle ANOVA\n",
    "model_manages_factors = ols('manages ~ C(anciennete) + C(OFA)', data=data).fit()\n",
    "\n",
    "# Tableau d'analyse de variance (ANOVA)\n",
    "anova_table_manages = sm.stats.anova_lm(model_manages_factors, typ=2)\n",
    "print(anova_table_manages)\n",
    "\n",
    "# Interprétation de l'effet principal de l'ancienneté\n",
    "if anova_table_manages['PR(>F)']['C(anciennete)'] < 0.05:\n",
    "    print(\"Il y a une différence statistiquement significative des moyennes entre les niveaux d'ancienneté.\")\n",
    "else:\n",
    "    print(\"Il n'y a pas de différence statistiquement significative des moyennes entre les niveaux d'ancienneté.\")\n",
    "\n",
    "# Interprétation de l'effet principal de OFA\n",
    "if anova_table_manages['PR(>F)']['C(OFA)'] < 0.05:\n",
    "    print(\"Il y a une différence statistiquement significative des moyennes entre les niveaux de OFA.\")\n",
    "else:\n",
    "    print(\"Il n'y a pas de différence statistiquement significative des moyennes entre les niveaux de OFA.\")"
   ]
  },
  {
   "cell_type": "markdown",
   "id": "733d720b",
   "metadata": {},
   "source": [
    "### Anciennete : post-hoc et stat descriptives"
   ]
  },
  {
   "cell_type": "code",
   "execution_count": 31,
   "id": "29cbfa82",
   "metadata": {},
   "outputs": [
    {
     "name": "stdout",
     "output_type": "stream",
     "text": [
      "          Multiple Comparison of Means - Tukey HSD, FWER=0.05          \n",
      "=======================================================================\n",
      "     group1           group2      meandiff p-adj   lower  upper  reject\n",
      "-----------------------------------------------------------------------\n",
      "Entre 1 et 3 ans Entre 3 et 7 ans   0.8062 0.0815 -0.0675   1.68  False\n",
      "Entre 1 et 3 ans    Moins de 1 an   1.2462 0.0335    0.07 2.4224   True\n",
      "Entre 1 et 3 ans    Plus de 7 ans      0.8 0.2456 -0.3155 1.9155  False\n",
      "Entre 3 et 7 ans    Moins de 1 an   0.4399 0.7784 -0.7718 1.6516  False\n",
      "Entre 3 et 7 ans    Plus de 7 ans  -0.0062    1.0 -1.1591 1.1466  False\n",
      "   Moins de 1 an    Plus de 7 ans  -0.4462 0.8374 -1.8422 0.9499  False\n",
      "-----------------------------------------------------------------------\n",
      "anciennete\n",
      "Entre 1 et 3 ans    3.600000\n",
      "Entre 3 et 7 ans    4.406250\n",
      "Moins de 1 an       4.846154\n",
      "Plus de 7 ans       4.400000\n",
      "Name: manages, dtype: float64\n",
      "anciennete\n",
      "Entre 1 et 3 ans    1.215287\n",
      "Entre 3 et 7 ans    1.521022\n",
      "Moins de 1 an       1.519109\n",
      "Plus de 7 ans       1.549193\n",
      "Name: manages, dtype: float64\n"
     ]
    }
   ],
   "source": [
    "# Perform Tukey's HSD test\n",
    "ttest_anciennete_manages = pairwise_tukeyhsd(endog=data['manages'], groups=data['anciennete'], alpha=0.05)\n",
    "\n",
    "# Print the results\n",
    "print(ttest_anciennete_manages)\n",
    "\n",
    "# Grouping the data by the factor and calculating the mean for each group\n",
    "means_anciennete_manages = data.groupby('anciennete')['manages'].mean()\n",
    "sd_anciennete_manages = data.groupby('anciennete')['manages'].std()\n",
    "\n",
    "# Display the results\n",
    "print(means_anciennete_manages)\n",
    "print(sd_anciennete_manages)"
   ]
  },
  {
   "cell_type": "markdown",
   "id": "594b99aa",
   "metadata": {},
   "source": [
    "### OFA : post hoc et stat descriptives"
   ]
  },
  {
   "cell_type": "code",
   "execution_count": 32,
   "id": "bc6d9d6f",
   "metadata": {},
   "outputs": [
    {
     "name": "stdout",
     "output_type": "stream",
     "text": [
      "Multiple Comparison of Means - Tukey HSD, FWER=0.05\n",
      "=================================================\n",
      "group1 group2 meandiff p-adj lower  upper  reject\n",
      "-------------------------------------------------\n",
      "   Non    Oui   2.1379   0.0 1.3831 2.8927   True\n",
      "-------------------------------------------------\n",
      "OFA\n",
      "Non    3.862069\n",
      "Oui    6.000000\n",
      "Name: manages, dtype: float64\n",
      "OFA\n",
      "Non    1.365458\n",
      "Oui    0.000000\n",
      "Name: manages, dtype: float64\n"
     ]
    }
   ],
   "source": [
    "# Perform Tukey's HSD test\n",
    "ttest_OFA_manages = pairwise_tukeyhsd(endog=data['manages'], groups=data['OFA'], alpha=0.05)\n",
    "\n",
    "# Print the results\n",
    "print(ttest_OFA_manages)\n",
    "\n",
    "# Grouping the data by the factor and calculating the mean for each group\n",
    "means_OFA_manages = data.groupby('OFA')['manages'].mean()\n",
    "sd_OFA_manages = data.groupby('OFA')['manages'].std()\n",
    "\n",
    "# Display the results\n",
    "print(means_OFA_manages)\n",
    "print(sd_OFA_manages)"
   ]
  },
  {
   "cell_type": "markdown",
   "id": "f5e5cebb",
   "metadata": {},
   "source": [
    "# Focus sur le management côté managers"
   ]
  },
  {
   "cell_type": "code",
   "execution_count": 33,
   "id": "dedc4653",
   "metadata": {},
   "outputs": [
    {
     "name": "stdout",
     "output_type": "stream",
     "text": [
      "                  sum_sq    df         F    PR(>F)\n",
      "C(anciennete)   7.568182   3.0  1.685300  0.199234\n",
      "C(OFA)          8.000000   1.0  5.344375  0.030537\n",
      "Residual       32.931818  22.0       NaN       NaN\n",
      "Il n'y a pas de différence statistiquement significative des moyennes entre les niveaux d'ancienneté.\n",
      "Il y a une différence statistiquement significative des moyennes entre les niveaux de OFA.\n"
     ]
    }
   ],
   "source": [
    "# Création du modèle ANOVA\n",
    "model_manager_factors = ols('manager ~ C(anciennete) + C(OFA)', data=data).fit()\n",
    "\n",
    "# Tableau d'analyse de variance (ANOVA)\n",
    "anova_table_manager = sm.stats.anova_lm(model_manager_factors, typ=2)\n",
    "print(anova_table_manager)\n",
    "\n",
    "# Interprétation de l'effet principal de l'ancienneté\n",
    "if anova_table_manager['PR(>F)']['C(anciennete)'] < 0.05:\n",
    "    print(\"Il y a une différence statistiquement significative des moyennes entre les niveaux d'ancienneté.\")\n",
    "else:\n",
    "    print(\"Il n'y a pas de différence statistiquement significative des moyennes entre les niveaux d'ancienneté.\")\n",
    "\n",
    "# Interprétation de l'effet principal de OFA\n",
    "if anova_table_manager['PR(>F)']['C(OFA)'] < 0.05:\n",
    "    print(\"Il y a une différence statistiquement significative des moyennes entre les niveaux de OFA.\")\n",
    "else:\n",
    "    print(\"Il n'y a pas de différence statistiquement significative des moyennes entre les niveaux de OFA.\")"
   ]
  },
  {
   "cell_type": "markdown",
   "id": "efacf52a",
   "metadata": {},
   "source": [
    "## Anciennete : post-hoc et stat descriptives"
   ]
  },
  {
   "cell_type": "code",
   "execution_count": 34,
   "id": "0f5d53f3",
   "metadata": {},
   "outputs": [
    {
     "name": "stdout",
     "output_type": "stream",
     "text": [
      "          Multiple Comparison of Means - Tukey HSD, FWER=0.05          \n",
      "=======================================================================\n",
      "     group1           group2      meandiff p-adj   lower  upper  reject\n",
      "-----------------------------------------------------------------------\n",
      "Entre 1 et 3 ans Entre 3 et 7 ans   1.3939 0.1215 -0.2653 3.0532  False\n",
      "Entre 1 et 3 ans    Moins de 1 an   1.7273 0.2215 -0.6773 4.1318  False\n",
      "Entre 1 et 3 ans    Plus de 7 ans   0.4773  0.927 -1.6782 2.6327  False\n",
      "Entre 3 et 7 ans    Moins de 1 an   0.3333 0.9816 -2.1278 2.7945  False\n",
      "Entre 3 et 7 ans    Plus de 7 ans  -0.9167 0.6672 -3.1351 1.3018  False\n",
      "   Moins de 1 an    Plus de 7 ans    -1.25 0.6167 -4.0696 1.5696  False\n",
      "-----------------------------------------------------------------------\n",
      "Means by anciennete among managers:\n",
      "anciennete\n",
      "Entre 1 et 3 ans    3.272727\n",
      "Entre 3 et 7 ans    4.666667\n",
      "Moins de 1 an       5.000000\n",
      "Plus de 7 ans       3.750000\n",
      "Name: manager, dtype: float64\n",
      "\n",
      "Standard Deviations by anciennete among managers:\n",
      "anciennete\n",
      "Entre 1 et 3 ans    0.904534\n",
      "Entre 3 et 7 ans    1.581139\n",
      "Moins de 1 an       1.732051\n",
      "Plus de 7 ans       1.500000\n",
      "Name: manager, dtype: float64\n"
     ]
    }
   ],
   "source": [
    "# Filtrer pour ne garder que les managers\n",
    "data_managers = data[data['Es-tu manager/manageuse ?'] == 'Oui']\n",
    "\n",
    "# Vérifier que 'manager' et 'anciennete' ne contiennent pas de NaN dans le sous-ensemble filtré\n",
    "data_managers = data_managers.dropna(subset=['manager', 'anciennete'])\n",
    "\n",
    "# Perform Tukey's HSD test\n",
    "ttest_anciennete_manager = pairwise_tukeyhsd(endog=data_managers['manager'], groups=data_managers['anciennete'], alpha=0.05)\n",
    "\n",
    "# Print the results of the Tukey test\n",
    "print(ttest_anciennete_manager)\n",
    "\n",
    "# Grouping the data by the factor and calculating the mean and standard deviation for each group\n",
    "means_anciennete_managers = data_managers.groupby('anciennete')['manager'].mean()\n",
    "sd_anciennete_managers = data_managers.groupby('anciennete')['manager'].std()\n",
    "\n",
    "# Display the calculated means and standard deviations\n",
    "print(\"Means by anciennete among managers:\")\n",
    "print(means_anciennete_managers)\n",
    "print(\"\\nStandard Deviations by anciennete among managers:\")\n",
    "print(sd_anciennete_managers)"
   ]
  },
  {
   "cell_type": "markdown",
   "id": "b90a1a6d",
   "metadata": {},
   "source": [
    "## OFA : post hoc et stat descriptives"
   ]
  },
  {
   "cell_type": "code",
   "execution_count": 35,
   "id": "afceaabf",
   "metadata": {},
   "outputs": [
    {
     "name": "stdout",
     "output_type": "stream",
     "text": [
      "anciennete\n",
      "Entre 1 et 3 ans    3.272727\n",
      "Entre 3 et 7 ans    4.666667\n",
      "Moins de 1 an       5.000000\n",
      "Plus de 7 ans       3.750000\n",
      "Name: manager, dtype: float64\n",
      "anciennete\n",
      "Entre 1 et 3 ans    0.904534\n",
      "Entre 3 et 7 ans    1.581139\n",
      "Moins de 1 an       1.732051\n",
      "Plus de 7 ans       1.500000\n",
      "Name: manager, dtype: float64\n",
      "OFA\n",
      "Non    3.75\n",
      "Oui    6.00\n",
      "Name: manager, dtype: float64\n",
      "OFA\n",
      "Non    1.326978\n",
      "Oui    0.000000\n",
      "Name: manager, dtype: float64\n"
     ]
    }
   ],
   "source": [
    "# Grouping the data by the factor and calculating the mean for each group\n",
    "means_anciennete_managers = data_managers.groupby('anciennete')['manager'].mean()\n",
    "sd_anciennete_managers = data_managers.groupby('anciennete')['manager'].std()\n",
    "\n",
    "# Display the results\n",
    "print(means_anciennete_managers)\n",
    "print(sd_anciennete_managers)\n",
    "\n",
    "# Grouping the data by the factor and calculating the mean for each group\n",
    "means_OFA_managers = data_managers.groupby('OFA')['manager'].mean()\n",
    "sd_OFA_managers = data_managers.groupby('OFA')['manager'].std()\n",
    "\n",
    "# Display the results\n",
    "print(means_OFA_managers)\n",
    "print(sd_OFA_managers)"
   ]
  },
  {
   "cell_type": "markdown",
   "id": "4d1e1e12",
   "metadata": {},
   "source": [
    "# Bien-être en mission / travail quotidien "
   ]
  },
  {
   "cell_type": "code",
   "execution_count": 36,
   "id": "25fdf60d",
   "metadata": {},
   "outputs": [
    {
     "name": "stdout",
     "output_type": "stream",
     "text": [
      "Moyenne sur les missions quotidiennes: 4.0606060606060606\n",
      "SD:  1.8059888004386497\n"
     ]
    }
   ],
   "source": [
    "# Rappel: \n",
    "moyenne_missions = data['missions_taches'].mean()\n",
    "sd_missions = data['missions_taches'].std()\n",
    "print(\"Moyenne sur les missions quotidiennes:\", moyenne_missions)\n",
    "print(\"SD: \", sd_missions)"
   ]
  },
  {
   "cell_type": "markdown",
   "id": "626e6882",
   "metadata": {},
   "source": [
    "## Effet de nos facteurs Anciennete X OFA"
   ]
  },
  {
   "cell_type": "code",
   "execution_count": 37,
   "id": "44163bac",
   "metadata": {
    "scrolled": true
   },
   "outputs": [
    {
     "ename": "ValueError",
     "evalue": "must have at least one row in constraint matrix",
     "output_type": "error",
     "traceback": [
      "\u001b[0;31m---------------------------------------------------------------------------\u001b[0m",
      "\u001b[0;31mValueError\u001b[0m                                Traceback (most recent call last)",
      "Cell \u001b[0;32mIn[37], line 5\u001b[0m\n\u001b[1;32m      2\u001b[0m model_missions \u001b[38;5;241m=\u001b[39m ols(\u001b[38;5;124m'\u001b[39m\u001b[38;5;124mmissions_taches ~ C(anciennete) + C(OFA) + C(statut6mois)\u001b[39m\u001b[38;5;124m'\u001b[39m, data\u001b[38;5;241m=\u001b[39mdata)\u001b[38;5;241m.\u001b[39mfit()\n\u001b[1;32m      4\u001b[0m \u001b[38;5;66;03m# Tableau d'analyse de variance (ANOVA)\u001b[39;00m\n\u001b[0;32m----> 5\u001b[0m anova_table_missions \u001b[38;5;241m=\u001b[39m sm\u001b[38;5;241m.\u001b[39mstats\u001b[38;5;241m.\u001b[39manova_lm(model_missions, typ\u001b[38;5;241m=\u001b[39m\u001b[38;5;241m2\u001b[39m)\n\u001b[1;32m      6\u001b[0m \u001b[38;5;28mprint\u001b[39m(anova_table_missions)\n\u001b[1;32m      8\u001b[0m \u001b[38;5;66;03m# Interprétation de l'effet principal de l'ancienneté\u001b[39;00m\n",
      "File \u001b[0;32m~/anaconda3/lib/python3.11/site-packages/statsmodels/stats/anova.py:349\u001b[0m, in \u001b[0;36manova_lm\u001b[0;34m(*args, **kwargs)\u001b[0m\n\u001b[1;32m    347\u001b[0m \u001b[38;5;28;01mif\u001b[39;00m \u001b[38;5;28mlen\u001b[39m(args) \u001b[38;5;241m==\u001b[39m \u001b[38;5;241m1\u001b[39m:\n\u001b[1;32m    348\u001b[0m     model \u001b[38;5;241m=\u001b[39m args[\u001b[38;5;241m0\u001b[39m]\n\u001b[0;32m--> 349\u001b[0m     \u001b[38;5;28;01mreturn\u001b[39;00m anova_single(model, \u001b[38;5;241m*\u001b[39m\u001b[38;5;241m*\u001b[39mkwargs)\n\u001b[1;32m    351\u001b[0m \u001b[38;5;28;01mif\u001b[39;00m typ \u001b[38;5;129;01mnot\u001b[39;00m \u001b[38;5;129;01min\u001b[39;00m [\u001b[38;5;241m1\u001b[39m, \u001b[38;5;124m\"\u001b[39m\u001b[38;5;124mI\u001b[39m\u001b[38;5;124m\"\u001b[39m]:\n\u001b[1;32m    352\u001b[0m     \u001b[38;5;28;01mraise\u001b[39;00m \u001b[38;5;167;01mValueError\u001b[39;00m(\u001b[38;5;124m\"\u001b[39m\u001b[38;5;124mMultiple models only supported for type I. \u001b[39m\u001b[38;5;124m\"\u001b[39m\n\u001b[1;32m    353\u001b[0m                      \u001b[38;5;124m\"\u001b[39m\u001b[38;5;124mGot type \u001b[39m\u001b[38;5;132;01m%s\u001b[39;00m\u001b[38;5;124m\"\u001b[39m \u001b[38;5;241m%\u001b[39m \u001b[38;5;28mstr\u001b[39m(typ))\n",
      "File \u001b[0;32m~/anaconda3/lib/python3.11/site-packages/statsmodels/stats/anova.py:80\u001b[0m, in \u001b[0;36manova_single\u001b[0;34m(model, **kwargs)\u001b[0m\n\u001b[1;32m     77\u001b[0m     \u001b[38;5;28;01mreturn\u001b[39;00m anova1_lm_single(model, endog, exog, nobs, design_info, table,\n\u001b[1;32m     78\u001b[0m                             n_rows, test, pr_test, robust)\n\u001b[1;32m     79\u001b[0m \u001b[38;5;28;01melif\u001b[39;00m typ \u001b[38;5;129;01min\u001b[39;00m [\u001b[38;5;241m2\u001b[39m, \u001b[38;5;124m\"\u001b[39m\u001b[38;5;124mII\u001b[39m\u001b[38;5;124m\"\u001b[39m]:\n\u001b[0;32m---> 80\u001b[0m     \u001b[38;5;28;01mreturn\u001b[39;00m anova2_lm_single(model, design_info, n_rows, test, pr_test,\n\u001b[1;32m     81\u001b[0m                             robust)\n\u001b[1;32m     82\u001b[0m \u001b[38;5;28;01melif\u001b[39;00m typ \u001b[38;5;129;01min\u001b[39;00m [\u001b[38;5;241m3\u001b[39m, \u001b[38;5;124m\"\u001b[39m\u001b[38;5;124mIII\u001b[39m\u001b[38;5;124m\"\u001b[39m]:\n\u001b[1;32m     83\u001b[0m     \u001b[38;5;28;01mreturn\u001b[39;00m anova3_lm_single(model, design_info, n_rows, test, pr_test,\n\u001b[1;32m     84\u001b[0m                             robust)\n",
      "File \u001b[0;32m~/anaconda3/lib/python3.11/site-packages/statsmodels/stats/anova.py:213\u001b[0m, in \u001b[0;36manova2_lm_single\u001b[0;34m(model, design_info, n_rows, test, pr_test, robust)\u001b[0m\n\u001b[1;32m    211\u001b[0m \u001b[38;5;66;03m#from IPython.core.debugger import Pdb; Pdb().set_trace()\u001b[39;00m\n\u001b[1;32m    212\u001b[0m \u001b[38;5;28;01mif\u001b[39;00m test \u001b[38;5;241m==\u001b[39m \u001b[38;5;124m'\u001b[39m\u001b[38;5;124mF\u001b[39m\u001b[38;5;124m'\u001b[39m:\n\u001b[0;32m--> 213\u001b[0m     f \u001b[38;5;241m=\u001b[39m model\u001b[38;5;241m.\u001b[39mf_test(L12, cov_p\u001b[38;5;241m=\u001b[39mrobust_cov)\n\u001b[1;32m    214\u001b[0m     table\u001b[38;5;241m.\u001b[39mloc[table\u001b[38;5;241m.\u001b[39mindex[i], test] \u001b[38;5;241m=\u001b[39m test_value \u001b[38;5;241m=\u001b[39m f\u001b[38;5;241m.\u001b[39mfvalue\n\u001b[1;32m    215\u001b[0m     table\u001b[38;5;241m.\u001b[39mloc[table\u001b[38;5;241m.\u001b[39mindex[i], pr_test] \u001b[38;5;241m=\u001b[39m f\u001b[38;5;241m.\u001b[39mpvalue\n",
      "File \u001b[0;32m~/anaconda3/lib/python3.11/site-packages/statsmodels/base/model.py:1782\u001b[0m, in \u001b[0;36mLikelihoodModelResults.f_test\u001b[0;34m(self, r_matrix, cov_p, invcov)\u001b[0m\n\u001b[1;32m   1689\u001b[0m \u001b[38;5;28;01mdef\u001b[39;00m \u001b[38;5;21mf_test\u001b[39m(\u001b[38;5;28mself\u001b[39m, r_matrix, cov_p\u001b[38;5;241m=\u001b[39m\u001b[38;5;28;01mNone\u001b[39;00m, invcov\u001b[38;5;241m=\u001b[39m\u001b[38;5;28;01mNone\u001b[39;00m):\n\u001b[1;32m   1690\u001b[0m \u001b[38;5;250m    \u001b[39m\u001b[38;5;124;03m\"\"\"\u001b[39;00m\n\u001b[1;32m   1691\u001b[0m \u001b[38;5;124;03m    Compute the F-test for a joint linear hypothesis.\u001b[39;00m\n\u001b[1;32m   1692\u001b[0m \n\u001b[0;32m   (...)\u001b[0m\n\u001b[1;32m   1780\u001b[0m \u001b[38;5;124;03m    <F test: F=array([[ 144.17976065]]), p=6.322026217355609e-08, df_denom=9, df_num=3>\u001b[39;00m\n\u001b[1;32m   1781\u001b[0m \u001b[38;5;124;03m    \"\"\"\u001b[39;00m\n\u001b[0;32m-> 1782\u001b[0m     res \u001b[38;5;241m=\u001b[39m \u001b[38;5;28mself\u001b[39m\u001b[38;5;241m.\u001b[39mwald_test(r_matrix, cov_p\u001b[38;5;241m=\u001b[39mcov_p, invcov\u001b[38;5;241m=\u001b[39minvcov, use_f\u001b[38;5;241m=\u001b[39m\u001b[38;5;28;01mTrue\u001b[39;00m, scalar\u001b[38;5;241m=\u001b[39m\u001b[38;5;28;01mTrue\u001b[39;00m)\n\u001b[1;32m   1783\u001b[0m     \u001b[38;5;28;01mreturn\u001b[39;00m res\n",
      "File \u001b[0;32m~/anaconda3/lib/python3.11/site-packages/statsmodels/base/model.py:1858\u001b[0m, in \u001b[0;36mLikelihoodModelResults.wald_test\u001b[0;34m(self, r_matrix, cov_p, invcov, use_f, df_constraints, scalar)\u001b[0m\n\u001b[1;32m   1856\u001b[0m names \u001b[38;5;241m=\u001b[39m \u001b[38;5;28mself\u001b[39m\u001b[38;5;241m.\u001b[39mmodel\u001b[38;5;241m.\u001b[39mdata\u001b[38;5;241m.\u001b[39mcov_names\n\u001b[1;32m   1857\u001b[0m params \u001b[38;5;241m=\u001b[39m \u001b[38;5;28mself\u001b[39m\u001b[38;5;241m.\u001b[39mparams\u001b[38;5;241m.\u001b[39mravel()\n\u001b[0;32m-> 1858\u001b[0m LC \u001b[38;5;241m=\u001b[39m DesignInfo(names)\u001b[38;5;241m.\u001b[39mlinear_constraint(r_matrix)\n\u001b[1;32m   1859\u001b[0m r_matrix, q_matrix \u001b[38;5;241m=\u001b[39m LC\u001b[38;5;241m.\u001b[39mcoefs, LC\u001b[38;5;241m.\u001b[39mconstants\n\u001b[1;32m   1861\u001b[0m \u001b[38;5;28;01mif\u001b[39;00m (\u001b[38;5;28mself\u001b[39m\u001b[38;5;241m.\u001b[39mnormalized_cov_params \u001b[38;5;129;01mis\u001b[39;00m \u001b[38;5;28;01mNone\u001b[39;00m \u001b[38;5;129;01mand\u001b[39;00m cov_p \u001b[38;5;129;01mis\u001b[39;00m \u001b[38;5;28;01mNone\u001b[39;00m \u001b[38;5;129;01mand\u001b[39;00m\n\u001b[1;32m   1862\u001b[0m         invcov \u001b[38;5;129;01mis\u001b[39;00m \u001b[38;5;28;01mNone\u001b[39;00m \u001b[38;5;129;01mand\u001b[39;00m \u001b[38;5;129;01mnot\u001b[39;00m \u001b[38;5;28mhasattr\u001b[39m(\u001b[38;5;28mself\u001b[39m, \u001b[38;5;124m'\u001b[39m\u001b[38;5;124mcov_params_default\u001b[39m\u001b[38;5;124m'\u001b[39m)):\n",
      "File \u001b[0;32m~/anaconda3/lib/python3.11/site-packages/patsy/design_info.py:536\u001b[0m, in \u001b[0;36mDesignInfo.linear_constraint\u001b[0;34m(self, constraint_likes)\u001b[0m\n\u001b[1;32m    487\u001b[0m \u001b[38;5;28;01mdef\u001b[39;00m \u001b[38;5;21mlinear_constraint\u001b[39m(\u001b[38;5;28mself\u001b[39m, constraint_likes):\n\u001b[1;32m    488\u001b[0m \u001b[38;5;250m    \u001b[39m\u001b[38;5;124;03m\"\"\"Construct a linear constraint in matrix form from a (possibly\u001b[39;00m\n\u001b[1;32m    489\u001b[0m \u001b[38;5;124;03m    symbolic) description.\u001b[39;00m\n\u001b[1;32m    490\u001b[0m \n\u001b[0;32m   (...)\u001b[0m\n\u001b[1;32m    534\u001b[0m \u001b[38;5;124;03m      di.linear_constraint(\"x1 = x2 = 3\")\u001b[39;00m\n\u001b[1;32m    535\u001b[0m \u001b[38;5;124;03m    \"\"\"\u001b[39;00m\n\u001b[0;32m--> 536\u001b[0m     \u001b[38;5;28;01mreturn\u001b[39;00m linear_constraint(constraint_likes, \u001b[38;5;28mself\u001b[39m\u001b[38;5;241m.\u001b[39mcolumn_names)\n",
      "File \u001b[0;32m~/anaconda3/lib/python3.11/site-packages/patsy/constraint.py:419\u001b[0m, in \u001b[0;36mlinear_constraint\u001b[0;34m(constraint_like, variable_names)\u001b[0m\n\u001b[1;32m    417\u001b[0m \u001b[38;5;66;03m# assume a raw ndarray\u001b[39;00m\n\u001b[1;32m    418\u001b[0m coefs \u001b[38;5;241m=\u001b[39m np\u001b[38;5;241m.\u001b[39masarray(constraint_like, dtype\u001b[38;5;241m=\u001b[39m\u001b[38;5;28mfloat\u001b[39m)\n\u001b[0;32m--> 419\u001b[0m \u001b[38;5;28;01mreturn\u001b[39;00m LinearConstraint(variable_names, coefs)\n",
      "File \u001b[0;32m~/anaconda3/lib/python3.11/site-packages/patsy/constraint.py:62\u001b[0m, in \u001b[0;36mLinearConstraint.__init__\u001b[0;34m(self, variable_names, coefs, constants)\u001b[0m\n\u001b[1;32m     60\u001b[0m     \u001b[38;5;28;01mraise\u001b[39;00m \u001b[38;5;167;01mValueError\u001b[39;00m(\u001b[38;5;124m\"\u001b[39m\u001b[38;5;124mwrong shape for coefs\u001b[39m\u001b[38;5;124m\"\u001b[39m)\n\u001b[1;32m     61\u001b[0m \u001b[38;5;28;01mif\u001b[39;00m \u001b[38;5;28mself\u001b[39m\u001b[38;5;241m.\u001b[39mcoefs\u001b[38;5;241m.\u001b[39mshape[\u001b[38;5;241m0\u001b[39m] \u001b[38;5;241m==\u001b[39m \u001b[38;5;241m0\u001b[39m:\n\u001b[0;32m---> 62\u001b[0m     \u001b[38;5;28;01mraise\u001b[39;00m \u001b[38;5;167;01mValueError\u001b[39;00m(\u001b[38;5;124m\"\u001b[39m\u001b[38;5;124mmust have at least one row in constraint matrix\u001b[39m\u001b[38;5;124m\"\u001b[39m)\n\u001b[1;32m     63\u001b[0m \u001b[38;5;28;01mif\u001b[39;00m \u001b[38;5;28mself\u001b[39m\u001b[38;5;241m.\u001b[39mcoefs\u001b[38;5;241m.\u001b[39mshape[\u001b[38;5;241m0\u001b[39m] \u001b[38;5;241m!=\u001b[39m \u001b[38;5;28mself\u001b[39m\u001b[38;5;241m.\u001b[39mconstants\u001b[38;5;241m.\u001b[39mshape[\u001b[38;5;241m0\u001b[39m]:\n\u001b[1;32m     64\u001b[0m     \u001b[38;5;28;01mraise\u001b[39;00m \u001b[38;5;167;01mValueError\u001b[39;00m(\u001b[38;5;124m\"\u001b[39m\u001b[38;5;124mshape mismatch between coefs and constants\u001b[39m\u001b[38;5;124m\"\u001b[39m)\n",
      "\u001b[0;31mValueError\u001b[0m: must have at least one row in constraint matrix"
     ]
    }
   ],
   "source": [
    "# Création du modèle ANOVA\n",
    "model_missions = ols('missions_taches ~ C(anciennete) + C(OFA) + C(statut6mois)', data=data).fit()\n",
    "\n",
    "# Tableau d'analyse de variance (ANOVA)\n",
    "anova_table_missions = sm.stats.anova_lm(model_missions, typ=2)\n",
    "print(anova_table_missions)\n",
    "\n",
    "# Interprétation de l'effet principal de l'ancienneté\n",
    "if anova_table_missions['PR(>F)']['C(anciennete)'] < 0.05:\n",
    "    print(\"Il y a une différence significative des moyennes entre les niveaux d'ancienneté.\")\n",
    "else:\n",
    "    print(\"Il n'y a pas de différence significative des moyennes entre les niveaux d'ancienneté.\")\n",
    "\n",
    "# Interprétation de l'effet principal de OFA\n",
    "if anova_table_missions['PR(>F)']['C(OFA)'] < 0.05:\n",
    "    print(\"Il y a une différence significative des moyennes entre les niveaux de OFA.\")\n",
    "else:\n",
    "    print(\"Il n'y a pas de différence statistiquement significative des moyennes entre les niveaux de OFA.\")\n",
    "    \n",
    "# Interprétation de l'effet principal deu statut des 6 derniers mois\n",
    "if anova_table_missions['PR(>F)']['C(OFA)'] < 0.05:\n",
    "    print(\"Il y a une différence significative des moyennes entre les niveaux de OFA.\")\n",
    "else:\n",
    "    print(\"Il n'y a pas de différence statistiquement significative des moyennes entre les niveaux de OFA.\")"
   ]
  },
  {
   "cell_type": "markdown",
   "id": "11ee2da2",
   "metadata": {},
   "source": [
    "## Anciennete : post hoc et stat descriptives"
   ]
  },
  {
   "cell_type": "code",
   "execution_count": 38,
   "id": "ebd318b0",
   "metadata": {},
   "outputs": [
    {
     "name": "stdout",
     "output_type": "stream",
     "text": [
      "        Multiple Comparison of Means - Tukey HSD, FWER=0.05        \n",
      "===================================================================\n",
      "     group1           group2      meandiff p-adj lower upper reject\n",
      "-------------------------------------------------------------------\n",
      "Entre 1 et 3 ans Entre 3 et 7 ans  -0.3281   nan   nan   nan  False\n",
      "Entre 1 et 3 ans    Moins de 1 an  -0.4663   nan   nan   nan  False\n",
      "Entre 1 et 3 ans    Plus de 7 ans      nan   nan   nan   nan  False\n",
      "Entre 3 et 7 ans    Moins de 1 an  -0.1382   nan   nan   nan  False\n",
      "Entre 3 et 7 ans    Plus de 7 ans      nan   nan   nan   nan  False\n",
      "   Moins de 1 an    Plus de 7 ans      nan   nan   nan   nan  False\n",
      "-------------------------------------------------------------------\n",
      "anciennete\n",
      "Entre 1 et 3 ans    4.312500\n",
      "Entre 3 et 7 ans    3.984375\n",
      "Moins de 1 an       3.846154\n",
      "Plus de 7 ans       3.714286\n",
      "Name: missions_taches, dtype: float64\n",
      "anciennete\n",
      "Entre 1 et 3 ans    1.796319\n",
      "Entre 3 et 7 ans    1.877216\n",
      "Moins de 1 an       1.573010\n",
      "Plus de 7 ans       1.958358\n",
      "Name: missions_taches, dtype: float64\n"
     ]
    }
   ],
   "source": [
    "# Perform Tukey's HSD test\n",
    "ttest_anciennete_missions = pairwise_tukeyhsd(endog=data['missions_taches'], groups=data['anciennete'], alpha=0.05)\n",
    "\n",
    "# Print the results\n",
    "print(ttest_anciennete_missions)\n",
    "\n",
    "# Grouping the data by the factor and calculating the mean for each group\n",
    "means_anciennete_missions = data.groupby('anciennete')['missions_taches'].mean()\n",
    "sd_anciennete_missions = data.groupby('anciennete')['missions_taches'].std()\n",
    "\n",
    "# Display the results\n",
    "print(means_anciennete_missions)\n",
    "print(sd_anciennete_missions)"
   ]
  },
  {
   "cell_type": "markdown",
   "id": "517065ee",
   "metadata": {},
   "source": [
    "## OFA : post hoc et stat descriptives"
   ]
  },
  {
   "cell_type": "code",
   "execution_count": 39,
   "id": "7015d71d",
   "metadata": {},
   "outputs": [
    {
     "name": "stdout",
     "output_type": "stream",
     "text": [
      "Multiple Comparison of Means - Tukey HSD, FWER=0.05\n",
      "===============================================\n",
      "group1 group2 meandiff p-adj lower upper reject\n",
      "-----------------------------------------------\n",
      "   Non    Oui      nan   nan   nan   nan  False\n",
      "-----------------------------------------------\n",
      "OFA\n",
      "Non    4.034483\n",
      "Oui    4.250000\n",
      "Name: missions_taches, dtype: float64\n",
      "OFA\n",
      "Non    1.818498\n",
      "Oui    1.777383\n",
      "Name: missions_taches, dtype: float64\n"
     ]
    }
   ],
   "source": [
    "# Perform Tukey's HSD test\n",
    "ttest_OFA_missions = pairwise_tukeyhsd(endog=data['missions_taches'], groups=data['OFA'], alpha=0.05)\n",
    "\n",
    "# Print the results\n",
    "print(ttest_OFA_missions)\n",
    "\n",
    "# Grouping the data by the factor and calculating the mean for each group\n",
    "means_OFA_missions = data.groupby('OFA')['missions_taches'].mean()\n",
    "sd_OFA_missions = data.groupby('OFA')['missions_taches'].std()\n",
    "\n",
    "# Display the results\n",
    "print(means_OFA_missions)\n",
    "print(sd_OFA_missions)"
   ]
  },
  {
   "cell_type": "markdown",
   "id": "6d5fe1fb",
   "metadata": {},
   "source": [
    "## Type de poste : post hoc et stat descriptives"
   ]
  },
  {
   "cell_type": "code",
   "execution_count": 40,
   "id": "0656d101",
   "metadata": {},
   "outputs": [
    {
     "ename": "ValueError",
     "evalue": "2 or more groups required for multiple comparisons",
     "output_type": "error",
     "traceback": [
      "\u001b[0;31m---------------------------------------------------------------------------\u001b[0m",
      "\u001b[0;31mValueError\u001b[0m                                Traceback (most recent call last)",
      "Cell \u001b[0;32mIn[40], line 2\u001b[0m\n\u001b[1;32m      1\u001b[0m \u001b[38;5;66;03m# Perform Tukey's HSD test\u001b[39;00m\n\u001b[0;32m----> 2\u001b[0m ttest_poste_missions \u001b[38;5;241m=\u001b[39m pairwise_tukeyhsd(endog\u001b[38;5;241m=\u001b[39mdata[\u001b[38;5;124m'\u001b[39m\u001b[38;5;124mmissions_taches\u001b[39m\u001b[38;5;124m'\u001b[39m], groups\u001b[38;5;241m=\u001b[39mdata[\u001b[38;5;124m'\u001b[39m\u001b[38;5;124mstatut6mois\u001b[39m\u001b[38;5;124m'\u001b[39m], alpha\u001b[38;5;241m=\u001b[39m\u001b[38;5;241m0.05\u001b[39m)\n\u001b[1;32m      4\u001b[0m \u001b[38;5;66;03m# Print the results\u001b[39;00m\n\u001b[1;32m      5\u001b[0m \u001b[38;5;28mprint\u001b[39m(ttest_poste_missions)\n",
      "File \u001b[0;32m~/anaconda3/lib/python3.11/site-packages/statsmodels/stats/multicomp.py:44\u001b[0m, in \u001b[0;36mpairwise_tukeyhsd\u001b[0;34m(endog, groups, alpha)\u001b[0m\n\u001b[1;32m     14\u001b[0m \u001b[38;5;28;01mdef\u001b[39;00m \u001b[38;5;21mpairwise_tukeyhsd\u001b[39m(endog, groups, alpha\u001b[38;5;241m=\u001b[39m\u001b[38;5;241m0.05\u001b[39m):\n\u001b[1;32m     15\u001b[0m \u001b[38;5;250m    \u001b[39m\u001b[38;5;124;03m\"\"\"\u001b[39;00m\n\u001b[1;32m     16\u001b[0m \u001b[38;5;124;03m    Calculate all pairwise comparisons with TukeyHSD confidence intervals\u001b[39;00m\n\u001b[1;32m     17\u001b[0m \n\u001b[0;32m   (...)\u001b[0m\n\u001b[1;32m     41\u001b[0m \u001b[38;5;124;03m    statsmodels.sandbox.stats.multicomp.TukeyHSDResults\u001b[39;00m\n\u001b[1;32m     42\u001b[0m \u001b[38;5;124;03m    \"\"\"\u001b[39;00m\n\u001b[0;32m---> 44\u001b[0m     \u001b[38;5;28;01mreturn\u001b[39;00m MultiComparison(endog, groups)\u001b[38;5;241m.\u001b[39mtukeyhsd(alpha\u001b[38;5;241m=\u001b[39malpha)\n",
      "File \u001b[0;32m~/anaconda3/lib/python3.11/site-packages/statsmodels/sandbox/stats/multicomp.py:846\u001b[0m, in \u001b[0;36mMultiComparison.__init__\u001b[0;34m(self, data, groups, group_order)\u001b[0m\n\u001b[1;32m    843\u001b[0m         \u001b[38;5;28mself\u001b[39m\u001b[38;5;241m.\u001b[39mgroups \u001b[38;5;241m=\u001b[39m \u001b[38;5;28mself\u001b[39m\u001b[38;5;241m.\u001b[39mgroups[mask_keep]\n\u001b[1;32m    845\u001b[0m \u001b[38;5;28;01mif\u001b[39;00m \u001b[38;5;28mlen\u001b[39m(\u001b[38;5;28mself\u001b[39m\u001b[38;5;241m.\u001b[39mgroupsunique) \u001b[38;5;241m<\u001b[39m \u001b[38;5;241m2\u001b[39m:\n\u001b[0;32m--> 846\u001b[0m     \u001b[38;5;28;01mraise\u001b[39;00m \u001b[38;5;167;01mValueError\u001b[39;00m(\u001b[38;5;124m'\u001b[39m\u001b[38;5;124m2 or more groups required for multiple comparisons\u001b[39m\u001b[38;5;124m'\u001b[39m)\n\u001b[1;32m    848\u001b[0m \u001b[38;5;28mself\u001b[39m\u001b[38;5;241m.\u001b[39mdatali \u001b[38;5;241m=\u001b[39m [\u001b[38;5;28mself\u001b[39m\u001b[38;5;241m.\u001b[39mdata[\u001b[38;5;28mself\u001b[39m\u001b[38;5;241m.\u001b[39mgroups \u001b[38;5;241m==\u001b[39m k] \u001b[38;5;28;01mfor\u001b[39;00m k \u001b[38;5;129;01min\u001b[39;00m \u001b[38;5;28mself\u001b[39m\u001b[38;5;241m.\u001b[39mgroupsunique]\n\u001b[1;32m    849\u001b[0m \u001b[38;5;28mself\u001b[39m\u001b[38;5;241m.\u001b[39mpairindices \u001b[38;5;241m=\u001b[39m np\u001b[38;5;241m.\u001b[39mtriu_indices(\u001b[38;5;28mlen\u001b[39m(\u001b[38;5;28mself\u001b[39m\u001b[38;5;241m.\u001b[39mgroupsunique), \u001b[38;5;241m1\u001b[39m)  \u001b[38;5;66;03m#tuple\u001b[39;00m\n",
      "\u001b[0;31mValueError\u001b[0m: 2 or more groups required for multiple comparisons"
     ]
    }
   ],
   "source": [
    "# Perform Tukey's HSD test\n",
    "ttest_poste_missions = pairwise_tukeyhsd(endog=data['missions_taches'], groups=data['statut6mois'], alpha=0.05)\n",
    "\n",
    "# Print the results\n",
    "print(ttest_poste_missions)\n",
    "\n",
    "# Grouping the data by the factor and calculating the mean for each group\n",
    "means_typeposte_missions = data.groupby('statut6mois')['missions_taches'].mean()\n",
    "sd_typeposte_missions = data.groupby('statut6mois')['missions_taches'].std()\n",
    "\n",
    "# Display the results\n",
    "print(means_typeposte_missions)\n",
    "print(sd_typeposte_missions)"
   ]
  }
 ],
 "metadata": {
  "kernelspec": {
   "display_name": "Python 3 (ipykernel)",
   "language": "python",
   "name": "python3"
  },
  "language_info": {
   "codemirror_mode": {
    "name": "ipython",
    "version": 3
   },
   "file_extension": ".py",
   "mimetype": "text/x-python",
   "name": "python",
   "nbconvert_exporter": "python",
   "pygments_lexer": "ipython3",
   "version": "3.11.4"
  }
 },
 "nbformat": 4,
 "nbformat_minor": 5
}
