{
 "cells": [
  {
   "cell_type": "markdown",
   "id": "b8d0f22f",
   "metadata": {},
   "source": [
    "# I. Cleaning and data preparation"
   ]
  },
  {
   "cell_type": "code",
   "execution_count": 1,
   "id": "edaf10b5",
   "metadata": {},
   "outputs": [],
   "source": [
    "import pandas as pda\n",
    "import numpy as np\n",
    "from scipy.stats import f_oneway\n",
    "from scipy.stats import ttest_ind\n",
    "import itertools\n",
    "import matplotlib.pyplot as plt\n",
    "from scipy import stats\n",
    "from statsmodels.stats.multicomp import pairwise_tukeyhsd\n",
    "import statsmodels.api as sm\n",
    "from statsmodels.formula.api import ols"
   ]
  },
  {
   "cell_type": "code",
   "execution_count": 2,
   "id": "0e41d41b",
   "metadata": {},
   "outputs": [],
   "source": [
    "data = pda.read_csv(\"OHC_Python_MMYYYY_FICTIF.csv\")"
   ]
  },
  {
   "cell_type": "code",
   "execution_count": 3,
   "id": "1d002286",
   "metadata": {
    "scrolled": false
   },
   "outputs": [
    {
     "data": {
      "text/html": [
       "<div>\n",
       "<style scoped>\n",
       "    .dataframe tbody tr th:only-of-type {\n",
       "        vertical-align: middle;\n",
       "    }\n",
       "\n",
       "    .dataframe tbody tr th {\n",
       "        vertical-align: top;\n",
       "    }\n",
       "\n",
       "    .dataframe thead th {\n",
       "        text-align: right;\n",
       "    }\n",
       "</style>\n",
       "<table border=\"1\" class=\"dataframe\">\n",
       "  <thead>\n",
       "    <tr style=\"text-align: right;\">\n",
       "      <th></th>\n",
       "      <th>anciennete</th>\n",
       "      <th>campement</th>\n",
       "      <th>OFA</th>\n",
       "      <th>tribu</th>\n",
       "      <th>quartier</th>\n",
       "      <th>etabli</th>\n",
       "      <th>activites_tribu</th>\n",
       "      <th>interactions_tribu</th>\n",
       "      <th>tribu_total</th>\n",
       "      <th>activites_QA</th>\n",
       "      <th>...</th>\n",
       "      <th>manages</th>\n",
       "      <th>Es-tu manager/manageuse ?</th>\n",
       "      <th>Si tu es manager/manageuse, combien de managé.e.s direct(s) as-tu ?</th>\n",
       "      <th>manager</th>\n",
       "      <th>egalite_pro</th>\n",
       "      <th>competences_parcours</th>\n",
       "      <th>sante_conditions_travail</th>\n",
       "      <th>OCTO_total</th>\n",
       "      <th>statut6mois</th>\n",
       "      <th>missions_taches</th>\n",
       "    </tr>\n",
       "  </thead>\n",
       "  <tbody>\n",
       "    <tr>\n",
       "      <th>0</th>\n",
       "      <td>Plus de 7 ans</td>\n",
       "      <td>OCTO Paris</td>\n",
       "      <td>Oui</td>\n",
       "      <td>User Research</td>\n",
       "      <td>Forum</td>\n",
       "      <td>Aucun</td>\n",
       "      <td>4.75</td>\n",
       "      <td>3.75</td>\n",
       "      <td>4.25</td>\n",
       "      <td>4.00</td>\n",
       "      <td>...</td>\n",
       "      <td>4.000000</td>\n",
       "      <td>Non</td>\n",
       "      <td>NaN</td>\n",
       "      <td>NaN</td>\n",
       "      <td>4.25</td>\n",
       "      <td>3.75</td>\n",
       "      <td>4.2</td>\n",
       "      <td>4.050000</td>\n",
       "      <td>En mission chez un/des client(s)</td>\n",
       "      <td>5.0</td>\n",
       "    </tr>\n",
       "    <tr>\n",
       "      <th>1</th>\n",
       "      <td>Moins de 1 an</td>\n",
       "      <td>OCTO Paris</td>\n",
       "      <td>Oui</td>\n",
       "      <td>User Research</td>\n",
       "      <td>Forum</td>\n",
       "      <td>Aucun</td>\n",
       "      <td>3.75</td>\n",
       "      <td>3.75</td>\n",
       "      <td>3.75</td>\n",
       "      <td>5.00</td>\n",
       "      <td>...</td>\n",
       "      <td>6.000000</td>\n",
       "      <td>Non</td>\n",
       "      <td>NaN</td>\n",
       "      <td>NaN</td>\n",
       "      <td>4.50</td>\n",
       "      <td>3.75</td>\n",
       "      <td>3.6</td>\n",
       "      <td>4.462500</td>\n",
       "      <td>En mission chez un/des client(s)</td>\n",
       "      <td>3.0</td>\n",
       "    </tr>\n",
       "    <tr>\n",
       "      <th>2</th>\n",
       "      <td>Entre 3 et 7 ans</td>\n",
       "      <td>OCTO Paris</td>\n",
       "      <td>Oui</td>\n",
       "      <td>User Research</td>\n",
       "      <td>Forum</td>\n",
       "      <td>Aucun</td>\n",
       "      <td>5.25</td>\n",
       "      <td>2.75</td>\n",
       "      <td>4.00</td>\n",
       "      <td>5.25</td>\n",
       "      <td>...</td>\n",
       "      <td>4.333333</td>\n",
       "      <td>Non</td>\n",
       "      <td>NaN</td>\n",
       "      <td>NaN</td>\n",
       "      <td>5.25</td>\n",
       "      <td>4.50</td>\n",
       "      <td>3.0</td>\n",
       "      <td>4.270833</td>\n",
       "      <td>En mission chez un/des client(s)</td>\n",
       "      <td>4.0</td>\n",
       "    </tr>\n",
       "    <tr>\n",
       "      <th>3</th>\n",
       "      <td>Moins de 1 an</td>\n",
       "      <td>OCTO Paris</td>\n",
       "      <td>Oui</td>\n",
       "      <td>User Research</td>\n",
       "      <td>Forum</td>\n",
       "      <td>Aucun</td>\n",
       "      <td>5.00</td>\n",
       "      <td>5.00</td>\n",
       "      <td>5.00</td>\n",
       "      <td>4.00</td>\n",
       "      <td>...</td>\n",
       "      <td>3.000000</td>\n",
       "      <td>Non</td>\n",
       "      <td>NaN</td>\n",
       "      <td>NaN</td>\n",
       "      <td>5.50</td>\n",
       "      <td>2.75</td>\n",
       "      <td>3.6</td>\n",
       "      <td>3.712500</td>\n",
       "      <td>En mission chez un/des client(s)</td>\n",
       "      <td>5.0</td>\n",
       "    </tr>\n",
       "    <tr>\n",
       "      <th>4</th>\n",
       "      <td>Entre 3 et 7 ans</td>\n",
       "      <td>OCTO Paris</td>\n",
       "      <td>Oui</td>\n",
       "      <td>User Research</td>\n",
       "      <td>Forum</td>\n",
       "      <td>Aucun</td>\n",
       "      <td>2.50</td>\n",
       "      <td>2.00</td>\n",
       "      <td>2.25</td>\n",
       "      <td>3.25</td>\n",
       "      <td>...</td>\n",
       "      <td>5.000000</td>\n",
       "      <td>Non</td>\n",
       "      <td>NaN</td>\n",
       "      <td>NaN</td>\n",
       "      <td>3.50</td>\n",
       "      <td>3.50</td>\n",
       "      <td>3.2</td>\n",
       "      <td>3.800000</td>\n",
       "      <td>En mission chez un/des client(s)</td>\n",
       "      <td>2.0</td>\n",
       "    </tr>\n",
       "  </tbody>\n",
       "</table>\n",
       "<p>5 rows × 22 columns</p>\n",
       "</div>"
      ],
      "text/plain": [
       "         anciennete   campement  OFA          tribu quartier etabli  \\\n",
       "0     Plus de 7 ans  OCTO Paris  Oui  User Research    Forum  Aucun   \n",
       "1     Moins de 1 an  OCTO Paris  Oui  User Research    Forum  Aucun   \n",
       "2  Entre 3 et 7 ans  OCTO Paris  Oui  User Research    Forum  Aucun   \n",
       "3     Moins de 1 an  OCTO Paris  Oui  User Research    Forum  Aucun   \n",
       "4  Entre 3 et 7 ans  OCTO Paris  Oui  User Research    Forum  Aucun   \n",
       "\n",
       "   activites_tribu  interactions_tribu  tribu_total  activites_QA  ...  \\\n",
       "0             4.75                3.75         4.25          4.00  ...   \n",
       "1             3.75                3.75         3.75          5.00  ...   \n",
       "2             5.25                2.75         4.00          5.25  ...   \n",
       "3             5.00                5.00         5.00          4.00  ...   \n",
       "4             2.50                2.00         2.25          3.25  ...   \n",
       "\n",
       "    manages  Es-tu manager/manageuse ?  \\\n",
       "0  4.000000                        Non   \n",
       "1  6.000000                        Non   \n",
       "2  4.333333                        Non   \n",
       "3  3.000000                        Non   \n",
       "4  5.000000                        Non   \n",
       "\n",
       "   Si tu es manager/manageuse, combien de managé.e.s direct(s) as-tu ?  \\\n",
       "0                                                NaN                     \n",
       "1                                                NaN                     \n",
       "2                                                NaN                     \n",
       "3                                                NaN                     \n",
       "4                                                NaN                     \n",
       "\n",
       "  manager  egalite_pro  competences_parcours  sante_conditions_travail  \\\n",
       "0     NaN         4.25                  3.75                       4.2   \n",
       "1     NaN         4.50                  3.75                       3.6   \n",
       "2     NaN         5.25                  4.50                       3.0   \n",
       "3     NaN         5.50                  2.75                       3.6   \n",
       "4     NaN         3.50                  3.50                       3.2   \n",
       "\n",
       "   OCTO_total                       statut6mois  missions_taches  \n",
       "0    4.050000  En mission chez un/des client(s)              5.0  \n",
       "1    4.462500  En mission chez un/des client(s)              3.0  \n",
       "2    4.270833  En mission chez un/des client(s)              4.0  \n",
       "3    3.712500  En mission chez un/des client(s)              5.0  \n",
       "4    3.800000  En mission chez un/des client(s)              2.0  \n",
       "\n",
       "[5 rows x 22 columns]"
      ]
     },
     "metadata": {},
     "output_type": "display_data"
    }
   ],
   "source": [
    "display(data.head())"
   ]
  },
  {
   "cell_type": "code",
   "execution_count": 4,
   "id": "da246d28",
   "metadata": {
    "scrolled": true
   },
   "outputs": [
    {
     "name": "stdout",
     "output_type": "stream",
     "text": [
      "anciennete                                                              object\n",
      "campement                                                               object\n",
      "OFA                                                                     object\n",
      "tribu                                                                   object\n",
      "quartier                                                                object\n",
      "etabli                                                                  object\n",
      "activites_tribu                                                        float64\n",
      "interactions_tribu                                                     float64\n",
      "tribu_total                                                            float64\n",
      "activites_QA                                                           float64\n",
      "interactions_QA                                                        float64\n",
      "QA_total                                                               float64\n",
      "manages                                                                float64\n",
      "Es-tu manager/manageuse ?                                               object\n",
      "Si tu es manager/manageuse, combien de managé.e.s direct(s) as-tu ?    float64\n",
      "manager                                                                float64\n",
      "egalite_pro                                                            float64\n",
      "competences_parcours                                                   float64\n",
      "sante_conditions_travail                                               float64\n",
      "OCTO_total                                                             float64\n",
      "statut6mois                                                             object\n",
      "missions_taches                                                        float64\n",
      "dtype: object\n"
     ]
    }
   ],
   "source": [
    "print(data.dtypes)"
   ]
  },
  {
   "cell_type": "markdown",
   "id": "194021ab",
   "metadata": {},
   "source": [
    "# II. Description of the sample\n",
    "\n",
    "## 1. Total sample size"
   ]
  },
  {
   "cell_type": "code",
   "execution_count": 5,
   "id": "0ea6587b",
   "metadata": {},
   "outputs": [
    {
     "name": "stdout",
     "output_type": "stream",
     "text": [
      "L'effectif total de l'échantillon est : 490\n"
     ]
    }
   ],
   "source": [
    "effectif_data = len(data)\n",
    "\n",
    "print(\"L'effectif total de l'échantillon est :\", effectif_data)"
   ]
  },
  {
   "cell_type": "markdown",
   "id": "3952ea67",
   "metadata": {},
   "source": [
    "## 2. Numbers and proportion by factor modality (OFA, quartier, tribu, anciennete...)"
   ]
  },
  {
   "cell_type": "code",
   "execution_count": 6,
   "id": "ed4dec2e",
   "metadata": {
    "scrolled": true
   },
   "outputs": [
    {
     "name": "stdout",
     "output_type": "stream",
     "text": [
      "Effectif par quartier :\n",
      " Mairie                          100\n",
      "Product & Design                 94\n",
      "Forum                            87\n",
      "Software engineering             86\n",
      "Data & IA                        67\n",
      "Cloud & Platform Engineering     56\n",
      "Name: quartier, dtype: int64\n"
     ]
    }
   ],
   "source": [
    "effectif_par_quartier = data['quartier'].value_counts()\n",
    "\n",
    "print(\"Effectif par quartier :\\n\", effectif_par_quartier)"
   ]
  },
  {
   "cell_type": "code",
   "execution_count": 7,
   "id": "ba2f91c1",
   "metadata": {},
   "outputs": [
    {
     "name": "stdout",
     "output_type": "stream",
     "text": [
      "Effectifs en % par niveau d'ancienneté :\n",
      " Entre 1 et 3 ans    37.959184\n",
      "Entre 3 et 7 ans    33.265306\n",
      "Plus de 7 ans       14.489796\n",
      "Moins de 1 an       14.285714\n",
      "Name: anciennete, dtype: float64\n"
     ]
    }
   ],
   "source": [
    "# Effectifs en pourcentage - ANCIENNETE : \n",
    "\n",
    "# 1. Calculer les effectifs\n",
    "effectifs_par_anciennete = data['anciennete'].value_counts()\n",
    "\n",
    "# 3. Calculer les pourcentages par modalité\n",
    "pourcentages_par_anciennete = (effectifs_par_anciennete / effectif_data) * 100\n",
    "\n",
    "print(\"Effectifs en % par niveau d'ancienneté :\\n\", pourcentages_par_anciennete)"
   ]
  },
  {
   "cell_type": "code",
   "execution_count": 8,
   "id": "61dd25cd",
   "metadata": {},
   "outputs": [
    {
     "name": "stdout",
     "output_type": "stream",
     "text": [
      "Proportion d'Octos appartenant au dispositif OFA :\n",
      " Non    86.938776\n",
      "Oui    13.061224\n",
      "Name: OFA, dtype: float64\n"
     ]
    }
   ],
   "source": [
    "# Effectifs en pourcentage - OFA: \n",
    "\n",
    "effectifs_OFA = data['OFA'].value_counts()\n",
    "\n",
    "pourcentages_OFA = (effectifs_OFA / effectif_data) * 100\n",
    "\n",
    "print(\"Proportion d'Octos appartenant au dispositif OFA :\\n\", pourcentages_OFA)"
   ]
  },
  {
   "cell_type": "code",
   "execution_count": 9,
   "id": "f359c22e",
   "metadata": {},
   "outputs": [
    {
     "name": "stdout",
     "output_type": "stream",
     "text": [
      "Proportion d'Octos par campement: \n",
      " OCTO Paris    78.163265\n",
      "Toulouse      13.877551\n",
      "Chtis          7.959184\n",
      "Name: campement, dtype: float64\n"
     ]
    }
   ],
   "source": [
    "# Effectifs en pourcentage - CAMPEMENT:\n",
    "\n",
    "effectifs_campement = data ['campement'].value_counts()\n",
    "\n",
    "pourcentages_campement = (effectifs_campement / effectif_data)*100\n",
    "\n",
    "print(\"Proportion d'Octos par campement: \\n\", pourcentages_campement)"
   ]
  },
  {
   "cell_type": "code",
   "execution_count": 10,
   "id": "7417e6d3",
   "metadata": {},
   "outputs": [
    {
     "name": "stdout",
     "output_type": "stream",
     "text": [
      "0\n",
      "Nombre d'Octos sans tribu' : 0\n"
     ]
    }
   ],
   "source": [
    "# Effectifs - APPARTENANCE TRIBU : \n",
    "\n",
    "nombre_NaN_tribu = data['tribu_total'].isna().sum()\n",
    "print(nombre_NaN_tribu)\n",
    "\n",
    "print(\"Nombre d'Octos sans tribu' :\", nombre_NaN_tribu)"
   ]
  },
  {
   "cell_type": "markdown",
   "id": "4ac39057",
   "metadata": {},
   "source": [
    "# III. Bien-être global en fonction des 4 niveaux d'entités existantes (tribu, Q/A, OCTO, missions)\n",
    "\n",
    "## A. Descriptive statistics"
   ]
  },
  {
   "cell_type": "code",
   "execution_count": 11,
   "id": "8853c2f6",
   "metadata": {},
   "outputs": [
    {
     "name": "stdout",
     "output_type": "stream",
     "text": [
      "Bien-être moyen global:  4.000727164033214\n",
      "Écart type global:  1.001854840049191\n"
     ]
    }
   ],
   "source": [
    "# Selecting the columns\n",
    "columns_overallWB = data[['tribu_total', 'QA_total', 'OCTO_total', 'missions_taches', \n",
    "                         'manager', 'manages', 'egalite_pro', \n",
    "                         'competences_parcours', 'sante_conditions_travail']]\n",
    "\n",
    "# Calculating the mean across all selected columns\n",
    "global_mean = columns_overallWB.mean().mean()\n",
    "\n",
    "# Calculating the standard deviation across all selected columns\n",
    "global_standard_deviation = columns_overallWB.std().mean()\n",
    "\n",
    "print(\"Bien-être moyen global: \", global_mean)\n",
    "print(\"Écart type global: \", global_standard_deviation)"
   ]
  },
  {
   "cell_type": "code",
   "execution_count": 12,
   "id": "7498605b",
   "metadata": {},
   "outputs": [],
   "source": [
    "# Calcul des moyennes pour chaque colonne\n",
    "moyenne_tribu = data['tribu_total'].mean()\n",
    "moyenne_QA = data['QA_total'].mean()\n",
    "moyenne_OCTO = data['OCTO_total'].mean()\n",
    "moyenne_missions = data['missions_taches'].mean()"
   ]
  },
  {
   "cell_type": "code",
   "execution_count": 13,
   "id": "19b3daf4",
   "metadata": {},
   "outputs": [],
   "source": [
    "# Calcul des écart-types pour chaque colonne\n",
    "ecart_type_tribu = data['tribu_total'].std()\n",
    "ecart_type_QA = data['QA_total'].std()\n",
    "ecart_type_OCTO = data['OCTO_total'].std()\n",
    "ecart_type_missions = data['missions_taches'].std()"
   ]
  },
  {
   "cell_type": "code",
   "execution_count": 14,
   "id": "11b4bc24",
   "metadata": {
    "scrolled": true
   },
   "outputs": [
    {
     "name": "stdout",
     "output_type": "stream",
     "text": [
      "Bien-être moyen sur la tribu : 4.023214285714285\n",
      "SD tribu : 0.776255250353537\n",
      "Bien-être moyen sur le quartier/atelier : 4.036989795918367\n",
      "SD QA : 0.7722933273929969\n",
      "Bien-être moyen sur OCTO : 3.9950425170068025\n",
      "SD OCTO : 0.49322010857281756\n",
      "Bien-être moyen sur les missions au quotidien : 4.054572271386431\n",
      "SD missions : 1.5472268905809312\n"
     ]
    }
   ],
   "source": [
    "# Affichage des résultats\n",
    "print(\"Bien-être moyen sur la tribu :\", moyenne_tribu)\n",
    "print(\"SD tribu :\", ecart_type_tribu)\n",
    "print(\"Bien-être moyen sur le quartier/atelier :\", moyenne_QA)\n",
    "print(\"SD QA :\", ecart_type_QA)\n",
    "print(\"Bien-être moyen sur OCTO :\", moyenne_OCTO)\n",
    "print(\"SD OCTO :\", ecart_type_OCTO)\n",
    "print(\"Bien-être moyen sur les missions au quotidien :\", moyenne_missions)\n",
    "print(\"SD missions :\", ecart_type_missions)"
   ]
  },
  {
   "cell_type": "markdown",
   "id": "076f3ce4",
   "metadata": {},
   "source": [
    "## B. ANOVA & Post-hoc test"
   ]
  },
  {
   "cell_type": "code",
   "execution_count": 15,
   "id": "571b6e76",
   "metadata": {},
   "outputs": [],
   "source": [
    "# Ensure data columns are numeric\n",
    "columns_4levels = ['tribu_total', 'QA_total', 'OCTO_total', 'missions_taches']\n",
    "data[columns_4levels] = data[columns_4levels].apply(pda.to_numeric, errors='coerce')"
   ]
  },
  {
   "cell_type": "code",
   "execution_count": 16,
   "id": "151a504f",
   "metadata": {
    "scrolled": true
   },
   "outputs": [
    {
     "name": "stdout",
     "output_type": "stream",
     "text": [
      "               sum_sq      df         F   PR(>F)\n",
      "C(Level)     0.899961     3.0  0.322352  0.80922\n",
      "Residual  1784.926492  1918.0       NaN      NaN\n",
      "Il n'existe pas d'effet significatif du niveau évalué (p > 0.05).\n"
     ]
    }
   ],
   "source": [
    "# Convertir les données au format long\n",
    "data_long_4levels = pda.melt(data, value_vars=['tribu_total', 'QA_total', 'OCTO_total', 'missions_taches'], var_name='Level', value_name='Value')\n",
    "\n",
    "# Supprimer les valeurs manquantes\n",
    "data_long_4levels = data_long_4levels.dropna()\n",
    "\n",
    "# Créer le modèle OLS pour l'ANOVA\n",
    "model_4levels = ols('Value ~ C(Level)', data=data_long_4levels).fit()\n",
    "\n",
    "# Effectuer l'ANOVA\n",
    "anova_4levels = sm.stats.anova_lm(model_4levels, typ=2)\n",
    "\n",
    "# Afficher les résultats\n",
    "print(anova_4levels)\n",
    "\n",
    "alpha = 0.05\n",
    "if (anova_4levels['PR(>F)'] < alpha).any():\n",
    "    print(\"Il existe un effet significatif du niveau évalué (p < 0.05).\")\n",
    "else:\n",
    "    print(\"Il n'existe pas d'effet significatif du niveau évalué (p > 0.05).\")"
   ]
  },
  {
   "cell_type": "code",
   "execution_count": 17,
   "id": "e12a585a",
   "metadata": {},
   "outputs": [
    {
     "name": "stdout",
     "output_type": "stream",
     "text": [
      "         Multiple Comparison of Means - Tukey HSD, FWER=0.05         \n",
      "=====================================================================\n",
      "     group1          group2     meandiff p-adj   lower  upper  reject\n",
      "---------------------------------------------------------------------\n",
      "     OCTO_total        QA_total   0.0419 0.9045 -0.1165 0.2004  False\n",
      "     OCTO_total missions_taches   0.0595 0.7799 -0.1022 0.2213  False\n",
      "     OCTO_total     tribu_total   0.0282 0.9683 -0.1303 0.1866  False\n",
      "       QA_total missions_taches   0.0176 0.9924 -0.1442 0.1794  False\n",
      "       QA_total     tribu_total  -0.0138 0.9961 -0.1722 0.1447  False\n",
      "missions_taches     tribu_total  -0.0314 0.9594 -0.1931 0.1304  False\n",
      "---------------------------------------------------------------------\n"
     ]
    }
   ],
   "source": [
    "# Perform Tukey's test for post-hoc comparisons\n",
    "tukey_4levels = pairwise_tukeyhsd(endog=data_long_4levels['Value'], groups=data_long_4levels['Level'], alpha=0.05)\n",
    "\n",
    "# Print Tukey's test results\n",
    "print(tukey_4levels)"
   ]
  },
  {
   "cell_type": "markdown",
   "id": "d5139131",
   "metadata": {},
   "source": [
    "## C. Graphical representation"
   ]
  },
  {
   "cell_type": "code",
   "execution_count": 18,
   "id": "6d954722",
   "metadata": {},
   "outputs": [
    {
     "data": {
      "image/png": "[encoded data removed]",
      "text/plain": [
       "<Figure size 1000x600 with 1 Axes>"
      ]
     },
     "metadata": {},
     "output_type": "display_data"
    }
   ],
   "source": [
    "# Noms des groupes pour le graphique\n",
    "group_names = ['tribu_total', 'QA_total', 'OCTO_total', 'missions_taches']\n",
    "new_labels = [\"Tribu\", \"Quartier / Atelier\", \"OCTO\", \"Mission au quotidien\"]\n",
    "\n",
    "# Calcul des moyennes et des SEM\n",
    "moyennes = []\n",
    "sem = []\n",
    "for name in group_names:\n",
    "    group_data = data_long_4levels[data_long_4levels['Level'] == name]['Value']\n",
    "    moyennes.append(group_data.mean())\n",
    "    sem.append(group_data.sem())  # SEM (Standard Error of the Mean)\n",
    "\n",
    "# Création du graphique en barres\n",
    "plt.figure(figsize=(10, 6))\n",
    "bars = plt.bar(new_labels, moyennes, yerr=sem, capsize=5, color='#627091', alpha=0.7)\n",
    "\n",
    "# Ajout des étiquettes et du titre\n",
    "plt.ylabel('Scores moyens de bien-être')\n",
    "plt.xticks(rotation=45)\n",
    "\n",
    "# Modifier l'échelle y: \n",
    "plt.ylim(1, 7)\n",
    "\n",
    "# Affichage du graphique\n",
    "plt.show()"
   ]
  },
  {
   "cell_type": "markdown",
   "id": "be73ada4",
   "metadata": {},
   "source": [
    "# IV. Focus sur le niveau \"OCTO Technology\"\n",
    "\n",
    "## A. Analyses par thématiques (santé_conditions_travail ; managers ; managé.e.s ; égalité pro ; compétences et parcours pro)\n",
    "\n",
    "### MANOVA"
   ]
  },
  {
   "cell_type": "code",
   "execution_count": 19,
   "id": "40fe1279",
   "metadata": {},
   "outputs": [
    {
     "name": "stdout",
     "output_type": "stream",
     "text": [
      "                     sum_sq      df        F    PR(>F)\n",
      "C(Thematiques)     7.263256     4.0  1.63589  0.162508\n",
      "Residual        2315.428751  2086.0      NaN       NaN\n",
      "Il n'existe pas d'effet significatif des thématiques (p > 0.05).\n"
     ]
    }
   ],
   "source": [
    "# Convertir les données au format long\n",
    "data_long_OCTO = pda.melt(data, value_vars=['sante_conditions_travail', 'manager', 'manages', 'egalite_pro', 'competences_parcours'], var_name='Thematiques', value_name='Value')\n",
    "\n",
    "# Supprimer les valeurs manquantes\n",
    "data_long_OCTO = data_long_OCTO.dropna()\n",
    "\n",
    "# Créer le modèle OLS pour l'ANOVA\n",
    "model_OCTO_theme = ols('Value ~ C(Thematiques)', data=data_long_OCTO).fit()\n",
    "\n",
    "# Effectuer l'ANOVA\n",
    "anova_OCTO = sm.stats.anova_lm(model_OCTO_theme, typ=2)\n",
    "\n",
    "# Afficher les résultats\n",
    "print(anova_OCTO)\n",
    "\n",
    "alpha = 0.05\n",
    "if (anova_OCTO['PR(>F)'] < alpha).any():\n",
    "    print(\"Il existe un effet significatif des thématiques (p < 0.05).\")\n",
    "else:\n",
    "    print(\"Il n'existe pas d'effet significatif des thématiques (p > 0.05).\")"
   ]
  },
  {
   "cell_type": "markdown",
   "id": "80803f63",
   "metadata": {},
   "source": [
    "### Post-hoc tests"
   ]
  },
  {
   "cell_type": "code",
   "execution_count": 20,
   "id": "bc93b2f7",
   "metadata": {
    "scrolled": false
   },
   "outputs": [
    {
     "name": "stdout",
     "output_type": "stream",
     "text": [
      "                Multiple Comparison of Means - Tukey HSD, FWER=0.05                \n",
      "===================================================================================\n",
      "       group1                 group2          meandiff p-adj   lower  upper  reject\n",
      "-----------------------------------------------------------------------------------\n",
      "competences_parcours              egalite_pro   0.0842 0.7214 -0.0996 0.2679  False\n",
      "competences_parcours                  manager  -0.1267 0.7381 -0.4096 0.1562  False\n",
      "competences_parcours                  manages  -0.0575 0.9134 -0.2412 0.1263  False\n",
      "competences_parcours sante_conditions_travail    0.012 0.9998 -0.1717 0.1958  False\n",
      "         egalite_pro                  manager  -0.2109 0.2495 -0.4938  0.072  False\n",
      "         egalite_pro                  manages  -0.1417 0.2183 -0.3254 0.0421  False\n",
      "         egalite_pro sante_conditions_travail  -0.0721 0.8211 -0.2559 0.1116  False\n",
      "             manager                  manages   0.0692 0.9632 -0.2137 0.3521  False\n",
      "             manager sante_conditions_travail   0.1388 0.6668 -0.1442 0.4217  False\n",
      "             manages sante_conditions_travail   0.0695 0.8401 -0.1142 0.2533  False\n",
      "-----------------------------------------------------------------------------------\n"
     ]
    }
   ],
   "source": [
    "# Perform Tukey's test for post-hoc comparisons\n",
    "tukey_OCTO = pairwise_tukeyhsd(endog=data_long_OCTO['Value'], groups=data_long_OCTO['Thematiques'], alpha=0.05)\n",
    "\n",
    "# Print Tukey's test results\n",
    "print(tukey_OCTO)"
   ]
  },
  {
   "cell_type": "markdown",
   "id": "bf6a4703",
   "metadata": {},
   "source": [
    "### Stat Descriptives"
   ]
  },
  {
   "cell_type": "code",
   "execution_count": 21,
   "id": "93031666",
   "metadata": {},
   "outputs": [
    {
     "name": "stdout",
     "output_type": "stream",
     "text": [
      "Moyenne Santé et conditions de travail: 4.008979591836735\n",
      "SD:  0.8202454740012071\n",
      "Moyenne competences et parcours: 3.996938775510204\n",
      "SD:  1.008395644271137\n",
      "Moyenne égalité professionnelle: 4.081122448979592\n",
      "SD:  0.9474569154597356\n",
      "Moyenne des managé.e.s: 3.9394557823129253\n",
      "SD:  1.2849817398601617\n",
      "Moyenne des managers: 3.8702290076335877\n",
      "SD:  1.3666182099501951\n",
      "Effectif managers: 131\n"
     ]
    }
   ],
   "source": [
    "moyenne_sante_conditions = data['sante_conditions_travail'].mean()\n",
    "sd_sante_conditions = data['sante_conditions_travail'].std()\n",
    "print(\"Moyenne Santé et conditions de travail:\", moyenne_sante_conditions)\n",
    "print(\"SD: \", sd_sante_conditions)\n",
    "\n",
    "moyenne_competences_parcours = data['competences_parcours'].mean()\n",
    "sd_competences_parcours = data['competences_parcours'].std()\n",
    "print(\"Moyenne competences et parcours:\", moyenne_competences_parcours)\n",
    "print(\"SD: \", sd_competences_parcours)\n",
    "\n",
    "moyenne_egalite_pro = data['egalite_pro'].mean()\n",
    "sd_egalite_pro = data['egalite_pro'].std()\n",
    "print(\"Moyenne égalité professionnelle:\", moyenne_egalite_pro)\n",
    "print(\"SD: \", sd_egalite_pro)\n",
    "\n",
    "moyenne_manages = data['manages'].mean()\n",
    "sd_manages = data['manages'].std()\n",
    "print(\"Moyenne des managé.e.s:\", moyenne_manages)\n",
    "print(\"SD: \", sd_manages)\n",
    "\n",
    "effectif_manager = data['manager'].count()\n",
    "moyenne_manager = data['manager'].mean()\n",
    "sd_manager = data['manager'].std()\n",
    "print(\"Moyenne des managers:\", moyenne_manager)\n",
    "print(\"SD: \", sd_manager)\n",
    "print(\"Effectif managers:\", effectif_manager)"
   ]
  },
  {
   "cell_type": "markdown",
   "id": "70252e85",
   "metadata": {},
   "source": [
    "## B. Analyses par facteurs : level \"OCTO\" X (anciennete+OFA+quartier)\n",
    "\n",
    "### MANOVA"
   ]
  },
  {
   "cell_type": "code",
   "execution_count": 22,
   "id": "1f4c1863",
   "metadata": {},
   "outputs": [
    {
     "name": "stdout",
     "output_type": "stream",
     "text": [
      "                   sum_sq     df          F    PR(>F)\n",
      "C(anciennete)    2.506005    3.0   3.636146  0.012873\n",
      "C(OFA)           2.516719    1.0  10.955073  0.001004\n",
      "C(quartier)      2.749951    5.0   2.394063  0.036753\n",
      "Residual       110.270823  480.0        NaN       NaN\n",
      "Il y a une différence statistiquement significative des moyennes entre les niveaux d'ancienneté.\n",
      "Il y a une différence statistiquement significative des moyennes entre les niveaux de OFA.\n",
      "Il y a une différence statistiquement significative des moyennes entre les niveaux du quartier.\n"
     ]
    }
   ],
   "source": [
    "# Création du modèle ANOVA (score global sur OCTO X OFA X anciennete X quartier)\n",
    "model_OCTO_factors = ols('OCTO_total ~ C(anciennete) + C(OFA) + C(quartier)', data=data).fit()\n",
    "\n",
    "# Tableau d'analyse de variance (ANOVA)\n",
    "anova_table_OCTO_total = sm.stats.anova_lm(model_OCTO_factors, typ=2)\n",
    "print(anova_table_OCTO_total)\n",
    "\n",
    "# Interprétation de l'effet principal de l'ancienneté\n",
    "if anova_table_OCTO_total['PR(>F)']['C(anciennete)'] < 0.05:\n",
    "    print(\"Il y a une différence statistiquement significative des moyennes entre les niveaux d'ancienneté.\")\n",
    "else:\n",
    "    print(\"Il n'y a pas de différence statistiquement significative des moyennes entre les niveaux d'ancienneté.\")\n",
    "\n",
    "# Interprétation de l'effet principal de OFA\n",
    "if anova_table_OCTO_total['PR(>F)']['C(OFA)'] < 0.05:\n",
    "    print(\"Il y a une différence statistiquement significative des moyennes entre les niveaux de OFA.\")\n",
    "else:\n",
    "    print(\"Il n'y a pas de différence statistiquement significative des moyennes entre les niveaux de OFA.\")\n",
    "\n",
    "# Interprétation de l'effet principal du quartier\n",
    "if anova_table_OCTO_total['PR(>F)']['C(quartier)'] < 0.05:\n",
    "    print(\"Il y a une différence statistiquement significative des moyennes entre les niveaux du quartier.\")\n",
    "else:\n",
    "    print(\"Il n'y a pas de différence statistiquement significative des moyennes entre les niveaux du quartier.\")"
   ]
  },
  {
   "cell_type": "markdown",
   "id": "cc83e213",
   "metadata": {},
   "source": [
    "### Post-hoc tests & statistiques descriptives - ANCIENNETE"
   ]
  },
  {
   "cell_type": "code",
   "execution_count": 23,
   "id": "4aa8e2e3",
   "metadata": {
    "scrolled": true
   },
   "outputs": [
    {
     "name": "stdout",
     "output_type": "stream",
     "text": [
      "          Multiple Comparison of Means - Tukey HSD, FWER=0.05           \n",
      "========================================================================\n",
      "     group1           group2      meandiff p-adj   lower   upper  reject\n",
      "------------------------------------------------------------------------\n",
      "Entre 1 et 3 ans Entre 3 et 7 ans   0.1066 0.1764 -0.0284  0.2417  False\n",
      "Entre 1 et 3 ans    Moins de 1 an   0.2243 0.0062  0.0478  0.4008   True\n",
      "Entre 1 et 3 ans    Plus de 7 ans   0.0029    1.0 -0.1727  0.1785  False\n",
      "Entre 3 et 7 ans    Moins de 1 an   0.1177 0.3318 -0.0622  0.2975  False\n",
      "Entre 3 et 7 ans    Plus de 7 ans  -0.1037 0.4418 -0.2827  0.0752  False\n",
      "   Moins de 1 an    Plus de 7 ans  -0.2214 0.0368 -0.4334 -0.0094   True\n",
      "------------------------------------------------------------------------\n"
     ]
    }
   ],
   "source": [
    "# Perform Tukey's HSD test\n",
    "ttest_anciennete_OCTO = pairwise_tukeyhsd(endog=data['OCTO_total'], groups=data['anciennete'], alpha=0.05)\n",
    "\n",
    "# Print the results\n",
    "print(ttest_anciennete_OCTO)"
   ]
  },
  {
   "cell_type": "code",
   "execution_count": 24,
   "id": "671b9d3d",
   "metadata": {},
   "outputs": [
    {
     "name": "stdout",
     "output_type": "stream",
     "text": [
      "anciennete\n",
      "Entre 1 et 3 ans    3.927106\n",
      "Entre 3 et 7 ans    4.033737\n",
      "Moins de 1 an       4.151417\n",
      "Plus de 7 ans       3.930012\n",
      "Name: OCTO_total, dtype: float64\n",
      "anciennete\n",
      "Entre 1 et 3 ans    0.483785\n",
      "Entre 3 et 7 ans    0.494306\n",
      "Moins de 1 an       0.512098\n",
      "Plus de 7 ans       0.460839\n",
      "Name: OCTO_total, dtype: float64\n"
     ]
    }
   ],
   "source": [
    "# Grouping the data by the factor and calculating the mean for each group\n",
    "means_anciennete = data.groupby('anciennete')['OCTO_total'].mean()\n",
    "sd_anciennete = data.groupby('anciennete')['OCTO_total'].std()\n",
    "\n",
    "# Display the results\n",
    "print(means_anciennete)\n",
    "print(sd_anciennete)"
   ]
  },
  {
   "cell_type": "markdown",
   "id": "6955592f",
   "metadata": {},
   "source": [
    "### Post-hoc tests & descriptive statistics for QUARTIER"
   ]
  },
  {
   "cell_type": "code",
   "execution_count": 25,
   "id": "3de96c16",
   "metadata": {
    "scrolled": true
   },
   "outputs": [
    {
     "name": "stdout",
     "output_type": "stream",
     "text": [
      "                  Multiple Comparison of Means - Tukey HSD, FWER=0.05                  \n",
      "=======================================================================================\n",
      "           group1                   group2        meandiff p-adj   lower  upper  reject\n",
      "---------------------------------------------------------------------------------------\n",
      "Cloud & Platform Engineering            Data & IA   0.2572 0.0449  0.0034 0.5109   True\n",
      "Cloud & Platform Engineering                Forum   0.2199 0.0944 -0.0202   0.46  False\n",
      "Cloud & Platform Engineering               Mairie    0.253 0.0252  0.0191  0.487   True\n",
      "Cloud & Platform Engineering     Product & Design   0.2143 0.1011 -0.0222 0.4509  False\n",
      "Cloud & Platform Engineering Software engineering   0.2289 0.0728 -0.0117 0.4696  False\n",
      "                   Data & IA                Forum  -0.0373 0.9972 -0.2651 0.1905  False\n",
      "                   Data & IA               Mairie  -0.0041    1.0 -0.2254 0.2171  False\n",
      "                   Data & IA     Product & Design  -0.0428 0.9942 -0.2669 0.1812  False\n",
      "                   Data & IA Software engineering  -0.0282 0.9993 -0.2566 0.2001  False\n",
      "                       Forum               Mairie   0.0332 0.9974 -0.1723 0.2386  False\n",
      "                       Forum     Product & Design  -0.0055    1.0  -0.214  0.203  False\n",
      "                       Forum Software engineering   0.0091    1.0  -0.204 0.2222  False\n",
      "                      Mairie     Product & Design  -0.0387  0.994   -0.24 0.1626  False\n",
      "                      Mairie Software engineering  -0.0241 0.9994 -0.2302  0.182  False\n",
      "            Product & Design Software engineering   0.0146    1.0 -0.1945 0.2237  False\n",
      "---------------------------------------------------------------------------------------\n"
     ]
    }
   ],
   "source": [
    "# Perform Tukey's HSD test\n",
    "ttest_QA_OCTO = pairwise_tukeyhsd(endog=data['OCTO_total'], groups=data['quartier'], alpha=0.05)\n",
    "\n",
    "# Print the results\n",
    "print(ttest_QA_OCTO)"
   ]
  },
  {
   "cell_type": "code",
   "execution_count": 26,
   "id": "bf8ec7e3",
   "metadata": {},
   "outputs": [
    {
     "name": "stdout",
     "output_type": "stream",
     "text": [
      "quartier\n",
      "Cloud & Platform Engineering    3.787902\n",
      "Data & IA                       4.045062\n",
      "Forum                           4.007768\n",
      "Mairie                          4.040950\n",
      "Product & Design                4.002234\n",
      "Software engineering            4.016841\n",
      "Name: OCTO_total, dtype: float64\n",
      "quartier\n",
      "Cloud & Platform Engineering    0.418606\n",
      "Data & IA                       0.457054\n",
      "Forum                           0.432712\n",
      "Mairie                          0.565528\n",
      "Product & Design                0.548602\n",
      "Software engineering            0.446379\n",
      "Name: OCTO_total, dtype: float64\n"
     ]
    }
   ],
   "source": [
    "# Grouping the data by the factor and calculating the mean for each group\n",
    "means_QA = data.groupby('quartier')['OCTO_total'].mean()\n",
    "sd_QA = data.groupby('quartier')['OCTO_total'].std()\n",
    "\n",
    "# Display the results\n",
    "print(means_QA)\n",
    "print(sd_QA)"
   ]
  },
  {
   "cell_type": "markdown",
   "id": "d48db408",
   "metadata": {},
   "source": [
    "### Post-hoc tests & descriptive statistics for OFA"
   ]
  },
  {
   "cell_type": "code",
   "execution_count": 27,
   "id": "c76523f7",
   "metadata": {
    "scrolled": true
   },
   "outputs": [
    {
     "name": "stdout",
     "output_type": "stream",
     "text": [
      "Multiple Comparison of Means - Tukey HSD, FWER=0.05\n",
      "==================================================\n",
      "group1 group2 meandiff p-adj  lower  upper  reject\n",
      "--------------------------------------------------\n",
      "   Non    Oui   0.2564 0.0001 0.1284 0.3844   True\n",
      "--------------------------------------------------\n"
     ]
    }
   ],
   "source": [
    "# Perform Tukey's HSD test\n",
    "ttest_OFA_OCTO = pairwise_tukeyhsd(endog=data['OCTO_total'], groups=data['OFA'], alpha=0.05)\n",
    "\n",
    "# Print the results\n",
    "print(ttest_OFA_OCTO)"
   ]
  },
  {
   "cell_type": "code",
   "execution_count": 28,
   "id": "0a489124",
   "metadata": {},
   "outputs": [
    {
     "name": "stdout",
     "output_type": "stream",
     "text": [
      "OFA\n",
      "Non    3.961553\n",
      "Oui    4.217956\n",
      "Name: OCTO_total, dtype: float64\n",
      "OFA\n",
      "Non    0.492642\n",
      "Oui    0.439218\n",
      "Name: OCTO_total, dtype: float64\n"
     ]
    }
   ],
   "source": [
    "# Grouping the data by the factor and calculating the mean for each group\n",
    "means_OFA_OCTO = data.groupby('OFA')['OCTO_total'].mean()\n",
    "sd_OFA_OCTO = data.groupby('OFA')['OCTO_total'].std()\n",
    "\n",
    "# Display the results\n",
    "print(means_OFA_OCTO)\n",
    "print(sd_OFA_OCTO)"
   ]
  },
  {
   "cell_type": "markdown",
   "id": "fd1e8a84",
   "metadata": {},
   "source": [
    "# V. Focus sur le niveau \"Management\"\n",
    "\n",
    "## A. Analyses par thématiques (managers + managé.e.s)\n",
    "\n",
    "### T-test et statistiques descriptives"
   ]
  },
  {
   "cell_type": "code",
   "execution_count": 29,
   "id": "8772e770",
   "metadata": {},
   "outputs": [
    {
     "name": "stdout",
     "output_type": "stream",
     "text": [
      " Multiple Comparison of Means - Tukey HSD, FWER=0.05 \n",
      "=====================================================\n",
      " group1  group2 meandiff p-adj   lower  upper  reject\n",
      "-----------------------------------------------------\n",
      "manager manages   0.0692 0.5892 -0.1824 0.3208  False\n",
      "-----------------------------------------------------\n"
     ]
    }
   ],
   "source": [
    "# Convertir les données au format long\n",
    "data_long_management = pda.melt(data, value_vars=['manages', 'manager'], var_name='Thematiques', value_name='Value')\n",
    "\n",
    "# Supprimer les valeurs manquantes\n",
    "data_long_management = data_long_management.dropna()\n",
    "\n",
    "# Perform the t-test\n",
    "ttest_management = pairwise_tukeyhsd(endog=data_long_management['Value'], groups=data_long_management['Thematiques'], alpha=0.05)\n",
    "\n",
    "# Print the results\n",
    "print(ttest_management)"
   ]
  },
  {
   "cell_type": "code",
   "execution_count": 30,
   "id": "7b55f627",
   "metadata": {},
   "outputs": [
    {
     "name": "stdout",
     "output_type": "stream",
     "text": [
      "Bien-être moyen des Octos concernant leur management en tant que managers est de: 3.8702290076335877\n",
      "Ecart-type de: 1.3666182099501951\n",
      "Bien-être moyen des Octos concernant leur management en tant que managé.e.s est de : 3.9394557823129253\n",
      "Ecart-type de : 1.2849817398601617\n"
     ]
    }
   ],
   "source": [
    "mean_manager = data['manager'].mean()\n",
    "mean_manages = data['manages'].mean()\n",
    "std_manager = data['manager'].std()\n",
    "std_manages = data['manages'].std()\n",
    "\n",
    "print(\"Bien-être moyen des Octos concernant leur management en tant que managers est de:\", mean_manager)\n",
    "print(\"Ecart-type de:\", std_manager)\n",
    "\n",
    "print(\"Bien-être moyen des Octos concernant leur management en tant que managé.e.s est de :\", mean_manages)\n",
    "print(\"Ecart-type de :\", std_manages)"
   ]
  },
  {
   "cell_type": "markdown",
   "id": "3c1fc0b6",
   "metadata": {},
   "source": [
    "## B. Analyses par facteur (anciennete ; OFA ; quartier/atelier) sur le niveau des \"managé.e.s\"\n",
    "\n",
    "### ANOVA"
   ]
  },
  {
   "cell_type": "code",
   "execution_count": 31,
   "id": "c657ea3e",
   "metadata": {},
   "outputs": [
    {
     "name": "stdout",
     "output_type": "stream",
     "text": [
      "                   sum_sq     df          F        PR(>F)\n",
      "C(anciennete)   10.897325    3.0   2.565058  5.401806e-02\n",
      "C(OFA)          74.167325    1.0  52.373454  1.831089e-12\n",
      "C(quartier)     29.586561    5.0   4.178526  1.000297e-03\n",
      "Residual       679.739705  480.0        NaN           NaN\n",
      "Il n'y a pas de différence significative des moyennes entre les niveaux d'ancienneté.\n",
      "Il y a une différence significative des moyennes entre les niveaux de OFA.\n",
      "Il y a une différence significative des moyennes entre les niveaux du quartier.\n"
     ]
    }
   ],
   "source": [
    "# Création du modèle ANOVA\n",
    "model_management_manages = ols('manages ~ C(anciennete) + C(OFA) + C(quartier)', data=data).fit()\n",
    "\n",
    "# Tableau d'analyse de variance (ANOVA)\n",
    "anova_table_manages = sm.stats.anova_lm(model_management_manages, typ=2)\n",
    "print(anova_table_manages)\n",
    "\n",
    "# Interprétation de l'effet principal de l'ancienneté\n",
    "if anova_table_manages['PR(>F)']['C(anciennete)'] < 0.05:\n",
    "    print(\"Il y a une différence significative des moyennes entre les niveaux d'ancienneté.\")\n",
    "else:\n",
    "    print(\"Il n'y a pas de différence significative des moyennes entre les niveaux d'ancienneté.\")\n",
    "\n",
    "# Interprétation de l'effet principal de OFA\n",
    "if anova_table_manages['PR(>F)']['C(OFA)'] < 0.05:\n",
    "    print(\"Il y a une différence significative des moyennes entre les niveaux de OFA.\")\n",
    "else:\n",
    "    print(\"Il n'y a pas de différence statistiquement significative des moyennes entre les niveaux de OFA.\")\n",
    "\n",
    "# Interprétation de l'effet principal du quartier\n",
    "if anova_table_manages['PR(>F)']['C(quartier)'] < 0.05:\n",
    "    print(\"Il y a une différence significative des moyennes entre les niveaux du quartier.\")\n",
    "else:\n",
    "    print(\"Il n'y a pas de différence statistiquement significative des moyennes entre les niveaux du quartier.\")"
   ]
  },
  {
   "cell_type": "markdown",
   "id": "2e245d86",
   "metadata": {},
   "source": [
    "### Post-hoc tests & descriptive statistics for Anciennete"
   ]
  },
  {
   "cell_type": "code",
   "execution_count": 32,
   "id": "1148c8ac",
   "metadata": {},
   "outputs": [
    {
     "name": "stdout",
     "output_type": "stream",
     "text": [
      "          Multiple Comparison of Means - Tukey HSD, FWER=0.05          \n",
      "=======================================================================\n",
      "     group1           group2      meandiff p-adj   lower  upper  reject\n",
      "-----------------------------------------------------------------------\n",
      "Entre 1 et 3 ans Entre 3 et 7 ans   0.1681 0.6071 -0.1838   0.52  False\n",
      "Entre 1 et 3 ans    Moins de 1 an   0.5866 0.0059  0.1268 1.0465   True\n",
      "Entre 1 et 3 ans    Plus de 7 ans   0.3989 0.1121 -0.0586 0.8564  False\n",
      "Entre 3 et 7 ans    Moins de 1 an   0.4186 0.0989 -0.0501 0.8872  False\n",
      "Entre 3 et 7 ans    Plus de 7 ans   0.2308 0.5787 -0.2355 0.6972  False\n",
      "   Moins de 1 an    Plus de 7 ans  -0.1877 0.8173 -0.7401 0.3647  False\n",
      "-----------------------------------------------------------------------\n"
     ]
    }
   ],
   "source": [
    "# Perform Tukey's HSD test\n",
    "ttest_anciennete_manages = pairwise_tukeyhsd(endog=data['manages'], groups=data['anciennete'], alpha=0.05)\n",
    "\n",
    "# Print the results\n",
    "print(ttest_anciennete_manages)"
   ]
  },
  {
   "cell_type": "code",
   "execution_count": 33,
   "id": "fcc8342c",
   "metadata": {},
   "outputs": [
    {
     "name": "stdout",
     "output_type": "stream",
     "text": [
      "anciennete\n",
      "Entre 1 et 3 ans    3.741935\n",
      "Entre 3 et 7 ans    3.910020\n",
      "Moins de 1 an       4.328571\n",
      "Plus de 7 ans       4.140845\n",
      "Name: manages, dtype: float64\n",
      "anciennete\n",
      "Entre 1 et 3 ans    1.174943\n",
      "Entre 3 et 7 ans    1.302662\n",
      "Moins de 1 an       1.415912\n",
      "Plus de 7 ans       1.297937\n",
      "Name: manages, dtype: float64\n"
     ]
    }
   ],
   "source": [
    "# Grouping the data by the factor and calculating the mean for each group\n",
    "means_anciennete_manages = data.groupby('anciennete')['manages'].mean()\n",
    "sd_anciennete_manages = data.groupby('anciennete')['manages'].std()\n",
    "\n",
    "# Display the results\n",
    "print(means_anciennete_manages)\n",
    "print(sd_anciennete_manages)"
   ]
  },
  {
   "cell_type": "markdown",
   "id": "0148d7cf",
   "metadata": {},
   "source": [
    "### Post-hoc tests & descriptive statistics for OFA"
   ]
  },
  {
   "cell_type": "code",
   "execution_count": 34,
   "id": "411fe897",
   "metadata": {},
   "outputs": [
    {
     "name": "stdout",
     "output_type": "stream",
     "text": [
      "Multiple Comparison of Means - Tukey HSD, FWER=0.05\n",
      "=================================================\n",
      "group1 group2 meandiff p-adj lower  upper  reject\n",
      "-------------------------------------------------\n",
      "   Non    Oui   1.2618   0.0 0.9421 1.5815   True\n",
      "-------------------------------------------------\n"
     ]
    }
   ],
   "source": [
    "# Perform Tukey's HSD test\n",
    "ttest_OFA_manages = pairwise_tukeyhsd(endog=data['manages'], groups=data['OFA'], alpha=0.05)\n",
    "\n",
    "# Print the results\n",
    "print(ttest_OFA_manages)"
   ]
  },
  {
   "cell_type": "code",
   "execution_count": 35,
   "id": "241c5824",
   "metadata": {},
   "outputs": [
    {
     "name": "stdout",
     "output_type": "stream",
     "text": [
      "OFA\n",
      "Non    3.774648\n",
      "Oui    5.036458\n",
      "Name: manages, dtype: float64\n",
      "OFA\n",
      "Non    1.210120\n",
      "Oui    1.237448\n",
      "Name: manages, dtype: float64\n"
     ]
    }
   ],
   "source": [
    "# Grouping the data by the factor and calculating the mean for each group\n",
    "means_OFA_manages = data.groupby('OFA')['manages'].mean()\n",
    "sd_OFA_manages = data.groupby('OFA')['manages'].std()\n",
    "\n",
    "# Display the results\n",
    "print(means_OFA_manages)\n",
    "print(sd_OFA_manages)"
   ]
  },
  {
   "cell_type": "markdown",
   "id": "c3a69a36",
   "metadata": {},
   "source": [
    "### Post-hoc tests & descriptive statistics for Quartier"
   ]
  },
  {
   "cell_type": "code",
   "execution_count": 36,
   "id": "485ae1ac",
   "metadata": {
    "scrolled": true
   },
   "outputs": [
    {
     "name": "stdout",
     "output_type": "stream",
     "text": [
      "                  Multiple Comparison of Means - Tukey HSD, FWER=0.05                  \n",
      "=======================================================================================\n",
      "           group1                   group2        meandiff p-adj   lower  upper  reject\n",
      "---------------------------------------------------------------------------------------\n",
      "Cloud & Platform Engineering            Data & IA   0.6973 0.0299   0.041 1.3537   True\n",
      "Cloud & Platform Engineering                Forum   0.6862 0.0206  0.0651 1.3072   True\n",
      "Cloud & Platform Engineering               Mairie   0.8721 0.0006  0.2671 1.4772   True\n",
      "Cloud & Platform Engineering     Product & Design   0.7534 0.0062  0.1415 1.3653   True\n",
      "Cloud & Platform Engineering Software engineering   0.7515 0.0079  0.1291  1.374   True\n",
      "                   Data & IA                Forum  -0.0112    1.0 -0.6004 0.5781  False\n",
      "                   Data & IA               Mairie   0.1748 0.9526 -0.3975 0.7471  False\n",
      "                   Data & IA     Product & Design   0.0561 0.9998 -0.5235 0.6357  False\n",
      "                   Data & IA Software engineering   0.0542 0.9998 -0.5365 0.6449  False\n",
      "                       Forum               Mairie    0.186 0.9174 -0.3455 0.7174  False\n",
      "                       Forum     Product & Design   0.0673 0.9992  -0.472 0.6065  False\n",
      "                       Forum Software engineering   0.0654 0.9994 -0.4859 0.6166  False\n",
      "                      Mairie     Product & Design  -0.1187 0.9868 -0.6395  0.402  False\n",
      "                      Mairie Software engineering  -0.1206 0.9873 -0.6537 0.4125  False\n",
      "            Product & Design Software engineering  -0.0019    1.0 -0.5428  0.539  False\n",
      "---------------------------------------------------------------------------------------\n"
     ]
    }
   ],
   "source": [
    "# Perform Tukey's HSD test\n",
    "ttest_quartier_manages = pairwise_tukeyhsd(endog=data['manages'], groups=data['quartier'], alpha=0.05)\n",
    "\n",
    "# Print the results\n",
    "print(ttest_quartier_manages)"
   ]
  },
  {
   "cell_type": "code",
   "execution_count": 37,
   "id": "c8a534d7",
   "metadata": {},
   "outputs": [
    {
     "name": "stdout",
     "output_type": "stream",
     "text": [
      "quartier\n",
      "Cloud & Platform Engineering    3.267857\n",
      "Data & IA                       3.965174\n",
      "Forum                           3.954023\n",
      "Mairie                          4.140000\n",
      "Product & Design                4.021277\n",
      "Software engineering            4.019380\n",
      "Name: manages, dtype: float64\n",
      "quartier\n",
      "Cloud & Platform Engineering    0.863209\n",
      "Data & IA                       1.220110\n",
      "Forum                           1.169346\n",
      "Mairie                          1.463495\n",
      "Product & Design                1.429179\n",
      "Software engineering            1.178627\n",
      "Name: manages, dtype: float64\n"
     ]
    }
   ],
   "source": [
    "# Grouping the data by the factor and calculating the mean for each group\n",
    "means_quartier_manages = data.groupby('quartier')['manages'].mean()\n",
    "sd_quartier_manages = data.groupby('quartier')['manages'].std()\n",
    "\n",
    "# Display the results\n",
    "print(means_quartier_manages)\n",
    "print(sd_quartier_manages)"
   ]
  },
  {
   "cell_type": "markdown",
   "id": "ce4f1f68",
   "metadata": {},
   "source": [
    "## C. Analyses par facteur (anciennete ; OFA ; quartier/atelier) sur le niveau des \"managers\"\n",
    "\n",
    "### ANOVA"
   ]
  },
  {
   "cell_type": "code",
   "execution_count": 38,
   "id": "826e6f8c",
   "metadata": {
    "scrolled": true
   },
   "outputs": [
    {
     "name": "stdout",
     "output_type": "stream",
     "text": [
      "                   sum_sq     df          F        PR(>F)\n",
      "C(anciennete)   30.643031    3.0   9.178321  1.613177e-05\n",
      "C(OFA)          54.103340    1.0  48.615737  1.771817e-10\n",
      "C(quartier)     11.748370    5.0   2.111351  6.857358e-02\n",
      "Residual       134.658128  121.0        NaN           NaN\n",
      "Il y a une différence significative des moyennes entre les niveaux d'ancienneté.\n",
      "Il y a une différence significative des moyennes entre les niveaux de OFA.\n",
      "Il n'y a pas de différence statistiquement significative des moyennes entre les niveaux du quartier.\n"
     ]
    }
   ],
   "source": [
    "# Création d'un nouveau DataFrame en supprimant les lignes avec des données manquantes dans la colonne 'manager'\n",
    "data_cleaned_managers = data.dropna(subset=['manager'])\n",
    "\n",
    "# Création du modèle ANOVA\n",
    "model_management_manager = ols('manager ~ C(anciennete) + C(OFA) + C(quartier)', data=data_cleaned_managers).fit()\n",
    "\n",
    "# Tableau d'analyse de variance (ANOVA)\n",
    "anova_table_manager = sm.stats.anova_lm(model_management_manager, typ=2)\n",
    "print(anova_table_manager)\n",
    "\n",
    "# Interprétation de l'effet principal de l'ancienneté\n",
    "if anova_table_manager['PR(>F)']['C(anciennete)'] < 0.05:\n",
    "    print(\"Il y a une différence significative des moyennes entre les niveaux d'ancienneté.\")\n",
    "else:\n",
    "    print(\"Il n'y a pas de différence significative des moyennes entre les niveaux d'ancienneté.\")\n",
    "\n",
    "# Interprétation de l'effet principal de OFA\n",
    "if anova_table_manager['PR(>F)']['C(OFA)'] < 0.05:\n",
    "    print(\"Il y a une différence significative des moyennes entre les niveaux de OFA.\")\n",
    "else:\n",
    "    print(\"Il n'y a pas de différence statistiquement significative des moyennes entre les niveaux de OFA.\")\n",
    "\n",
    "# Interprétation de l'effet principal du quartier\n",
    "if anova_table_manager['PR(>F)']['C(quartier)'] < 0.05:\n",
    "    print(\"Il y a une différence significative des moyennes entre les niveaux du quartier.\")\n",
    "else:\n",
    "    print(\"Il n'y a pas de différence statistiquement significative des moyennes entre les niveaux du quartier.\")"
   ]
  },
  {
   "cell_type": "markdown",
   "id": "83ca1ef9",
   "metadata": {},
   "source": [
    "### Post-hoc tests & descriptive statistics for Anciennete"
   ]
  },
  {
   "cell_type": "code",
   "execution_count": 39,
   "id": "37815bdd",
   "metadata": {},
   "outputs": [
    {
     "name": "stdout",
     "output_type": "stream",
     "text": [
      "          Multiple Comparison of Means - Tukey HSD, FWER=0.05          \n",
      "=======================================================================\n",
      "     group1           group2      meandiff p-adj   lower  upper  reject\n",
      "-----------------------------------------------------------------------\n",
      "Entre 1 et 3 ans Entre 3 et 7 ans   0.9545 0.0009  0.3156 1.5935   True\n",
      "Entre 1 et 3 ans    Moins de 1 an      1.7 0.0003  0.6488 2.7512   True\n",
      "Entre 1 et 3 ans    Plus de 7 ans   0.1286 0.9866 -0.8602 1.1173  False\n",
      "Entre 3 et 7 ans    Moins de 1 an   0.7455 0.2494 -0.2964 1.7873  False\n",
      "Entre 3 et 7 ans    Plus de 7 ans   -0.826 0.1297 -1.8048 0.1529  False\n",
      "   Moins de 1 an    Plus de 7 ans  -1.5714 0.0099 -2.8578 -0.285   True\n",
      "-----------------------------------------------------------------------\n"
     ]
    }
   ],
   "source": [
    "# Perform Tukey's HSD test\n",
    "ttest_anciennete_manager = pairwise_tukeyhsd(endog=data_cleaned_managers['manager'], groups=data_cleaned_managers['anciennete'], alpha=0.05)\n",
    "\n",
    "# Print the results\n",
    "print(ttest_anciennete_manager)"
   ]
  },
  {
   "cell_type": "code",
   "execution_count": 40,
   "id": "2318f85e",
   "metadata": {},
   "outputs": [
    {
     "name": "stdout",
     "output_type": "stream",
     "text": [
      "anciennete\n",
      "Entre 1 et 3 ans    3.300000\n",
      "Entre 3 et 7 ans    4.254545\n",
      "Moins de 1 an       5.000000\n",
      "Plus de 7 ans       3.428571\n",
      "Name: manager, dtype: float64\n",
      "anciennete\n",
      "Entre 1 et 3 ans    0.909137\n",
      "Entre 3 et 7 ans    1.493420\n",
      "Moins de 1 an       1.477098\n",
      "Plus de 7 ans       1.089410\n",
      "Name: manager, dtype: float64\n"
     ]
    }
   ],
   "source": [
    "# Grouping the data by the factor and calculating the mean for each group\n",
    "means_anciennete_managers = data_cleaned_managers.groupby('anciennete')['manager'].mean()\n",
    "sd_anciennete_managers = data_cleaned_managers.groupby('anciennete')['manager'].std()\n",
    "\n",
    "# Display the results\n",
    "print(means_anciennete_managers)\n",
    "print(sd_anciennete_managers)"
   ]
  },
  {
   "cell_type": "markdown",
   "id": "72c8a151",
   "metadata": {},
   "source": [
    "### Post-hoc tests & descriptive statistics for OFA"
   ]
  },
  {
   "cell_type": "code",
   "execution_count": 41,
   "id": "3bdd0d63",
   "metadata": {
    "scrolled": true
   },
   "outputs": [
    {
     "name": "stdout",
     "output_type": "stream",
     "text": [
      "                  Multiple Comparison of Means - Tukey HSD, FWER=0.05                  \n",
      "=======================================================================================\n",
      "           group1                   group2        meandiff p-adj   lower  upper  reject\n",
      "---------------------------------------------------------------------------------------\n",
      "Cloud & Platform Engineering            Data & IA      1.0 0.3355 -0.4309 2.4309  False\n",
      "Cloud & Platform Engineering                Forum    1.125 0.1624 -0.2288 2.4788  False\n",
      "Cloud & Platform Engineering               Mairie      1.0 0.2541 -0.3272 2.3272  False\n",
      "Cloud & Platform Engineering     Product & Design     0.84  0.464 -0.5043 2.1843  False\n",
      "Cloud & Platform Engineering Software engineering    0.875  0.425 -0.4788 2.2288  False\n",
      "                   Data & IA                Forum    0.125 0.9997 -1.1008 1.3508  False\n",
      "                   Data & IA               Mairie      0.0    1.0 -1.1963 1.1963  False\n",
      "                   Data & IA     Product & Design    -0.16 0.9989 -1.3753 1.0553  False\n",
      "                   Data & IA Software engineering   -0.125 0.9997 -1.3508 1.1008  False\n",
      "                       Forum               Mairie   -0.125 0.9995 -1.2279 0.9779  False\n",
      "                       Forum     Product & Design   -0.285 0.9773 -1.4085 0.8385  False\n",
      "                       Forum Software engineering    -0.25 0.9879 -1.3849 0.8849  False\n",
      "                      Mairie     Product & Design    -0.16 0.9982 -1.2512 0.9312  False\n",
      "                      Mairie Software engineering   -0.125 0.9995 -1.2279 0.9779  False\n",
      "            Product & Design Software engineering    0.035    1.0 -1.0885 1.1585  False\n",
      "---------------------------------------------------------------------------------------\n"
     ]
    }
   ],
   "source": [
    "# Perform Tukey's HSD test\n",
    "ttest_quartier_manager = pairwise_tukeyhsd(endog=data_cleaned_managers['manager'], groups=data_cleaned_managers['quartier'], alpha=0.05)\n",
    "\n",
    "# Print the results\n",
    "print(ttest_quartier_manager)"
   ]
  },
  {
   "cell_type": "code",
   "execution_count": 42,
   "id": "ea4695fd",
   "metadata": {},
   "outputs": [
    {
     "name": "stdout",
     "output_type": "stream",
     "text": [
      "OFA\n",
      "Non    3.635593\n",
      "Oui    6.000000\n",
      "Name: manager, dtype: float64\n",
      "OFA\n",
      "Non    1.231115\n",
      "Oui    0.000000\n",
      "Name: manager, dtype: float64\n"
     ]
    }
   ],
   "source": [
    "# Grouping the data by the factor and calculating the mean for each group\n",
    "means_OFA_managers = data_cleaned_managers.groupby('OFA')['manager'].mean()\n",
    "sd_OFA_managers = data_cleaned_managers.groupby('OFA')['manager'].std()\n",
    "\n",
    "# Display the results\n",
    "print(means_OFA_managers)\n",
    "print(sd_OFA_managers)"
   ]
  },
  {
   "cell_type": "markdown",
   "id": "ab770bbf",
   "metadata": {},
   "source": [
    "### Post-hoc tests & descriptive statistics for Quartier"
   ]
  },
  {
   "cell_type": "code",
   "execution_count": 43,
   "id": "4d778f8e",
   "metadata": {
    "scrolled": true
   },
   "outputs": [
    {
     "name": "stdout",
     "output_type": "stream",
     "text": [
      "                  Multiple Comparison of Means - Tukey HSD, FWER=0.05                  \n",
      "=======================================================================================\n",
      "           group1                   group2        meandiff p-adj   lower  upper  reject\n",
      "---------------------------------------------------------------------------------------\n",
      "Cloud & Platform Engineering            Data & IA      1.0 0.3355 -0.4309 2.4309  False\n",
      "Cloud & Platform Engineering                Forum    1.125 0.1624 -0.2288 2.4788  False\n",
      "Cloud & Platform Engineering               Mairie      1.0 0.2541 -0.3272 2.3272  False\n",
      "Cloud & Platform Engineering     Product & Design     0.84  0.464 -0.5043 2.1843  False\n",
      "Cloud & Platform Engineering Software engineering    0.875  0.425 -0.4788 2.2288  False\n",
      "                   Data & IA                Forum    0.125 0.9997 -1.1008 1.3508  False\n",
      "                   Data & IA               Mairie      0.0    1.0 -1.1963 1.1963  False\n",
      "                   Data & IA     Product & Design    -0.16 0.9989 -1.3753 1.0553  False\n",
      "                   Data & IA Software engineering   -0.125 0.9997 -1.3508 1.1008  False\n",
      "                       Forum               Mairie   -0.125 0.9995 -1.2279 0.9779  False\n",
      "                       Forum     Product & Design   -0.285 0.9773 -1.4085 0.8385  False\n",
      "                       Forum Software engineering    -0.25 0.9879 -1.3849 0.8849  False\n",
      "                      Mairie     Product & Design    -0.16 0.9982 -1.2512 0.9312  False\n",
      "                      Mairie Software engineering   -0.125 0.9995 -1.2279 0.9779  False\n",
      "            Product & Design Software engineering    0.035    1.0 -1.0885 1.1585  False\n",
      "---------------------------------------------------------------------------------------\n"
     ]
    }
   ],
   "source": [
    "# Perform Tukey's HSD test\n",
    "ttest_quartier_manager = pairwise_tukeyhsd(endog=data_cleaned_managers['manager'], groups=data_cleaned_managers['quartier'], alpha=0.05)\n",
    "\n",
    "# Print the results\n",
    "print(ttest_quartier_manager)"
   ]
  },
  {
   "cell_type": "code",
   "execution_count": 44,
   "id": "5affe439",
   "metadata": {
    "scrolled": true
   },
   "outputs": [
    {
     "name": "stdout",
     "output_type": "stream",
     "text": [
      "quartier\n",
      "Cloud & Platform Engineering    3.000\n",
      "Data & IA                       4.000\n",
      "Forum                           4.125\n",
      "Mairie                          4.000\n",
      "Product & Design                3.840\n",
      "Software engineering            3.875\n",
      "Name: manager, dtype: float64\n",
      "quartier\n",
      "Cloud & Platform Engineering    0.000000\n",
      "Data & IA                       1.455214\n",
      "Forum                           1.483606\n",
      "Mairie                          1.441153\n",
      "Product & Design                1.374773\n",
      "Software engineering            1.392917\n",
      "Name: manager, dtype: float64\n"
     ]
    }
   ],
   "source": [
    "# Grouping the data by the factor and calculating the mean for each group\n",
    "means_quartier_managers = data_cleaned_managers.groupby('quartier')['manager'].mean()\n",
    "sd_quartier_managers = data_cleaned_managers.groupby('quartier')['manager'].std()\n",
    "\n",
    "# Display the results\n",
    "print(means_quartier_managers)\n",
    "print(sd_quartier_managers)"
   ]
  },
  {
   "cell_type": "markdown",
   "id": "dfc976c4",
   "metadata": {},
   "source": [
    "# VI. Focus sur le niveau \"Santé et conditions de travail\"\n",
    "\n",
    "## A. Analyses par facteur (ancienneté, OFA, quartier) sur les scores de \"santé et conditions de travail\"\n",
    "\n",
    "### T-test et statistiques descriptives"
   ]
  },
  {
   "cell_type": "code",
   "execution_count": 45,
   "id": "be3ae55f",
   "metadata": {},
   "outputs": [
    {
     "name": "stdout",
     "output_type": "stream",
     "text": [
      "Moyenne Santé et conditions de travail: 4.008979591836735\n",
      "SD:  0.8202454740012071\n"
     ]
    }
   ],
   "source": [
    "#Rappel: \n",
    "\n",
    "moyenne_sante_conditions = data['sante_conditions_travail'].mean()\n",
    "sd_sante_conditions = data['sante_conditions_travail'].std()\n",
    "print(\"Moyenne Santé et conditions de travail:\", moyenne_sante_conditions)\n",
    "print(\"SD: \", sd_sante_conditions)"
   ]
  },
  {
   "cell_type": "code",
   "execution_count": 46,
   "id": "71efacaa",
   "metadata": {
    "scrolled": true
   },
   "outputs": [
    {
     "name": "stdout",
     "output_type": "stream",
     "text": [
      "                   sum_sq     df          F        PR(>F)\n",
      "C(anciennete)    1.654579    3.0   0.856044  4.638443e-01\n",
      "C(OFA)          17.551814    1.0  27.242827  2.676169e-07\n",
      "C(quartier)      1.403574    5.0   0.435708  8.236631e-01\n",
      "Residual       309.250975  480.0        NaN           NaN\n",
      "Il n'y a pas de différence significative des moyennes entre les niveaux d'ancienneté.\n",
      "Il y a une différence significative des moyennes entre les niveaux de OFA.\n",
      "Il y a une différence significative des moyennes entre les niveaux du quartier.\n"
     ]
    }
   ],
   "source": [
    "# Création du modèle ANOVA\n",
    "model_sante_conditions = ols('sante_conditions_travail ~ C(anciennete) + C(OFA) + C(quartier)', data=data).fit()\n",
    "\n",
    "# Tableau d'analyse de variance (ANOVA)\n",
    "anova_table_sante_conditions = sm.stats.anova_lm(model_sante_conditions, typ=2)\n",
    "print(anova_table_sante_conditions)\n",
    "\n",
    "# Interprétation de l'effet principal de l'ancienneté\n",
    "if anova_table_sante_conditions['PR(>F)']['C(anciennete)'] < 0.05:\n",
    "    print(\"Il y a une différence significative des moyennes entre les niveaux d'ancienneté.\")\n",
    "else:\n",
    "    print(\"Il n'y a pas de différence significative des moyennes entre les niveaux d'ancienneté.\")\n",
    "\n",
    "# Interprétation de l'effet principal de OFA\n",
    "if anova_table_manages['PR(>F)']['C(OFA)'] < 0.05:\n",
    "    print(\"Il y a une différence significative des moyennes entre les niveaux de OFA.\")\n",
    "else:\n",
    "    print(\"Il n'y a pas de différence statistiquement significative des moyennes entre les niveaux de OFA.\")\n",
    "\n",
    "# Interprétation de l'effet principal du quartier\n",
    "if anova_table_manages['PR(>F)']['C(quartier)'] < 0.05:\n",
    "    print(\"Il y a une différence significative des moyennes entre les niveaux du quartier.\")\n",
    "else:\n",
    "    print(\"Il n'y a pas de différence statistiquement significative des moyennes entre les niveaux du quartier.\")"
   ]
  },
  {
   "cell_type": "markdown",
   "id": "244b7e7f",
   "metadata": {},
   "source": [
    "### Post-hoc et statistiques descriptive - Anciennete"
   ]
  },
  {
   "cell_type": "code",
   "execution_count": 47,
   "id": "320c5aef",
   "metadata": {
    "scrolled": false
   },
   "outputs": [
    {
     "name": "stdout",
     "output_type": "stream",
     "text": [
      "          Multiple Comparison of Means - Tukey HSD, FWER=0.05          \n",
      "=======================================================================\n",
      "     group1           group2      meandiff p-adj   lower  upper  reject\n",
      "-----------------------------------------------------------------------\n",
      "Entre 1 et 3 ans Entre 3 et 7 ans   0.0036    1.0 -0.2233 0.2306  False\n",
      "Entre 1 et 3 ans    Moins de 1 an  -0.0116 0.9996 -0.3082  0.285  False\n",
      "Entre 1 et 3 ans    Plus de 7 ans  -0.1724 0.4344 -0.4675 0.1226  False\n",
      "Entre 3 et 7 ans    Moins de 1 an  -0.0152 0.9992 -0.3174 0.2871  False\n",
      "Entre 3 et 7 ans    Plus de 7 ans  -0.1761 0.4328 -0.4768 0.1247  False\n",
      "   Moins de 1 an    Plus de 7 ans  -0.1609 0.6498 -0.5172 0.1954  False\n",
      "-----------------------------------------------------------------------\n"
     ]
    }
   ],
   "source": [
    "# Perform Tukey's HSD test\n",
    "ttest_anciennete_sante_conditions = pairwise_tukeyhsd(endog=data['sante_conditions_travail'], groups=data['anciennete'], alpha=0.05)\n",
    "\n",
    "# Print the results\n",
    "print(ttest_anciennete_sante_conditions)"
   ]
  },
  {
   "cell_type": "code",
   "execution_count": 48,
   "id": "d0c21fa2",
   "metadata": {},
   "outputs": [
    {
     "name": "stdout",
     "output_type": "stream",
     "text": [
      "anciennete\n",
      "Entre 1 et 3 ans    4.034409\n",
      "Entre 3 et 7 ans    4.038037\n",
      "Moins de 1 an       4.022857\n",
      "Plus de 7 ans       3.861972\n",
      "Name: sante_conditions_travail, dtype: float64\n",
      "anciennete\n",
      "Entre 1 et 3 ans    0.815591\n",
      "Entre 3 et 7 ans    0.804172\n",
      "Moins de 1 an       0.769372\n",
      "Plus de 7 ans       0.914388\n",
      "Name: sante_conditions_travail, dtype: float64\n"
     ]
    }
   ],
   "source": [
    "# Grouping the data by the factor and calculating the mean for each group\n",
    "means_anciennete_sante_conditions = data.groupby('anciennete')['sante_conditions_travail'].mean()\n",
    "sd_anciennete_sante_conditions = data.groupby('anciennete')['sante_conditions_travail'].std()\n",
    "\n",
    "# Display the results\n",
    "print(means_anciennete_sante_conditions)\n",
    "print(sd_anciennete_sante_conditions)"
   ]
  },
  {
   "cell_type": "markdown",
   "id": "500d9ca8",
   "metadata": {},
   "source": [
    "### Post-hoc et statistiques descriptives - OFA"
   ]
  },
  {
   "cell_type": "code",
   "execution_count": 49,
   "id": "e2aa3b94",
   "metadata": {},
   "outputs": [
    {
     "name": "stdout",
     "output_type": "stream",
     "text": [
      "Multiple Comparison of Means - Tukey HSD, FWER=0.05\n",
      "===================================================\n",
      "group1 group2 meandiff p-adj  lower   upper  reject\n",
      "---------------------------------------------------\n",
      "   Non    Oui  -0.5459   0.0 -0.7567 -0.3351   True\n",
      "---------------------------------------------------\n"
     ]
    }
   ],
   "source": [
    "# Perform Tukey's HSD test\n",
    "ttest_OFA_sante_conditions = pairwise_tukeyhsd(endog=data['sante_conditions_travail'], groups=data['OFA'], alpha=0.05)\n",
    "\n",
    "# Print the results\n",
    "print(ttest_OFA_sante_conditions)"
   ]
  },
  {
   "cell_type": "code",
   "execution_count": 50,
   "id": "d187a06b",
   "metadata": {
    "scrolled": true
   },
   "outputs": [
    {
     "name": "stdout",
     "output_type": "stream",
     "text": [
      "OFA\n",
      "Non    4.080282\n",
      "Oui    3.534375\n",
      "Name: sante_conditions_travail, dtype: float64\n",
      "OFA\n",
      "Non    0.818858\n",
      "Oui    0.660019\n",
      "Name: sante_conditions_travail, dtype: float64\n"
     ]
    }
   ],
   "source": [
    "# Grouping the data by the factor and calculating the mean for each group\n",
    "means_OFA_sante_conditions = data.groupby('OFA')['sante_conditions_travail'].mean()\n",
    "sd_OFA_sante_conditions = data.groupby('OFA')['sante_conditions_travail'].std()\n",
    "\n",
    "# Display the results\n",
    "print(means_OFA_sante_conditions)\n",
    "print(sd_OFA_sante_conditions)"
   ]
  },
  {
   "cell_type": "markdown",
   "id": "9ef89ed2",
   "metadata": {},
   "source": [
    "### Post-hoc et statistiques descriptives - Quartiers/ateliers"
   ]
  },
  {
   "cell_type": "code",
   "execution_count": 51,
   "id": "9c123079",
   "metadata": {
    "scrolled": true
   },
   "outputs": [
    {
     "name": "stdout",
     "output_type": "stream",
     "text": [
      "                  Multiple Comparison of Means - Tukey HSD, FWER=0.05                  \n",
      "=======================================================================================\n",
      "           group1                   group2        meandiff p-adj   lower  upper  reject\n",
      "---------------------------------------------------------------------------------------\n",
      "Cloud & Platform Engineering            Data & IA   0.0699 0.9972 -0.3569 0.4967  False\n",
      "Cloud & Platform Engineering                Forum  -0.0245    1.0 -0.4284 0.3794  False\n",
      "Cloud & Platform Engineering               Mairie  -0.0187    1.0 -0.4122 0.3747  False\n",
      "Cloud & Platform Engineering     Product & Design  -0.0022    1.0 -0.4001 0.3957  False\n",
      "Cloud & Platform Engineering Software engineering  -0.0154    1.0 -0.4202 0.3894  False\n",
      "                   Data & IA                Forum  -0.0944 0.9813 -0.4776 0.2888  False\n",
      "                   Data & IA               Mairie  -0.0886  0.984 -0.4608 0.2836  False\n",
      "                   Data & IA     Product & Design  -0.0721 0.9941  -0.449 0.3048  False\n",
      "                   Data & IA Software engineering  -0.0852 0.9883 -0.4694 0.2989  False\n",
      "                       Forum               Mairie   0.0058    1.0 -0.3398 0.3514  False\n",
      "                       Forum     Product & Design   0.0223    1.0 -0.3284  0.373  False\n",
      "                       Forum Software engineering   0.0091    1.0 -0.3493 0.3676  False\n",
      "                      Mairie     Product & Design   0.0165    1.0 -0.3222 0.3552  False\n",
      "                      Mairie Software engineering   0.0033    1.0 -0.3433   0.35  False\n",
      "            Product & Design Software engineering  -0.0132    1.0 -0.3649 0.3386  False\n",
      "---------------------------------------------------------------------------------------\n"
     ]
    }
   ],
   "source": [
    "# Perform Tukey's HSD test\n",
    "ttest_QA_sante_conditions = pairwise_tukeyhsd(endog=data['sante_conditions_travail'], groups=data['quartier'], alpha=0.05)\n",
    "\n",
    "# Print the results\n",
    "print(ttest_QA_sante_conditions)"
   ]
  },
  {
   "cell_type": "code",
   "execution_count": 52,
   "id": "6655f979",
   "metadata": {},
   "outputs": [
    {
     "name": "stdout",
     "output_type": "stream",
     "text": [
      "quartier\n",
      "Cloud & Platform Engineering    4.010714\n",
      "Data & IA                       4.080597\n",
      "Forum                           3.986207\n",
      "Mairie                          3.992000\n",
      "Product & Design                4.008511\n",
      "Software engineering            3.995349\n",
      "Name: sante_conditions_travail, dtype: float64\n",
      "quartier\n",
      "Cloud & Platform Engineering    0.822784\n",
      "Data & IA                       0.793198\n",
      "Forum                           0.860391\n",
      "Mairie                          0.835534\n",
      "Product & Design                0.795101\n",
      "Software engineering            0.827741\n",
      "Name: sante_conditions_travail, dtype: float64\n"
     ]
    }
   ],
   "source": [
    "# Grouping the data by the factor and calculating the mean for each group\n",
    "means_QA_sante_conditions = data.groupby('quartier')['sante_conditions_travail'].mean()\n",
    "sd_QA_sante_conditions = data.groupby('quartier')['sante_conditions_travail'].std()\n",
    "\n",
    "# Display the results\n",
    "print(means_QA_sante_conditions)\n",
    "print(sd_QA_sante_conditions)"
   ]
  },
  {
   "cell_type": "markdown",
   "id": "15966025",
   "metadata": {},
   "source": [
    "# VII. Focus sur le niveau \"Compétences et parcours professionnel\"\n",
    "\n",
    "## A. Analyses par facteur (ancienneté, OFA, quartier) sur les scores de \"compétences et parcours professionnel\"\n",
    "\n",
    "### MANOVA"
   ]
  },
  {
   "cell_type": "code",
   "execution_count": 53,
   "id": "23f79e7c",
   "metadata": {},
   "outputs": [
    {
     "name": "stdout",
     "output_type": "stream",
     "text": [
      "Moyenne competences et parcours: 3.996938775510204\n",
      "SD:  1.008395644271137\n"
     ]
    }
   ],
   "source": [
    "# Rappel: \n",
    "moyenne_competences_parcours = data['competences_parcours'].mean()\n",
    "sd_competences_parcours = data['competences_parcours'].std()\n",
    "print(\"Moyenne competences et parcours:\", moyenne_competences_parcours)\n",
    "print(\"SD: \", sd_competences_parcours)"
   ]
  },
  {
   "cell_type": "code",
   "execution_count": 54,
   "id": "5d100042",
   "metadata": {},
   "outputs": [
    {
     "name": "stdout",
     "output_type": "stream",
     "text": [
      "                   sum_sq     df         F    PR(>F)\n",
      "C(anciennete)    3.370701    3.0  1.104725  0.346778\n",
      "C(OFA)           4.420698    1.0  4.346563  0.037612\n",
      "C(quartier)      1.425892    5.0  0.280396  0.923842\n",
      "Residual       488.186883  480.0       NaN       NaN\n",
      "Il n'y a pas de différence significative des moyennes entre les niveaux d'ancienneté.\n",
      "Il y a une différence significative des moyennes entre les niveaux de OFA.\n",
      "Il y a une différence significative des moyennes entre les niveaux du quartier.\n"
     ]
    }
   ],
   "source": [
    "# Création du modèle ANOVA\n",
    "model_parcourspro = ols('competences_parcours ~ C(anciennete) + C(OFA) + C(quartier)', data=data).fit()\n",
    "\n",
    "# Tableau d'analyse de variance (ANOVA)\n",
    "anova_table_parcourspro = sm.stats.anova_lm(model_parcourspro, typ=2)\n",
    "print(anova_table_parcourspro)\n",
    "\n",
    "# Interprétation de l'effet principal de l'ancienneté\n",
    "if anova_table_parcourspro['PR(>F)']['C(anciennete)'] < 0.05:\n",
    "    print(\"Il y a une différence significative des moyennes entre les niveaux d'ancienneté.\")\n",
    "else:\n",
    "    print(\"Il n'y a pas de différence significative des moyennes entre les niveaux d'ancienneté.\")\n",
    "\n",
    "# Interprétation de l'effet principal de OFA\n",
    "if anova_table_manages['PR(>F)']['C(OFA)'] < 0.05:\n",
    "    print(\"Il y a une différence significative des moyennes entre les niveaux de OFA.\")\n",
    "else:\n",
    "    print(\"Il n'y a pas de différence statistiquement significative des moyennes entre les niveaux de OFA.\")\n",
    "\n",
    "# Interprétation de l'effet principal du quartier\n",
    "if anova_table_manages['PR(>F)']['C(quartier)'] < 0.05:\n",
    "    print(\"Il y a une différence significative des moyennes entre les niveaux du quartier.\")\n",
    "else:\n",
    "    print(\"Il n'y a pas de différence statistiquement significative des moyennes entre les niveaux du quartier.\")"
   ]
  },
  {
   "cell_type": "markdown",
   "id": "4d2e9798",
   "metadata": {},
   "source": [
    "### Post-hoc et statistiques descriptives - Anciennete"
   ]
  },
  {
   "cell_type": "code",
   "execution_count": 55,
   "id": "54c730e0",
   "metadata": {},
   "outputs": [
    {
     "name": "stdout",
     "output_type": "stream",
     "text": [
      "          Multiple Comparison of Means - Tukey HSD, FWER=0.05          \n",
      "=======================================================================\n",
      "     group1           group2      meandiff p-adj   lower  upper  reject\n",
      "-----------------------------------------------------------------------\n",
      "Entre 1 et 3 ans Entre 3 et 7 ans   0.0617 0.9407  -0.217 0.3404  False\n",
      "Entre 1 et 3 ans    Moins de 1 an  -0.0456 0.9884 -0.4098 0.3187  False\n",
      "Entre 1 et 3 ans    Plus de 7 ans  -0.2106 0.4392  -0.573 0.1518  False\n",
      "Entre 3 et 7 ans    Moins de 1 an  -0.1073 0.8787 -0.4785 0.2639  False\n",
      "Entre 3 et 7 ans    Plus de 7 ans  -0.2723 0.2291 -0.6417  0.097  False\n",
      "   Moins de 1 an    Plus de 7 ans   -0.165 0.7652 -0.6026 0.2725  False\n",
      "-----------------------------------------------------------------------\n"
     ]
    }
   ],
   "source": [
    "# Perform Tukey's HSD test\n",
    "ttest_anciennete_parcourspro = pairwise_tukeyhsd(endog=data['competences_parcours'], groups=data['anciennete'], alpha=0.05)\n",
    "\n",
    "# Print the results\n",
    "print(ttest_anciennete_parcourspro)"
   ]
  },
  {
   "cell_type": "code",
   "execution_count": 56,
   "id": "dead24bf",
   "metadata": {
    "scrolled": true
   },
   "outputs": [
    {
     "name": "stdout",
     "output_type": "stream",
     "text": [
      "anciennete\n",
      "Entre 1 et 3 ans    4.013441\n",
      "Entre 3 et 7 ans    4.075153\n",
      "Moins de 1 an       3.967857\n",
      "Plus de 7 ans       3.802817\n",
      "Name: competences_parcours, dtype: float64\n",
      "anciennete\n",
      "Entre 1 et 3 ans    1.011331\n",
      "Entre 3 et 7 ans    0.979392\n",
      "Moins de 1 an       0.978872\n",
      "Plus de 7 ans       1.087195\n",
      "Name: competences_parcours, dtype: float64\n"
     ]
    }
   ],
   "source": [
    "# Grouping the data by the factor and calculating the mean for each group\n",
    "means_anciennete_competencepro = data.groupby('anciennete')['competences_parcours'].mean()\n",
    "sd_anciennete_competencepro = data.groupby('anciennete')['competences_parcours'].std()\n",
    "\n",
    "# Display the results\n",
    "print(means_anciennete_competencepro)\n",
    "print(sd_anciennete_competencepro)"
   ]
  },
  {
   "cell_type": "markdown",
   "id": "c67bf2da",
   "metadata": {},
   "source": [
    "### Post-hoc et statistiques descriptives - OFA"
   ]
  },
  {
   "cell_type": "code",
   "execution_count": 57,
   "id": "bfee6306",
   "metadata": {},
   "outputs": [
    {
     "name": "stdout",
     "output_type": "stream",
     "text": [
      "Multiple Comparison of Means - Tukey HSD, FWER=0.05 \n",
      "====================================================\n",
      "group1 group2 meandiff p-adj   lower   upper  reject\n",
      "----------------------------------------------------\n",
      "   Non    Oui  -0.2706 0.0452 -0.5354 -0.0058   True\n",
      "----------------------------------------------------\n"
     ]
    }
   ],
   "source": [
    "# Perform Tukey's HSD test\n",
    "ttest_OFA_parcourspro = pairwise_tukeyhsd(endog=data['competences_parcours'], groups=data['OFA'], alpha=0.05)\n",
    "\n",
    "# Print the results\n",
    "print(ttest_OFA_parcourspro)"
   ]
  },
  {
   "cell_type": "code",
   "execution_count": 58,
   "id": "41c70508",
   "metadata": {},
   "outputs": [
    {
     "name": "stdout",
     "output_type": "stream",
     "text": [
      "OFA\n",
      "Non    4.032277\n",
      "Oui    3.761719\n",
      "Name: competences_parcours, dtype: float64\n",
      "OFA\n",
      "Non    1.031411\n",
      "Oui    0.807246\n",
      "Name: competences_parcours, dtype: float64\n"
     ]
    }
   ],
   "source": [
    "# Grouping the data by the factor and calculating the mean for each group\n",
    "means_OFA_competencepro = data.groupby('OFA')['competences_parcours'].mean()\n",
    "sd_OFA_competencepro = data.groupby('OFA')['competences_parcours'].std()\n",
    "\n",
    "# Display the results\n",
    "print(means_OFA_competencepro)\n",
    "print(sd_OFA_competencepro)"
   ]
  },
  {
   "cell_type": "markdown",
   "id": "8628b0a6",
   "metadata": {},
   "source": [
    "### Post-hoc et statistiques descriptives - Quartier/Atelier"
   ]
  },
  {
   "cell_type": "code",
   "execution_count": 59,
   "id": "98330b86",
   "metadata": {
    "scrolled": true
   },
   "outputs": [
    {
     "name": "stdout",
     "output_type": "stream",
     "text": [
      "                  Multiple Comparison of Means - Tukey HSD, FWER=0.05                  \n",
      "=======================================================================================\n",
      "           group1                   group2        meandiff p-adj   lower  upper  reject\n",
      "---------------------------------------------------------------------------------------\n",
      "Cloud & Platform Engineering            Data & IA   0.1089 0.9914 -0.4156 0.6335  False\n",
      "Cloud & Platform Engineering                Forum    -0.03    1.0 -0.5264 0.4663  False\n",
      "Cloud & Platform Engineering               Mairie  -0.0205    1.0 -0.5041  0.463  False\n",
      "Cloud & Platform Engineering     Product & Design  -0.0248    1.0 -0.5139 0.4643  False\n",
      "Cloud & Platform Engineering Software engineering   0.0045    1.0  -0.493  0.502  False\n",
      "                   Data & IA                Forum   -0.139  0.959 -0.6099  0.332  False\n",
      "                   Data & IA               Mairie  -0.1295 0.9657 -0.5869 0.3279  False\n",
      "                   Data & IA     Product & Design  -0.1337 0.9626  -0.597 0.3295  False\n",
      "                   Data & IA Software engineering  -0.1045 0.9885 -0.5766 0.3676  False\n",
      "                       Forum               Mairie   0.0095    1.0 -0.4153 0.4342  False\n",
      "                       Forum     Product & Design   0.0052    1.0 -0.4258 0.4362  False\n",
      "                       Forum Software engineering   0.0345 0.9999 -0.4061  0.475  False\n",
      "                      Mairie     Product & Design  -0.0043    1.0 -0.4205  0.412  False\n",
      "                      Mairie Software engineering    0.025    1.0 -0.4011 0.4511  False\n",
      "            Product & Design Software engineering   0.0293    1.0 -0.4031 0.4616  False\n",
      "---------------------------------------------------------------------------------------\n"
     ]
    }
   ],
   "source": [
    "# Perform Tukey's HSD test\n",
    "ttest_QA_parcourspro = pairwise_tukeyhsd(endog=data['competences_parcours'], groups=data['quartier'], alpha=0.05)\n",
    "\n",
    "# Print the results\n",
    "print(ttest_QA_parcourspro)"
   ]
  },
  {
   "cell_type": "code",
   "execution_count": 60,
   "id": "8e0f709d",
   "metadata": {},
   "outputs": [
    {
     "name": "stdout",
     "output_type": "stream",
     "text": [
      "quartier\n",
      "Cloud & Platform Engineering    3.995536\n",
      "Data & IA                       4.104478\n",
      "Forum                           3.965517\n",
      "Mairie                          3.975000\n",
      "Product & Design                3.970745\n",
      "Software engineering            4.000000\n",
      "Name: competences_parcours, dtype: float64\n",
      "quartier\n",
      "Cloud & Platform Engineering    0.959985\n",
      "Data & IA                       1.014244\n",
      "Forum                           0.999398\n",
      "Mairie                          1.025249\n",
      "Product & Design                1.019867\n",
      "Software engineering            1.034692\n",
      "Name: competences_parcours, dtype: float64\n"
     ]
    }
   ],
   "source": [
    "# Grouping the data by the factor and calculating the mean for each group\n",
    "means_QA_competencepro = data.groupby('quartier')['competences_parcours'].mean()\n",
    "sd_QA_competencepro = data.groupby('quartier')['competences_parcours'].std()\n",
    "\n",
    "# Display the results\n",
    "print(means_QA_competencepro)\n",
    "print(sd_QA_competencepro)"
   ]
  },
  {
   "cell_type": "markdown",
   "id": "aab54012",
   "metadata": {},
   "source": [
    "# VIII. Focus sur le niveau \"Egalite professionnelle\"\n",
    "\n",
    "## A. Analyses par facteur (ancienneté, OFA, quartier) sur les scores de \"égalité professionnelle\"\n",
    "\n",
    "### MANOVA"
   ]
  },
  {
   "cell_type": "code",
   "execution_count": 61,
   "id": "042533ab",
   "metadata": {},
   "outputs": [
    {
     "name": "stdout",
     "output_type": "stream",
     "text": [
      "Moyenne égalité professionnelle: 4.081122448979592\n",
      "SD:  0.9474569154597356\n"
     ]
    }
   ],
   "source": [
    "# Rappel: \n",
    "moyenne_egalite_pro = data['egalite_pro'].mean()\n",
    "sd_egalite_pro = data['egalite_pro'].std()\n",
    "print(\"Moyenne égalité professionnelle:\", moyenne_egalite_pro)\n",
    "print(\"SD: \", sd_egalite_pro)"
   ]
  },
  {
   "cell_type": "code",
   "execution_count": 62,
   "id": "b52914fc",
   "metadata": {},
   "outputs": [
    {
     "name": "stdout",
     "output_type": "stream",
     "text": [
      "                   sum_sq     df         F    PR(>F)\n",
      "C(anciennete)    1.379753    3.0  0.507434  0.677323\n",
      "C(OFA)           2.099741    1.0  2.316674  0.128652\n",
      "C(quartier)      0.447426    5.0  0.098730  0.992307\n",
      "Residual       435.052695  480.0       NaN       NaN\n",
      "Il n'y a pas de différence significative des moyennes entre les niveaux d'ancienneté.\n",
      "Il y a une différence significative des moyennes entre les niveaux de OFA.\n",
      "Il y a une différence significative des moyennes entre les niveaux du quartier.\n"
     ]
    }
   ],
   "source": [
    "data = data.rename(columns={'egalite_pro': 'egalite_pro'})\n",
    "\n",
    "# Création du modèle ANOVA\n",
    "model_egalitepro = ols('egalite_pro ~ C(anciennete) + C(OFA) + C(quartier)', data=data).fit()\n",
    "\n",
    "# Tableau d'analyse de variance (ANOVA)\n",
    "anova_table_egalitepro = sm.stats.anova_lm(model_egalitepro, typ=2)\n",
    "print(anova_table_egalitepro)\n",
    "\n",
    "# Interprétation de l'effet principal de l'ancienneté\n",
    "if anova_table_egalitepro['PR(>F)']['C(anciennete)'] < 0.05:\n",
    "    print(\"Il y a une différence significative des moyennes entre les niveaux d'ancienneté.\")\n",
    "else:\n",
    "    print(\"Il n'y a pas de différence significative des moyennes entre les niveaux d'ancienneté.\")\n",
    "\n",
    "# Interprétation de l'effet principal de OFA\n",
    "if anova_table_manages['PR(>F)']['C(OFA)'] < 0.05:\n",
    "    print(\"Il y a une différence significative des moyennes entre les niveaux de OFA.\")\n",
    "else:\n",
    "    print(\"Il n'y a pas de différence statistiquement significative des moyennes entre les niveaux de OFA.\")\n",
    "\n",
    "# Interprétation de l'effet principal du quartier\n",
    "if anova_table_manages['PR(>F)']['C(quartier)'] < 0.05:\n",
    "    print(\"Il y a une différence significative des moyennes entre les niveaux du quartier.\")\n",
    "else:\n",
    "    print(\"Il n'y a pas de différence statistiquement significative des moyennes entre les niveaux du quartier.\")"
   ]
  },
  {
   "cell_type": "markdown",
   "id": "169030f8",
   "metadata": {},
   "source": [
    "### Post-hoc et statistiques descriptives - Anciennete"
   ]
  },
  {
   "cell_type": "code",
   "execution_count": 63,
   "id": "077d90c0",
   "metadata": {},
   "outputs": [
    {
     "name": "stdout",
     "output_type": "stream",
     "text": [
      "          Multiple Comparison of Means - Tukey HSD, FWER=0.05          \n",
      "=======================================================================\n",
      "     group1           group2      meandiff p-adj   lower  upper  reject\n",
      "-----------------------------------------------------------------------\n",
      "Entre 1 et 3 ans Entre 3 et 7 ans  -0.0149 0.9989 -0.2773 0.2475  False\n",
      "Entre 1 et 3 ans    Moins de 1 an   0.1243 0.7865 -0.2187 0.4672  False\n",
      "Entre 1 et 3 ans    Plus de 7 ans  -0.0758 0.9402  -0.417 0.2654  False\n",
      "Entre 3 et 7 ans    Moins de 1 an   0.1392  0.734 -0.2103 0.4887  False\n",
      "Entre 3 et 7 ans    Plus de 7 ans  -0.0609 0.9693 -0.4087 0.2869  False\n",
      "   Moins de 1 an    Plus de 7 ans  -0.2001 0.5941  -0.612 0.2119  False\n",
      "-----------------------------------------------------------------------\n"
     ]
    }
   ],
   "source": [
    "# Perform Tukey's HSD test\n",
    "ttest_anciennete_egalitepro = pairwise_tukeyhsd(endog=data['egalite_pro'], groups=data['anciennete'], alpha=0.05)\n",
    "\n",
    "# Print the results\n",
    "print(ttest_anciennete_egalitepro)"
   ]
  },
  {
   "cell_type": "code",
   "execution_count": 64,
   "id": "0277d45a",
   "metadata": {},
   "outputs": [
    {
     "name": "stdout",
     "output_type": "stream",
     "text": [
      "anciennete\n",
      "Entre 1 et 3 ans    4.079301\n",
      "Entre 3 et 7 ans    4.064417\n",
      "Moins de 1 an       4.203571\n",
      "Plus de 7 ans       4.003521\n",
      "Name: egalite_pro, dtype: float64\n",
      "anciennete\n",
      "Entre 1 et 3 ans    0.988154\n",
      "Entre 3 et 7 ans    0.945501\n",
      "Moins de 1 an       0.987506\n",
      "Plus de 7 ans       0.798987\n",
      "Name: egalite_pro, dtype: float64\n"
     ]
    }
   ],
   "source": [
    "# Grouping the data by the factor and calculating the mean for each group\n",
    "means_anciennete_egalitepro = data.groupby('anciennete')['egalite_pro'].mean()\n",
    "sd_anciennete_egalitepro = data.groupby('anciennete')['egalite_pro'].std()\n",
    "\n",
    "# Display the results\n",
    "print(means_anciennete_egalitepro)\n",
    "print(sd_anciennete_egalitepro)"
   ]
  },
  {
   "cell_type": "markdown",
   "id": "0be270ab",
   "metadata": {},
   "source": [
    "### Post-hoc et statistiques descriptives - OFA"
   ]
  },
  {
   "cell_type": "code",
   "execution_count": 65,
   "id": "fe6c684f",
   "metadata": {},
   "outputs": [
    {
     "name": "stdout",
     "output_type": "stream",
     "text": [
      "Multiple Comparison of Means - Tukey HSD, FWER=0.05\n",
      "==================================================\n",
      "group1 group2 meandiff p-adj  lower  upper  reject\n",
      "--------------------------------------------------\n",
      "   Non    Oui   0.1942 0.1263 -0.055 0.4435  False\n",
      "--------------------------------------------------\n"
     ]
    }
   ],
   "source": [
    "# Perform Tukey's HSD test\n",
    "ttest_OFA_egalitepro = pairwise_tukeyhsd(endog=data['egalite_pro'], groups=data['OFA'], alpha=0.05)\n",
    "\n",
    "# Print the results\n",
    "print(ttest_OFA_egalitepro)"
   ]
  },
  {
   "cell_type": "code",
   "execution_count": 66,
   "id": "25d20c95",
   "metadata": {},
   "outputs": [
    {
     "name": "stdout",
     "output_type": "stream",
     "text": [
      "OFA\n",
      "Non    4.055751\n",
      "Oui    4.250000\n",
      "Name: egalite_pro, dtype: float64\n",
      "OFA\n",
      "Non    0.968763\n",
      "Oui    0.776643\n",
      "Name: egalite_pro, dtype: float64\n"
     ]
    }
   ],
   "source": [
    "# Grouping the data by the factor and calculating the mean for each group\n",
    "means_OFA_egalitepro = data.groupby('OFA')['egalite_pro'].mean()\n",
    "sd_OFA_egalitepro = data.groupby('OFA')['egalite_pro'].std()\n",
    "\n",
    "# Display the results\n",
    "print(means_OFA_egalitepro)\n",
    "print(sd_OFA_egalitepro)"
   ]
  },
  {
   "cell_type": "markdown",
   "id": "046f426f",
   "metadata": {},
   "source": [
    "### Post-hoc et statistiques descriptives - Quartier/Atelier"
   ]
  },
  {
   "cell_type": "code",
   "execution_count": 67,
   "id": "71f97005",
   "metadata": {
    "scrolled": true
   },
   "outputs": [
    {
     "name": "stdout",
     "output_type": "stream",
     "text": [
      "                  Multiple Comparison of Means - Tukey HSD, FWER=0.05                  \n",
      "=======================================================================================\n",
      "           group1                   group2        meandiff p-adj   lower  upper  reject\n",
      "---------------------------------------------------------------------------------------\n",
      "Cloud & Platform Engineering            Data & IA   -0.014    1.0 -0.5072 0.4792  False\n",
      "Cloud & Platform Engineering                Forum   0.0438 0.9998 -0.4229 0.5105  False\n",
      "Cloud & Platform Engineering               Mairie   0.0175    1.0 -0.4371 0.4721  False\n",
      "Cloud & Platform Engineering     Product & Design   0.0013    1.0 -0.4585 0.4612  False\n",
      "Cloud & Platform Engineering Software engineering   0.0509 0.9996 -0.4169 0.5186  False\n",
      "                   Data & IA                Forum   0.0578  0.999 -0.3849 0.5006  False\n",
      "                   Data & IA               Mairie   0.0315 0.9999 -0.3986 0.4615  False\n",
      "                   Data & IA     Product & Design   0.0153    1.0 -0.4202 0.4509  False\n",
      "                   Data & IA Software engineering   0.0649 0.9984  -0.379 0.5087  False\n",
      "                       Forum               Mairie  -0.0263    1.0 -0.4257  0.373  False\n",
      "                       Forum     Product & Design  -0.0425 0.9997 -0.4477 0.3628  False\n",
      "                       Forum Software engineering   0.0071    1.0 -0.4072 0.4213  False\n",
      "                      Mairie     Product & Design  -0.0162    1.0 -0.4075 0.3752  False\n",
      "                      Mairie Software engineering   0.0334 0.9999 -0.3672  0.434  False\n",
      "            Product & Design Software engineering   0.0495 0.9993 -0.3569  0.456  False\n",
      "---------------------------------------------------------------------------------------\n"
     ]
    }
   ],
   "source": [
    "# Perform Tukey's HSD test\n",
    "ttest_QA_egalitepro = pairwise_tukeyhsd(endog=data['egalite_pro'], groups=data['quartier'], alpha=0.05)\n",
    "\n",
    "# Print the results\n",
    "print(ttest_QA_egalitepro)"
   ]
  },
  {
   "cell_type": "code",
   "execution_count": 68,
   "id": "5003cb13",
   "metadata": {
    "scrolled": false
   },
   "outputs": [
    {
     "name": "stdout",
     "output_type": "stream",
     "text": [
      "quartier\n",
      "Cloud & Platform Engineering    4.062500\n",
      "Data & IA                       4.048507\n",
      "Forum                           4.106322\n",
      "Mairie                          4.080000\n",
      "Product & Design                4.063830\n",
      "Software engineering            4.113372\n",
      "Name: egalite_pro, dtype: float64\n",
      "quartier\n",
      "Cloud & Platform Engineering    1.018298\n",
      "Data & IA                       0.984962\n",
      "Forum                           0.919454\n",
      "Mairie                          0.946071\n",
      "Product & Design                0.955977\n",
      "Software engineering            0.916079\n",
      "Name: egalite_pro, dtype: float64\n"
     ]
    }
   ],
   "source": [
    "# Grouping the data by the factor and calculating the mean for each group\n",
    "means_QA_egalitepro = data.groupby('quartier')['egalite_pro'].mean()\n",
    "sd_QA_egalitepro = data.groupby('quartier')['egalite_pro'].std()\n",
    "\n",
    "# Display the results\n",
    "print(means_QA_egalitepro)\n",
    "print(sd_QA_egalitepro)"
   ]
  },
  {
   "cell_type": "markdown",
   "id": "67feafbe",
   "metadata": {},
   "source": [
    "# IX. Bien-être sur le niveau \"Quartier/Atelier\"\n",
    "\n",
    "## A. Analyses par facteur (ancienneté, OFA, quartier) sur les scores de \"Quartier/Atelier\"\n"
   ]
  },
  {
   "cell_type": "code",
   "execution_count": 69,
   "id": "69a28f67",
   "metadata": {},
   "outputs": [
    {
     "name": "stdout",
     "output_type": "stream",
     "text": [
      "Moyenne sur les quartiers ateliers: 4.036989795918367\n",
      "SD:  0.7722933273929969\n"
     ]
    }
   ],
   "source": [
    "# Rappel: \n",
    "moyenne_QA = data['QA_total'].mean()\n",
    "sd_QA = data['QA_total'].std()\n",
    "print(\"Moyenne sur les quartiers ateliers:\", moyenne_QA)\n",
    "print(\"SD: \", sd_QA)"
   ]
  },
  {
   "cell_type": "markdown",
   "id": "a1a47fd7",
   "metadata": {},
   "source": [
    "### MANOVA"
   ]
  },
  {
   "cell_type": "code",
   "execution_count": 70,
   "id": "e2db8e6e",
   "metadata": {},
   "outputs": [
    {
     "name": "stdout",
     "output_type": "stream",
     "text": [
      "                   sum_sq     df         F    PR(>F)\n",
      "C(anciennete)    0.355681    3.0  0.196180  0.898994\n",
      "C(OFA)           0.135952    1.0  0.224957  0.635504\n",
      "C(quartier)      1.116549    5.0  0.369507  0.869521\n",
      "Residual       290.085332  480.0       NaN       NaN\n",
      "Il n'y a pas de différence significative des moyennes entre les niveaux d'ancienneté.\n",
      "Il y a une différence significative des moyennes entre les niveaux de OFA.\n",
      "Il y a une différence significative des moyennes entre les niveaux du quartier.\n"
     ]
    }
   ],
   "source": [
    "# Création du modèle ANOVA\n",
    "model_QA = ols('QA_total ~ C(anciennete) + C(OFA) + C(quartier)', data=data).fit()\n",
    "\n",
    "# Tableau d'analyse de variance (ANOVA)\n",
    "anova_table_QA = sm.stats.anova_lm(model_QA, typ=2)\n",
    "print(anova_table_QA)\n",
    "\n",
    "# Interprétation de l'effet principal de l'ancienneté\n",
    "if anova_table_QA['PR(>F)']['C(anciennete)'] < 0.05:\n",
    "    print(\"Il y a une différence significative des moyennes entre les niveaux d'ancienneté.\")\n",
    "else:\n",
    "    print(\"Il n'y a pas de différence significative des moyennes entre les niveaux d'ancienneté.\")\n",
    "\n",
    "# Interprétation de l'effet principal de OFA\n",
    "if anova_table_manages['PR(>F)']['C(OFA)'] < 0.05:\n",
    "    print(\"Il y a une différence significative des moyennes entre les niveaux de OFA.\")\n",
    "else:\n",
    "    print(\"Il n'y a pas de différence statistiquement significative des moyennes entre les niveaux de OFA.\")\n",
    "\n",
    "# Interprétation de l'effet principal du quartier\n",
    "if anova_table_manages['PR(>F)']['C(quartier)'] < 0.05:\n",
    "    print(\"Il y a une différence significative des moyennes entre les niveaux du quartier.\")\n",
    "else:\n",
    "    print(\"Il n'y a pas de différence statistiquement significative des moyennes entre les niveaux du quartier.\")"
   ]
  },
  {
   "cell_type": "markdown",
   "id": "26bddfbe",
   "metadata": {},
   "source": [
    "### Post-hoc et statistiques descriptives - Anciennete"
   ]
  },
  {
   "cell_type": "code",
   "execution_count": 71,
   "id": "7f1c760d",
   "metadata": {},
   "outputs": [
    {
     "name": "stdout",
     "output_type": "stream",
     "text": [
      "          Multiple Comparison of Means - Tukey HSD, FWER=0.05          \n",
      "=======================================================================\n",
      "     group1           group2      meandiff p-adj   lower  upper  reject\n",
      "-----------------------------------------------------------------------\n",
      "Entre 1 et 3 ans Entre 3 et 7 ans  -0.0064 0.9998 -0.2205 0.2078  False\n",
      "Entre 1 et 3 ans    Moins de 1 an   0.0673 0.9257 -0.2126 0.3472  False\n",
      "Entre 1 et 3 ans    Plus de 7 ans  -0.0098 0.9997 -0.2882 0.2687  False\n",
      "Entre 3 et 7 ans    Moins de 1 an   0.0737 0.9099 -0.2116 0.3589  False\n",
      "Entre 3 et 7 ans    Plus de 7 ans  -0.0034    1.0 -0.2872 0.2804  False\n",
      "   Moins de 1 an    Plus de 7 ans  -0.0771 0.9348 -0.4133 0.2591  False\n",
      "-----------------------------------------------------------------------\n"
     ]
    }
   ],
   "source": [
    "# Perform Tukey's HSD test\n",
    "ttest_anciennete_QA = pairwise_tukeyhsd(endog=data['QA_total'], groups=data['anciennete'], alpha=0.05)\n",
    "\n",
    "# Print the results\n",
    "print(ttest_anciennete_QA)"
   ]
  },
  {
   "cell_type": "code",
   "execution_count": 72,
   "id": "7f7fbbd9",
   "metadata": {},
   "outputs": [
    {
     "name": "stdout",
     "output_type": "stream",
     "text": [
      "anciennete\n",
      "Entre 1 et 3 ans    4.030914\n",
      "Entre 3 et 7 ans    4.024540\n",
      "Moins de 1 an       4.098214\n",
      "Plus de 7 ans       4.021127\n",
      "Name: QA_total, dtype: float64\n",
      "anciennete\n",
      "Entre 1 et 3 ans    0.792417\n",
      "Entre 3 et 7 ans    0.808407\n",
      "Moins de 1 an       0.741770\n",
      "Plus de 7 ans       0.669150\n",
      "Name: QA_total, dtype: float64\n"
     ]
    }
   ],
   "source": [
    "# Grouping the data by the factor and calculating the mean for each group\n",
    "means_anciennete_QA = data.groupby('anciennete')['QA_total'].mean()\n",
    "sd_anciennete_QA = data.groupby('anciennete')['QA_total'].std()\n",
    "\n",
    "# Display the results\n",
    "print(means_anciennete_QA)\n",
    "print(sd_anciennete_QA)"
   ]
  },
  {
   "cell_type": "markdown",
   "id": "2f5ae99f",
   "metadata": {},
   "source": [
    "### Post-hoc et statistiques descriptives - OFA"
   ]
  },
  {
   "cell_type": "code",
   "execution_count": 73,
   "id": "024309e0",
   "metadata": {},
   "outputs": [
    {
     "name": "stdout",
     "output_type": "stream",
     "text": [
      "Multiple Comparison of Means - Tukey HSD, FWER=0.05\n",
      "===================================================\n",
      "group1 group2 meandiff p-adj   lower  upper  reject\n",
      "---------------------------------------------------\n",
      "   Non    Oui  -0.0425 0.6815 -0.2461 0.1611  False\n",
      "---------------------------------------------------\n"
     ]
    }
   ],
   "source": [
    "# Perform Tukey's HSD test\n",
    "ttest_OFA_QA = pairwise_tukeyhsd(endog=data['QA_total'], groups=data['OFA'], alpha=0.05)\n",
    "\n",
    "# Print the results\n",
    "print(ttest_OFA_QA)"
   ]
  },
  {
   "cell_type": "code",
   "execution_count": 74,
   "id": "919076c1",
   "metadata": {},
   "outputs": [
    {
     "name": "stdout",
     "output_type": "stream",
     "text": [
      "OFA\n",
      "Non    4.042547\n",
      "Oui    4.000000\n",
      "Name: QA_total, dtype: float64\n",
      "OFA\n",
      "Non    0.782522\n",
      "Oui    0.704999\n",
      "Name: QA_total, dtype: float64\n"
     ]
    }
   ],
   "source": [
    "# Grouping the data by the factor and calculating the mean for each group\n",
    "means_OFA_QA = data.groupby('OFA')['QA_total'].mean()\n",
    "sd_OFA_QA = data.groupby('OFA')['QA_total'].std()\n",
    "\n",
    "# Display the results\n",
    "print(means_OFA_QA)\n",
    "print(sd_OFA_QA)"
   ]
  },
  {
   "cell_type": "markdown",
   "id": "de9ca9e4",
   "metadata": {},
   "source": [
    "### Post-hoc et statistiques descriptives - Quartier/Atelier"
   ]
  },
  {
   "cell_type": "code",
   "execution_count": 75,
   "id": "ee2ac7d6",
   "metadata": {
    "scrolled": true
   },
   "outputs": [
    {
     "name": "stdout",
     "output_type": "stream",
     "text": [
      "                  Multiple Comparison of Means - Tukey HSD, FWER=0.05                  \n",
      "=======================================================================================\n",
      "           group1                   group2        meandiff p-adj   lower  upper  reject\n",
      "---------------------------------------------------------------------------------------\n",
      "Cloud & Platform Engineering            Data & IA   0.0869 0.9896 -0.3145 0.4883  False\n",
      "Cloud & Platform Engineering                Forum   0.1429 0.8907 -0.2369 0.5226  False\n",
      "Cloud & Platform Engineering               Mairie   0.0329 0.9999 -0.3371 0.4028  False\n",
      "Cloud & Platform Engineering     Product & Design   0.0139    1.0 -0.3603 0.3881  False\n",
      "Cloud & Platform Engineering Software engineering   0.0469 0.9993 -0.3337 0.4276  False\n",
      "                   Data & IA                Forum    0.056 0.9978 -0.3043 0.4163  False\n",
      "                   Data & IA               Mairie   -0.054 0.9979  -0.404 0.2959  False\n",
      "                   Data & IA     Product & Design   -0.073 0.9917 -0.4275 0.2814  False\n",
      "                   Data & IA Software engineering    -0.04 0.9996 -0.4012 0.3213  False\n",
      "                       Forum               Mairie    -0.11 0.9277  -0.435  0.215  False\n",
      "                       Forum     Product & Design   -0.129 0.8734 -0.4588 0.2008  False\n",
      "                       Forum Software engineering  -0.0959 0.9649  -0.433 0.2412  False\n",
      "                      Mairie     Product & Design   -0.019    1.0 -0.3375 0.2995  False\n",
      "                      Mairie Software engineering   0.0141    1.0 -0.3119 0.3401  False\n",
      "            Product & Design Software engineering   0.0331 0.9997 -0.2977 0.3638  False\n",
      "---------------------------------------------------------------------------------------\n"
     ]
    }
   ],
   "source": [
    "# Perform Tukey's HSD test\n",
    "ttest_quartier_QA = pairwise_tukeyhsd(endog=data['QA_total'], groups=data['quartier'], alpha=0.05)\n",
    "\n",
    "# Print the results\n",
    "print(ttest_quartier_QA)"
   ]
  },
  {
   "cell_type": "code",
   "execution_count": 76,
   "id": "b52b674e",
   "metadata": {},
   "outputs": [
    {
     "name": "stdout",
     "output_type": "stream",
     "text": [
      "quartier\n",
      "Cloud & Platform Engineering    3.982143\n",
      "Data & IA                       4.069030\n",
      "Forum                           4.125000\n",
      "Mairie                          4.015000\n",
      "Product & Design                3.996011\n",
      "Software engineering            4.029070\n",
      "Name: QA_total, dtype: float64\n",
      "quartier\n",
      "Cloud & Platform Engineering    0.753940\n",
      "Data & IA                       0.787654\n",
      "Forum                           0.802884\n",
      "Mairie                          0.760300\n",
      "Product & Design                0.755680\n",
      "Software engineering            0.786297\n",
      "Name: QA_total, dtype: float64\n"
     ]
    }
   ],
   "source": [
    "# Grouping the data by the factor and calculating the mean for each group\n",
    "means_quartier_QA = data.groupby('quartier')['QA_total'].mean()\n",
    "sd_quartier_QA = data.groupby('quartier')['QA_total'].std()\n",
    "\n",
    "# Display the results\n",
    "print(means_quartier_QA)\n",
    "print(sd_quartier_QA)"
   ]
  },
  {
   "cell_type": "markdown",
   "id": "3ed764fd",
   "metadata": {},
   "source": [
    "# X. Bien-être sur le niveau \"Tribu\"\n",
    "\n",
    "## A. Analyses par facteur (ancienneté, OFA, quartier) sur les scores de \"Tribu\""
   ]
  },
  {
   "cell_type": "code",
   "execution_count": 77,
   "id": "48856cbb",
   "metadata": {},
   "outputs": [
    {
     "name": "stdout",
     "output_type": "stream",
     "text": [
      "Moyenne sur les tribus: 4.023214285714285\n",
      "SD:  0.776255250353537\n"
     ]
    }
   ],
   "source": [
    "# Rappel: \n",
    "moyenne_tribu = data['tribu_total'].mean()\n",
    "sd_tribu = data['tribu_total'].std()\n",
    "print(\"Moyenne sur les tribus:\", moyenne_tribu)\n",
    "print(\"SD: \", sd_tribu)"
   ]
  },
  {
   "cell_type": "markdown",
   "id": "3ba45a95",
   "metadata": {},
   "source": [
    "### MANOVA"
   ]
  },
  {
   "cell_type": "code",
   "execution_count": 78,
   "id": "d71187f2",
   "metadata": {},
   "outputs": [
    {
     "name": "stdout",
     "output_type": "stream",
     "text": [
      "                   sum_sq     df         F    PR(>F)\n",
      "C(anciennete)    1.574002    3.0  0.862554  0.460408\n",
      "C(OFA)           0.015535    1.0  0.025539  0.873098\n",
      "C(quartier)      1.000814    5.0  0.329068  0.895428\n",
      "Residual       291.970656  480.0       NaN       NaN\n",
      "Il n'y a pas de différence significative des moyennes entre les niveaux d'ancienneté.\n",
      "Il y a une différence significative des moyennes entre les niveaux de OFA.\n",
      "Il y a une différence significative des moyennes entre les niveaux du quartier.\n"
     ]
    }
   ],
   "source": [
    "# Création du modèle ANOVA\n",
    "model_tribu = ols('tribu_total ~ C(anciennete) + C(OFA) + C(quartier)', data=data).fit()\n",
    "\n",
    "# Tableau d'analyse de variance (ANOVA)\n",
    "anova_table_tribu = sm.stats.anova_lm(model_tribu, typ=2)\n",
    "print(anova_table_tribu)\n",
    "\n",
    "# Interprétation de l'effet principal de l'ancienneté\n",
    "if anova_table_tribu['PR(>F)']['C(anciennete)'] < 0.05:\n",
    "    print(\"Il y a une différence significative des moyennes entre les niveaux d'ancienneté.\")\n",
    "else:\n",
    "    print(\"Il n'y a pas de différence significative des moyennes entre les niveaux d'ancienneté.\")\n",
    "\n",
    "# Interprétation de l'effet principal de OFA\n",
    "if anova_table_manages['PR(>F)']['C(OFA)'] < 0.05:\n",
    "    print(\"Il y a une différence significative des moyennes entre les niveaux de OFA.\")\n",
    "else:\n",
    "    print(\"Il n'y a pas de différence statistiquement significative des moyennes entre les niveaux de OFA.\")\n",
    "\n",
    "# Interprétation de l'effet principal du quartier\n",
    "if anova_table_manages['PR(>F)']['C(quartier)'] < 0.05:\n",
    "    print(\"Il y a une différence significative des moyennes entre les niveaux du quartier.\")\n",
    "else:\n",
    "    print(\"Il n'y a pas de différence statistiquement significative des moyennes entre les niveaux du quartier.\")"
   ]
  },
  {
   "cell_type": "markdown",
   "id": "8a3a2001",
   "metadata": {},
   "source": [
    "### Post-hoc et statistiques descriptives- Anciennete"
   ]
  },
  {
   "cell_type": "code",
   "execution_count": 79,
   "id": "4b0619d2",
   "metadata": {},
   "outputs": [
    {
     "name": "stdout",
     "output_type": "stream",
     "text": [
      "          Multiple Comparison of Means - Tukey HSD, FWER=0.05          \n",
      "=======================================================================\n",
      "     group1           group2      meandiff p-adj   lower  upper  reject\n",
      "-----------------------------------------------------------------------\n",
      "Entre 1 et 3 ans Entre 3 et 7 ans  -0.0037    1.0 -0.2185  0.211  False\n",
      "Entre 1 et 3 ans    Moins de 1 an   0.1654 0.4267 -0.1153 0.4461  False\n",
      "Entre 1 et 3 ans    Plus de 7 ans   0.0011    1.0 -0.2781 0.2803  False\n",
      "Entre 3 et 7 ans    Moins de 1 an   0.1691 0.4236 -0.1169 0.4552  False\n",
      "Entre 3 et 7 ans    Plus de 7 ans   0.0048    1.0 -0.2798 0.2894  False\n",
      "   Moins de 1 an    Plus de 7 ans  -0.1643 0.5912 -0.5015 0.1728  False\n",
      "-----------------------------------------------------------------------\n"
     ]
    }
   ],
   "source": [
    "# Perform Tukey's HSD test\n",
    "ttest_anciennete_tribu = pairwise_tukeyhsd(endog=data['tribu_total'], groups=data['anciennete'], alpha=0.05)\n",
    "\n",
    "# Print the results\n",
    "print(ttest_anciennete_tribu)"
   ]
  },
  {
   "cell_type": "code",
   "execution_count": 80,
   "id": "53cc5fad",
   "metadata": {},
   "outputs": [
    {
     "name": "stdout",
     "output_type": "stream",
     "text": [
      "anciennete\n",
      "Entre 1 et 3 ans    4.000672\n",
      "Entre 3 et 7 ans    3.996933\n",
      "Moins de 1 an       4.166071\n",
      "Plus de 7 ans       4.001761\n",
      "Name: tribu_total, dtype: float64\n",
      "anciennete\n",
      "Entre 1 et 3 ans    0.765327\n",
      "Entre 3 et 7 ans    0.792635\n",
      "Moins de 1 an       0.789916\n",
      "Plus de 7 ans       0.754005\n",
      "Name: tribu_total, dtype: float64\n"
     ]
    }
   ],
   "source": [
    "# Grouping the data by the factor and calculating the mean for each group\n",
    "means_anciennete_tribu = data.groupby('anciennete')['tribu_total'].mean()\n",
    "sd_anciennete_tribu = data.groupby('anciennete')['tribu_total'].std()\n",
    "\n",
    "# Display the results\n",
    "print(means_anciennete_tribu)\n",
    "print(sd_anciennete_tribu)"
   ]
  },
  {
   "cell_type": "markdown",
   "id": "681460cc",
   "metadata": {},
   "source": [
    "### Post-hoc et statistiques descriptives - OFA"
   ]
  },
  {
   "cell_type": "code",
   "execution_count": 81,
   "id": "b8533613",
   "metadata": {},
   "outputs": [
    {
     "name": "stdout",
     "output_type": "stream",
     "text": [
      "Multiple Comparison of Means - Tukey HSD, FWER=0.05\n",
      "===================================================\n",
      "group1 group2 meandiff p-adj   lower  upper  reject\n",
      "---------------------------------------------------\n",
      "   Non    Oui   0.0025 0.9808 -0.2022 0.2072  False\n",
      "---------------------------------------------------\n"
     ]
    }
   ],
   "source": [
    "# Perform Tukey's HSD test\n",
    "ttest_OFA_tribu = pairwise_tukeyhsd(endog=data['tribu_total'], groups=data['OFA'], alpha=0.05)\n",
    "\n",
    "# Print the results\n",
    "print(ttest_OFA_tribu)"
   ]
  },
  {
   "cell_type": "code",
   "execution_count": 82,
   "id": "6f30e7ce",
   "metadata": {},
   "outputs": [
    {
     "name": "stdout",
     "output_type": "stream",
     "text": [
      "OFA\n",
      "Non    4.022887\n",
      "Oui    4.025391\n",
      "Name: tribu_total, dtype: float64\n",
      "OFA\n",
      "Non    0.774020\n",
      "Oui    0.797186\n",
      "Name: tribu_total, dtype: float64\n"
     ]
    }
   ],
   "source": [
    "# Grouping the data by the factor and calculating the mean for each group\n",
    "means_OFA_tribu = data.groupby('OFA')['tribu_total'].mean()\n",
    "sd_OFA_tribu = data.groupby('OFA')['tribu_total'].std()\n",
    "\n",
    "# Display the results\n",
    "print(means_OFA_tribu)\n",
    "print(sd_OFA_tribu)"
   ]
  },
  {
   "cell_type": "markdown",
   "id": "ef1bc96f",
   "metadata": {},
   "source": [
    "### Post-hoc et statistiques descriptives- Quartier/Atelier"
   ]
  },
  {
   "cell_type": "code",
   "execution_count": 83,
   "id": "5a902817",
   "metadata": {
    "scrolled": true
   },
   "outputs": [
    {
     "name": "stdout",
     "output_type": "stream",
     "text": [
      "                  Multiple Comparison of Means - Tukey HSD, FWER=0.05                  \n",
      "=======================================================================================\n",
      "           group1                   group2        meandiff p-adj   lower  upper  reject\n",
      "---------------------------------------------------------------------------------------\n",
      "Cloud & Platform Engineering            Data & IA  -0.0925 0.9865  -0.496 0.3109  False\n",
      "Cloud & Platform Engineering                Forum  -0.1245 0.9378 -0.5063 0.2572  False\n",
      "Cloud & Platform Engineering               Mairie  -0.1442 0.8775 -0.5161 0.2277  False\n",
      "Cloud & Platform Engineering     Product & Design   -0.157 0.8397 -0.5331 0.2192  False\n",
      "Cloud & Platform Engineering Software engineering  -0.0808 0.9907 -0.4634 0.3018  False\n",
      "                   Data & IA                Forum   -0.032 0.9999 -0.3942 0.3302  False\n",
      "                   Data & IA               Mairie  -0.0517 0.9983 -0.4035 0.3001  False\n",
      "                   Data & IA     Product & Design  -0.0644 0.9955 -0.4207 0.2918  False\n",
      "                   Data & IA Software engineering   0.0117    1.0 -0.3514 0.3748  False\n",
      "                       Forum               Mairie  -0.0197    1.0 -0.3464  0.307  False\n",
      "                       Forum     Product & Design  -0.0324 0.9998 -0.3639  0.299  False\n",
      "                       Forum Software engineering   0.0437 0.9991 -0.2951 0.3825  False\n",
      "                      Mairie     Product & Design  -0.0128    1.0 -0.3329 0.3073  False\n",
      "                      Mairie Software engineering   0.0634 0.9938 -0.2643 0.3911  False\n",
      "            Product & Design Software engineering   0.0761 0.9866 -0.2564 0.4086  False\n",
      "---------------------------------------------------------------------------------------\n"
     ]
    }
   ],
   "source": [
    "# Perform Tukey's HSD test\n",
    "ttest_quartier_tribu = pairwise_tukeyhsd(endog=data['tribu_total'], groups=data['quartier'], alpha=0.05)\n",
    "\n",
    "# Print the results\n",
    "print(ttest_quartier_tribu)"
   ]
  },
  {
   "cell_type": "code",
   "execution_count": 84,
   "id": "78d630f5",
   "metadata": {},
   "outputs": [
    {
     "name": "stdout",
     "output_type": "stream",
     "text": [
      "quartier\n",
      "Cloud & Platform Engineering    4.131696\n",
      "Data & IA                       4.039179\n",
      "Forum                           4.007184\n",
      "Mairie                          3.987500\n",
      "Product & Design                3.974734\n",
      "Software engineering            4.050872\n",
      "Name: tribu_total, dtype: float64\n",
      "quartier\n",
      "Cloud & Platform Engineering    0.814087\n",
      "Data & IA                       0.766303\n",
      "Forum                           0.774868\n",
      "Mairie                          0.776977\n",
      "Product & Design                0.763230\n",
      "Software engineering            0.787862\n",
      "Name: tribu_total, dtype: float64\n"
     ]
    }
   ],
   "source": [
    "# Grouping the data by the factor and calculating the mean for each group\n",
    "means_quartier_tribu = data.groupby('quartier')['tribu_total'].mean()\n",
    "sd_quartier_tribu = data.groupby('quartier')['tribu_total'].std()\n",
    "\n",
    "# Display the results\n",
    "print(means_quartier_tribu)\n",
    "print(sd_quartier_tribu)"
   ]
  },
  {
   "cell_type": "markdown",
   "id": "4c1dca15",
   "metadata": {},
   "source": [
    "# XI. Bien-être sur le niveau \"Missions\"\n",
    "\n",
    "### MANOVA en fonction de nos facteurs (anciennete, OFA, QA, type de poste)"
   ]
  },
  {
   "cell_type": "code",
   "execution_count": 87,
   "id": "ff81511a",
   "metadata": {},
   "outputs": [
    {
     "name": "stdout",
     "output_type": "stream",
     "text": [
      "Moyenne sur les missions quotidiennes: 4.054572271386431\n",
      "SD:  1.5472268905809312\n"
     ]
    }
   ],
   "source": [
    "# Rappel: \n",
    "moyenne_missions = data['missions_taches'].mean()\n",
    "sd_missions = data['missions_taches'].std()\n",
    "print(\"Moyenne sur les missions quotidiennes:\", moyenne_missions)\n",
    "print(\"SD: \", sd_missions)"
   ]
  },
  {
   "cell_type": "code",
   "execution_count": 89,
   "id": "7887bd49",
   "metadata": {
    "scrolled": false
   },
   "outputs": [
    {
     "name": "stdout",
     "output_type": "stream",
     "text": [
      "                     sum_sq     df         F    PR(>F)\n",
      "C(anciennete)      5.734469    3.0  0.793499  0.497976\n",
      "C(OFA)             0.080650    1.0  0.033480  0.854903\n",
      "C(quartier)        4.040805    5.0  0.335484  0.891417\n",
      "C(statut6mois)    14.719892    4.0  1.527633  0.193099\n",
      "Residual        1055.114803  438.0       NaN       NaN\n",
      "Il n'y a pas de différence significative des moyennes entre les niveaux d'ancienneté.\n",
      "Il n'y a pas de différence statistiquement significative des moyennes entre les niveaux de OFA.\n",
      "Il n'y a pas de différence statistiquement significative des moyennes entre les niveaux du quartier.\n",
      "Il n'y a pas de différence statistiquement significative des moyennes entre les niveaux de OFA.\n"
     ]
    }
   ],
   "source": [
    "# Création du modèle ANOVA\n",
    "model_missions = ols('missions_taches ~ C(anciennete) + C(OFA) + C(quartier) + C(statut6mois)', data=data).fit()\n",
    "\n",
    "# Tableau d'analyse de variance (ANOVA)\n",
    "anova_table_missions = sm.stats.anova_lm(model_missions, typ=2)\n",
    "print(anova_table_missions)\n",
    "\n",
    "# Interprétation de l'effet principal de l'ancienneté\n",
    "if anova_table_missions['PR(>F)']['C(anciennete)'] < 0.05:\n",
    "    print(\"Il y a une différence significative des moyennes entre les niveaux d'ancienneté.\")\n",
    "else:\n",
    "    print(\"Il n'y a pas de différence significative des moyennes entre les niveaux d'ancienneté.\")\n",
    "\n",
    "# Interprétation de l'effet principal de OFA\n",
    "if anova_table_missions['PR(>F)']['C(OFA)'] < 0.05:\n",
    "    print(\"Il y a une différence significative des moyennes entre les niveaux de OFA.\")\n",
    "else:\n",
    "    print(\"Il n'y a pas de différence statistiquement significative des moyennes entre les niveaux de OFA.\")\n",
    "\n",
    "# Interprétation de l'effet principal du quartier\n",
    "if anova_table_missions['PR(>F)']['C(quartier)'] < 0.05:\n",
    "    print(\"Il y a une différence significative des moyennes entre les niveaux du quartier.\")\n",
    "else:\n",
    "    print(\"Il n'y a pas de différence statistiquement significative des moyennes entre les niveaux du quartier.\")\n",
    "    \n",
    "# Interprétation de l'effet principal deu statut des 6 derniers mois\n",
    "if anova_table_missions['PR(>F)']['C(OFA)'] < 0.05:\n",
    "    print(\"Il y a une différence significative des moyennes entre les niveaux de OFA.\")\n",
    "else:\n",
    "    print(\"Il n'y a pas de différence statistiquement significative des moyennes entre les niveaux de OFA.\")"
   ]
  },
  {
   "cell_type": "markdown",
   "id": "adcd16df",
   "metadata": {},
   "source": [
    "### Post-hoc et statistiques descriptives - Anciennete"
   ]
  },
  {
   "cell_type": "code",
   "execution_count": 90,
   "id": "d694d101",
   "metadata": {},
   "outputs": [
    {
     "name": "stdout",
     "output_type": "stream",
     "text": [
      "        Multiple Comparison of Means - Tukey HSD, FWER=0.05        \n",
      "===================================================================\n",
      "     group1           group2      meandiff p-adj lower upper reject\n",
      "-------------------------------------------------------------------\n",
      "Entre 1 et 3 ans Entre 3 et 7 ans      nan   nan   nan   nan  False\n",
      "Entre 1 et 3 ans    Moins de 1 an      nan   nan   nan   nan  False\n",
      "Entre 1 et 3 ans    Plus de 7 ans      nan   nan   nan   nan  False\n",
      "Entre 3 et 7 ans    Moins de 1 an      nan   nan   nan   nan  False\n",
      "Entre 3 et 7 ans    Plus de 7 ans      nan   nan   nan   nan  False\n",
      "   Moins de 1 an    Plus de 7 ans      nan   nan   nan   nan  False\n",
      "-------------------------------------------------------------------\n"
     ]
    }
   ],
   "source": [
    "# Perform Tukey's HSD test\n",
    "ttest_anciennete_missions = pairwise_tukeyhsd(endog=data['missions_taches'], groups=data['anciennete'], alpha=0.05)\n",
    "\n",
    "# Print the results\n",
    "print(ttest_anciennete_missions)"
   ]
  },
  {
   "cell_type": "code",
   "execution_count": 91,
   "id": "b9c217ff",
   "metadata": {},
   "outputs": [
    {
     "name": "stdout",
     "output_type": "stream",
     "text": [
      "anciennete\n",
      "Entre 1 et 3 ans    4.168651\n",
      "Entre 3 et 7 ans    4.075758\n",
      "Moins de 1 an       3.880597\n",
      "Plus de 7 ans       3.883598\n",
      "Name: missions_taches, dtype: float64\n",
      "anciennete\n",
      "Entre 1 et 3 ans    1.558649\n",
      "Entre 3 et 7 ans    1.570926\n",
      "Moins de 1 an       1.395129\n",
      "Plus de 7 ans       1.615376\n",
      "Name: missions_taches, dtype: float64\n"
     ]
    }
   ],
   "source": [
    "# Grouping the data by the factor and calculating the mean for each group\n",
    "means_anciennete_missions = data.groupby('anciennete')['missions_taches'].mean()\n",
    "sd_anciennete_missions = data.groupby('anciennete')['missions_taches'].std()\n",
    "\n",
    "# Display the results\n",
    "print(means_anciennete_missions)\n",
    "print(sd_anciennete_missions)"
   ]
  },
  {
   "cell_type": "markdown",
   "id": "2ce696a4",
   "metadata": {},
   "source": [
    "### Post-hoc et statistiques descriptives - OFA"
   ]
  },
  {
   "cell_type": "code",
   "execution_count": 92,
   "id": "253c1b5c",
   "metadata": {},
   "outputs": [
    {
     "name": "stdout",
     "output_type": "stream",
     "text": [
      "Multiple Comparison of Means - Tukey HSD, FWER=0.05\n",
      "===============================================\n",
      "group1 group2 meandiff p-adj lower upper reject\n",
      "-----------------------------------------------\n",
      "   Non    Oui      nan   nan   nan   nan  False\n",
      "-----------------------------------------------\n"
     ]
    }
   ],
   "source": [
    "# Perform Tukey's HSD test\n",
    "ttest_OFA_missions = pairwise_tukeyhsd(endog=data['missions_taches'], groups=data['OFA'], alpha=0.05)\n",
    "\n",
    "# Print the results\n",
    "print(ttest_OFA_missions)"
   ]
  },
  {
   "cell_type": "code",
   "execution_count": 93,
   "id": "40448b41",
   "metadata": {},
   "outputs": [
    {
     "name": "stdout",
     "output_type": "stream",
     "text": [
      "OFA\n",
      "Non    4.035133\n",
      "Oui    4.174603\n",
      "Name: missions_taches, dtype: float64\n",
      "OFA\n",
      "Non    1.592524\n",
      "Oui    1.235101\n",
      "Name: missions_taches, dtype: float64\n"
     ]
    }
   ],
   "source": [
    "# Grouping the data by the factor and calculating the mean for each group\n",
    "means_OFA_missions = data.groupby('OFA')['missions_taches'].mean()\n",
    "sd_OFA_missions = data.groupby('OFA')['missions_taches'].std()\n",
    "\n",
    "# Display the results\n",
    "print(means_OFA_missions)\n",
    "print(sd_OFA_missions)"
   ]
  },
  {
   "cell_type": "markdown",
   "id": "8d4855a8",
   "metadata": {},
   "source": [
    "### Post-hoc et statistiques descriptives - QA"
   ]
  },
  {
   "cell_type": "code",
   "execution_count": 94,
   "id": "9cd8d1e0",
   "metadata": {
    "scrolled": true
   },
   "outputs": [
    {
     "name": "stdout",
     "output_type": "stream",
     "text": [
      "                Multiple Comparison of Means - Tukey HSD, FWER=0.05                \n",
      "===================================================================================\n",
      "           group1                   group2        meandiff p-adj lower upper reject\n",
      "-----------------------------------------------------------------------------------\n",
      "Cloud & Platform Engineering            Data & IA      nan   nan   nan   nan  False\n",
      "Cloud & Platform Engineering                Forum      nan   nan   nan   nan  False\n",
      "Cloud & Platform Engineering               Mairie      nan   nan   nan   nan  False\n",
      "Cloud & Platform Engineering     Product & Design      nan   nan   nan   nan  False\n",
      "Cloud & Platform Engineering Software engineering      nan   nan   nan   nan  False\n",
      "                   Data & IA                Forum      nan   nan   nan   nan  False\n",
      "                   Data & IA               Mairie      nan   nan   nan   nan  False\n",
      "                   Data & IA     Product & Design      nan   nan   nan   nan  False\n",
      "                   Data & IA Software engineering   0.1449   nan   nan   nan  False\n",
      "                       Forum               Mairie      nan   nan   nan   nan  False\n",
      "                       Forum     Product & Design      nan   nan   nan   nan  False\n",
      "                       Forum Software engineering      nan   nan   nan   nan  False\n",
      "                      Mairie     Product & Design      nan   nan   nan   nan  False\n",
      "                      Mairie Software engineering      nan   nan   nan   nan  False\n",
      "            Product & Design Software engineering      nan   nan   nan   nan  False\n",
      "-----------------------------------------------------------------------------------\n"
     ]
    }
   ],
   "source": [
    "# Perform Tukey's HSD test\n",
    "ttest_quartier_missions = pairwise_tukeyhsd(endog=data['missions_taches'], groups=data['quartier'], alpha=0.05)\n",
    "\n",
    "# Print the results\n",
    "print(ttest_quartier_missions)"
   ]
  },
  {
   "cell_type": "code",
   "execution_count": 95,
   "id": "a31a3bc9",
   "metadata": {
    "scrolled": true
   },
   "outputs": [
    {
     "name": "stdout",
     "output_type": "stream",
     "text": [
      "quartier\n",
      "Cloud & Platform Engineering    3.947368\n",
      "Data & IA                       4.006219\n",
      "Forum                           4.084302\n",
      "Mairie                          4.060606\n",
      "Product & Design                4.000000\n",
      "Software engineering            4.151163\n",
      "Name: missions_taches, dtype: float64\n",
      "quartier\n",
      "Cloud & Platform Engineering    1.436914\n",
      "Data & IA                       1.527133\n",
      "Forum                           1.502258\n",
      "Mairie                          1.805989\n",
      "Product & Design                1.636052\n",
      "Software engineering            1.262229\n",
      "Name: missions_taches, dtype: float64\n"
     ]
    }
   ],
   "source": [
    "# Grouping the data by the factor and calculating the mean for each group\n",
    "means_quartier_missions = data.groupby('quartier')['missions_taches'].mean()\n",
    "sd_quartier_missions = data.groupby('quartier')['missions_taches'].std()\n",
    "\n",
    "# Display the results\n",
    "print(means_quartier_missions)\n",
    "print(sd_quartier_missions)"
   ]
  },
  {
   "cell_type": "markdown",
   "id": "63c76037",
   "metadata": {},
   "source": [
    "### Post-hoc et statistiques descriptives - Type de poste"
   ]
  },
  {
   "cell_type": "code",
   "execution_count": 96,
   "id": "e8220630",
   "metadata": {},
   "outputs": [
    {
     "name": "stdout",
     "output_type": "stream",
     "text": [
      "                    Multiple Comparison of Means - Tukey HSD, FWER=0.05                    \n",
      "===========================================================================================\n",
      "             group1                       group2          meandiff p-adj lower upper reject\n",
      "-------------------------------------------------------------------------------------------\n",
      "En mission chez un/des client(s)          Fonctions coeur  -0.2286   nan   nan   nan  False\n",
      "En mission chez un/des client(s)          fonctions coeur      nan   nan   nan   nan  False\n",
      "En mission chez un/des client(s)             intercontrat   -0.488   nan   nan   nan  False\n",
      "En mission chez un/des client(s) missions et intercontrat  -0.2753   nan   nan   nan  False\n",
      "                 Fonctions coeur          fonctions coeur      nan   nan   nan   nan  False\n",
      "                 Fonctions coeur             intercontrat  -0.2594   nan   nan   nan  False\n",
      "                 Fonctions coeur missions et intercontrat  -0.0467   nan   nan   nan  False\n",
      "                 fonctions coeur             intercontrat      nan   nan   nan   nan  False\n",
      "                 fonctions coeur missions et intercontrat      nan   nan   nan   nan  False\n",
      "                    intercontrat missions et intercontrat   0.2127   nan   nan   nan  False\n",
      "-------------------------------------------------------------------------------------------\n"
     ]
    }
   ],
   "source": [
    "# Perform Tukey's HSD test\n",
    "ttest_poste_missions = pairwise_tukeyhsd(endog=data['missions_taches'], groups=data['statut6mois'], alpha=0.05)\n",
    "\n",
    "# Print the results\n",
    "print(ttest_poste_missions)"
   ]
  },
  {
   "cell_type": "code",
   "execution_count": 97,
   "id": "b6b8d797",
   "metadata": {},
   "outputs": [
    {
     "name": "stdout",
     "output_type": "stream",
     "text": [
      "statut6mois\n",
      "En mission chez un/des client(s)    4.215311\n",
      "Fonctions coeur                     3.986667\n",
      "fonctions coeur                     4.021552\n",
      "intercontrat                        3.727273\n",
      "missions et intercontrat            3.940000\n",
      "Name: missions_taches, dtype: float64\n",
      "statut6mois\n",
      "En mission chez un/des client(s)    1.261443\n",
      "Fonctions coeur                     1.124146\n",
      "fonctions coeur                     1.792972\n",
      "intercontrat                        1.997606\n",
      "missions et intercontrat            1.139444\n",
      "Name: missions_taches, dtype: float64\n"
     ]
    }
   ],
   "source": [
    "# Grouping the data by the factor and calculating the mean for each group\n",
    "means_typeposte_missions = data.groupby('statut6mois')['missions_taches'].mean()\n",
    "sd_typeposte_missions = data.groupby('statut6mois')['missions_taches'].std()\n",
    "\n",
    "# Display the results\n",
    "print(means_typeposte_missions)\n",
    "print(sd_typeposte_missions)"
   ]
  }
 ],
 "metadata": {
  "kernelspec": {
   "display_name": "Python 3 (ipykernel)",
   "language": "python",
   "name": "python3"
  },
  "language_info": {
   "codemirror_mode": {
    "name": "ipython",
    "version": 3
   },
   "file_extension": ".py",
   "mimetype": "text/x-python",
   "name": "python",
   "nbconvert_exporter": "python",
   "pygments_lexer": "ipython3",
   "version": "3.11.4"
  }
 },
 "nbformat": 4,
 "nbformat_minor": 5
}
